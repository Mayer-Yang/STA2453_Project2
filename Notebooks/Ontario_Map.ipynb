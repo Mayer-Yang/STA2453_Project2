{
 "cells": [
  {
   "cell_type": "code",
   "execution_count": 1,
   "metadata": {},
   "outputs": [],
   "source": [
    "import dash\n",
    "import dash_core_components as dcc\n",
    "import dash_html_components as html\n",
    "import plotly.express as px\n",
    "import pandas as pd\n",
    "\n",
    "import json\n",
    "import pandas as pd\n",
    "import io\n",
    "import requests\n",
    "from collections import defaultdict"
   ]
  },
  {
   "cell_type": "code",
   "execution_count": 2,
   "metadata": {},
   "outputs": [],
   "source": [
    "min_health = pd.read_csv('../Ministry_of_Health_Public_Health_Unit_Boundary.csv')"
   ]
  },
  {
   "cell_type": "code",
   "execution_count": 3,
   "metadata": {},
   "outputs": [
    {
     "data": {
      "text/html": [
       "<div>\n",
       "<style scoped>\n",
       "    .dataframe tbody tr th:only-of-type {\n",
       "        vertical-align: middle;\n",
       "    }\n",
       "\n",
       "    .dataframe tbody tr th {\n",
       "        vertical-align: top;\n",
       "    }\n",
       "\n",
       "    .dataframe thead th {\n",
       "        text-align: right;\n",
       "    }\n",
       "</style>\n",
       "<table border=\"1\" class=\"dataframe\">\n",
       "  <thead>\n",
       "    <tr style=\"text-align: right;\">\n",
       "      <th></th>\n",
       "      <th>OGF_ID</th>\n",
       "      <th>PHU_ID</th>\n",
       "      <th>PHU_NAME_ENG</th>\n",
       "      <th>PHU_NAME_FR</th>\n",
       "      <th>GEOMETRY_UPDATE_DATETIME</th>\n",
       "      <th>EFFECTIVE_DATETIME</th>\n",
       "      <th>SYSTEM_DATETIME</th>\n",
       "      <th>OBJECTID</th>\n",
       "    </tr>\n",
       "  </thead>\n",
       "  <tbody>\n",
       "    <tr>\n",
       "      <th>0</th>\n",
       "      <td>71878062</td>\n",
       "      <td>2270</td>\n",
       "      <td>York Region Public Health</td>\n",
       "      <td>Service de santé de la région de York</td>\n",
       "      <td>1970/01/01 00:00:00+00</td>\n",
       "      <td>2020/05/15 12:56:15+00</td>\n",
       "      <td>2020/05/15 22:17:15+00</td>\n",
       "      <td>321</td>\n",
       "    </tr>\n",
       "    <tr>\n",
       "      <th>1</th>\n",
       "      <td>71878005</td>\n",
       "      <td>5183</td>\n",
       "      <td>Huron Perth Health Unit</td>\n",
       "      <td>Circonscription Sanitaire de Huron et Perth</td>\n",
       "      <td>2020/05/15 13:03:57+00</td>\n",
       "      <td>2020/05/15 12:54:50+00</td>\n",
       "      <td>2020/05/15 22:17:15+00</td>\n",
       "      <td>337</td>\n",
       "    </tr>\n",
       "    <tr>\n",
       "      <th>2</th>\n",
       "      <td>71878059</td>\n",
       "      <td>2265</td>\n",
       "      <td>Region of Waterloo, Public Health</td>\n",
       "      <td>Bureau de santé de la région de Waterloo</td>\n",
       "      <td>1970/01/01 00:00:00+00</td>\n",
       "      <td>2020/05/15 12:55:42+00</td>\n",
       "      <td>2020/05/15 22:17:15+00</td>\n",
       "      <td>353</td>\n",
       "    </tr>\n",
       "    <tr>\n",
       "      <th>3</th>\n",
       "      <td>71878029</td>\n",
       "      <td>4913</td>\n",
       "      <td>Southwestern Public Health</td>\n",
       "      <td>Bureau de santé du Sud-Ouest</td>\n",
       "      <td>2020/05/15 13:03:57+00</td>\n",
       "      <td>2020/05/15 12:52:27+00</td>\n",
       "      <td>2020/05/15 22:17:15+00</td>\n",
       "      <td>369</td>\n",
       "    </tr>\n",
       "    <tr>\n",
       "      <th>4</th>\n",
       "      <td>71878057</td>\n",
       "      <td>2237</td>\n",
       "      <td>Hamilton Public Health Services</td>\n",
       "      <td>Services de santé publique de Hamilton</td>\n",
       "      <td>1970/01/01 00:00:00+00</td>\n",
       "      <td>2020/05/15 12:55:24+00</td>\n",
       "      <td>2020/05/15 22:17:15+00</td>\n",
       "      <td>385</td>\n",
       "    </tr>\n",
       "    <tr>\n",
       "      <th>5</th>\n",
       "      <td>71878051</td>\n",
       "      <td>2262</td>\n",
       "      <td>Thunder Bay District Health Unit</td>\n",
       "      <td>Bureau de santé du district de Thunder Bay</td>\n",
       "      <td>1970/01/01 00:00:00+00</td>\n",
       "      <td>2020/05/15 12:59:18+00</td>\n",
       "      <td>2020/05/15 22:17:15+00</td>\n",
       "      <td>401</td>\n",
       "    </tr>\n",
       "    <tr>\n",
       "      <th>6</th>\n",
       "      <td>71878041</td>\n",
       "      <td>2253</td>\n",
       "      <td>Peel Public Health</td>\n",
       "      <td>Bureau de santé de la région de Peel</td>\n",
       "      <td>1970/01/01 00:00:00+00</td>\n",
       "      <td>2020/05/15 12:56:08+00</td>\n",
       "      <td>2020/05/15 22:17:15+00</td>\n",
       "      <td>417</td>\n",
       "    </tr>\n",
       "    <tr>\n",
       "      <th>7</th>\n",
       "      <td>71878038</td>\n",
       "      <td>2242</td>\n",
       "      <td>Lambton Public Health</td>\n",
       "      <td>Comté de Lambton</td>\n",
       "      <td>1970/01/01 00:00:00+00</td>\n",
       "      <td>2020/05/15 12:51:11+00</td>\n",
       "      <td>2020/05/15 22:17:15+00</td>\n",
       "      <td>433</td>\n",
       "    </tr>\n",
       "    <tr>\n",
       "      <th>8</th>\n",
       "      <td>71878035</td>\n",
       "      <td>2266</td>\n",
       "      <td>Wellington-Dufferin-Guelph Health Unit</td>\n",
       "      <td>Bureau de santé de Wellington-Dufferin-Guelph</td>\n",
       "      <td>1970/01/01 00:00:00+00</td>\n",
       "      <td>2020/05/15 12:55:52+00</td>\n",
       "      <td>2020/05/15 22:17:15+00</td>\n",
       "      <td>449</td>\n",
       "    </tr>\n",
       "    <tr>\n",
       "      <th>9</th>\n",
       "      <td>71878032</td>\n",
       "      <td>2227</td>\n",
       "      <td>Brant County Health Unit</td>\n",
       "      <td>Bureau de santé du comté de Brant</td>\n",
       "      <td>1970/01/01 00:00:00+00</td>\n",
       "      <td>2020/05/15 12:55:34+00</td>\n",
       "      <td>2020/05/15 22:17:15+00</td>\n",
       "      <td>465</td>\n",
       "    </tr>\n",
       "    <tr>\n",
       "      <th>10</th>\n",
       "      <td>71878026</td>\n",
       "      <td>2244</td>\n",
       "      <td>Middlesex-London Health Unit</td>\n",
       "      <td>Bureau de santé de Middlesex-London</td>\n",
       "      <td>1970/01/01 00:00:00+00</td>\n",
       "      <td>2020/05/15 12:54:06+00</td>\n",
       "      <td>2020/05/15 22:17:15+00</td>\n",
       "      <td>481</td>\n",
       "    </tr>\n",
       "    <tr>\n",
       "      <th>11</th>\n",
       "      <td>71878023</td>\n",
       "      <td>2261</td>\n",
       "      <td>Sudbury and District Health Unit</td>\n",
       "      <td>Service de santé publique de Sudbury et du dis...</td>\n",
       "      <td>1970/01/01 00:00:00+00</td>\n",
       "      <td>2020/05/15 12:59:01+00</td>\n",
       "      <td>2020/05/15 22:17:15+00</td>\n",
       "      <td>497</td>\n",
       "    </tr>\n",
       "    <tr>\n",
       "      <th>12</th>\n",
       "      <td>71877993</td>\n",
       "      <td>2235</td>\n",
       "      <td>Haliburton, Kawartha, Pine Ridge District Heal...</td>\n",
       "      <td>Bureau de santé du district d'Haliburton, Kawa...</td>\n",
       "      <td>1970/01/01 00:00:00+00</td>\n",
       "      <td>2020/05/15 12:57:59+00</td>\n",
       "      <td>2020/05/15 22:17:15+00</td>\n",
       "      <td>513</td>\n",
       "    </tr>\n",
       "    <tr>\n",
       "      <th>13</th>\n",
       "      <td>71877988</td>\n",
       "      <td>2246</td>\n",
       "      <td>Niagara Region Public Health Department</td>\n",
       "      <td>Bureau de santé de la région du Niagara</td>\n",
       "      <td>1970/01/01 00:00:00+00</td>\n",
       "      <td>2020/05/15 12:55:15+00</td>\n",
       "      <td>2020/05/15 22:17:15+00</td>\n",
       "      <td>529</td>\n",
       "    </tr>\n",
       "    <tr>\n",
       "      <th>14</th>\n",
       "      <td>71877985</td>\n",
       "      <td>2240</td>\n",
       "      <td>Chatham-Kent Health Unit</td>\n",
       "      <td>Bureau de santé de Chatham-Kent</td>\n",
       "      <td>1970/01/01 00:00:00+00</td>\n",
       "      <td>2020/05/15 12:51:33+00</td>\n",
       "      <td>2020/05/15 22:17:15+00</td>\n",
       "      <td>545</td>\n",
       "    </tr>\n",
       "    <tr>\n",
       "      <th>15</th>\n",
       "      <td>71877982</td>\n",
       "      <td>2241</td>\n",
       "      <td>Kingston, Frontenac and Lennox and Addington H...</td>\n",
       "      <td>Bureau de santé de Kingston, Frontenac, Lennox...</td>\n",
       "      <td>1970/01/01 00:00:00+00</td>\n",
       "      <td>2020/05/15 12:58:26+00</td>\n",
       "      <td>2020/05/15 22:17:15+00</td>\n",
       "      <td>561</td>\n",
       "    </tr>\n",
       "    <tr>\n",
       "      <th>16</th>\n",
       "      <td>71877975</td>\n",
       "      <td>2268</td>\n",
       "      <td>Windsor-Essex County Health Unit</td>\n",
       "      <td>Unité sanitaire de Windsor-Essex</td>\n",
       "      <td>1970/01/01 00:00:00+00</td>\n",
       "      <td>2020/05/15 12:50:50+00</td>\n",
       "      <td>2020/05/15 22:17:15+00</td>\n",
       "      <td>577</td>\n",
       "    </tr>\n",
       "    <tr>\n",
       "      <th>17</th>\n",
       "      <td>71877972</td>\n",
       "      <td>2255</td>\n",
       "      <td>Peterborough Public Health</td>\n",
       "      <td>Bureau de santé de Peterborough</td>\n",
       "      <td>1970/01/01 00:00:00+00</td>\n",
       "      <td>2020/05/15 12:58:21+00</td>\n",
       "      <td>2020/05/15 22:17:15+00</td>\n",
       "      <td>593</td>\n",
       "    </tr>\n",
       "    <tr>\n",
       "      <th>18</th>\n",
       "      <td>71877970</td>\n",
       "      <td>2233</td>\n",
       "      <td>Grey Bruce Health Unit</td>\n",
       "      <td>Bureau de santé de Grey Bruce</td>\n",
       "      <td>1970/01/01 00:00:00+00</td>\n",
       "      <td>2020/05/15 12:57:48+00</td>\n",
       "      <td>2020/05/15 22:17:15+00</td>\n",
       "      <td>609</td>\n",
       "    </tr>\n",
       "    <tr>\n",
       "      <th>19</th>\n",
       "      <td>71877964</td>\n",
       "      <td>2258</td>\n",
       "      <td>Eastern Ontario Health Unit</td>\n",
       "      <td>Bureau de santé de l'Est de l'Ontario</td>\n",
       "      <td>1970/01/01 00:00:00+00</td>\n",
       "      <td>2020/05/15 12:58:42+00</td>\n",
       "      <td>2020/05/15 22:17:15+00</td>\n",
       "      <td>625</td>\n",
       "    </tr>\n",
       "    <tr>\n",
       "      <th>20</th>\n",
       "      <td>71877960</td>\n",
       "      <td>2247</td>\n",
       "      <td>North Bay Parry Sound District Health Unit</td>\n",
       "      <td>Bureau de santé du district de North Bay-Parry...</td>\n",
       "      <td>1970/01/01 00:00:00+00</td>\n",
       "      <td>2020/05/15 12:58:02+00</td>\n",
       "      <td>2020/05/15 22:17:15+00</td>\n",
       "      <td>641</td>\n",
       "    </tr>\n",
       "    <tr>\n",
       "      <th>21</th>\n",
       "      <td>71877952</td>\n",
       "      <td>2251</td>\n",
       "      <td>Ottawa Public Health</td>\n",
       "      <td>Santé publique Ottawa</td>\n",
       "      <td>1970/01/01 00:00:00+00</td>\n",
       "      <td>2020/05/15 12:58:39+00</td>\n",
       "      <td>2020/05/15 22:17:15+00</td>\n",
       "      <td>657</td>\n",
       "    </tr>\n",
       "    <tr>\n",
       "      <th>22</th>\n",
       "      <td>71877950</td>\n",
       "      <td>2243</td>\n",
       "      <td>Leeds, Grenville and Lanark District Health Unit</td>\n",
       "      <td>Bureau de santé du district de Leeds, Grenvill...</td>\n",
       "      <td>1970/01/01 00:00:00+00</td>\n",
       "      <td>2020/05/15 12:58:28+00</td>\n",
       "      <td>2020/05/15 22:17:15+00</td>\n",
       "      <td>673</td>\n",
       "    </tr>\n",
       "    <tr>\n",
       "      <th>23</th>\n",
       "      <td>71878002</td>\n",
       "      <td>2249</td>\n",
       "      <td>Northwestern Health Unit</td>\n",
       "      <td>Bureau de santé du Nord-Ouest</td>\n",
       "      <td>1970/01/01 00:00:00+00</td>\n",
       "      <td>2020/05/15 12:59:31+00</td>\n",
       "      <td>2020/05/15 22:17:15+00</td>\n",
       "      <td>689</td>\n",
       "    </tr>\n",
       "    <tr>\n",
       "      <th>24</th>\n",
       "      <td>71877945</td>\n",
       "      <td>2234</td>\n",
       "      <td>Haldimand-Norfolk Health Unit</td>\n",
       "      <td>Bureau de santé d'Haldimand-Norfolk</td>\n",
       "      <td>1970/01/01 00:00:00+00</td>\n",
       "      <td>2020/05/15 12:53:50+00</td>\n",
       "      <td>2020/05/15 22:17:15+00</td>\n",
       "      <td>705</td>\n",
       "    </tr>\n",
       "    <tr>\n",
       "      <th>25</th>\n",
       "      <td>71878009</td>\n",
       "      <td>2263</td>\n",
       "      <td>Timiskaming Health Unit</td>\n",
       "      <td>Bureau de santé de Témiskamingue</td>\n",
       "      <td>1970/01/01 00:00:00+00</td>\n",
       "      <td>2020/05/15 12:58:59+00</td>\n",
       "      <td>2020/05/15 22:17:15+00</td>\n",
       "      <td>721</td>\n",
       "    </tr>\n",
       "    <tr>\n",
       "      <th>26</th>\n",
       "      <td>71877941</td>\n",
       "      <td>2257</td>\n",
       "      <td>Renfrew County and District Health Unit</td>\n",
       "      <td>Bureau de santé du comté et du district de Ren...</td>\n",
       "      <td>1970/01/01 00:00:00+00</td>\n",
       "      <td>2020/05/15 12:58:09+00</td>\n",
       "      <td>2020/05/15 22:17:15+00</td>\n",
       "      <td>737</td>\n",
       "    </tr>\n",
       "    <tr>\n",
       "      <th>27</th>\n",
       "      <td>71877938</td>\n",
       "      <td>3895</td>\n",
       "      <td>Toronto Public Health</td>\n",
       "      <td>Bureau de santé de Toronto</td>\n",
       "      <td>1970/01/01 00:00:00+00</td>\n",
       "      <td>2020/05/15 12:56:22+00</td>\n",
       "      <td>2020/05/15 22:17:15+00</td>\n",
       "      <td>753</td>\n",
       "    </tr>\n",
       "    <tr>\n",
       "      <th>28</th>\n",
       "      <td>71877935</td>\n",
       "      <td>2236</td>\n",
       "      <td>Halton Region Health Department</td>\n",
       "      <td>Bureau de santé de la région de Halton</td>\n",
       "      <td>1970/01/01 00:00:00+00</td>\n",
       "      <td>2020/05/15 12:56:00+00</td>\n",
       "      <td>2020/05/15 22:17:15+00</td>\n",
       "      <td>769</td>\n",
       "    </tr>\n",
       "    <tr>\n",
       "      <th>29</th>\n",
       "      <td>71877933</td>\n",
       "      <td>2238</td>\n",
       "      <td>Hastings and Prince Edward Counties Health Unit</td>\n",
       "      <td>Bureau de santé de Hastings et Prince Edward</td>\n",
       "      <td>1970/01/01 00:00:00+00</td>\n",
       "      <td>2020/05/15 12:58:23+00</td>\n",
       "      <td>2020/05/15 22:17:15+00</td>\n",
       "      <td>785</td>\n",
       "    </tr>\n",
       "    <tr>\n",
       "      <th>30</th>\n",
       "      <td>71877929</td>\n",
       "      <td>2260</td>\n",
       "      <td>Simcoe Muskoka District Health Unit</td>\n",
       "      <td>Bureau de santé du comté de Simcoe</td>\n",
       "      <td>1970/01/01 00:00:00+00</td>\n",
       "      <td>2020/05/15 12:57:56+00</td>\n",
       "      <td>2020/05/15 22:17:15+00</td>\n",
       "      <td>801</td>\n",
       "    </tr>\n",
       "    <tr>\n",
       "      <th>31</th>\n",
       "      <td>71877925</td>\n",
       "      <td>2230</td>\n",
       "      <td>Durham Region Health Department</td>\n",
       "      <td>Bureau de santé de Durham</td>\n",
       "      <td>1970/01/01 00:00:00+00</td>\n",
       "      <td>2020/05/15 13:00:05+00</td>\n",
       "      <td>2020/05/15 22:17:15+00</td>\n",
       "      <td>817</td>\n",
       "    </tr>\n",
       "    <tr>\n",
       "      <th>32</th>\n",
       "      <td>71877915</td>\n",
       "      <td>2256</td>\n",
       "      <td>Porcupine Health Unit</td>\n",
       "      <td>Bureau de santé Porcupine</td>\n",
       "      <td>1970/01/01 00:00:00+00</td>\n",
       "      <td>2020/05/15 12:59:15+00</td>\n",
       "      <td>2020/05/15 22:17:15+00</td>\n",
       "      <td>833</td>\n",
       "    </tr>\n",
       "    <tr>\n",
       "      <th>33</th>\n",
       "      <td>71877923</td>\n",
       "      <td>2226</td>\n",
       "      <td>Algoma Public Health Unit</td>\n",
       "      <td>Santé publique Algoma</td>\n",
       "      <td>1970/01/01 00:00:00+00</td>\n",
       "      <td>2020/05/15 12:59:04+00</td>\n",
       "      <td>2020/05/15 22:17:15+00</td>\n",
       "      <td>849</td>\n",
       "    </tr>\n",
       "  </tbody>\n",
       "</table>\n",
       "</div>"
      ],
      "text/plain": [
       "      OGF_ID  PHU_ID                                       PHU_NAME_ENG  \\\n",
       "0   71878062    2270                          York Region Public Health   \n",
       "1   71878005    5183                            Huron Perth Health Unit   \n",
       "2   71878059    2265                  Region of Waterloo, Public Health   \n",
       "3   71878029    4913                         Southwestern Public Health   \n",
       "4   71878057    2237                    Hamilton Public Health Services   \n",
       "5   71878051    2262                   Thunder Bay District Health Unit   \n",
       "6   71878041    2253                                 Peel Public Health   \n",
       "7   71878038    2242                              Lambton Public Health   \n",
       "8   71878035    2266             Wellington-Dufferin-Guelph Health Unit   \n",
       "9   71878032    2227                           Brant County Health Unit   \n",
       "10  71878026    2244                       Middlesex-London Health Unit   \n",
       "11  71878023    2261                   Sudbury and District Health Unit   \n",
       "12  71877993    2235  Haliburton, Kawartha, Pine Ridge District Heal...   \n",
       "13  71877988    2246            Niagara Region Public Health Department   \n",
       "14  71877985    2240                           Chatham-Kent Health Unit   \n",
       "15  71877982    2241  Kingston, Frontenac and Lennox and Addington H...   \n",
       "16  71877975    2268                   Windsor-Essex County Health Unit   \n",
       "17  71877972    2255                         Peterborough Public Health   \n",
       "18  71877970    2233                             Grey Bruce Health Unit   \n",
       "19  71877964    2258                        Eastern Ontario Health Unit   \n",
       "20  71877960    2247         North Bay Parry Sound District Health Unit   \n",
       "21  71877952    2251                               Ottawa Public Health   \n",
       "22  71877950    2243   Leeds, Grenville and Lanark District Health Unit   \n",
       "23  71878002    2249                           Northwestern Health Unit   \n",
       "24  71877945    2234                      Haldimand-Norfolk Health Unit   \n",
       "25  71878009    2263                            Timiskaming Health Unit   \n",
       "26  71877941    2257            Renfrew County and District Health Unit   \n",
       "27  71877938    3895                              Toronto Public Health   \n",
       "28  71877935    2236                    Halton Region Health Department   \n",
       "29  71877933    2238    Hastings and Prince Edward Counties Health Unit   \n",
       "30  71877929    2260                Simcoe Muskoka District Health Unit   \n",
       "31  71877925    2230                    Durham Region Health Department   \n",
       "32  71877915    2256                              Porcupine Health Unit   \n",
       "33  71877923    2226                          Algoma Public Health Unit   \n",
       "\n",
       "                                          PHU_NAME_FR  \\\n",
       "0               Service de santé de la région de York   \n",
       "1         Circonscription Sanitaire de Huron et Perth   \n",
       "2            Bureau de santé de la région de Waterloo   \n",
       "3                        Bureau de santé du Sud-Ouest   \n",
       "4              Services de santé publique de Hamilton   \n",
       "5          Bureau de santé du district de Thunder Bay   \n",
       "6                Bureau de santé de la région de Peel   \n",
       "7                                    Comté de Lambton   \n",
       "8       Bureau de santé de Wellington-Dufferin-Guelph   \n",
       "9                   Bureau de santé du comté de Brant   \n",
       "10                Bureau de santé de Middlesex-London   \n",
       "11  Service de santé publique de Sudbury et du dis...   \n",
       "12  Bureau de santé du district d'Haliburton, Kawa...   \n",
       "13            Bureau de santé de la région du Niagara   \n",
       "14                    Bureau de santé de Chatham-Kent   \n",
       "15  Bureau de santé de Kingston, Frontenac, Lennox...   \n",
       "16                   Unité sanitaire de Windsor-Essex   \n",
       "17                    Bureau de santé de Peterborough   \n",
       "18                      Bureau de santé de Grey Bruce   \n",
       "19              Bureau de santé de l'Est de l'Ontario   \n",
       "20  Bureau de santé du district de North Bay-Parry...   \n",
       "21                              Santé publique Ottawa   \n",
       "22  Bureau de santé du district de Leeds, Grenvill...   \n",
       "23                      Bureau de santé du Nord-Ouest   \n",
       "24                Bureau de santé d'Haldimand-Norfolk   \n",
       "25                   Bureau de santé de Témiskamingue   \n",
       "26  Bureau de santé du comté et du district de Ren...   \n",
       "27                         Bureau de santé de Toronto   \n",
       "28             Bureau de santé de la région de Halton   \n",
       "29       Bureau de santé de Hastings et Prince Edward   \n",
       "30                 Bureau de santé du comté de Simcoe   \n",
       "31                          Bureau de santé de Durham   \n",
       "32                          Bureau de santé Porcupine   \n",
       "33                              Santé publique Algoma   \n",
       "\n",
       "   GEOMETRY_UPDATE_DATETIME      EFFECTIVE_DATETIME         SYSTEM_DATETIME  \\\n",
       "0    1970/01/01 00:00:00+00  2020/05/15 12:56:15+00  2020/05/15 22:17:15+00   \n",
       "1    2020/05/15 13:03:57+00  2020/05/15 12:54:50+00  2020/05/15 22:17:15+00   \n",
       "2    1970/01/01 00:00:00+00  2020/05/15 12:55:42+00  2020/05/15 22:17:15+00   \n",
       "3    2020/05/15 13:03:57+00  2020/05/15 12:52:27+00  2020/05/15 22:17:15+00   \n",
       "4    1970/01/01 00:00:00+00  2020/05/15 12:55:24+00  2020/05/15 22:17:15+00   \n",
       "5    1970/01/01 00:00:00+00  2020/05/15 12:59:18+00  2020/05/15 22:17:15+00   \n",
       "6    1970/01/01 00:00:00+00  2020/05/15 12:56:08+00  2020/05/15 22:17:15+00   \n",
       "7    1970/01/01 00:00:00+00  2020/05/15 12:51:11+00  2020/05/15 22:17:15+00   \n",
       "8    1970/01/01 00:00:00+00  2020/05/15 12:55:52+00  2020/05/15 22:17:15+00   \n",
       "9    1970/01/01 00:00:00+00  2020/05/15 12:55:34+00  2020/05/15 22:17:15+00   \n",
       "10   1970/01/01 00:00:00+00  2020/05/15 12:54:06+00  2020/05/15 22:17:15+00   \n",
       "11   1970/01/01 00:00:00+00  2020/05/15 12:59:01+00  2020/05/15 22:17:15+00   \n",
       "12   1970/01/01 00:00:00+00  2020/05/15 12:57:59+00  2020/05/15 22:17:15+00   \n",
       "13   1970/01/01 00:00:00+00  2020/05/15 12:55:15+00  2020/05/15 22:17:15+00   \n",
       "14   1970/01/01 00:00:00+00  2020/05/15 12:51:33+00  2020/05/15 22:17:15+00   \n",
       "15   1970/01/01 00:00:00+00  2020/05/15 12:58:26+00  2020/05/15 22:17:15+00   \n",
       "16   1970/01/01 00:00:00+00  2020/05/15 12:50:50+00  2020/05/15 22:17:15+00   \n",
       "17   1970/01/01 00:00:00+00  2020/05/15 12:58:21+00  2020/05/15 22:17:15+00   \n",
       "18   1970/01/01 00:00:00+00  2020/05/15 12:57:48+00  2020/05/15 22:17:15+00   \n",
       "19   1970/01/01 00:00:00+00  2020/05/15 12:58:42+00  2020/05/15 22:17:15+00   \n",
       "20   1970/01/01 00:00:00+00  2020/05/15 12:58:02+00  2020/05/15 22:17:15+00   \n",
       "21   1970/01/01 00:00:00+00  2020/05/15 12:58:39+00  2020/05/15 22:17:15+00   \n",
       "22   1970/01/01 00:00:00+00  2020/05/15 12:58:28+00  2020/05/15 22:17:15+00   \n",
       "23   1970/01/01 00:00:00+00  2020/05/15 12:59:31+00  2020/05/15 22:17:15+00   \n",
       "24   1970/01/01 00:00:00+00  2020/05/15 12:53:50+00  2020/05/15 22:17:15+00   \n",
       "25   1970/01/01 00:00:00+00  2020/05/15 12:58:59+00  2020/05/15 22:17:15+00   \n",
       "26   1970/01/01 00:00:00+00  2020/05/15 12:58:09+00  2020/05/15 22:17:15+00   \n",
       "27   1970/01/01 00:00:00+00  2020/05/15 12:56:22+00  2020/05/15 22:17:15+00   \n",
       "28   1970/01/01 00:00:00+00  2020/05/15 12:56:00+00  2020/05/15 22:17:15+00   \n",
       "29   1970/01/01 00:00:00+00  2020/05/15 12:58:23+00  2020/05/15 22:17:15+00   \n",
       "30   1970/01/01 00:00:00+00  2020/05/15 12:57:56+00  2020/05/15 22:17:15+00   \n",
       "31   1970/01/01 00:00:00+00  2020/05/15 13:00:05+00  2020/05/15 22:17:15+00   \n",
       "32   1970/01/01 00:00:00+00  2020/05/15 12:59:15+00  2020/05/15 22:17:15+00   \n",
       "33   1970/01/01 00:00:00+00  2020/05/15 12:59:04+00  2020/05/15 22:17:15+00   \n",
       "\n",
       "    OBJECTID  \n",
       "0        321  \n",
       "1        337  \n",
       "2        353  \n",
       "3        369  \n",
       "4        385  \n",
       "5        401  \n",
       "6        417  \n",
       "7        433  \n",
       "8        449  \n",
       "9        465  \n",
       "10       481  \n",
       "11       497  \n",
       "12       513  \n",
       "13       529  \n",
       "14       545  \n",
       "15       561  \n",
       "16       577  \n",
       "17       593  \n",
       "18       609  \n",
       "19       625  \n",
       "20       641  \n",
       "21       657  \n",
       "22       673  \n",
       "23       689  \n",
       "24       705  \n",
       "25       721  \n",
       "26       737  \n",
       "27       753  \n",
       "28       769  \n",
       "29       785  \n",
       "30       801  \n",
       "31       817  \n",
       "32       833  \n",
       "33       849  "
      ]
     },
     "execution_count": 3,
     "metadata": {},
     "output_type": "execute_result"
    }
   ],
   "source": [
    "min_health"
   ]
  },
  {
   "cell_type": "code",
   "execution_count": 4,
   "metadata": {},
   "outputs": [],
   "source": [
    "df = pd.read_csv('../Ontario_PHU.csv')"
   ]
  },
  {
   "cell_type": "code",
   "execution_count": 5,
   "metadata": {},
   "outputs": [],
   "source": [
    "#ACTIVE_CASES, RESOLVED_CASES, and DEATHS are all cumulative based on the date. The number of deaths up to today."
   ]
  },
  {
   "cell_type": "code",
   "execution_count": 8,
   "metadata": {},
   "outputs": [
    {
     "data": {
      "text/html": [
       "<div>\n",
       "<style scoped>\n",
       "    .dataframe tbody tr th:only-of-type {\n",
       "        vertical-align: middle;\n",
       "    }\n",
       "\n",
       "    .dataframe tbody tr th {\n",
       "        vertical-align: top;\n",
       "    }\n",
       "\n",
       "    .dataframe thead th {\n",
       "        text-align: right;\n",
       "    }\n",
       "</style>\n",
       "<table border=\"1\" class=\"dataframe\">\n",
       "  <thead>\n",
       "    <tr style=\"text-align: right;\">\n",
       "      <th></th>\n",
       "      <th>_id</th>\n",
       "      <th>FILE_DATE</th>\n",
       "      <th>PHU_NAME</th>\n",
       "      <th>PHU_NUM</th>\n",
       "      <th>ACTIVE_CASES</th>\n",
       "      <th>RESOLVED_CASES</th>\n",
       "      <th>DEATHS</th>\n",
       "    </tr>\n",
       "  </thead>\n",
       "  <tbody>\n",
       "    <tr>\n",
       "      <th>1</th>\n",
       "      <td>2</td>\n",
       "      <td>20200410</td>\n",
       "      <td>HALTON REGION</td>\n",
       "      <td>2236</td>\n",
       "      <td>112</td>\n",
       "      <td>137</td>\n",
       "      <td>9</td>\n",
       "    </tr>\n",
       "    <tr>\n",
       "      <th>35</th>\n",
       "      <td>36</td>\n",
       "      <td>20200411</td>\n",
       "      <td>HALTON REGION</td>\n",
       "      <td>2236</td>\n",
       "      <td>109</td>\n",
       "      <td>147</td>\n",
       "      <td>10</td>\n",
       "    </tr>\n",
       "    <tr>\n",
       "      <th>69</th>\n",
       "      <td>70</td>\n",
       "      <td>20200412</td>\n",
       "      <td>HALTON REGION</td>\n",
       "      <td>2236</td>\n",
       "      <td>111</td>\n",
       "      <td>154</td>\n",
       "      <td>10</td>\n",
       "    </tr>\n",
       "    <tr>\n",
       "      <th>103</th>\n",
       "      <td>104</td>\n",
       "      <td>20200413</td>\n",
       "      <td>HALTON REGION</td>\n",
       "      <td>2236</td>\n",
       "      <td>118</td>\n",
       "      <td>162</td>\n",
       "      <td>11</td>\n",
       "    </tr>\n",
       "    <tr>\n",
       "      <th>137</th>\n",
       "      <td>138</td>\n",
       "      <td>20200414</td>\n",
       "      <td>HALTON REGION</td>\n",
       "      <td>2236</td>\n",
       "      <td>148</td>\n",
       "      <td>171</td>\n",
       "      <td>11</td>\n",
       "    </tr>\n",
       "    <tr>\n",
       "      <th>...</th>\n",
       "      <td>...</td>\n",
       "      <td>...</td>\n",
       "      <td>...</td>\n",
       "      <td>...</td>\n",
       "      <td>...</td>\n",
       "      <td>...</td>\n",
       "      <td>...</td>\n",
       "    </tr>\n",
       "    <tr>\n",
       "      <th>9700</th>\n",
       "      <td>9701</td>\n",
       "      <td>20210110</td>\n",
       "      <td>HALTON REGION</td>\n",
       "      <td>2236</td>\n",
       "      <td>1129</td>\n",
       "      <td>5443</td>\n",
       "      <td>131</td>\n",
       "    </tr>\n",
       "    <tr>\n",
       "      <th>9734</th>\n",
       "      <td>9735</td>\n",
       "      <td>20210111</td>\n",
       "      <td>HALTON REGION</td>\n",
       "      <td>2236</td>\n",
       "      <td>1106</td>\n",
       "      <td>5546</td>\n",
       "      <td>132</td>\n",
       "    </tr>\n",
       "    <tr>\n",
       "      <th>9768</th>\n",
       "      <td>9769</td>\n",
       "      <td>20210112</td>\n",
       "      <td>HALTON REGION</td>\n",
       "      <td>2236</td>\n",
       "      <td>1043</td>\n",
       "      <td>5655</td>\n",
       "      <td>133</td>\n",
       "    </tr>\n",
       "    <tr>\n",
       "      <th>9802</th>\n",
       "      <td>9803</td>\n",
       "      <td>20210113</td>\n",
       "      <td>HALTON REGION</td>\n",
       "      <td>2236</td>\n",
       "      <td>1021</td>\n",
       "      <td>5762</td>\n",
       "      <td>136</td>\n",
       "    </tr>\n",
       "    <tr>\n",
       "      <th>9836</th>\n",
       "      <td>9837</td>\n",
       "      <td>20210114</td>\n",
       "      <td>HALTON REGION</td>\n",
       "      <td>2236</td>\n",
       "      <td>973</td>\n",
       "      <td>5894</td>\n",
       "      <td>137</td>\n",
       "    </tr>\n",
       "  </tbody>\n",
       "</table>\n",
       "<p>290 rows × 7 columns</p>\n",
       "</div>"
      ],
      "text/plain": [
       "       _id  FILE_DATE       PHU_NAME  PHU_NUM  ACTIVE_CASES  RESOLVED_CASES  \\\n",
       "1        2   20200410  HALTON REGION     2236           112             137   \n",
       "35      36   20200411  HALTON REGION     2236           109             147   \n",
       "69      70   20200412  HALTON REGION     2236           111             154   \n",
       "103    104   20200413  HALTON REGION     2236           118             162   \n",
       "137    138   20200414  HALTON REGION     2236           148             171   \n",
       "...    ...        ...            ...      ...           ...             ...   \n",
       "9700  9701   20210110  HALTON REGION     2236          1129            5443   \n",
       "9734  9735   20210111  HALTON REGION     2236          1106            5546   \n",
       "9768  9769   20210112  HALTON REGION     2236          1043            5655   \n",
       "9802  9803   20210113  HALTON REGION     2236          1021            5762   \n",
       "9836  9837   20210114  HALTON REGION     2236           973            5894   \n",
       "\n",
       "      DEATHS  \n",
       "1          9  \n",
       "35        10  \n",
       "69        10  \n",
       "103       11  \n",
       "137       11  \n",
       "...      ...  \n",
       "9700     131  \n",
       "9734     132  \n",
       "9768     133  \n",
       "9802     136  \n",
       "9836     137  \n",
       "\n",
       "[290 rows x 7 columns]"
      ]
     },
     "execution_count": 8,
     "metadata": {},
     "output_type": "execute_result"
    }
   ],
   "source": [
    "df.loc[df['PHU_NAME']=='HALTON REGION']"
   ]
  },
  {
   "cell_type": "code",
   "execution_count": 9,
   "metadata": {},
   "outputs": [
    {
     "data": {
      "text/html": [
       "<div>\n",
       "<style scoped>\n",
       "    .dataframe tbody tr th:only-of-type {\n",
       "        vertical-align: middle;\n",
       "    }\n",
       "\n",
       "    .dataframe tbody tr th {\n",
       "        vertical-align: top;\n",
       "    }\n",
       "\n",
       "    .dataframe thead th {\n",
       "        text-align: right;\n",
       "    }\n",
       "</style>\n",
       "<table border=\"1\" class=\"dataframe\">\n",
       "  <thead>\n",
       "    <tr style=\"text-align: right;\">\n",
       "      <th></th>\n",
       "      <th>_id</th>\n",
       "      <th>FILE_DATE</th>\n",
       "      <th>PHU_NAME</th>\n",
       "      <th>PHU_NUM</th>\n",
       "      <th>ACTIVE_CASES</th>\n",
       "      <th>RESOLVED_CASES</th>\n",
       "      <th>DEATHS</th>\n",
       "    </tr>\n",
       "  </thead>\n",
       "  <tbody>\n",
       "    <tr>\n",
       "      <th>12</th>\n",
       "      <td>13</td>\n",
       "      <td>20200410</td>\n",
       "      <td>PEEL REGION</td>\n",
       "      <td>2253</td>\n",
       "      <td>575</td>\n",
       "      <td>222</td>\n",
       "      <td>14</td>\n",
       "    </tr>\n",
       "    <tr>\n",
       "      <th>46</th>\n",
       "      <td>47</td>\n",
       "      <td>20200411</td>\n",
       "      <td>PEEL REGION</td>\n",
       "      <td>2253</td>\n",
       "      <td>603</td>\n",
       "      <td>257</td>\n",
       "      <td>15</td>\n",
       "    </tr>\n",
       "    <tr>\n",
       "      <th>80</th>\n",
       "      <td>81</td>\n",
       "      <td>20200412</td>\n",
       "      <td>PEEL REGION</td>\n",
       "      <td>2253</td>\n",
       "      <td>636</td>\n",
       "      <td>284</td>\n",
       "      <td>17</td>\n",
       "    </tr>\n",
       "    <tr>\n",
       "      <th>114</th>\n",
       "      <td>115</td>\n",
       "      <td>20200413</td>\n",
       "      <td>PEEL REGION</td>\n",
       "      <td>2253</td>\n",
       "      <td>648</td>\n",
       "      <td>323</td>\n",
       "      <td>18</td>\n",
       "    </tr>\n",
       "    <tr>\n",
       "      <th>148</th>\n",
       "      <td>149</td>\n",
       "      <td>20200414</td>\n",
       "      <td>PEEL REGION</td>\n",
       "      <td>2253</td>\n",
       "      <td>683</td>\n",
       "      <td>343</td>\n",
       "      <td>19</td>\n",
       "    </tr>\n",
       "    <tr>\n",
       "      <th>...</th>\n",
       "      <td>...</td>\n",
       "      <td>...</td>\n",
       "      <td>...</td>\n",
       "      <td>...</td>\n",
       "      <td>...</td>\n",
       "      <td>...</td>\n",
       "      <td>...</td>\n",
       "    </tr>\n",
       "    <tr>\n",
       "      <th>9711</th>\n",
       "      <td>9712</td>\n",
       "      <td>20210110</td>\n",
       "      <td>PEEL REGION</td>\n",
       "      <td>2253</td>\n",
       "      <td>5572</td>\n",
       "      <td>38950</td>\n",
       "      <td>487</td>\n",
       "    </tr>\n",
       "    <tr>\n",
       "      <th>9745</th>\n",
       "      <td>9746</td>\n",
       "      <td>20210111</td>\n",
       "      <td>PEEL REGION</td>\n",
       "      <td>2253</td>\n",
       "      <td>5617</td>\n",
       "      <td>39436</td>\n",
       "      <td>487</td>\n",
       "    </tr>\n",
       "    <tr>\n",
       "      <th>9779</th>\n",
       "      <td>9780</td>\n",
       "      <td>20210112</td>\n",
       "      <td>PEEL REGION</td>\n",
       "      <td>2253</td>\n",
       "      <td>5614</td>\n",
       "      <td>39984</td>\n",
       "      <td>487</td>\n",
       "    </tr>\n",
       "    <tr>\n",
       "      <th>9813</th>\n",
       "      <td>9814</td>\n",
       "      <td>20210113</td>\n",
       "      <td>PEEL REGION</td>\n",
       "      <td>2253</td>\n",
       "      <td>5549</td>\n",
       "      <td>40574</td>\n",
       "      <td>498</td>\n",
       "    </tr>\n",
       "    <tr>\n",
       "      <th>9847</th>\n",
       "      <td>9848</td>\n",
       "      <td>20210114</td>\n",
       "      <td>PEEL REGION</td>\n",
       "      <td>2253</td>\n",
       "      <td>5535</td>\n",
       "      <td>41156</td>\n",
       "      <td>502</td>\n",
       "    </tr>\n",
       "  </tbody>\n",
       "</table>\n",
       "<p>290 rows × 7 columns</p>\n",
       "</div>"
      ],
      "text/plain": [
       "       _id  FILE_DATE     PHU_NAME  PHU_NUM  ACTIVE_CASES  RESOLVED_CASES  \\\n",
       "12      13   20200410  PEEL REGION     2253           575             222   \n",
       "46      47   20200411  PEEL REGION     2253           603             257   \n",
       "80      81   20200412  PEEL REGION     2253           636             284   \n",
       "114    115   20200413  PEEL REGION     2253           648             323   \n",
       "148    149   20200414  PEEL REGION     2253           683             343   \n",
       "...    ...        ...          ...      ...           ...             ...   \n",
       "9711  9712   20210110  PEEL REGION     2253          5572           38950   \n",
       "9745  9746   20210111  PEEL REGION     2253          5617           39436   \n",
       "9779  9780   20210112  PEEL REGION     2253          5614           39984   \n",
       "9813  9814   20210113  PEEL REGION     2253          5549           40574   \n",
       "9847  9848   20210114  PEEL REGION     2253          5535           41156   \n",
       "\n",
       "      DEATHS  \n",
       "12        14  \n",
       "46        15  \n",
       "80        17  \n",
       "114       18  \n",
       "148       19  \n",
       "...      ...  \n",
       "9711     487  \n",
       "9745     487  \n",
       "9779     487  \n",
       "9813     498  \n",
       "9847     502  \n",
       "\n",
       "[290 rows x 7 columns]"
      ]
     },
     "execution_count": 9,
     "metadata": {},
     "output_type": "execute_result"
    }
   ],
   "source": [
    "df.loc[df['PHU_NAME']=='PEEL REGION']"
   ]
  },
  {
   "cell_type": "code",
   "execution_count": 10,
   "metadata": {},
   "outputs": [
    {
     "data": {
      "text/plain": [
       "34"
      ]
     },
     "execution_count": 10,
     "metadata": {},
     "output_type": "execute_result"
    }
   ],
   "source": [
    "len(df['PHU_NAME'].unique())"
   ]
  },
  {
   "cell_type": "code",
   "execution_count": 11,
   "metadata": {},
   "outputs": [
    {
     "data": {
      "text/plain": [
       "34"
      ]
     },
     "execution_count": 11,
     "metadata": {},
     "output_type": "execute_result"
    }
   ],
   "source": [
    "len(df['PHU_NUM'].unique())"
   ]
  },
  {
   "cell_type": "code",
   "execution_count": 12,
   "metadata": {},
   "outputs": [
    {
     "data": {
      "text/html": [
       "<div>\n",
       "<style scoped>\n",
       "    .dataframe tbody tr th:only-of-type {\n",
       "        vertical-align: middle;\n",
       "    }\n",
       "\n",
       "    .dataframe tbody tr th {\n",
       "        vertical-align: top;\n",
       "    }\n",
       "\n",
       "    .dataframe thead th {\n",
       "        text-align: right;\n",
       "    }\n",
       "</style>\n",
       "<table border=\"1\" class=\"dataframe\">\n",
       "  <thead>\n",
       "    <tr style=\"text-align: right;\">\n",
       "      <th></th>\n",
       "      <th>PHU_NAME</th>\n",
       "      <th>0</th>\n",
       "    </tr>\n",
       "    <tr>\n",
       "      <th>PHU_NUM</th>\n",
       "      <th></th>\n",
       "      <th></th>\n",
       "    </tr>\n",
       "  </thead>\n",
       "  <tbody>\n",
       "    <tr>\n",
       "      <th>2226</th>\n",
       "      <td>ALGOMA DISTRICT</td>\n",
       "      <td>290</td>\n",
       "    </tr>\n",
       "    <tr>\n",
       "      <th>2227</th>\n",
       "      <td>BRANT COUNTY</td>\n",
       "      <td>290</td>\n",
       "    </tr>\n",
       "    <tr>\n",
       "      <th>2230</th>\n",
       "      <td>DURHAM REGION</td>\n",
       "      <td>290</td>\n",
       "    </tr>\n",
       "    <tr>\n",
       "      <th>2233</th>\n",
       "      <td>GREY BRUCE</td>\n",
       "      <td>290</td>\n",
       "    </tr>\n",
       "    <tr>\n",
       "      <th>2234</th>\n",
       "      <td>HALDIMAND-NORFOLK</td>\n",
       "      <td>290</td>\n",
       "    </tr>\n",
       "    <tr>\n",
       "      <th>2235</th>\n",
       "      <td>HALIBURTON, KAWARTHA, PINE RIDGE</td>\n",
       "      <td>290</td>\n",
       "    </tr>\n",
       "    <tr>\n",
       "      <th>2236</th>\n",
       "      <td>HALTON REGION</td>\n",
       "      <td>290</td>\n",
       "    </tr>\n",
       "    <tr>\n",
       "      <th>2237</th>\n",
       "      <td>CITY OF HAMILTON</td>\n",
       "      <td>290</td>\n",
       "    </tr>\n",
       "    <tr>\n",
       "      <th>2238</th>\n",
       "      <td>HASTINGS &amp; PRINCE EDWARD COUNTIES</td>\n",
       "      <td>290</td>\n",
       "    </tr>\n",
       "    <tr>\n",
       "      <th>2240</th>\n",
       "      <td>CHATHAM-KENT</td>\n",
       "      <td>290</td>\n",
       "    </tr>\n",
       "    <tr>\n",
       "      <th>2241</th>\n",
       "      <td>KINGSTON, FRONTENAC, LENNOX &amp; ADDINGTON</td>\n",
       "      <td>290</td>\n",
       "    </tr>\n",
       "    <tr>\n",
       "      <th>2242</th>\n",
       "      <td>LAMBTON COUNTY</td>\n",
       "      <td>290</td>\n",
       "    </tr>\n",
       "    <tr>\n",
       "      <th>2243</th>\n",
       "      <td>LEEDS, GRENVILLE AND LANARK DISTRICT</td>\n",
       "      <td>290</td>\n",
       "    </tr>\n",
       "    <tr>\n",
       "      <th>2244</th>\n",
       "      <td>MIDDLESEX-LONDON</td>\n",
       "      <td>290</td>\n",
       "    </tr>\n",
       "    <tr>\n",
       "      <th>2246</th>\n",
       "      <td>NIAGARA REGION</td>\n",
       "      <td>290</td>\n",
       "    </tr>\n",
       "    <tr>\n",
       "      <th>2247</th>\n",
       "      <td>NORTH BAY PARRY SOUND DISTRICT</td>\n",
       "      <td>290</td>\n",
       "    </tr>\n",
       "    <tr>\n",
       "      <th>2249</th>\n",
       "      <td>NORTHWESTERN</td>\n",
       "      <td>290</td>\n",
       "    </tr>\n",
       "    <tr>\n",
       "      <th>2251</th>\n",
       "      <td>CITY OF OTTAWA</td>\n",
       "      <td>290</td>\n",
       "    </tr>\n",
       "    <tr>\n",
       "      <th>2253</th>\n",
       "      <td>PEEL REGION</td>\n",
       "      <td>290</td>\n",
       "    </tr>\n",
       "    <tr>\n",
       "      <th>2255</th>\n",
       "      <td>PETERBOROUGH COUNTY-CITY</td>\n",
       "      <td>290</td>\n",
       "    </tr>\n",
       "    <tr>\n",
       "      <th>2256</th>\n",
       "      <td>PORCUPINE</td>\n",
       "      <td>290</td>\n",
       "    </tr>\n",
       "    <tr>\n",
       "      <th>2257</th>\n",
       "      <td>RENFREW COUNTY AND DISTRICT</td>\n",
       "      <td>290</td>\n",
       "    </tr>\n",
       "    <tr>\n",
       "      <th>2258</th>\n",
       "      <td>EASTERN ONTARIO</td>\n",
       "      <td>290</td>\n",
       "    </tr>\n",
       "    <tr>\n",
       "      <th>2260</th>\n",
       "      <td>SIMCOE MUSKOKA DISTRICT</td>\n",
       "      <td>290</td>\n",
       "    </tr>\n",
       "    <tr>\n",
       "      <th>2261</th>\n",
       "      <td>SUDBURY AND DISTRICT</td>\n",
       "      <td>290</td>\n",
       "    </tr>\n",
       "    <tr>\n",
       "      <th>2262</th>\n",
       "      <td>THUNDER BAY DISTRICT</td>\n",
       "      <td>290</td>\n",
       "    </tr>\n",
       "    <tr>\n",
       "      <th>2263</th>\n",
       "      <td>TIMISKAMING</td>\n",
       "      <td>290</td>\n",
       "    </tr>\n",
       "    <tr>\n",
       "      <th>2265</th>\n",
       "      <td>WATERLOO REGION</td>\n",
       "      <td>290</td>\n",
       "    </tr>\n",
       "    <tr>\n",
       "      <th>2266</th>\n",
       "      <td>WELLINGTON-DUFFERIN-GUELPH</td>\n",
       "      <td>290</td>\n",
       "    </tr>\n",
       "    <tr>\n",
       "      <th>2268</th>\n",
       "      <td>WINDSOR-ESSEX COUNTY</td>\n",
       "      <td>290</td>\n",
       "    </tr>\n",
       "    <tr>\n",
       "      <th>2270</th>\n",
       "      <td>YORK REGION</td>\n",
       "      <td>290</td>\n",
       "    </tr>\n",
       "    <tr>\n",
       "      <th>3895</th>\n",
       "      <td>TORONTO</td>\n",
       "      <td>290</td>\n",
       "    </tr>\n",
       "    <tr>\n",
       "      <th>4913</th>\n",
       "      <td>OXFORD ELGIN-ST.THOMAS</td>\n",
       "      <td>290</td>\n",
       "    </tr>\n",
       "    <tr>\n",
       "      <th>5183</th>\n",
       "      <td>HURON PERTH</td>\n",
       "      <td>290</td>\n",
       "    </tr>\n",
       "  </tbody>\n",
       "</table>\n",
       "</div>"
      ],
      "text/plain": [
       "                                        PHU_NAME    0\n",
       "PHU_NUM                                              \n",
       "2226                             ALGOMA DISTRICT  290\n",
       "2227                                BRANT COUNTY  290\n",
       "2230                               DURHAM REGION  290\n",
       "2233                                  GREY BRUCE  290\n",
       "2234                           HALDIMAND-NORFOLK  290\n",
       "2235            HALIBURTON, KAWARTHA, PINE RIDGE  290\n",
       "2236                               HALTON REGION  290\n",
       "2237                            CITY OF HAMILTON  290\n",
       "2238           HASTINGS & PRINCE EDWARD COUNTIES  290\n",
       "2240                                CHATHAM-KENT  290\n",
       "2241     KINGSTON, FRONTENAC, LENNOX & ADDINGTON  290\n",
       "2242                              LAMBTON COUNTY  290\n",
       "2243        LEEDS, GRENVILLE AND LANARK DISTRICT  290\n",
       "2244                            MIDDLESEX-LONDON  290\n",
       "2246                              NIAGARA REGION  290\n",
       "2247              NORTH BAY PARRY SOUND DISTRICT  290\n",
       "2249                                NORTHWESTERN  290\n",
       "2251                              CITY OF OTTAWA  290\n",
       "2253                                 PEEL REGION  290\n",
       "2255                    PETERBOROUGH COUNTY-CITY  290\n",
       "2256                                   PORCUPINE  290\n",
       "2257                 RENFREW COUNTY AND DISTRICT  290\n",
       "2258                             EASTERN ONTARIO  290\n",
       "2260                     SIMCOE MUSKOKA DISTRICT  290\n",
       "2261                        SUDBURY AND DISTRICT  290\n",
       "2262                        THUNDER BAY DISTRICT  290\n",
       "2263                                 TIMISKAMING  290\n",
       "2265                             WATERLOO REGION  290\n",
       "2266                  WELLINGTON-DUFFERIN-GUELPH  290\n",
       "2268                        WINDSOR-ESSEX COUNTY  290\n",
       "2270                                 YORK REGION  290\n",
       "3895                                     TORONTO  290\n",
       "4913                      OXFORD ELGIN-ST.THOMAS  290\n",
       "5183                                 HURON PERTH  290"
      ]
     },
     "execution_count": 12,
     "metadata": {},
     "output_type": "execute_result"
    }
   ],
   "source": [
    "def build_phu_map(df):\n",
    "    df = df.groupby(['PHU_NUM', 'PHU_NAME']).size().reset_index()\n",
    "    df.set_index(['PHU_NUM'],inplace=True)\n",
    "    return df\n",
    "hm = build_phu_map(df)\n",
    "hm"
   ]
  },
  {
   "cell_type": "code",
   "execution_count": 13,
   "metadata": {},
   "outputs": [],
   "source": [
    "def cumulative_count(df):\n",
    "    hm=defaultdict(int)\n",
    "    for index, row in df.iterrows():\n",
    "        hm[row['PHU_NUM']]+=1\n",
    "        df.loc[index, 'cum_count'] = hm[row['PHU_NUM']]\n",
    "    return df"
   ]
  },
  {
   "cell_type": "code",
   "execution_count": 14,
   "metadata": {},
   "outputs": [
    {
     "data": {
      "text/html": [
       "<div>\n",
       "<style scoped>\n",
       "    .dataframe tbody tr th:only-of-type {\n",
       "        vertical-align: middle;\n",
       "    }\n",
       "\n",
       "    .dataframe tbody tr th {\n",
       "        vertical-align: top;\n",
       "    }\n",
       "\n",
       "    .dataframe thead th {\n",
       "        text-align: right;\n",
       "    }\n",
       "</style>\n",
       "<table border=\"1\" class=\"dataframe\">\n",
       "  <thead>\n",
       "    <tr style=\"text-align: right;\">\n",
       "      <th></th>\n",
       "      <th>_id</th>\n",
       "      <th>FILE_DATE</th>\n",
       "      <th>PHU_NAME</th>\n",
       "      <th>PHU_NUM</th>\n",
       "      <th>ACTIVE_CASES</th>\n",
       "      <th>RESOLVED_CASES</th>\n",
       "      <th>DEATHS</th>\n",
       "      <th>cum_count</th>\n",
       "    </tr>\n",
       "  </thead>\n",
       "  <tbody>\n",
       "    <tr>\n",
       "      <th>0</th>\n",
       "      <td>9860</td>\n",
       "      <td>20210114</td>\n",
       "      <td>YORK REGION</td>\n",
       "      <td>2270</td>\n",
       "      <td>2465</td>\n",
       "      <td>19010</td>\n",
       "      <td>423</td>\n",
       "      <td>1.0</td>\n",
       "    </tr>\n",
       "    <tr>\n",
       "      <th>1</th>\n",
       "      <td>9834</td>\n",
       "      <td>20210114</td>\n",
       "      <td>GREY BRUCE</td>\n",
       "      <td>2233</td>\n",
       "      <td>70</td>\n",
       "      <td>505</td>\n",
       "      <td>0</td>\n",
       "      <td>1.0</td>\n",
       "    </tr>\n",
       "    <tr>\n",
       "      <th>2</th>\n",
       "      <td>9841</td>\n",
       "      <td>20210114</td>\n",
       "      <td>LAMBTON COUNTY</td>\n",
       "      <td>2242</td>\n",
       "      <td>217</td>\n",
       "      <td>1217</td>\n",
       "      <td>28</td>\n",
       "      <td>1.0</td>\n",
       "    </tr>\n",
       "    <tr>\n",
       "      <th>3</th>\n",
       "      <td>9840</td>\n",
       "      <td>20210114</td>\n",
       "      <td>KINGSTON, FRONTENAC, LENNOX &amp; ADDINGTON</td>\n",
       "      <td>2241</td>\n",
       "      <td>45</td>\n",
       "      <td>576</td>\n",
       "      <td>1</td>\n",
       "      <td>1.0</td>\n",
       "    </tr>\n",
       "    <tr>\n",
       "      <th>4</th>\n",
       "      <td>9839</td>\n",
       "      <td>20210114</td>\n",
       "      <td>HURON PERTH</td>\n",
       "      <td>5183</td>\n",
       "      <td>123</td>\n",
       "      <td>808</td>\n",
       "      <td>25</td>\n",
       "      <td>1.0</td>\n",
       "    </tr>\n",
       "    <tr>\n",
       "      <th>5</th>\n",
       "      <td>9838</td>\n",
       "      <td>20210114</td>\n",
       "      <td>HASTINGS &amp; PRINCE EDWARD COUNTIES</td>\n",
       "      <td>2238</td>\n",
       "      <td>20</td>\n",
       "      <td>306</td>\n",
       "      <td>5</td>\n",
       "      <td>1.0</td>\n",
       "    </tr>\n",
       "    <tr>\n",
       "      <th>6</th>\n",
       "      <td>9837</td>\n",
       "      <td>20210114</td>\n",
       "      <td>HALTON REGION</td>\n",
       "      <td>2236</td>\n",
       "      <td>973</td>\n",
       "      <td>5894</td>\n",
       "      <td>137</td>\n",
       "      <td>1.0</td>\n",
       "    </tr>\n",
       "    <tr>\n",
       "      <th>7</th>\n",
       "      <td>9835</td>\n",
       "      <td>20210114</td>\n",
       "      <td>HALDIMAND-NORFOLK</td>\n",
       "      <td>2234</td>\n",
       "      <td>136</td>\n",
       "      <td>944</td>\n",
       "      <td>41</td>\n",
       "      <td>1.0</td>\n",
       "    </tr>\n",
       "    <tr>\n",
       "      <th>8</th>\n",
       "      <td>9833</td>\n",
       "      <td>20210114</td>\n",
       "      <td>EASTERN ONTARIO</td>\n",
       "      <td>2258</td>\n",
       "      <td>446</td>\n",
       "      <td>1505</td>\n",
       "      <td>46</td>\n",
       "      <td>1.0</td>\n",
       "    </tr>\n",
       "    <tr>\n",
       "      <th>9</th>\n",
       "      <td>9843</td>\n",
       "      <td>20210114</td>\n",
       "      <td>MIDDLESEX-LONDON</td>\n",
       "      <td>2244</td>\n",
       "      <td>1186</td>\n",
       "      <td>3389</td>\n",
       "      <td>91</td>\n",
       "      <td>1.0</td>\n",
       "    </tr>\n",
       "    <tr>\n",
       "      <th>10</th>\n",
       "      <td>9832</td>\n",
       "      <td>20210114</td>\n",
       "      <td>DURHAM REGION</td>\n",
       "      <td>2230</td>\n",
       "      <td>871</td>\n",
       "      <td>8164</td>\n",
       "      <td>250</td>\n",
       "      <td>1.0</td>\n",
       "    </tr>\n",
       "    <tr>\n",
       "      <th>11</th>\n",
       "      <td>9831</td>\n",
       "      <td>20210114</td>\n",
       "      <td>CITY OF OTTAWA</td>\n",
       "      <td>2251</td>\n",
       "      <td>1354</td>\n",
       "      <td>10092</td>\n",
       "      <td>397</td>\n",
       "      <td>1.0</td>\n",
       "    </tr>\n",
       "    <tr>\n",
       "      <th>12</th>\n",
       "      <td>9830</td>\n",
       "      <td>20210114</td>\n",
       "      <td>CITY OF HAMILTON</td>\n",
       "      <td>2237</td>\n",
       "      <td>911</td>\n",
       "      <td>6713</td>\n",
       "      <td>209</td>\n",
       "      <td>1.0</td>\n",
       "    </tr>\n",
       "    <tr>\n",
       "      <th>13</th>\n",
       "      <td>9829</td>\n",
       "      <td>20210114</td>\n",
       "      <td>CHATHAM-KENT</td>\n",
       "      <td>2240</td>\n",
       "      <td>114</td>\n",
       "      <td>828</td>\n",
       "      <td>4</td>\n",
       "      <td>1.0</td>\n",
       "    </tr>\n",
       "    <tr>\n",
       "      <th>14</th>\n",
       "      <td>9828</td>\n",
       "      <td>20210114</td>\n",
       "      <td>BRANT COUNTY</td>\n",
       "      <td>2227</td>\n",
       "      <td>176</td>\n",
       "      <td>1122</td>\n",
       "      <td>8</td>\n",
       "      <td>1.0</td>\n",
       "    </tr>\n",
       "    <tr>\n",
       "      <th>15</th>\n",
       "      <td>9827</td>\n",
       "      <td>20210114</td>\n",
       "      <td>ALGOMA DISTRICT</td>\n",
       "      <td>2226</td>\n",
       "      <td>46</td>\n",
       "      <td>82</td>\n",
       "      <td>0</td>\n",
       "      <td>1.0</td>\n",
       "    </tr>\n",
       "    <tr>\n",
       "      <th>16</th>\n",
       "      <td>9842</td>\n",
       "      <td>20210114</td>\n",
       "      <td>LEEDS, GRENVILLE AND LANARK DISTRICT</td>\n",
       "      <td>2243</td>\n",
       "      <td>25</td>\n",
       "      <td>670</td>\n",
       "      <td>54</td>\n",
       "      <td>1.0</td>\n",
       "    </tr>\n",
       "    <tr>\n",
       "      <th>17</th>\n",
       "      <td>9836</td>\n",
       "      <td>20210114</td>\n",
       "      <td>HALIBURTON, KAWARTHA, PINE RIDGE</td>\n",
       "      <td>2235</td>\n",
       "      <td>60</td>\n",
       "      <td>588</td>\n",
       "      <td>28</td>\n",
       "      <td>1.0</td>\n",
       "    </tr>\n",
       "    <tr>\n",
       "      <th>18</th>\n",
       "      <td>9844</td>\n",
       "      <td>20210114</td>\n",
       "      <td>NIAGARA REGION</td>\n",
       "      <td>2246</td>\n",
       "      <td>1282</td>\n",
       "      <td>4528</td>\n",
       "      <td>206</td>\n",
       "      <td>1.0</td>\n",
       "    </tr>\n",
       "    <tr>\n",
       "      <th>19</th>\n",
       "      <td>9852</td>\n",
       "      <td>20210114</td>\n",
       "      <td>SIMCOE MUSKOKA DISTRICT</td>\n",
       "      <td>2260</td>\n",
       "      <td>674</td>\n",
       "      <td>3768</td>\n",
       "      <td>79</td>\n",
       "      <td>1.0</td>\n",
       "    </tr>\n",
       "    <tr>\n",
       "      <th>20</th>\n",
       "      <td>9845</td>\n",
       "      <td>20210114</td>\n",
       "      <td>NORTH BAY PARRY SOUND DISTRICT</td>\n",
       "      <td>2247</td>\n",
       "      <td>17</td>\n",
       "      <td>159</td>\n",
       "      <td>1</td>\n",
       "      <td>1.0</td>\n",
       "    </tr>\n",
       "    <tr>\n",
       "      <th>21</th>\n",
       "      <td>9858</td>\n",
       "      <td>20210114</td>\n",
       "      <td>WELLINGTON-DUFFERIN-GUELPH</td>\n",
       "      <td>2266</td>\n",
       "      <td>458</td>\n",
       "      <td>2869</td>\n",
       "      <td>56</td>\n",
       "      <td>1.0</td>\n",
       "    </tr>\n",
       "    <tr>\n",
       "      <th>22</th>\n",
       "      <td>9857</td>\n",
       "      <td>20210114</td>\n",
       "      <td>WATERLOO REGION</td>\n",
       "      <td>2265</td>\n",
       "      <td>976</td>\n",
       "      <td>6673</td>\n",
       "      <td>180</td>\n",
       "      <td>1.0</td>\n",
       "    </tr>\n",
       "    <tr>\n",
       "      <th>23</th>\n",
       "      <td>9856</td>\n",
       "      <td>20210114</td>\n",
       "      <td>TORONTO</td>\n",
       "      <td>3895</td>\n",
       "      <td>8670</td>\n",
       "      <td>60362</td>\n",
       "      <td>2104</td>\n",
       "      <td>1.0</td>\n",
       "    </tr>\n",
       "    <tr>\n",
       "      <th>24</th>\n",
       "      <td>9855</td>\n",
       "      <td>20210114</td>\n",
       "      <td>TIMISKAMING</td>\n",
       "      <td>2263</td>\n",
       "      <td>5</td>\n",
       "      <td>79</td>\n",
       "      <td>1</td>\n",
       "      <td>1.0</td>\n",
       "    </tr>\n",
       "    <tr>\n",
       "      <th>25</th>\n",
       "      <td>9854</td>\n",
       "      <td>20210114</td>\n",
       "      <td>THUNDER BAY DISTRICT</td>\n",
       "      <td>2262</td>\n",
       "      <td>76</td>\n",
       "      <td>593</td>\n",
       "      <td>21</td>\n",
       "      <td>1.0</td>\n",
       "    </tr>\n",
       "    <tr>\n",
       "      <th>26</th>\n",
       "      <td>9853</td>\n",
       "      <td>20210114</td>\n",
       "      <td>SUDBURY AND DISTRICT</td>\n",
       "      <td>2261</td>\n",
       "      <td>97</td>\n",
       "      <td>282</td>\n",
       "      <td>2</td>\n",
       "      <td>1.0</td>\n",
       "    </tr>\n",
       "    <tr>\n",
       "      <th>27</th>\n",
       "      <td>9859</td>\n",
       "      <td>20210114</td>\n",
       "      <td>WINDSOR-ESSEX COUNTY</td>\n",
       "      <td>2268</td>\n",
       "      <td>1783</td>\n",
       "      <td>8403</td>\n",
       "      <td>236</td>\n",
       "      <td>1.0</td>\n",
       "    </tr>\n",
       "    <tr>\n",
       "      <th>28</th>\n",
       "      <td>9851</td>\n",
       "      <td>20210114</td>\n",
       "      <td>RENFREW COUNTY AND DISTRICT</td>\n",
       "      <td>2257</td>\n",
       "      <td>32</td>\n",
       "      <td>255</td>\n",
       "      <td>1</td>\n",
       "      <td>1.0</td>\n",
       "    </tr>\n",
       "    <tr>\n",
       "      <th>29</th>\n",
       "      <td>9850</td>\n",
       "      <td>20210114</td>\n",
       "      <td>PORCUPINE</td>\n",
       "      <td>2256</td>\n",
       "      <td>26</td>\n",
       "      <td>132</td>\n",
       "      <td>9</td>\n",
       "      <td>1.0</td>\n",
       "    </tr>\n",
       "    <tr>\n",
       "      <th>30</th>\n",
       "      <td>9849</td>\n",
       "      <td>20210114</td>\n",
       "      <td>PETERBOROUGH COUNTY-CITY</td>\n",
       "      <td>2255</td>\n",
       "      <td>50</td>\n",
       "      <td>397</td>\n",
       "      <td>5</td>\n",
       "      <td>1.0</td>\n",
       "    </tr>\n",
       "    <tr>\n",
       "      <th>31</th>\n",
       "      <td>9848</td>\n",
       "      <td>20210114</td>\n",
       "      <td>PEEL REGION</td>\n",
       "      <td>2253</td>\n",
       "      <td>5535</td>\n",
       "      <td>41156</td>\n",
       "      <td>502</td>\n",
       "      <td>1.0</td>\n",
       "    </tr>\n",
       "    <tr>\n",
       "      <th>32</th>\n",
       "      <td>9847</td>\n",
       "      <td>20210114</td>\n",
       "      <td>OXFORD ELGIN-ST.THOMAS</td>\n",
       "      <td>4913</td>\n",
       "      <td>356</td>\n",
       "      <td>1551</td>\n",
       "      <td>39</td>\n",
       "      <td>1.0</td>\n",
       "    </tr>\n",
       "    <tr>\n",
       "      <th>33</th>\n",
       "      <td>9846</td>\n",
       "      <td>20210114</td>\n",
       "      <td>NORTHWESTERN</td>\n",
       "      <td>2249</td>\n",
       "      <td>32</td>\n",
       "      <td>194</td>\n",
       "      <td>0</td>\n",
       "      <td>1.0</td>\n",
       "    </tr>\n",
       "  </tbody>\n",
       "</table>\n",
       "</div>"
      ],
      "text/plain": [
       "     _id  FILE_DATE                                 PHU_NAME  PHU_NUM  \\\n",
       "0   9860   20210114                              YORK REGION     2270   \n",
       "1   9834   20210114                               GREY BRUCE     2233   \n",
       "2   9841   20210114                           LAMBTON COUNTY     2242   \n",
       "3   9840   20210114  KINGSTON, FRONTENAC, LENNOX & ADDINGTON     2241   \n",
       "4   9839   20210114                              HURON PERTH     5183   \n",
       "5   9838   20210114        HASTINGS & PRINCE EDWARD COUNTIES     2238   \n",
       "6   9837   20210114                            HALTON REGION     2236   \n",
       "7   9835   20210114                        HALDIMAND-NORFOLK     2234   \n",
       "8   9833   20210114                          EASTERN ONTARIO     2258   \n",
       "9   9843   20210114                         MIDDLESEX-LONDON     2244   \n",
       "10  9832   20210114                            DURHAM REGION     2230   \n",
       "11  9831   20210114                           CITY OF OTTAWA     2251   \n",
       "12  9830   20210114                         CITY OF HAMILTON     2237   \n",
       "13  9829   20210114                             CHATHAM-KENT     2240   \n",
       "14  9828   20210114                             BRANT COUNTY     2227   \n",
       "15  9827   20210114                          ALGOMA DISTRICT     2226   \n",
       "16  9842   20210114     LEEDS, GRENVILLE AND LANARK DISTRICT     2243   \n",
       "17  9836   20210114         HALIBURTON, KAWARTHA, PINE RIDGE     2235   \n",
       "18  9844   20210114                           NIAGARA REGION     2246   \n",
       "19  9852   20210114                  SIMCOE MUSKOKA DISTRICT     2260   \n",
       "20  9845   20210114           NORTH BAY PARRY SOUND DISTRICT     2247   \n",
       "21  9858   20210114               WELLINGTON-DUFFERIN-GUELPH     2266   \n",
       "22  9857   20210114                          WATERLOO REGION     2265   \n",
       "23  9856   20210114                                  TORONTO     3895   \n",
       "24  9855   20210114                              TIMISKAMING     2263   \n",
       "25  9854   20210114                     THUNDER BAY DISTRICT     2262   \n",
       "26  9853   20210114                     SUDBURY AND DISTRICT     2261   \n",
       "27  9859   20210114                     WINDSOR-ESSEX COUNTY     2268   \n",
       "28  9851   20210114              RENFREW COUNTY AND DISTRICT     2257   \n",
       "29  9850   20210114                                PORCUPINE     2256   \n",
       "30  9849   20210114                 PETERBOROUGH COUNTY-CITY     2255   \n",
       "31  9848   20210114                              PEEL REGION     2253   \n",
       "32  9847   20210114                   OXFORD ELGIN-ST.THOMAS     4913   \n",
       "33  9846   20210114                             NORTHWESTERN     2249   \n",
       "\n",
       "    ACTIVE_CASES  RESOLVED_CASES  DEATHS  cum_count  \n",
       "0           2465           19010     423        1.0  \n",
       "1             70             505       0        1.0  \n",
       "2            217            1217      28        1.0  \n",
       "3             45             576       1        1.0  \n",
       "4            123             808      25        1.0  \n",
       "5             20             306       5        1.0  \n",
       "6            973            5894     137        1.0  \n",
       "7            136             944      41        1.0  \n",
       "8            446            1505      46        1.0  \n",
       "9           1186            3389      91        1.0  \n",
       "10           871            8164     250        1.0  \n",
       "11          1354           10092     397        1.0  \n",
       "12           911            6713     209        1.0  \n",
       "13           114             828       4        1.0  \n",
       "14           176            1122       8        1.0  \n",
       "15            46              82       0        1.0  \n",
       "16            25             670      54        1.0  \n",
       "17            60             588      28        1.0  \n",
       "18          1282            4528     206        1.0  \n",
       "19           674            3768      79        1.0  \n",
       "20            17             159       1        1.0  \n",
       "21           458            2869      56        1.0  \n",
       "22           976            6673     180        1.0  \n",
       "23          8670           60362    2104        1.0  \n",
       "24             5              79       1        1.0  \n",
       "25            76             593      21        1.0  \n",
       "26            97             282       2        1.0  \n",
       "27          1783            8403     236        1.0  \n",
       "28            32             255       1        1.0  \n",
       "29            26             132       9        1.0  \n",
       "30            50             397       5        1.0  \n",
       "31          5535           41156     502        1.0  \n",
       "32           356            1551      39        1.0  \n",
       "33            32             194       0        1.0  "
      ]
     },
     "execution_count": 14,
     "metadata": {},
     "output_type": "execute_result"
    }
   ],
   "source": [
    "def get_most_recent_day(df):\n",
    "    #grab only the rows for each phu on the most recent day\n",
    "    df.sort_values(by='FILE_DATE',ascending=False,inplace=True)\n",
    "    df = cumulative_count(df)\n",
    "    return df.loc[df['cum_count']==1]\n",
    "recent_df = get_most_recent_day(df)\n",
    "recent_df.reset_index(drop=True)"
   ]
  },
  {
   "cell_type": "code",
   "execution_count": 24,
   "metadata": {},
   "outputs": [
    {
     "data": {
      "text/plain": [
       "{'type': 'FeatureCollection',\n",
       " 'features': [{'type': 'Feature',\n",
       "   'geometry': {'type': 'Polygon',\n",
       "    'coordinates': [[[-79.17031943375656, 43.855456530375854],\n",
       "      [-79.32800131723552, 44.22332648698636],\n",
       "      [-79.15610036565454, 44.26317450192772],\n",
       "      [-79.2424520113459, 44.45979253175579],\n",
       "      [-79.5089783935667, 44.4223653127206],\n",
       "      [-79.51627177236196, 44.16587376818996],\n",
       "      [-79.54124177857526, 44.146300563626234],\n",
       "      [-79.55698107718413, 44.07557695063855],\n",
       "      [-79.63702649779411, 44.02061913733245],\n",
       "      [-79.77551993922904, 43.989793125433756],\n",
       "      [-79.63922387414868, 43.749907390083074],\n",
       "      [-79.17031943375656, 43.855456530375854]]]},\n",
       "   'properties': {'OGF_ID': 71878062,\n",
       "    'PHU_ID': 2270,\n",
       "    'PHU_NAME_E': 'York Region Public Health',\n",
       "    'PHU_NAME_F': 'Service de santé de la région de York',\n",
       "    'GEOMETRY_U': '1970-01-01T00:00:00.000Z',\n",
       "    'EFFECTIVE_': '2020-05-15T00:00:00.000Z',\n",
       "    'SYSTEM_DAT': '2020-05-15T00:00:00.000Z',\n",
       "    'OBJECTID': 321}},\n",
       "  {'type': 'Feature',\n",
       "   'geometry': {'type': 'Polygon',\n",
       "    'coordinates': [[[-80.99171422557492, 43.986454166039756],\n",
       "      [-81.36774143884844, 43.92756913728022],\n",
       "      [-81.38325044187707, 43.908009533148636],\n",
       "      [-81.74561977022077, 44.05413743995844],\n",
       "      [-81.72313195213333, 43.94061272170176],\n",
       "      [-81.7195759361632, 43.78605949537441],\n",
       "      [-81.72904413072769, 43.697878679724],\n",
       "      [-81.70607860772677, 43.53097815204139],\n",
       "      [-81.70979449644304, 43.39815132881296],\n",
       "      [-81.75864600423239, 43.317583612372616],\n",
       "      [-81.77368990150833, 43.23752759767156],\n",
       "      [-81.46526720800465, 43.270684818664606],\n",
       "      [-81.4305157991417, 43.2928016242347],\n",
       "      [-81.22449202633543, 43.20336491863763],\n",
       "      [-81.13222419992108, 43.2314839280521],\n",
       "      [-80.7357382861822, 43.35336896858011],\n",
       "      [-80.73726069155299, 43.40744967798384],\n",
       "      [-80.79636531574, 43.46844828580222],\n",
       "      [-80.86900304136147, 43.49810218746422],\n",
       "      [-80.75456071901672, 43.64847401920541],\n",
       "      [-80.87367946133595, 43.69907162220107],\n",
       "      [-80.76254013941792, 43.841658552316204],\n",
       "      [-80.95331169797562, 43.822260439633496],\n",
       "      [-80.99171422557492, 43.986454166039756]]]},\n",
       "   'properties': {'OGF_ID': 71878005,\n",
       "    'PHU_ID': 5183,\n",
       "    'PHU_NAME_E': 'Huron Perth Health Unit',\n",
       "    'PHU_NAME_F': 'Circonscription Sanitaire de Huron et Perth',\n",
       "    'GEOMETRY_U': '2020-05-15T00:00:00.000Z',\n",
       "    'EFFECTIVE_': '2020-05-15T00:00:00.000Z',\n",
       "    'SYSTEM_DAT': '2020-05-15T00:00:00.000Z',\n",
       "    'OBJECTID': 337}},\n",
       "  {'type': 'Feature',\n",
       "   'geometry': {'type': 'Polygon',\n",
       "    'coordinates': [[[-80.20477552240406, 43.39759250167024],\n",
       "      [-80.26956794199627, 43.387350696801064],\n",
       "      [-80.30581826104238, 43.472076109956525],\n",
       "      [-80.3739758880878, 43.53287841735827],\n",
       "      [-80.38303459373401, 43.56363882230483],\n",
       "      [-80.55754676046372, 43.68964963589655],\n",
       "      [-80.59556916993463, 43.661635529187556],\n",
       "      [-80.60805686726005, 43.58914671595737],\n",
       "      [-80.75456071901672, 43.64847401920541],\n",
       "      [-80.86900304136147, 43.49810218746422],\n",
       "      [-80.79636531574, 43.46844828580222],\n",
       "      [-80.73726069155299, 43.40744967798384],\n",
       "      [-80.7357382861822, 43.35336896858011],\n",
       "      [-80.73488218209086, 43.31098536118391],\n",
       "      [-80.50361171246102, 43.34805877876502],\n",
       "      [-80.47151979507835, 43.26686476600921],\n",
       "      [-80.23861442502017, 43.306475384028445],\n",
       "      [-80.18764601216257, 43.34331519292703],\n",
       "      [-80.20477552240406, 43.39759250167024]]]},\n",
       "   'properties': {'OGF_ID': 71878059,\n",
       "    'PHU_ID': 2265,\n",
       "    'PHU_NAME_E': 'Region of Waterloo, Public Health',\n",
       "    'PHU_NAME_F': 'Bureau de santé de la région de Waterloo',\n",
       "    'GEOMETRY_U': '1970-01-01T00:00:00.000Z',\n",
       "    'EFFECTIVE_': '2020-05-15T00:00:00.000Z',\n",
       "    'SYSTEM_DAT': '2020-05-15T00:00:00.000Z',\n",
       "    'OBJECTID': 353}},\n",
       "  {'type': 'Feature',\n",
       "   'geometry': {'type': 'Polygon',\n",
       "    'coordinates': [[[-80.47151979507835, 43.26686476600921],\n",
       "      [-80.50361171246102, 43.34805877876502],\n",
       "      [-80.73488218209086, 43.31098536118391],\n",
       "      [-80.7357382861822, 43.35336896858011],\n",
       "      [-81.13222419992108, 43.2314839280521],\n",
       "      [-81.03759865351607, 43.0461370000115],\n",
       "      [-80.99366523496175, 42.99268239268038],\n",
       "      [-80.92278711344778, 43.00086199752404],\n",
       "      [-80.89877089809622, 42.912660483052704],\n",
       "      [-81.08089765275935, 42.88524866947971],\n",
       "      [-81.11475466207014, 42.87068076527361],\n",
       "      [-81.48662066996928, 42.77695093073791],\n",
       "      [-81.56022539022052, 42.746607221794854],\n",
       "      [-81.62857050583807, 42.682895407183125],\n",
       "      [-81.68487922465263, 42.697222306990376],\n",
       "      [-81.8109283558707, 42.607587084958595],\n",
       "      [-81.83469226329899, 42.60805108388425],\n",
       "      [-81.6685576996555, 42.472616067836995],\n",
       "      [-81.57235327565084, 42.53977148445127],\n",
       "      [-81.34373371361444, 42.64418811404965],\n",
       "      [-81.24715108521134, 42.663988422207254],\n",
       "      [-81.00814060974449, 42.6551416320363],\n",
       "      [-80.90830867893587, 42.66002073764585],\n",
       "      [-80.79369174162976, 42.643635440139676],\n",
       "      [-80.7212358168752, 42.61980553929182],\n",
       "      [-80.71718983021397, 42.788241669563426],\n",
       "      [-80.74464974195241, 42.824013074633676],\n",
       "      [-80.70543513231466, 42.85454378192302],\n",
       "      [-80.50546257206089, 42.88406479661964],\n",
       "      [-80.54342679281434, 42.98487791274444],\n",
       "      [-80.60868522808155, 43.15166893916863],\n",
       "      [-80.43645627625256, 43.17940565224669],\n",
       "      [-80.47151979507835, 43.26686476600921]]]},\n",
       "   'properties': {'OGF_ID': 71878029,\n",
       "    'PHU_ID': 4913,\n",
       "    'PHU_NAME_E': 'Southwestern Public Health',\n",
       "    'PHU_NAME_F': 'Bureau de santé du Sud-Ouest',\n",
       "    'GEOMETRY_U': '2020-05-15T00:00:00.000Z',\n",
       "    'EFFECTIVE_': '2020-05-15T00:00:00.000Z',\n",
       "    'SYSTEM_DAT': '2020-05-15T00:00:00.000Z',\n",
       "    'OBJECTID': 369}},\n",
       "  {'type': 'Feature',\n",
       "   'geometry': {'type': 'Polygon',\n",
       "    'coordinates': [[[-79.79303438343865, 43.30097340395371],\n",
       "      [-79.86859820611402, 43.286325197842025],\n",
       "      [-79.91248142195785, 43.308456799704736],\n",
       "      [-79.86063860894383, 43.34746310901629],\n",
       "      [-80.03427687492025, 43.471075022639546],\n",
       "      [-80.07858878426407, 43.41811921124014],\n",
       "      [-80.20477552240406, 43.39759250167024],\n",
       "      [-80.18764601216257, 43.34331519292703],\n",
       "      [-80.23861442502017, 43.306475384028445],\n",
       "      [-80.20055150453396, 43.21070386891734],\n",
       "      [-79.98416052924973, 43.13204306512163],\n",
       "      [-79.75409764943213, 43.050580361311724],\n",
       "      [-79.70969974442757, 43.15580518208478],\n",
       "      [-79.65861152721922, 43.14398148234281],\n",
       "      [-79.62223582274684, 43.22589149857208],\n",
       "      [-79.75028036525732, 43.247851296537156],\n",
       "      [-79.79303438343865, 43.30097340395371]]]},\n",
       "   'properties': {'OGF_ID': 71878057,\n",
       "    'PHU_ID': 2237,\n",
       "    'PHU_NAME_E': 'Hamilton Public Health Services',\n",
       "    'PHU_NAME_F': 'Services de santé publique de Hamilton',\n",
       "    'GEOMETRY_U': '1970-01-01T00:00:00.000Z',\n",
       "    'EFFECTIVE_': '2020-05-15T00:00:00.000Z',\n",
       "    'SYSTEM_DAT': '2020-05-15T00:00:00.000Z',\n",
       "    'OBJECTID': 385}},\n",
       "  {'type': 'Feature',\n",
       "   'geometry': {'type': 'MultiPolygon',\n",
       "    'coordinates': [[[[-86.99817940231563, 55.92016342832645],\n",
       "       [-87.20560047982582, 55.93461991374292],\n",
       "       [-87.31604852450349, 55.95623780735309],\n",
       "       [-87.47786299707934, 56.01643780081882],\n",
       "       [-87.50907021779071, 56.05480440225228],\n",
       "       [-87.62632546936719, 56.093907496973074],\n",
       "       [-87.72992184231381, 56.23588490301757],\n",
       "       [-87.94832106589726, 56.41294420319359],\n",
       "       [-87.96579108361907, 56.45698770613139],\n",
       "       [-88.08165393577468, 56.49806660086777],\n",
       "       [-88.21990319140879, 56.521866992059714],\n",
       "       [-88.36556825695484, 56.57303438525704],\n",
       "       [-88.48770362021696, 56.64667068246192],\n",
       "       [-88.66045399588323, 56.69875747336557],\n",
       "       [-88.69628281904924, 56.73705767410285],\n",
       "       [-88.83071708384631, 56.79879186894532],\n",
       "       [-88.87538091589177, 56.85745137083946],\n",
       "       [-88.98650205266874, 56.84705576065868],\n",
       "       [-89.72617839141772, 56.39942895628097],\n",
       "       [-90.4332216174834, 55.956922953937855],\n",
       "       [-91.00000911389505, 55.59119097002184],\n",
       "       [-91.00000892425024, 55.25000943620121],\n",
       "       [-91.00000879664599, 54.7500093855723],\n",
       "       [-91.0000086733591, 54.25000933368036],\n",
       "       [-91.00000859561058, 53.92566599934503],\n",
       "       [-90.83486674106554, 53.925851412975554],\n",
       "       [-90.83896592694754, 53.860178005604354],\n",
       "       [-90.8737582317487, 53.83169979968951],\n",
       "       [-91.00000867396234, 53.8340650895522],\n",
       "       [-91.00000859614555, 53.500009253481835],\n",
       "       [-91.00000838291083, 53.00000919844761],\n",
       "       [-91.00000837232712, 52.49491164158252],\n",
       "       [-89.50747018717219, 52.49520065915016],\n",
       "       [-89.50747275977285, 51.86834258524203],\n",
       "       [-89.50747824999175, 51.30645601731562],\n",
       "       [-89.6752445874956, 51.22095829419798],\n",
       "       [-89.79189382289393, 51.21058228410722],\n",
       "       [-89.8482080352829, 51.18119377624656],\n",
       "       [-89.93263756050466, 51.17192586870929],\n",
       "       [-90.03615608586084, 51.13181625593979],\n",
       "       [-90.07826400298876, 51.15101575508151],\n",
       "       [-90.16704602795794, 51.133675446197444],\n",
       "       [-90.16893769242644, 50.410383056480576],\n",
       "       [-90.17252191851627, 49.99653640379747],\n",
       "       [-90.96562596615523, 49.99665824429771],\n",
       "       [-90.96554336738077, 49.445095573915474],\n",
       "       [-90.96535979020098, 49.0000473160493],\n",
       "       [-90.96509110447516, 48.49020274857619],\n",
       "       [-90.96495216054838, 48.22224421260802],\n",
       "       [-90.8861142405395, 48.246604021606956],\n",
       "       [-90.83845862472893, 48.23850162396144],\n",
       "       [-90.83122221213274, 48.17421261579005],\n",
       "       [-90.73944677145617, 48.09475711162052],\n",
       "       [-90.5597827211413, 48.122087228231024],\n",
       "       [-90.5527204149047, 48.09649982525109],\n",
       "       [-90.37442505981495, 48.09196813736643],\n",
       "       [-90.30508064080064, 48.105577544165186],\n",
       "       [-90.14366859261766, 48.112968756644115],\n",
       "       [-90.02325845128244, 48.08464306128328],\n",
       "       [-89.99403743346419, 48.028169555581776],\n",
       "       [-89.89854639794571, 47.98804735677365],\n",
       "       [-89.76669316293592, 48.02281527082918],\n",
       "       [-89.70126954031466, 48.00650297315795],\n",
       "       [-89.58583300410166, 48.00167478055605],\n",
       "       [-89.44090537131315, 48.07788480121215],\n",
       "       [-89.3755936532066, 48.090951107567946],\n",
       "       [-89.31445664008888, 48.128002116948956],\n",
       "       [-89.30827284949564, 48.20077422743673],\n",
       "       [-89.2360933406354, 48.286994644353975],\n",
       "       [-89.19803413287774, 48.31273265055007],\n",
       "       [-89.22356775848144, 48.425266064227586],\n",
       "       [-89.15034854398456, 48.477358576482324],\n",
       "       [-89.0643325194422, 48.4911964843828],\n",
       "       [-88.77174074148294, 48.574814516199915],\n",
       "       [-88.75272133302401, 48.5587943153213],\n",
       "       [-88.83782954430812, 48.46164109607277],\n",
       "       [-88.84941353820663, 48.39956368672156],\n",
       "       [-88.90150714862011, 48.36244767799673],\n",
       "       [-88.91014464504825, 48.322275071853426],\n",
       "       [-88.78951120915873, 48.33269188162807],\n",
       "       [-88.7470944986208, 48.34985388692713],\n",
       "       [-88.6829255966573, 48.465719807349714],\n",
       "       [-88.63663549037875, 48.51800321774688],\n",
       "       [-88.63050890186321, 48.603414629908684],\n",
       "       [-88.56273148512517, 48.63180413849119],\n",
       "       [-88.55606079023056, 48.67747014521308],\n",
       "       [-88.51678808350361, 48.71281135276939],\n",
       "       [-88.55141449876754, 48.74068915418538],\n",
       "       [-88.52597609918034, 48.79359486317396],\n",
       "       [-88.4372867798526, 48.84721937663459],\n",
       "       [-88.34238364569907, 48.81998957948107],\n",
       "       [-88.30111672265413, 48.7562205736008],\n",
       "       [-88.33867842145747, 48.67355425967324],\n",
       "       [-88.41076343801483, 48.63494464940646],\n",
       "       [-88.56690266775267, 48.51263002181759],\n",
       "       [-88.56531905541293, 48.43657441143292],\n",
       "       [-88.43511483403961, 48.5607547375215],\n",
       "       [-88.37567911213755, 48.53965443869582],\n",
       "       [-88.29618229954792, 48.618765255057106],\n",
       "       [-88.24715988409403, 48.618326958358985],\n",
       "       [-88.23550427420228, 48.57829125363595],\n",
       "       [-88.1055041507429, 48.6899186779209],\n",
       "       [-88.09419256224118, 48.78612379191981],\n",
       "       [-88.22661811231362, 48.83920879009191],\n",
       "       [-88.24465282350167, 48.87400969360417],\n",
       "       [-88.23541673411573, 48.95911260584442],\n",
       "       [-88.16558311266255, 48.962728011157814],\n",
       "       [-88.11273980175665, 48.99902651974525],\n",
       "       [-88.03229237905929, 49.01615572761932],\n",
       "       [-88.00634836267274, 48.964604222374895],\n",
       "       [-87.92917283261517, 48.92879222277559],\n",
       "       [-87.88886032172103, 48.940543127143435],\n",
       "       [-87.67274564648208, 48.897072235927226],\n",
       "       [-87.63332262751575, 48.85557263289822],\n",
       "       [-87.5756674127309, 48.87793303988604],\n",
       "       [-87.55421719944985, 48.83626123559855],\n",
       "       [-87.408285752736, 48.83343364506565],\n",
       "       [-87.39056504292657, 48.806336042514516],\n",
       "       [-87.28951390876921, 48.79279894743539],\n",
       "       [-87.22957208403136, 48.75562754630038],\n",
       "       [-87.05988873418674, 48.78234286135207],\n",
       "       [-87.00335722094054, 48.81341196943773],\n",
       "       [-86.86483446655483, 48.7459613692603],\n",
       "       [-86.79404084918772, 48.780240178730345],\n",
       "       [-86.68876521724037, 48.79109608720748],\n",
       "       [-86.61561809212846, 48.7794953904147],\n",
       "       [-86.63695229145613, 48.72983368206752],\n",
       "       [-86.55062366397155, 48.73035788782057],\n",
       "       [-86.4918465507095, 48.76711449682653],\n",
       "       [-86.42862523150907, 48.77390720192549],\n",
       "       [-86.33345047663154, 48.60994358511186],\n",
       "       [-86.27278365149454, 48.57103708356818],\n",
       "       [-86.2285574138814, 48.41086256373875],\n",
       "       [-86.13852396467735, 48.26951434939138],\n",
       "       [-86.14473526282848, 48.24293854519103],\n",
       "       [-86.01830310137477, 48.09479123201231],\n",
       "       [-85.91676115949492, 48.02733512873957],\n",
       "       [-85.87519793999007, 47.98278472492947],\n",
       "       [-85.77216540141374, 47.94160172547082],\n",
       "       [-85.68294287048812, 47.923651728483584],\n",
       "       [-85.54738762636934, 47.917159036049114],\n",
       "       [-85.38318807482673, 47.92347504723528],\n",
       "       [-85.3295457612275, 47.94914295432377],\n",
       "       [-85.3336605959195, 48.188991388900014],\n",
       "       [-85.33149697728686, 48.76363797131336],\n",
       "       [-85.33267982048045, 49.05527991235669],\n",
       "       [-85.33196906359109, 49.34510725283824],\n",
       "       [-85.33291556005936, 49.969557538447454],\n",
       "       [-85.77188130418511, 49.9714913098382],\n",
       "       [-86.05383679583652, 49.96876839073538],\n",
       "       [-86.54910115724715, 49.97012345764552],\n",
       "       [-86.54855510755745, 50.277542298567326],\n",
       "       [-86.54833268707131, 50.75005786048905],\n",
       "       [-86.54809187390994, 51.25005722477537],\n",
       "       [-86.54795322178953, 51.518937258819015],\n",
       "       [-86.55361651157381, 52.000060518393965],\n",
       "       [-86.55959400715182, 52.49597167853782],\n",
       "       [-86.55242480303149, 53.00005863932233],\n",
       "       [-86.5527991039693, 53.50005839778185],\n",
       "       [-86.55241341215398, 54.01928085717421],\n",
       "       [-86.55101881539868, 54.50005611099683],\n",
       "       [-86.5491910255985, 54.99705266539986],\n",
       "       [-86.99693818178939, 54.99207253108581],\n",
       "       [-86.99817940231563, 55.92016342832645]]],\n",
       "     [[[-87.90707021412908, 48.85570431427517],\n",
       "       [-87.98237293797806, 48.85614080918384],\n",
       "       [-88.06914985963509, 48.819770398251954],\n",
       "       [-88.084253250979, 48.73423738547322],\n",
       "       [-88.05976833716979, 48.69517948177275],\n",
       "       [-87.97415081895419, 48.751297095347326],\n",
       "       [-87.89896279694278, 48.762217901980335],\n",
       "       [-87.84812517812942, 48.74444090299394],\n",
       "       [-87.75544665502859, 48.7841098147635],\n",
       "       [-87.76399036619904, 48.838435321660945],\n",
       "       [-87.90707021412908, 48.85570431427517]]],\n",
       "     [[[-85.72700566605411, 47.79059780632598],\n",
       "       [-85.85224690586115, 47.79061379845214],\n",
       "       [-85.95031453065808, 47.74496238561052],\n",
       "       [-85.94974962665039, 47.7173343816134],\n",
       "       [-85.8473371921603, 47.702836485941575],\n",
       "       [-85.77123037047141, 47.72077099334448],\n",
       "       [-85.69093974345704, 47.709823696773555],\n",
       "       [-85.61416172189108, 47.73053450460896],\n",
       "       [-85.6363191343184, 47.7696530089495],\n",
       "       [-85.72700566605411, 47.79059780632598]]],\n",
       "     [[[-87.70157054732857, 48.84405872667944],\n",
       "       [-87.74986675783502, 48.81345621918478],\n",
       "       [-87.70275673118903, 48.73782631195412],\n",
       "       [-87.59692369925372, 48.74772432048633],\n",
       "       [-87.70157054732857, 48.84405872667944]]],\n",
       "     [[[-89.06921218683216, 48.27351955409903],\n",
       "       [-89.16693511227126, 48.2424499430236],\n",
       "       [-89.12133599272177, 48.207517441361354],\n",
       "       [-89.0382499718479, 48.238874751457224],\n",
       "       [-89.06921218683216, 48.27351955409903]]],\n",
       "     [[[-86.9818450929676, 48.67450245152638],\n",
       "       [-87.05769741363783, 48.65182824332079],\n",
       "       [-86.98600248642627, 48.6224791439809],\n",
       "       [-86.9818450929676, 48.67450245152638]]]]},\n",
       "   'properties': {'OGF_ID': 71878051,\n",
       "    'PHU_ID': 2262,\n",
       "    'PHU_NAME_E': 'Thunder Bay District Health Unit',\n",
       "    'PHU_NAME_F': 'Bureau de santé du district de Thunder Bay',\n",
       "    'GEOMETRY_U': '1970-01-01T00:00:00.000Z',\n",
       "    'EFFECTIVE_': '2020-05-15T00:00:00.000Z',\n",
       "    'SYSTEM_DAT': '2020-05-15T00:00:00.000Z',\n",
       "    'OBJECTID': 401}},\n",
       "  {'type': 'Feature',\n",
       "   'geometry': {'type': 'Polygon',\n",
       "    'coordinates': [[[-79.63922387414868, 43.749907390083074],\n",
       "      [-79.77551993922904, 43.989793125433756],\n",
       "      [-79.95114629175595, 43.951461710441066],\n",
       "      [-80.06327172521746, 43.92674310080588],\n",
       "      [-80.14403394524804, 43.86470378618096],\n",
       "      [-79.96904747777373, 43.734423671834854],\n",
       "      [-79.78966570884693, 43.60165735706794],\n",
       "      [-79.8083391137567, 43.59009105416286],\n",
       "      [-79.6973658712366, 43.5082607449804],\n",
       "      [-79.62515674588649, 43.48105624355473],\n",
       "      [-79.59868844227626, 43.53580825442621],\n",
       "      [-79.5435011286932, 43.58109426495831],\n",
       "      [-79.58611544652581, 43.62940307145855],\n",
       "      [-79.58858195044697, 43.6648321775579],\n",
       "      [-79.63922387414868, 43.749907390083074]]]},\n",
       "   'properties': {'OGF_ID': 71878041,\n",
       "    'PHU_ID': 2253,\n",
       "    'PHU_NAME_E': 'Peel Public Health',\n",
       "    'PHU_NAME_F': 'Bureau de santé de la région de Peel',\n",
       "    'GEOMETRY_U': '1970-01-01T00:00:00.000Z',\n",
       "    'EFFECTIVE_': '2020-05-15T00:00:00.000Z',\n",
       "    'SYSTEM_DAT': '2020-05-15T00:00:00.000Z',\n",
       "    'OBJECTID': 417}},\n",
       "  {'type': 'Feature',\n",
       "   'geometry': {'type': 'Polygon',\n",
       "    'coordinates': [[[-81.77368990150833, 43.23752759767156],\n",
       "      [-81.75864600423239, 43.317583612372616],\n",
       "      [-81.87537203421422, 43.2474476943598],\n",
       "      [-81.96453215894994, 43.213962784089816],\n",
       "      [-82.0229696770282, 43.212221480876124],\n",
       "      [-82.02144797280441, 43.171929973925955],\n",
       "      [-82.09903889123959, 43.10994165924073],\n",
       "      [-82.15017300549185, 43.09187065353585],\n",
       "      [-82.21792892189539, 43.041337341325466],\n",
       "      [-82.38477367125414, 43.01424442824905],\n",
       "      [-82.45529278502067, 42.926723409411096],\n",
       "      [-82.48204638236012, 42.80817058728936],\n",
       "      [-82.46740327362144, 42.7624866799931],\n",
       "      [-82.51049597801861, 42.66482226065462],\n",
       "      [-82.52340787677555, 42.6074129498873],\n",
       "      [-82.60546449677564, 42.54849523540392],\n",
       "      [-82.58158828539717, 42.50441252879702],\n",
       "      [-82.43541063882994, 42.48895633329855],\n",
       "      [-82.4201986416616, 42.572327648808475],\n",
       "      [-82.46624575698901, 42.58425314863514],\n",
       "      [-82.48398346677195, 42.63147595609273],\n",
       "      [-82.02395652357437, 42.62462487757857],\n",
       "      [-82.00632562046442, 42.65092858310076],\n",
       "      [-81.83507966725723, 42.650999791484296],\n",
       "      [-81.83552258470047, 42.843258425458075],\n",
       "      [-81.79018346813294, 42.81620682290549],\n",
       "      [-81.78929569057146, 43.06590736688109],\n",
       "      [-81.80712210193659, 43.12902287705698],\n",
       "      [-81.81302721178879, 43.21574269192153],\n",
       "      [-81.77368990150833, 43.23752759767156]]]},\n",
       "   'properties': {'OGF_ID': 71878038,\n",
       "    'PHU_ID': 2242,\n",
       "    'PHU_NAME_E': 'Lambton Public Health',\n",
       "    'PHU_NAME_F': 'Comté de Lambton',\n",
       "    'GEOMETRY_U': '1970-01-01T00:00:00.000Z',\n",
       "    'EFFECTIVE_': '2020-05-15T00:00:00.000Z',\n",
       "    'SYSTEM_DAT': '2020-05-15T00:00:00.000Z',\n",
       "    'OBJECTID': 433}},\n",
       "  {'type': 'Feature',\n",
       "   'geometry': {'type': 'Polygon',\n",
       "    'coordinates': [[[-79.95114629175595, 43.951461710441066],\n",
       "      [-80.0339622498968, 44.294860865716885],\n",
       "      [-80.22907450832246, 44.253392949172024],\n",
       "      [-80.40811806182572, 44.21529573393885],\n",
       "      [-80.360946042296, 44.167358428003],\n",
       "      [-80.39826275116582, 44.135196720662535],\n",
       "      [-80.37491413478303, 44.039291205280506],\n",
       "      [-80.57281219381447, 43.9978168885223],\n",
       "      [-80.82693647163096, 43.96792447095582],\n",
       "      [-80.8357426778768, 44.0046242768401],\n",
       "      [-80.99171422557492, 43.986454166039756],\n",
       "      [-80.95331169797562, 43.822260439633496],\n",
       "      [-80.76254013941792, 43.841658552316204],\n",
       "      [-80.87367946133595, 43.69907162220107],\n",
       "      [-80.75456071901672, 43.64847401920541],\n",
       "      [-80.60805686726005, 43.58914671595737],\n",
       "      [-80.59556916993463, 43.661635529187556],\n",
       "      [-80.55754676046372, 43.68964963589655],\n",
       "      [-80.38303459373401, 43.56363882230483],\n",
       "      [-80.3739758880878, 43.53287841735827],\n",
       "      [-80.30581826104238, 43.472076109956525],\n",
       "      [-80.26956794199627, 43.387350696801064],\n",
       "      [-80.20477552240406, 43.39759250167024],\n",
       "      [-80.07858878426407, 43.41811921124014],\n",
       "      [-80.03427687492025, 43.471075022639546],\n",
       "      [-80.16036802294714, 43.56111963247004],\n",
       "      [-79.96904747777373, 43.734423671834854],\n",
       "      [-80.14403394524804, 43.86470378618096],\n",
       "      [-80.06327172521746, 43.92674310080588],\n",
       "      [-79.95114629175595, 43.951461710441066]]]},\n",
       "   'properties': {'OGF_ID': 71878035,\n",
       "    'PHU_ID': 2266,\n",
       "    'PHU_NAME_E': 'Wellington-Dufferin-Guelph Health Unit',\n",
       "    'PHU_NAME_F': 'Bureau de santé de Wellington-Dufferin-Guelph',\n",
       "    'GEOMETRY_U': '1970-01-01T00:00:00.000Z',\n",
       "    'EFFECTIVE_': '2020-05-15T00:00:00.000Z',\n",
       "    'SYSTEM_DAT': '2020-05-15T00:00:00.000Z',\n",
       "    'OBJECTID': 449}},\n",
       "  {'type': 'Feature',\n",
       "   'geometry': {'type': 'Polygon',\n",
       "    'coordinates': [[[-79.98416052924973, 43.13204306512163],\n",
       "      [-80.20055150453396, 43.21070386891734],\n",
       "      [-80.23861442502017, 43.306475384028445],\n",
       "      [-80.47151979507835, 43.26686476600921],\n",
       "      [-80.43645627625256, 43.17940565224669],\n",
       "      [-80.60868522808155, 43.15166893916863],\n",
       "      [-80.54342679281434, 42.98487791274444],\n",
       "      [-80.24371420252906, 43.03215453525115],\n",
       "      [-80.05550613719126, 42.96344313181763],\n",
       "      [-79.97641132225878, 43.07971335618946],\n",
       "      [-79.98416052924973, 43.13204306512163]]]},\n",
       "   'properties': {'OGF_ID': 71878032,\n",
       "    'PHU_ID': 2227,\n",
       "    'PHU_NAME_E': 'Brant County Health Unit',\n",
       "    'PHU_NAME_F': 'Bureau de santé du comté de Brant',\n",
       "    'GEOMETRY_U': '1970-01-01T00:00:00.000Z',\n",
       "    'EFFECTIVE_': '2020-05-15T00:00:00.000Z',\n",
       "    'SYSTEM_DAT': '2020-05-15T00:00:00.000Z',\n",
       "    'OBJECTID': 465}},\n",
       "  {'type': 'Feature',\n",
       "   'geometry': {'type': 'Polygon',\n",
       "    'coordinates': [[[-81.13222419992108, 43.2314839280521],\n",
       "      [-81.22449202633543, 43.20336491863763],\n",
       "      [-81.4305157991417, 43.2928016242347],\n",
       "      [-81.46526720800465, 43.270684818664606],\n",
       "      [-81.77368990150833, 43.23752759767156],\n",
       "      [-81.81302721178879, 43.21574269192153],\n",
       "      [-81.80712210193659, 43.12902287705698],\n",
       "      [-81.78929569057146, 43.06590736688109],\n",
       "      [-81.79018346813294, 42.81620682290549],\n",
       "      [-81.83552258470047, 42.843258425458075],\n",
       "      [-81.83507966725723, 42.650999791484296],\n",
       "      [-81.83469226329899, 42.60805108388425],\n",
       "      [-81.8109283558707, 42.607587084958595],\n",
       "      [-81.68487922465263, 42.697222306990376],\n",
       "      [-81.62857050583807, 42.682895407183125],\n",
       "      [-81.56022539022052, 42.746607221794854],\n",
       "      [-81.48662066996928, 42.77695093073791],\n",
       "      [-81.11475466207014, 42.87068076527361],\n",
       "      [-81.08089765275935, 42.88524866947971],\n",
       "      [-80.89877089809622, 42.912660483052704],\n",
       "      [-80.92278711344778, 43.00086199752404],\n",
       "      [-80.99366523496175, 42.99268239268038],\n",
       "      [-81.03759865351607, 43.0461370000115],\n",
       "      [-81.13222419992108, 43.2314839280521]]]},\n",
       "   'properties': {'OGF_ID': 71878026,\n",
       "    'PHU_ID': 2244,\n",
       "    'PHU_NAME_E': 'Middlesex-London Health Unit',\n",
       "    'PHU_NAME_F': 'Bureau de santé de Middlesex-London',\n",
       "    'GEOMETRY_U': '1970-01-01T00:00:00.000Z',\n",
       "    'EFFECTIVE_': '2020-05-15T00:00:00.000Z',\n",
       "    'SYSTEM_DAT': '2020-05-15T00:00:00.000Z',\n",
       "    'OBJECTID': 481}},\n",
       "  {'type': 'Feature',\n",
       "   'geometry': {'type': 'MultiPolygon',\n",
       "    'coordinates': [[[[-81.07364419581943, 48.10346012664399],\n",
       "       [-81.85689875449033, 48.103909583210154],\n",
       "       [-81.85659229825207, 48.44989543480653],\n",
       "       [-82.6342344547673, 48.450594590245196],\n",
       "       [-83.59008296769024, 48.44913733359855],\n",
       "       [-84.01458990606447, 48.44963230806952],\n",
       "       [-84.01638873707925, 47.93411093240636],\n",
       "       [-83.97375022329797, 47.93411183496139],\n",
       "       [-83.97493263313282, 47.236168830416965],\n",
       "       [-83.27538660818618, 47.23558037108064],\n",
       "       [-82.57724148254944, 47.23564741090206],\n",
       "       [-82.5786851518365, 46.97715527099113],\n",
       "       [-81.94991004809191, 46.976113105725624],\n",
       "       [-81.94475710571241, 46.62518795109089],\n",
       "       [-82.06925634593655, 46.62512664428713],\n",
       "       [-82.06796701598253, 46.36665650355281],\n",
       "       [-82.19262105621327, 46.36756139691061],\n",
       "       [-82.19243734596462, 46.277790282685146],\n",
       "       [-82.31294298465723, 46.27755817607792],\n",
       "       [-82.31261537418081, 46.18601726155292],\n",
       "       [-82.3113430737511, 46.185826761591905],\n",
       "       [-82.25680815666782, 46.18952516515007],\n",
       "       [-82.09744810335508, 46.170524470769834],\n",
       "       [-82.05643929090692, 46.177038974026516],\n",
       "       [-82.05752088277546, 46.101159561851254],\n",
       "       [-81.97141565399299, 46.09106326487448],\n",
       "       [-81.76828359052064, 46.10774777843907],\n",
       "       [-81.79280369332074, 46.06165166973763],\n",
       "       [-81.77050518239251, 46.02753086545076],\n",
       "       [-81.62729544264096, 46.0851723823365],\n",
       "       [-81.55370511489738, 46.04830948032109],\n",
       "       [-81.48727198459329, 45.966537670664366],\n",
       "       [-81.43563777054212, 45.99030037722158],\n",
       "       [-81.15407788092999, 46.00138619379321],\n",
       "       [-81.18150118400159, 45.947622583666366],\n",
       "       [-81.05368164317973, 45.951669290985535],\n",
       "       [-80.93152000091473, 45.925353093060366],\n",
       "       [-80.90332269343563, 45.94070979701165],\n",
       "       [-80.84002497048984, 45.91729539648274],\n",
       "       [-80.81124546391266, 45.943038702148094],\n",
       "       [-80.73477253589803, 45.912042201052145],\n",
       "       [-80.73620243209936, 45.871623994403265],\n",
       "       [-80.69467431998652, 45.88414129857343],\n",
       "       [-80.5556580757077, 45.89092550679743],\n",
       "       [-80.58277199792703, 46.01857502616215],\n",
       "       [-80.51538727765613, 46.03354983204559],\n",
       "       [-80.29051720495649, 46.03644314398707],\n",
       "       [-80.18601707352727, 46.06070275323269],\n",
       "       [-80.17578487485991, 46.1052307609834],\n",
       "       [-80.30595481721984, 46.10543675440135],\n",
       "       [-80.30692514483647, 46.36273099590238],\n",
       "       [-80.29009353939908, 46.36320559684124],\n",
       "       [-80.29201756823882, 46.6250306386831],\n",
       "       [-80.35729418957688, 46.624978035305546],\n",
       "       [-80.35500089824491, 46.711268049163124],\n",
       "       [-80.2915460774819, 46.71132135245337],\n",
       "       [-80.29154500621186, 46.972346493802625],\n",
       "       [-80.27415690984664, 47.05640540794971],\n",
       "       [-80.27206933880069, 47.32022104938799],\n",
       "       [-81.07343890251727, 47.321770307075305],\n",
       "       [-81.07402893161508, 47.56816794507457],\n",
       "       [-81.07364419581943, 48.10346012664399]]],\n",
       "     [[[-82.7978178066446, 45.984880402942785],\n",
       "       [-82.94619524880258, 45.939616287545114],\n",
       "       [-83.05866048665547, 45.95764418419389],\n",
       "       [-83.18170402596651, 45.959149077598454],\n",
       "       [-83.22679373443698, 45.90789296693406],\n",
       "       [-83.21997112857545, 45.875506262154836],\n",
       "       [-83.08635098497, 45.86536196794972],\n",
       "       [-82.86654450668854, 45.79102066817391],\n",
       "       [-82.68810264936349, 45.786371777194084],\n",
       "       [-82.64753003363462, 45.76118547535963],\n",
       "       [-82.52134589222479, 45.750402080484164],\n",
       "       [-82.47083967081963, 45.70237397548036],\n",
       "       [-82.41338035289262, 45.705952679163325],\n",
       "       [-82.26629839942674, 45.64619257742343],\n",
       "       [-82.21797478325877, 45.63933727890488],\n",
       "       [-82.16429156230411, 45.604180276078665],\n",
       "       [-82.09833924074532, 45.599523778843874],\n",
       "       [-82.06803742623579, 45.55476007318521],\n",
       "       [-81.93160188858629, 45.609862089392614],\n",
       "       [-81.84697596943725, 45.68338370582052],\n",
       "       [-81.78471354726904, 45.662676205755474],\n",
       "       [-81.87841497085178, 45.60310999111451],\n",
       "       [-81.9410071898072, 45.59327718619766],\n",
       "       [-81.98629180121236, 45.564794179162135],\n",
       "       [-81.84401035040734, 45.51496027857677],\n",
       "       [-81.78637003481965, 45.541565485956504],\n",
       "       [-81.75862853044578, 45.5836890942843],\n",
       "       [-81.6459257054606, 45.687496617114554],\n",
       "       [-81.57897429449508, 45.785378936530385],\n",
       "       [-81.70538643530958, 45.78756663020853],\n",
       "       [-81.66054182613584, 45.8358171403905],\n",
       "       [-81.65757423235975, 45.901961451235636],\n",
       "       [-81.73016635095803, 45.85855204037645],\n",
       "       [-81.79000395881302, 45.75397022028501],\n",
       "       [-81.84400248090544, 45.79807562455593],\n",
       "       [-81.81513817902665, 45.865861937041586],\n",
       "       [-81.87090419930487, 45.88770793759428],\n",
       "       [-81.90279151922971, 45.97602625010647],\n",
       "       [-81.9799576451863, 45.98679414770115],\n",
       "       [-82.05827296712978, 45.95802333887528],\n",
       "       [-82.12436758293073, 45.90931062749423],\n",
       "       [-82.14174348119052, 45.84303871589658],\n",
       "       [-82.2231648156409, 45.919024723730836],\n",
       "       [-82.29002633838279, 45.93112462205929],\n",
       "       [-82.28254734216218, 45.98658873135381],\n",
       "       [-82.37862377135376, 45.972616723905084],\n",
       "       [-82.5000798065418, 45.94002201208063],\n",
       "       [-82.59513103051081, 45.882979897763455],\n",
       "       [-82.50510519828916, 45.85170859765126],\n",
       "       [-82.54901110851917, 45.81773908980969],\n",
       "       [-82.64542874044558, 45.82832588625667],\n",
       "       [-82.67329815334672, 45.86423889049217],\n",
       "       [-82.75039247424257, 45.831436881018725],\n",
       "       [-82.77358348672952, 45.87686518702251],\n",
       "       [-82.84113131202663, 45.91036878866849],\n",
       "       [-82.7978178066446, 45.984880402942785]],\n",
       "      [[-82.06978305537103, 45.81766031566753],\n",
       "       [-81.9546907148919, 45.78446831646156],\n",
       "       [-81.86773968245394, 45.74225521426157],\n",
       "       [-81.9812061136539, 45.69500940057241],\n",
       "       [-81.99482512653938, 45.77342401253492],\n",
       "       [-82.06978305537103, 45.81766031566753]],\n",
       "      [[-82.33688933837892, 45.795801397777254],\n",
       "       [-82.37626215545535, 45.836493302195855],\n",
       "       [-82.34871584941456, 45.86141170769153],\n",
       "       [-82.2371167097025, 45.824899607844046],\n",
       "       [-82.29072912182781, 45.77941989762855],\n",
       "       [-82.33688933837892, 45.795801397777254]]],\n",
       "     [[[-83.35075498327153, 45.99034897311729],\n",
       "       [-83.41124350198052, 45.98601816904135],\n",
       "       [-83.48230001524531, 45.90550665228035],\n",
       "       [-83.35533506863841, 45.85013085057317],\n",
       "       [-83.26152084559058, 45.908975565172646],\n",
       "       [-83.26144115042491, 45.95142447192804],\n",
       "       [-83.32393657131406, 45.96045786987367],\n",
       "       [-83.35075498327153, 45.99034897311729]]],\n",
       "     [[[-81.83636350744099, 46.06267406757209],\n",
       "       [-81.95029514255327, 46.04910215928885],\n",
       "       [-81.95027523708204, 45.99968135136239],\n",
       "       [-81.82249469543203, 45.994138157309855],\n",
       "       [-81.78726538909729, 46.03948616647608],\n",
       "       [-81.83636350744099, 46.06267406757209]]],\n",
       "     [[[-82.60550704250103, 45.96036600958042],\n",
       "       [-82.68817986879912, 45.95952440491941],\n",
       "       [-82.73911728049637, 45.919113795669524],\n",
       "       [-82.64752294768105, 45.88704219555335],\n",
       "       [-82.59114483119292, 45.90044320077831],\n",
       "       [-82.60550704250103, 45.96036600958042]]],\n",
       "     [[[-81.69870390577925, 45.53223418904938],\n",
       "       [-81.81678314032585, 45.5020352779042],\n",
       "       [-81.82410853690124, 45.447876468671616],\n",
       "       [-81.73527391114955, 45.472705077403404],\n",
       "       [-81.69870390577925, 45.53223418904938]]],\n",
       "     [[[-81.17357778717295, 46.000899192695066],\n",
       "       [-81.36832814888312, 45.99059968081552],\n",
       "       [-81.25424470807053, 45.9532617807734],\n",
       "       [-81.1985590903097, 45.95511828398762],\n",
       "       [-81.17357778717295, 46.000899192695066]]]]},\n",
       "   'properties': {'OGF_ID': 71878023,\n",
       "    'PHU_ID': 2261,\n",
       "    'PHU_NAME_E': 'Sudbury and District Health Unit',\n",
       "    'PHU_NAME_F': 'Service de santé publique de Sudbury et du district',\n",
       "    'GEOMETRY_U': '1970-01-01T00:00:00.000Z',\n",
       "    'EFFECTIVE_': '2020-05-15T00:00:00.000Z',\n",
       "    'SYSTEM_DAT': '2020-05-15T00:00:00.000Z',\n",
       "    'OBJECTID': 497}},\n",
       "  {'type': 'Feature',\n",
       "   'geometry': {'type': 'MultiPolygon',\n",
       "    'coordinates': [[[[-77.96097653755568, 44.91151046852872],\n",
       "       [-78.17830484493169, 45.30989162621366],\n",
       "       [-78.31481781317537, 45.56108396205418],\n",
       "       [-78.85943337700319, 45.41449491180544],\n",
       "       [-78.97139851056694, 45.38445970143825],\n",
       "       [-78.9075243794499, 45.27646868636778],\n",
       "       [-78.84256134587346, 45.14506136731565],\n",
       "       [-79.00109199357223, 45.10529015309231],\n",
       "       [-78.93439596067343, 44.98565103601468],\n",
       "       [-79.09355600821074, 44.94295822124383],\n",
       "       [-79.06294668867274, 44.84015090523779],\n",
       "       [-79.20924403219718, 44.800038691485156],\n",
       "       [-79.08186586477589, 44.515828148928335],\n",
       "       [-78.92208858061836, 44.15374269384224],\n",
       "       [-78.90314287896298, 44.20343540334367],\n",
       "       [-78.77007833828164, 44.22740241364331],\n",
       "       [-78.69268789842369, 44.0584484878024],\n",
       "       [-78.5163011451985, 44.09878240288469],\n",
       "       [-78.58471618080011, 44.25261252653135],\n",
       "       [-78.42554523279892, 44.29048834037732],\n",
       "       [-78.48983686604441, 44.43100956177652],\n",
       "       [-78.48794606855442, 44.46593266789505],\n",
       "       [-78.54542659465561, 44.54962907968058],\n",
       "       [-78.65480715228225, 44.79393621650543],\n",
       "       [-78.13823369555121, 44.9146263609682],\n",
       "       [-78.11872528568789, 44.87581895522999],\n",
       "       [-77.96097653755568, 44.91151046852872]]],\n",
       "     [[[-77.66134696391201, 44.03695043033193],\n",
       "       [-77.7521752100356, 44.23308776067614],\n",
       "       [-77.64619627904172, 44.27216577219793],\n",
       "       [-77.72737531956119, 44.43648209719901],\n",
       "       [-77.91308497570562, 44.389404880719766],\n",
       "       [-77.90108806964822, 44.364508876932],\n",
       "       [-77.96895638578386, 44.2972811621968],\n",
       "       [-78.08180791857424, 44.254469649675606],\n",
       "       [-78.14514443377718, 44.19389973627029],\n",
       "       [-78.22032885360635, 44.14271382395337],\n",
       "       [-78.30809428075007, 44.12921161763564],\n",
       "       [-78.50965984172187, 44.083502800520606],\n",
       "       [-78.43693380340679, 43.91202877380742],\n",
       "       [-78.24871324639062, 43.95341418954412],\n",
       "       [-78.00658766917216, 43.96316000207968],\n",
       "       [-77.97159285911648, 43.977648906182345],\n",
       "       [-77.87799702881192, 43.97658021014999],\n",
       "       [-77.82034871247379, 44.003434417422966],\n",
       "       [-77.73071958401917, 44.0094675224438],\n",
       "       [-77.66134696391201, 44.03695043033193]]]]},\n",
       "   'properties': {'OGF_ID': 71877993,\n",
       "    'PHU_ID': 2235,\n",
       "    'PHU_NAME_E': 'Haliburton, Kawartha, Pine Ridge District Health Unit',\n",
       "    'PHU_NAME_F': \"Bureau de santé du district d'Haliburton, Kawartha et Pine Ridge\",\n",
       "    'GEOMETRY_U': '1970-01-01T00:00:00.000Z',\n",
       "    'EFFECTIVE_': '2020-05-15T00:00:00.000Z',\n",
       "    'SYSTEM_DAT': '2020-05-15T00:00:00.000Z',\n",
       "    'OBJECTID': 513}},\n",
       "  {'type': 'Feature',\n",
       "   'geometry': {'type': 'Polygon',\n",
       "    'coordinates': [[[-79.43764313442134, 42.8758742445754],\n",
       "      [-79.34996280530311, 42.85975854566197],\n",
       "      [-79.33022550024602, 42.87403434911988],\n",
       "      [-79.11664083136529, 42.859985056233015],\n",
       "      [-78.95296118110566, 42.88038936724439],\n",
       "      [-78.9082503696153, 42.91318677514533],\n",
       "      [-78.9346819809153, 42.94819048025597],\n",
       "      [-79.0235927119277, 42.98135598222113],\n",
       "      [-79.02935032028535, 43.05942939595385],\n",
       "      [-79.0778804369681, 43.07437499643904],\n",
       "      [-79.04434433176736, 43.13931480956156],\n",
       "      [-79.05695334530793, 43.251977229080246],\n",
       "      [-79.13855567169169, 43.25672882622025],\n",
       "      [-79.32163222358545, 43.182484304663035],\n",
       "      [-79.40881545260407, 43.19798460343298],\n",
       "      [-79.5294356906699, 43.1953397974244],\n",
       "      [-79.62223582274684, 43.22589149857208],\n",
       "      [-79.65861152721922, 43.14398148234281],\n",
       "      [-79.70969974442757, 43.15580518208478],\n",
       "      [-79.75409764943213, 43.050580361311724],\n",
       "      [-79.51143596528648, 42.964732657131385],\n",
       "      [-79.43764313442134, 42.8758742445754]]]},\n",
       "   'properties': {'OGF_ID': 71877988,\n",
       "    'PHU_ID': 2246,\n",
       "    'PHU_NAME_E': 'Niagara Region Public Health Department',\n",
       "    'PHU_NAME_F': 'Bureau de santé de la région du Niagara',\n",
       "    'GEOMETRY_U': '1970-01-01T00:00:00.000Z',\n",
       "    'EFFECTIVE_': '2020-05-15T00:00:00.000Z',\n",
       "    'SYSTEM_DAT': '2020-05-15T00:00:00.000Z',\n",
       "    'OBJECTID': 529}},\n",
       "  {'type': 'Feature',\n",
       "   'geometry': {'type': 'Polygon',\n",
       "    'coordinates': [[[-81.83507966725723, 42.650999791484296],\n",
       "      [-82.00632562046442, 42.65092858310076],\n",
       "      [-82.02395652357437, 42.62462487757857],\n",
       "      [-82.48398346677195, 42.63147595609273],\n",
       "      [-82.46624575698901, 42.58425314863514],\n",
       "      [-82.4201986416616, 42.572327648808475],\n",
       "      [-82.43541063882994, 42.48895633329855],\n",
       "      [-82.40999252291951, 42.399358618653864],\n",
       "      [-82.45419632940249, 42.31922400222813],\n",
       "      [-82.42995492003284, 42.29806529965169],\n",
       "      [-82.43702321295038, 42.193777480701904],\n",
       "      [-82.45593311884478, 42.19449357990365],\n",
       "      [-82.4649802102387, 42.065388256363754],\n",
       "      [-82.36694398601242, 42.13343757333594],\n",
       "      [-82.25173565416166, 42.17546048647152],\n",
       "      [-82.09396261172239, 42.247257906987855],\n",
       "      [-82.03232759397908, 42.26233001267426],\n",
       "      [-81.93822256516358, 42.265938417876185],\n",
       "      [-81.92884036459127, 42.29254732309178],\n",
       "      [-81.85588444557081, 42.333435733932404],\n",
       "      [-81.88247404707909, 42.2566003188968],\n",
       "      [-81.84696903626764, 42.258760120996264],\n",
       "      [-81.83400784053636, 42.353355638550795],\n",
       "      [-81.81209703659607, 42.3858540454166],\n",
       "      [-81.6685576996555, 42.472616067836995],\n",
       "      [-81.83469226329899, 42.60805108388425],\n",
       "      [-81.83507966725723, 42.650999791484296]]]},\n",
       "   'properties': {'OGF_ID': 71877985,\n",
       "    'PHU_ID': 2240,\n",
       "    'PHU_NAME_E': 'Chatham-Kent Health Unit',\n",
       "    'PHU_NAME_F': 'Bureau de santé de Chatham-Kent',\n",
       "    'GEOMETRY_U': '1970-01-01T00:00:00.000Z',\n",
       "    'EFFECTIVE_': '2020-05-15T00:00:00.000Z',\n",
       "    'SYSTEM_DAT': '2020-05-15T00:00:00.000Z',\n",
       "    'OBJECTID': 545}},\n",
       "  {'type': 'Feature',\n",
       "   'geometry': {'type': 'MultiPolygon',\n",
       "    'coordinates': [[[[-76.76980276820616, 45.14229466114835],\n",
       "       [-76.8147329899091, 45.221408472697156],\n",
       "       [-76.89151371270586, 45.19353706456767],\n",
       "       [-76.93200592753124, 45.21074436572093],\n",
       "       [-76.98235254154463, 45.182063258607485],\n",
       "       [-76.97074083449344, 45.14532085284565],\n",
       "       [-77.13748518515246, 45.09926823760787],\n",
       "       [-77.21580992308816, 45.23704505762047],\n",
       "       [-77.54143632151128, 45.14425602723483],\n",
       "       [-77.31384231009928, 44.72569716563345],\n",
       "       [-77.28834840234747, 44.73224056788962],\n",
       "       [-77.20750776170401, 44.567025242851976],\n",
       "       [-77.19008655640066, 44.57141554437779],\n",
       "       [-77.05544309960358, 44.41986512388476],\n",
       "       [-77.13883472495834, 44.3985303165343],\n",
       "       [-77.03910027574078, 44.199164785965614],\n",
       "       [-77.065136878038, 44.12517127183645],\n",
       "       [-77.00287745915392, 44.14136927737016],\n",
       "       [-77.02693476076347, 44.066515263153114],\n",
       "       [-76.96852144160226, 44.064224265259845],\n",
       "       [-76.9275202316542, 44.105077974220485],\n",
       "       [-76.77369838806456, 44.18316079455484],\n",
       "       [-76.68801046290818, 44.216519504080146],\n",
       "       [-76.56473012206946, 44.208488707909126],\n",
       "       [-76.42786697969629, 44.23620151857893],\n",
       "       [-76.31136344650601, 44.29564113394748],\n",
       "       [-76.23378612228379, 44.3095254396492],\n",
       "       [-76.25484684460797, 44.49801747181907],\n",
       "       [-76.2780320524817, 44.50143037143717],\n",
       "       [-76.38158949361744, 44.588586182264564],\n",
       "       [-76.52566795193673, 44.72120459917487],\n",
       "       [-76.60860479071776, 44.85778941924803],\n",
       "       [-76.76980276820616, 45.14229466114835]]],\n",
       "     [[[-76.18368900010952, 44.23803882916137],\n",
       "       [-76.42553667723858, 44.21540651501551],\n",
       "       [-76.50520319933422, 44.167775303257265],\n",
       "       [-76.38678975721352, 44.124528100616864],\n",
       "       [-76.34658474790356, 44.171448010589906],\n",
       "       [-76.35694845383176, 44.20280941568521],\n",
       "       [-76.24427381734552, 44.20646872105962],\n",
       "       [-76.18368900010952, 44.23803882916137]]],\n",
       "     [[[-76.6413906456736, 44.191665401691836],\n",
       "       [-76.8062369949624, 44.13839148528285],\n",
       "       [-76.76454017848646, 44.10301258082721],\n",
       "       [-76.69362855618235, 44.11240438550327],\n",
       "       [-76.62769573959118, 44.17192009879677],\n",
       "       [-76.6413906456736, 44.191665401691836]]]]},\n",
       "   'properties': {'OGF_ID': 71877982,\n",
       "    'PHU_ID': 2241,\n",
       "    'PHU_NAME_E': 'Kingston, Frontenac and Lennox and Addington Health Unit',\n",
       "    'PHU_NAME_F': 'Bureau de santé de Kingston, Frontenac, Lennox et Addington',\n",
       "    'GEOMETRY_U': '1970-01-01T00:00:00.000Z',\n",
       "    'EFFECTIVE_': '2020-05-15T00:00:00.000Z',\n",
       "    'SYSTEM_DAT': '2020-05-15T00:00:00.000Z',\n",
       "    'OBJECTID': 561}},\n",
       "  {'type': 'Feature',\n",
       "   'geometry': {'type': 'MultiPolygon',\n",
       "    'coordinates': [[[[-82.45419632940249, 42.31922400222813],\n",
       "       [-82.55529876026783, 42.31554429659476],\n",
       "       [-82.6400099849645, 42.29969318959419],\n",
       "       [-82.79027253180114, 42.305838683244524],\n",
       "       [-82.93556407982227, 42.342454082507636],\n",
       "       [-83.05862891524953, 42.31592257165861],\n",
       "       [-83.10747612492446, 42.25720895881059],\n",
       "       [-83.1163233193383, 42.16536844206471],\n",
       "       [-83.10740460595974, 42.04682602140448],\n",
       "       [-83.01424007530144, 42.02330082182816],\n",
       "       [-82.92405034386897, 41.98081781869223],\n",
       "       [-82.81580231219114, 41.9982074271377],\n",
       "       [-82.71778498508972, 42.03220993804286],\n",
       "       [-82.61147065237763, 42.03190684320268],\n",
       "       [-82.53521992336768, 41.968629035579205],\n",
       "       [-82.50136221445956, 41.98584684032148],\n",
       "       [-82.46521700997734, 42.06158535567068],\n",
       "       [-82.46516221003782, 42.06246535583105],\n",
       "       [-82.4649802102387, 42.065388256363754],\n",
       "       [-82.45593311884478, 42.19449357990365],\n",
       "       [-82.43702321295038, 42.193777480701904],\n",
       "       [-82.42995492003284, 42.29806529965169],\n",
       "       [-82.45419632940249, 42.31922400222813]]],\n",
       "     [[[-82.63818974299633, 41.83105500582177],\n",
       "       [-82.68458765495336, 41.804832798838675],\n",
       "       [-82.68390404887968, 41.7373203866996],\n",
       "       [-82.62048513058603, 41.75070659219702],\n",
       "       [-82.63818974299633, 41.83105500582177]]]]},\n",
       "   'properties': {'OGF_ID': 71877975,\n",
       "    'PHU_ID': 2268,\n",
       "    'PHU_NAME_E': 'Windsor-Essex County Health Unit',\n",
       "    'PHU_NAME_F': 'Unité sanitaire de Windsor-Essex',\n",
       "    'GEOMETRY_U': '1970-01-01T00:00:00.000Z',\n",
       "    'EFFECTIVE_': '2020-05-15T00:00:00.000Z',\n",
       "    'SYSTEM_DAT': '2020-05-15T00:00:00.000Z',\n",
       "    'OBJECTID': 577}},\n",
       "  {'type': 'Feature',\n",
       "   'geometry': {'type': 'Polygon',\n",
       "    'coordinates': [[[-77.96097653755568, 44.91151046852872],\n",
       "      [-78.11872528568789, 44.87581895522999],\n",
       "      [-78.13823369555121, 44.9146263609682],\n",
       "      [-78.65480715228225, 44.79393621650543],\n",
       "      [-78.54542659465561, 44.54962907968058],\n",
       "      [-78.48794606855442, 44.46593266789505],\n",
       "      [-78.48983686604441, 44.43100956177652],\n",
       "      [-78.42554523279892, 44.29048834037732],\n",
       "      [-78.58471618080011, 44.25261252653135],\n",
       "      [-78.5163011451985, 44.09878240288469],\n",
       "      [-78.50965984172187, 44.083502800520606],\n",
       "      [-78.30809428075007, 44.12921161763564],\n",
       "      [-78.22032885360635, 44.14271382395337],\n",
       "      [-78.14514443377718, 44.19389973627029],\n",
       "      [-78.08180791857424, 44.254469649675606],\n",
       "      [-77.96895638578386, 44.2972811621968],\n",
       "      [-77.90108806964822, 44.364508876932],\n",
       "      [-77.91308497570562, 44.389404880719766],\n",
       "      [-77.72737531956119, 44.43648209719901],\n",
       "      [-77.82839186916914, 44.628359725889936],\n",
       "      [-77.884465999954, 44.76989964773029],\n",
       "      [-77.96097653755568, 44.91151046852872]]]},\n",
       "   'properties': {'OGF_ID': 71877972,\n",
       "    'PHU_ID': 2255,\n",
       "    'PHU_NAME_E': 'Peterborough Public Health',\n",
       "    'PHU_NAME_F': 'Bureau de santé de Peterborough',\n",
       "    'GEOMETRY_U': '1970-01-01T00:00:00.000Z',\n",
       "    'EFFECTIVE_': '2020-05-15T00:00:00.000Z',\n",
       "    'SYSTEM_DAT': '2020-05-15T00:00:00.000Z',\n",
       "    'OBJECTID': 593}},\n",
       "  {'type': 'Feature',\n",
       "   'geometry': {'type': 'Polygon',\n",
       "    'coordinates': [[[-80.29319625529511, 44.53308319382906],\n",
       "      [-80.39207288734988, 44.53769538976769],\n",
       "      [-80.51101363094921, 44.595702393757776],\n",
       "      [-80.55397254458481, 44.59477169147818],\n",
       "      [-80.62580207209663, 44.64180669588347],\n",
       "      [-80.63984158425535, 44.720434108466996],\n",
       "      [-80.74967511976851, 44.72466170370761],\n",
       "      [-80.82266873962543, 44.689526994138475],\n",
       "      [-80.87478455012638, 44.62710988100098],\n",
       "      [-80.94664117166664, 44.613194175055625],\n",
       "      [-80.888112065213, 44.7372414988992],\n",
       "      [-80.90682467697037, 44.79569220778711],\n",
       "      [-80.99078490519182, 44.809944405952905],\n",
       "      [-81.07939463057525, 44.78093889661285],\n",
       "      [-81.00716931660553, 44.8719425155184],\n",
       "      [-81.12239796237813, 44.96129412461399],\n",
       "      [-81.19544528537843, 44.95807832035958],\n",
       "      [-81.19476648912557, 44.99724702692291],\n",
       "      [-81.27734551811223, 45.023037826996955],\n",
       "      [-81.262813018856, 45.07588553652548],\n",
       "      [-81.33484114841816, 45.13988014344459],\n",
       "      [-81.30148984887866, 45.24792046303494],\n",
       "      [-81.463499398838, 45.230130951731056],\n",
       "      [-81.65718996443665, 45.26606804759266],\n",
       "      [-81.72953048284243, 45.221350336455124],\n",
       "      [-81.59287023283099, 45.159617033381394],\n",
       "      [-81.52773400671434, 45.10796962821217],\n",
       "      [-81.45412327257674, 45.00408981477578],\n",
       "      [-81.3762754439645, 44.966896912586684],\n",
       "      [-81.37297863675451, 44.90623390264626],\n",
       "      [-81.2985112046901, 44.823643092651324],\n",
       "      [-81.27709749073972, 44.752570181835786],\n",
       "      [-81.28115447672712, 44.59894265580872],\n",
       "      [-81.3875320997067, 44.48978923201369],\n",
       "      [-81.40333659978839, 44.439822522770825],\n",
       "      [-81.4808041222036, 44.41811451517719],\n",
       "      [-81.60729995245511, 44.31876809194698],\n",
       "      [-81.59147984443631, 44.28810558755237],\n",
       "      [-81.6441273496543, 44.171562665093006],\n",
       "      [-81.75672527566012, 44.074051542790905],\n",
       "      [-81.74561977022077, 44.05413743995844],\n",
       "      [-81.38325044187707, 43.908009533148636],\n",
       "      [-81.36774143884844, 43.92756913728022],\n",
       "      [-80.99171422557492, 43.986454166039756],\n",
       "      [-80.8357426778768, 44.0046242768401],\n",
       "      [-80.82693647163096, 43.96792447095582],\n",
       "      [-80.57281219381447, 43.9978168885223],\n",
       "      [-80.37491413478303, 44.039291205280506],\n",
       "      [-80.39826275116582, 44.135196720662535],\n",
       "      [-80.360946042296, 44.167358428003],\n",
       "      [-80.40811806182572, 44.21529573393885],\n",
       "      [-80.22907450832246, 44.253392949172024],\n",
       "      [-80.29319625529511, 44.53308319382906]]]},\n",
       "   'properties': {'OGF_ID': 71877970,\n",
       "    'PHU_ID': 2233,\n",
       "    'PHU_NAME_E': 'Grey Bruce Health Unit',\n",
       "    'PHU_NAME_F': 'Bureau de santé de Grey Bruce',\n",
       "    'GEOMETRY_U': '1970-01-01T00:00:00.000Z',\n",
       "    'EFFECTIVE_': '2020-05-15T00:00:00.000Z',\n",
       "    'SYSTEM_DAT': '2020-05-15T00:00:00.000Z',\n",
       "    'OBJECTID': 609}},\n",
       "  {'type': 'Feature',\n",
       "   'geometry': {'type': 'Polygon',\n",
       "    'coordinates': [[[-75.35981077510318, 44.80118256195177],\n",
       "      [-75.30769786133331, 44.843666771482326],\n",
       "      [-75.1689856199183, 44.89843688667189],\n",
       "      [-75.11360430440489, 44.9332265949725],\n",
       "      [-75.04422888252456, 44.94662470011747],\n",
       "      [-74.99855567095311, 44.990787909637845],\n",
       "      [-74.91710754636107, 45.02059921810584],\n",
       "      [-74.83125921884505, 45.03242302361939],\n",
       "      [-74.77891409970945, 45.01021612186926],\n",
       "      [-74.6996074738812, 45.01624572609538],\n",
       "      [-74.5480155271868, 45.06203374009556],\n",
       "      [-74.50317791694091, 45.12075565206531],\n",
       "      [-74.45501640366327, 45.15529185996307],\n",
       "      [-74.39036608315868, 45.16800846472953],\n",
       "      [-74.34403207067416, 45.205162972995446],\n",
       "      [-74.47220852113136, 45.30267348474789],\n",
       "      [-74.38126961199121, 45.5661227336322],\n",
       "      [-74.47236824468072, 45.593740934709444],\n",
       "      [-74.53511196573687, 45.59484163237677],\n",
       "      [-74.63806270373213, 45.63876733572174],\n",
       "      [-74.72934763336369, 45.62833523024294],\n",
       "      [-74.94301250593098, 45.64341452409383],\n",
       "      [-75.03546833262659, 45.59381731184917],\n",
       "      [-75.13260446355532, 45.5766269049175],\n",
       "      [-75.24261610093639, 45.585517801879924],\n",
       "      [-75.34251653009413, 45.536993089462584],\n",
       "      [-75.24663578379538, 45.36451516395553],\n",
       "      [-75.42597303898867, 45.31253254761409],\n",
       "      [-75.35316120402808, 45.182159628221285],\n",
       "      [-75.59505057599105, 45.08440460133798],\n",
       "      [-75.36048707539474, 44.80202826207139],\n",
       "      [-75.3599016751424, 44.80129616196787],\n",
       "      [-75.35981077510318, 44.80118256195177]]]},\n",
       "   'properties': {'OGF_ID': 71877964,\n",
       "    'PHU_ID': 2258,\n",
       "    'PHU_NAME_E': 'Eastern Ontario Health Unit',\n",
       "    'PHU_NAME_F': \"Bureau de santé de l'Est de l'Ontario\",\n",
       "    'GEOMETRY_U': '1970-01-01T00:00:00.000Z',\n",
       "    'EFFECTIVE_': '2020-05-15T00:00:00.000Z',\n",
       "    'SYSTEM_DAT': '2020-05-15T00:00:00.000Z',\n",
       "    'OBJECTID': 625}},\n",
       "  {'type': 'Feature',\n",
       "   'geometry': {'type': 'Polygon',\n",
       "    'coordinates': [[[-78.40357821344465, 46.2927505788422],\n",
       "      [-78.50266994629598, 46.29460037439781],\n",
       "      [-78.5970616798289, 46.31886167381817],\n",
       "      [-78.6758421057168, 46.31825076991703],\n",
       "      [-78.72823562540009, 46.3423520713083],\n",
       "      [-78.72711122912857, 46.38288467795806],\n",
       "      [-78.89272539173133, 46.46192438272499],\n",
       "      [-78.98987413267564, 46.54886459202524],\n",
       "      [-79.01525424911813, 46.62686140335282],\n",
       "      [-79.09432638159741, 46.68830480932938],\n",
       "      [-79.17081872123356, 46.8252406274732],\n",
       "      [-79.21385263629683, 46.833320026619596],\n",
       "      [-79.32966938774189, 46.95719594056298],\n",
       "      [-79.3468027988432, 47.00786764774979],\n",
       "      [-79.41019862540604, 47.059855052795164],\n",
       "      [-79.63078529823099, 47.05939984154015],\n",
       "      [-79.62637126859272, 46.7987260003783],\n",
       "      [-79.75692421152007, 46.798499093723564],\n",
       "      [-79.75851210258956, 46.710538579612745],\n",
       "      [-79.88470144412719, 46.71145547334567],\n",
       "      [-79.88364935322375, 46.79892618733784],\n",
       "      [-80.22729396600104, 46.79881496967473],\n",
       "      [-80.22370268394106, 46.9724457973408],\n",
       "      [-80.29154500621186, 46.972346493802625],\n",
       "      [-80.2915460774819, 46.71132135245337],\n",
       "      [-80.35500089824491, 46.711268049163124],\n",
       "      [-80.35729418957688, 46.624978035305546],\n",
       "      [-80.29201756823882, 46.6250306386831],\n",
       "      [-80.29009353939908, 46.36320559684124],\n",
       "      [-80.30692514483647, 46.36273099590238],\n",
       "      [-80.30595481721984, 46.10543675440135],\n",
       "      [-80.17578487485991, 46.1052307609834],\n",
       "      [-80.18601707352727, 46.06070275323269],\n",
       "      [-80.29051720495649, 46.03644314398707],\n",
       "      [-80.51538727765613, 46.03354983204559],\n",
       "      [-80.58277199792703, 46.01857502616215],\n",
       "      [-80.5556580757077, 45.89092550679743],\n",
       "      [-80.69467431998652, 45.88414129857343],\n",
       "      [-80.73620243209936, 45.871623994403265],\n",
       "      [-80.71383491903896, 45.816144586511484],\n",
       "      [-80.63460588852632, 45.76923228290691],\n",
       "      [-80.65659799170861, 45.73157797562669],\n",
       "      [-80.61218887432932, 45.702390573114116],\n",
       "      [-80.58347805879147, 45.641875764652504],\n",
       "      [-80.52004033454588, 45.60537086187505],\n",
       "      [-80.50185302380278, 45.55792075498846],\n",
       "      [-80.4113042974559, 45.58615836421262],\n",
       "      [-80.3863919874029, 45.566549062239105],\n",
       "      [-80.39607737970796, 45.46027934421332],\n",
       "      [-80.30985464668825, 45.408915940039506],\n",
       "      [-80.29816213750634, 45.35520573171877],\n",
       "      [-80.2086964084194, 45.35296463581119],\n",
       "      [-80.22201490523562, 45.27818132271492],\n",
       "      [-80.19782219396211, 45.243322918112234],\n",
       "      [-80.13616627507143, 45.25326912282936],\n",
       "      [-80.0973403553392, 45.18047011260267],\n",
       "      [-80.02653823219526, 45.17726981556248],\n",
       "      [-79.98470651410007, 45.130428209783766],\n",
       "      [-80.05357833265161, 45.09328440017234],\n",
       "      [-79.60629430014386, 45.21489854243825],\n",
       "      [-79.6725178332664, 45.334405659187745],\n",
       "      [-79.17265178433131, 45.47014220609753],\n",
       "      [-78.92817721080388, 45.5327226282752],\n",
       "      [-79.05439027459721, 45.763977860605365],\n",
       "      [-79.13036319815551, 45.75140835484884],\n",
       "      [-79.25797236409673, 45.99436678864132],\n",
       "      [-79.09366191491544, 46.039858704128285],\n",
       "      [-79.15775394800143, 46.159585620583705],\n",
       "      [-78.98708749665134, 46.205281136383505],\n",
       "      [-78.9771377915993, 46.1876042339822],\n",
       "      [-78.7983846375713, 46.23412875026343],\n",
       "      [-78.76097331835203, 46.16511714079038],\n",
       "      [-78.58907266651639, 46.21208185675848],\n",
       "      [-78.51297742756947, 46.071694537373794],\n",
       "      [-78.32810477164617, 46.12149815436691],\n",
       "      [-78.41248911445066, 46.2733253752405],\n",
       "      [-78.40357821344465, 46.2927505788422]]]},\n",
       "   'properties': {'OGF_ID': 71877960,\n",
       "    'PHU_ID': 2247,\n",
       "    'PHU_NAME_E': 'North Bay Parry Sound District Health Unit',\n",
       "    'PHU_NAME_F': 'Bureau de santé du district de North Bay-Parry Sound',\n",
       "    'GEOMETRY_U': '1970-01-01T00:00:00.000Z',\n",
       "    'EFFECTIVE_': '2020-05-15T00:00:00.000Z',\n",
       "    'SYSTEM_DAT': '2020-05-15T00:00:00.000Z',\n",
       "    'OBJECTID': 641}},\n",
       "  {'type': 'Feature',\n",
       "   'geometry': {'type': 'Polygon',\n",
       "    'coordinates': [[[-75.59505057599105, 45.08440460133798],\n",
       "      [-75.35316120402808, 45.182159628221285],\n",
       "      [-75.42597303898867, 45.31253254761409],\n",
       "      [-75.24663578379538, 45.36451516395553],\n",
       "      [-75.34251653009413, 45.536993089462584],\n",
       "      [-75.44541056296471, 45.52111958246683],\n",
       "      [-75.575559002278, 45.47483416912605],\n",
       "      [-75.677567834945, 45.46085856245323],\n",
       "      [-75.70374684071844, 45.426644255513274],\n",
       "      [-75.79701906752305, 45.37833304332747],\n",
       "      [-75.89518750202787, 45.4016437431486],\n",
       "      [-75.98716693919738, 45.47965435252322],\n",
       "      [-76.08987957618346, 45.5138614539418],\n",
       "      [-76.20100881342199, 45.51888815001576],\n",
       "      [-76.2450863236265, 45.46861793957785],\n",
       "      [-76.29621934018371, 45.46454053667709],\n",
       "      [-76.35396155456502, 45.410604325010084],\n",
       "      [-76.19182449035915, 45.28771281103769],\n",
       "      [-75.94079648981392, 45.079957886073984],\n",
       "      [-75.95295069319725, 45.07250438427688],\n",
       "      [-75.81953113996323, 44.962211970854355],\n",
       "      [-75.81010103805711, 44.97669227375329],\n",
       "      [-75.59505057599105, 45.08440460133798]]]},\n",
       "   'properties': {'OGF_ID': 71877952,\n",
       "    'PHU_ID': 2251,\n",
       "    'PHU_NAME_E': 'Ottawa Public Health',\n",
       "    'PHU_NAME_F': 'Santé publique Ottawa',\n",
       "    'GEOMETRY_U': '1970-01-01T00:00:00.000Z',\n",
       "    'EFFECTIVE_': '2020-05-15T00:00:00.000Z',\n",
       "    'SYSTEM_DAT': '2020-05-15T00:00:00.000Z',\n",
       "    'OBJECTID': 657}},\n",
       "  {'type': 'Feature',\n",
       "   'geometry': {'type': 'Polygon',\n",
       "    'coordinates': [[[-75.59505057599105, 45.08440460133798],\n",
       "      [-75.81010103805711, 44.97669227375329],\n",
       "      [-75.81953113996323, 44.962211970854355],\n",
       "      [-75.95295069319725, 45.07250438427688],\n",
       "      [-75.94079648981392, 45.079957886073984],\n",
       "      [-76.19182449035915, 45.28771281103769],\n",
       "      [-76.35396155456502, 45.410604325010084],\n",
       "      [-76.4278831744263, 45.358409812924116],\n",
       "      [-76.76980276820616, 45.14229466114835],\n",
       "      [-76.60860479071776, 44.85778941924803],\n",
       "      [-76.52566795193673, 44.72120459917487],\n",
       "      [-76.38158949361744, 44.588586182264564],\n",
       "      [-76.2780320524817, 44.50143037143717],\n",
       "      [-76.25484684460797, 44.49801747181907],\n",
       "      [-76.23378612228379, 44.3095254396492],\n",
       "      [-75.93685913048445, 44.3758339637059],\n",
       "      [-75.88930801896872, 44.42620697453139],\n",
       "      [-75.75998248537329, 44.535577999074604],\n",
       "      [-75.5766398351376, 44.659805728379446],\n",
       "      [-75.5371352252308, 44.698132536699816],\n",
       "      [-75.36048707539474, 44.80202826207139],\n",
       "      [-75.59505057599105, 45.08440460133798]]]},\n",
       "   'properties': {'OGF_ID': 71877950,\n",
       "    'PHU_ID': 2243,\n",
       "    'PHU_NAME_E': 'Leeds, Grenville and Lanark District Health Unit',\n",
       "    'PHU_NAME_F': 'Bureau de santé du district de Leeds, Grenville et Lanark',\n",
       "    'GEOMETRY_U': '1970-01-01T00:00:00.000Z',\n",
       "    'EFFECTIVE_': '2020-05-15T00:00:00.000Z',\n",
       "    'SYSTEM_DAT': '2020-05-15T00:00:00.000Z',\n",
       "    'OBJECTID': 673}},\n",
       "  {'type': 'Feature',\n",
       "   'geometry': {'type': 'MultiPolygon',\n",
       "    'coordinates': [[[[-90.96495216054838, 48.22224421260802],\n",
       "       [-90.96509110447516, 48.49020274857619],\n",
       "       [-90.96535979020098, 49.0000473160493],\n",
       "       [-90.96554336738077, 49.445095573915474],\n",
       "       [-90.96562596615523, 49.99665824429771],\n",
       "       [-90.17252191851627, 49.99653640379747],\n",
       "       [-90.16893769242644, 50.410383056480576],\n",
       "       [-90.16704602795794, 51.133675446197444],\n",
       "       [-90.07826400298876, 51.15101575508151],\n",
       "       [-90.03615608586084, 51.13181625593979],\n",
       "       [-89.93263756050466, 51.17192586870929],\n",
       "       [-89.8482080352829, 51.18119377624656],\n",
       "       [-89.79189382289393, 51.21058228410722],\n",
       "       [-89.6752445874956, 51.22095829419798],\n",
       "       [-89.50747824999175, 51.30645601731562],\n",
       "       [-89.50747275977285, 51.86834258524203],\n",
       "       [-89.50747018717219, 52.49520065915016],\n",
       "       [-91.00000837232712, 52.49491164158252],\n",
       "       [-91.00000838291083, 53.00000919844761],\n",
       "       [-91.00000859614555, 53.500009253481835],\n",
       "       [-91.00000867396234, 53.8340650895522],\n",
       "       [-90.8737582317487, 53.83169979968951],\n",
       "       [-90.83896592694754, 53.860178005604354],\n",
       "       [-90.83486674106554, 53.925851412975554],\n",
       "       [-91.00000859561058, 53.92566599934503],\n",
       "       [-91.0000086733591, 54.25000933368036],\n",
       "       [-91.00000879664599, 54.7500093855723],\n",
       "       [-91.00000892425024, 55.25000943620121],\n",
       "       [-91.00000911389505, 55.59119097002184],\n",
       "       [-91.64780241850224, 55.158494171807],\n",
       "       [-92.00000917019868, 54.90602691631069],\n",
       "       [-92.18877399882996, 54.774948686878716],\n",
       "       [-92.65861287075126, 54.45340281377782],\n",
       "       [-93.17005274464363, 54.089506232294156],\n",
       "       [-93.32921056582883, 53.969721206160926],\n",
       "       [-93.62989300733604, 53.75008175733353],\n",
       "       [-93.95492256259509, 53.555874408830334],\n",
       "       [-94.26268081682572, 53.38143296374059],\n",
       "       [-95.15316076262556, 52.8405819287912],\n",
       "       [-95.1531072356282, 52.30544427210995],\n",
       "       [-95.15306473572534, 51.87045422502156],\n",
       "       [-95.15299808072665, 51.16935834721814],\n",
       "       [-95.15295227540035, 50.67346069076885],\n",
       "       [-95.15289755108869, 50.0662889200597],\n",
       "       [-95.15344646797502, 49.64535586996505],\n",
       "       [-95.10444685428841, 49.64920057445509],\n",
       "       [-94.9749907111068, 49.62348008198648],\n",
       "       [-94.99475790717932, 49.57313427430303],\n",
       "       [-94.94017058802764, 49.557339376861876],\n",
       "       [-94.8771460716057, 49.568617083372295],\n",
       "       [-94.80792936660721, 49.64854489867283],\n",
       "       [-94.85013528621907, 49.685262799644725],\n",
       "       [-94.6566550348908, 49.7160875191664],\n",
       "       [-94.65293502174332, 49.65388511196038],\n",
       "       [-94.55975499658823, 49.66674592109881],\n",
       "       [-94.57073543082242, 49.82633983945287],\n",
       "       [-94.58664354394963, 49.86929794331234],\n",
       "       [-94.64782457107214, 49.91477734375283],\n",
       "       [-94.69801758867538, 49.92837284126152],\n",
       "       [-94.65160898702985, 49.99003665243297],\n",
       "       [-94.58470966340607, 49.971298455684604],\n",
       "       [-94.53662124036092, 49.92697215431836],\n",
       "       [-94.55202652512601, 49.82566534089914],\n",
       "       [-94.52319251527175, 49.819121442464485],\n",
       "       [-94.4885264903768, 49.744060236238546],\n",
       "       [-94.43952467069839, 49.7176768370322],\n",
       "       [-94.35998644910617, 49.72845154479195],\n",
       "       [-94.3610633422141, 49.691037040170094],\n",
       "       [-94.2979383188443, 49.667232742390425],\n",
       "       [-94.30390631163635, 49.620365536207494],\n",
       "       [-94.363632722834, 49.58605282720316],\n",
       "       [-94.33406110036397, 49.51430252083831],\n",
       "       [-94.20485125591105, 49.482419327336665],\n",
       "       [-94.17966033988286, 49.437236223814104],\n",
       "       [-94.07871839814347, 49.374895624222276],\n",
       "       [-94.03793397774359, 49.33069642202017],\n",
       "       [-94.03383226622724, 49.275457715509454],\n",
       "       [-94.14225240265968, 49.2981298096671],\n",
       "       [-94.23009313496081, 49.33142040675011],\n",
       "       [-94.20239133961378, 49.399959617408854],\n",
       "       [-94.2925295716049, 49.4276541135738],\n",
       "       [-94.26980196899535, 49.44954931808631],\n",
       "       [-94.40013981408994, 49.48332351172341],\n",
       "       [-94.60898547037246, 49.453972091261235],\n",
       "       [-94.71446070834382, 49.48950768703355],\n",
       "       [-94.72918160303189, 49.43895057968911],\n",
       "       [-94.64542175426098, 49.312291671000374],\n",
       "       [-94.4608258842213, 49.229691475710055],\n",
       "       [-94.41723537740376, 49.2620970832026],\n",
       "       [-94.32766735573905, 49.287953793573756],\n",
       "       [-94.21096450018986, 49.17539738898671],\n",
       "       [-94.04323625111574, 49.178931702778556],\n",
       "       [-94.05850574872964, 49.14148829690613],\n",
       "       [-94.17941047495256, 49.08944638081783],\n",
       "       [-94.23965399921164, 49.12427538035378],\n",
       "       [-94.30731012164043, 49.13732937657797],\n",
       "       [-94.31746881525197, 49.08660366947064],\n",
       "       [-94.43243913188573, 48.99289054864957],\n",
       "       [-94.50383214575128, 48.95399943811442],\n",
       "       [-94.59497247058495, 48.943302029506704],\n",
       "       [-94.63616967120099, 48.88083971844189],\n",
       "       [-94.69881507955216, 48.82617310662722],\n",
       "       [-94.68710986744519, 48.77870780163629],\n",
       "       [-94.5802239250338, 48.717746502508405],\n",
       "       [-94.44110997997484, 48.69423741058336],\n",
       "       [-94.41564017536172, 48.71009751459481],\n",
       "       [-94.30802564359277, 48.70929742300059],\n",
       "       [-94.26300962797404, 48.69609042488699],\n",
       "       [-94.2440215145439, 48.652421720866606],\n",
       "       [-94.00543994268554, 48.6434920384722],\n",
       "       [-93.83427568900805, 48.62577274959923],\n",
       "       [-93.79416625778863, 48.51620133872946],\n",
       "       [-93.64718941457126, 48.51738235028814],\n",
       "       [-93.46660926623836, 48.54665756802021],\n",
       "       [-93.46502097375155, 48.59214937398488],\n",
       "       [-93.35344404424183, 48.61272458524846],\n",
       "       [-93.25360491982522, 48.642738196807024],\n",
       "       [-93.17864199408818, 48.62321310006952],\n",
       "       [-92.98305913589869, 48.62387221517113],\n",
       "       [-92.7298463455523, 48.539063523509505],\n",
       "       [-92.63542261791463, 48.54261763114428],\n",
       "       [-92.63056540926108, 48.50072392605431],\n",
       "       [-92.69878712865496, 48.49484112011315],\n",
       "       [-92.71257122728004, 48.462831014894675],\n",
       "       [-92.65508600552965, 48.436133415766065],\n",
       "       [-92.50757596342861, 48.448011928471054],\n",
       "       [-92.45656144003182, 48.40029842606464],\n",
       "       [-92.47670114099193, 48.37043312062779],\n",
       "       [-92.37726758731652, 48.22852640939478],\n",
       "       [-92.26952875827544, 48.247649619980265],\n",
       "       [-92.30065687474686, 48.29025422328413],\n",
       "       [-92.28840487985758, 48.34243233108561],\n",
       "       [-92.05516781263161, 48.35906145071422],\n",
       "       [-92.00046478983711, 48.321190349777304],\n",
       "       [-92.00581378199279, 48.26458334187296],\n",
       "       [-91.89367904399673, 48.23880844676624],\n",
       "       [-91.86451133004577, 48.207565244764055],\n",
       "       [-91.71493428375337, 48.19985435477862],\n",
       "       [-91.69165766331808, 48.11819414556335],\n",
       "       [-91.57003522276811, 48.09420675126877],\n",
       "       [-91.56791101394205, 48.04397484466716],\n",
       "       [-91.4891259942934, 48.06911215381272],\n",
       "       [-91.43229337397001, 48.04950105531926],\n",
       "       [-91.37144805901079, 48.070455362582166],\n",
       "       [-91.25118962480666, 48.0835693731069],\n",
       "       [-91.11620579743258, 48.1667405941435],\n",
       "       [-91.02402467342412, 48.191065604117114],\n",
       "       [-90.96495216054838, 48.22224421260802]]],\n",
       "     [[[-94.75254894868809, 49.64063520223967],\n",
       "       [-94.7571969377686, 49.5769496941623],\n",
       "       [-94.81158845679377, 49.592213591574044],\n",
       "       [-94.87562077043962, 49.564908383048675],\n",
       "       [-94.90377767044698, 49.52183677554258],\n",
       "       [-95.05823790422889, 49.46095255556386],\n",
       "       [-95.13633942383414, 49.44351424706876],\n",
       "       [-95.15234991760677, 49.38662283887561],\n",
       "       [-95.12793380751822, 49.37137723902269],\n",
       "       [-95.01599217277861, 49.361662546972674],\n",
       "       [-94.91791055026312, 49.394854258991096],\n",
       "       [-94.95074416760004, 49.43494716118622],\n",
       "       [-94.85752864552498, 49.46310027219418],\n",
       "       [-94.80625113835349, 49.504609081403736],\n",
       "       [-94.6808075095081, 49.547501296809706],\n",
       "       [-94.60589320606717, 49.64493151470654],\n",
       "       [-94.73519844124628, 49.62870820221417],\n",
       "       [-94.75254894868809, 49.64063520223967]]],\n",
       "     [[[-94.64906653514615, 49.20502725753874],\n",
       "       [-94.7105442499595, 49.187464450426056],\n",
       "       [-94.74259955306722, 49.15371804369165],\n",
       "       [-94.71368163108245, 49.0815442371227],\n",
       "       [-94.63092371149669, 49.1070956469266],\n",
       "       [-94.52467389357946, 49.17891276432243],\n",
       "       [-94.55801090819307, 49.20446646479532],\n",
       "       [-94.64906653514615, 49.20502725753874]]],\n",
       "     [[[-94.579939297454, 49.11231185166315],\n",
       "       [-94.6318545052349, 49.0719711425108],\n",
       "       [-94.56039097308545, 49.011975540802766],\n",
       "       [-94.50367056625298, 49.06530945195546],\n",
       "       [-94.579939297454, 49.11231185166315]]],\n",
       "     [[[-94.72493009891193, 49.423928578204645],\n",
       "       [-94.8218418143407, 49.3548208619212],\n",
       "       [-94.77565859531234, 49.32626786217911],\n",
       "       [-94.71851098159125, 49.342766568821474],\n",
       "       [-94.69658318456112, 49.39250267667047],\n",
       "       [-94.72493009891193, 49.423928578204645]]],\n",
       "     [[[-94.6555257871314, 49.98464695146838],\n",
       "       [-94.63895446829005, 49.914048544392536],\n",
       "       [-94.57554944130325, 49.87264264462075],\n",
       "       [-94.55256124468653, 49.924816952756096],\n",
       "       [-94.6555257871314, 49.98464695146838]]]]},\n",
       "   'properties': {'OGF_ID': 71878002,\n",
       "    'PHU_ID': 2249,\n",
       "    'PHU_NAME_E': 'Northwestern Health Unit',\n",
       "    'PHU_NAME_F': 'Bureau de santé du Nord-Ouest',\n",
       "    'GEOMETRY_U': '1970-01-01T00:00:00.000Z',\n",
       "    'EFFECTIVE_': '2020-05-15T00:00:00.000Z',\n",
       "    'SYSTEM_DAT': '2020-05-15T00:00:00.000Z',\n",
       "    'OBJECTID': 689}},\n",
       "  {'type': 'Feature',\n",
       "   'geometry': {'type': 'Polygon',\n",
       "    'coordinates': [[[-79.75409764943213, 43.050580361311724],\n",
       "      [-79.98416052924973, 43.13204306512163],\n",
       "      [-79.97641132225878, 43.07971335618946],\n",
       "      [-80.05550613719126, 42.96344313181763],\n",
       "      [-80.24371420252906, 43.03215453525115],\n",
       "      [-80.54342679281434, 42.98487791274444],\n",
       "      [-80.50546257206089, 42.88406479661964],\n",
       "      [-80.70543513231466, 42.85454378192302],\n",
       "      [-80.74464974195241, 42.824013074633676],\n",
       "      [-80.71718983021397, 42.788241669563426],\n",
       "      [-80.7212358168752, 42.61980553929182],\n",
       "      [-80.62590528375901, 42.58206183700708],\n",
       "      [-80.52802835234161, 42.57345114004208],\n",
       "      [-80.44488452762728, 42.58941494678726],\n",
       "      [-80.42511782627913, 42.64621515789867],\n",
       "      [-80.37498991181207, 42.661109062906064],\n",
       "      [-80.29231599085146, 42.71977647726848],\n",
       "      [-80.22989217621814, 42.77817019062553],\n",
       "      [-80.0538075222068, 42.79504130181802],\n",
       "      [-79.9203073821877, 42.81938081234517],\n",
       "      [-79.84333305820343, 42.82297901653583],\n",
       "      [-79.69851011564215, 42.860479229905856],\n",
       "      [-79.63890429470321, 42.835651928184014],\n",
       "      [-79.58542087964949, 42.85765233457342],\n",
       "      [-79.48333204594336, 42.840892536219236],\n",
       "      [-79.43764313442134, 42.8758742445754],\n",
       "      [-79.51143596528648, 42.964732657131385],\n",
       "      [-79.75409764943213, 43.050580361311724]]]},\n",
       "   'properties': {'OGF_ID': 71877945,\n",
       "    'PHU_ID': 2234,\n",
       "    'PHU_NAME_E': 'Haldimand-Norfolk Health Unit',\n",
       "    'PHU_NAME_F': \"Bureau de santé d'Haldimand-Norfolk\",\n",
       "    'GEOMETRY_U': '1970-01-01T00:00:00.000Z',\n",
       "    'EFFECTIVE_': '2020-05-15T00:00:00.000Z',\n",
       "    'SYSTEM_DAT': '2020-05-15T00:00:00.000Z',\n",
       "    'OBJECTID': 705}},\n",
       "  {'type': 'Feature',\n",
       "   'geometry': {'type': 'Polygon',\n",
       "    'coordinates': [[[-79.51762989797795, 48.27625523600869],\n",
       "      [-80.14684830848057, 48.27582900278589],\n",
       "      [-81.0752112177381, 48.27765475277748],\n",
       "      [-81.07364419581943, 48.10346012664399],\n",
       "      [-81.07402893161508, 47.56816794507457],\n",
       "      [-81.07343890251727, 47.321770307075305],\n",
       "      [-80.27206933880069, 47.32022104938799],\n",
       "      [-80.27415690984664, 47.05640540794971],\n",
       "      [-80.29154500621186, 46.972346493802625],\n",
       "      [-80.22370268394106, 46.9724457973408],\n",
       "      [-80.22729396600104, 46.79881496967473],\n",
       "      [-79.88364935322375, 46.79892618733784],\n",
       "      [-79.88470144412719, 46.71145547334567],\n",
       "      [-79.75851210258956, 46.710538579612745],\n",
       "      [-79.75692421152007, 46.798499093723564],\n",
       "      [-79.62637126859272, 46.7987260003783],\n",
       "      [-79.63078529823099, 47.05939984154015],\n",
       "      [-79.41019862540604, 47.059855052795164],\n",
       "      [-79.44299654070855, 47.10100625764835],\n",
       "      [-79.42684625161083, 47.25007838197937],\n",
       "      [-79.5810380209284, 47.41512320000283],\n",
       "      [-79.58647652612956, 47.44564800449333],\n",
       "      [-79.54739312121092, 47.51783541775816],\n",
       "      [-79.51708421285667, 47.533173221701645],\n",
       "      [-79.51762989797795, 48.27625523600869]]]},\n",
       "   'properties': {'OGF_ID': 71878009,\n",
       "    'PHU_ID': 2263,\n",
       "    'PHU_NAME_E': 'Timiskaming Health Unit',\n",
       "    'PHU_NAME_F': 'Bureau de santé de Témiskamingue',\n",
       "    'GEOMETRY_U': '1970-01-01T00:00:00.000Z',\n",
       "    'EFFECTIVE_': '2020-05-15T00:00:00.000Z',\n",
       "    'SYSTEM_DAT': '2020-05-15T00:00:00.000Z',\n",
       "    'OBJECTID': 721}},\n",
       "  {'type': 'Feature',\n",
       "   'geometry': {'type': 'Polygon',\n",
       "    'coordinates': [[[-76.29621934018371, 45.46454053667709],\n",
       "      [-76.36174616119948, 45.45710363257789],\n",
       "      [-76.43351908799308, 45.49208513540044],\n",
       "      [-76.60798554916164, 45.531834634517885],\n",
       "      [-76.66001276891262, 45.56064223710685],\n",
       "      [-76.66979377755884, 45.621296546920284],\n",
       "      [-76.71194709545729, 45.665491252512474],\n",
       "      [-76.68695958915352, 45.68731945729157],\n",
       "      [-76.74456241141819, 45.72295586074143],\n",
       "      [-76.78139552924593, 45.78529116957774],\n",
       "      [-76.77872813618859, 45.87136178411758],\n",
       "      [-76.89484127710074, 45.89815528341946],\n",
       "      [-76.92757788740087, 45.892263980970576],\n",
       "      [-76.91199937468393, 45.809679867851344],\n",
       "      [-76.98498149666561, 45.78608636063594],\n",
       "      [-77.08156113313883, 45.83559206458909],\n",
       "      [-77.19033007170566, 45.86386996440941],\n",
       "      [-77.27840690873077, 45.9488986745905],\n",
       "      [-77.27633701362656, 46.00854878460249],\n",
       "      [-77.56608562376688, 46.15922969626974],\n",
       "      [-77.66911256143425, 46.19654289765319],\n",
       "      [-77.6904900673018, 46.18403069459958],\n",
       "      [-77.92681224930767, 46.224108090168215],\n",
       "      [-77.99993147589169, 46.24896119081517],\n",
       "      [-78.05592999389364, 46.2438927873464],\n",
       "      [-78.12994732134321, 46.27451328887147],\n",
       "      [-78.26049366438163, 46.27395308258909],\n",
       "      [-78.31236717936036, 46.25237997658941],\n",
       "      [-78.40357821344465, 46.2927505788422],\n",
       "      [-78.41248911445066, 46.2733253752405],\n",
       "      [-78.32810477164617, 46.12149815436691],\n",
       "      [-78.51297742756947, 46.071694537373794],\n",
       "      [-78.58907266651639, 46.21208185675848],\n",
       "      [-78.76097331835203, 46.16511714079038],\n",
       "      [-78.7983846375713, 46.23412875026343],\n",
       "      [-78.9771377915993, 46.1876042339822],\n",
       "      [-78.98708749665134, 46.205281136383505],\n",
       "      [-79.15775394800143, 46.159585620583705],\n",
       "      [-79.09366191491544, 46.039858704128285],\n",
       "      [-79.25797236409673, 45.99436678864132],\n",
       "      [-79.13036319815551, 45.75140835484884],\n",
       "      [-79.05439027459721, 45.763977860605365],\n",
       "      [-78.92817721080388, 45.5327226282752],\n",
       "      [-78.85943337700319, 45.41449491180544],\n",
       "      [-78.31481781317537, 45.56108396205418],\n",
       "      [-78.17830484493169, 45.30989162621366],\n",
       "      [-77.69096169725142, 45.43812817024545],\n",
       "      [-77.63600726772135, 45.31248505151949],\n",
       "      [-77.54143632151128, 45.14425602723483],\n",
       "      [-77.21580992308816, 45.23704505762047],\n",
       "      [-77.13748518515246, 45.09926823760787],\n",
       "      [-76.97074083449344, 45.14532085284565],\n",
       "      [-76.98235254154463, 45.182063258607485],\n",
       "      [-76.93200592753124, 45.21074436572093],\n",
       "      [-76.89151371270586, 45.19353706456767],\n",
       "      [-76.8147329899091, 45.221408472697156],\n",
       "      [-76.76980276820616, 45.14229466114835],\n",
       "      [-76.4278831744263, 45.358409812924116],\n",
       "      [-76.35396155456502, 45.410604325010084],\n",
       "      [-76.29621934018371, 45.46454053667709]]]},\n",
       "   'properties': {'OGF_ID': 71877941,\n",
       "    'PHU_ID': 2257,\n",
       "    'PHU_NAME_E': 'Renfrew County and District Health Unit',\n",
       "    'PHU_NAME_F': 'Bureau de santé du comté et du district de Renfrew',\n",
       "    'GEOMETRY_U': '1970-01-01T00:00:00.000Z',\n",
       "    'EFFECTIVE_': '2020-05-15T00:00:00.000Z',\n",
       "    'SYSTEM_DAT': '2020-05-15T00:00:00.000Z',\n",
       "    'OBJECTID': 737}},\n",
       "  {'type': 'Feature',\n",
       "   'geometry': {'type': 'Polygon',\n",
       "    'coordinates': [[[-79.11574491091916, 43.794454022216534],\n",
       "      [-79.17031943375656, 43.855456530375854],\n",
       "      [-79.63922387414868, 43.749907390083074],\n",
       "      [-79.58858195044697, 43.6648321775579],\n",
       "      [-79.58611544652581, 43.62940307145855],\n",
       "      [-79.5435011286932, 43.58109426495831],\n",
       "      [-79.4554050055922, 43.63752527896817],\n",
       "      [-79.34728257073, 43.63316848321492],\n",
       "      [-79.11574491091916, 43.794454022216534]]]},\n",
       "   'properties': {'OGF_ID': 71877938,\n",
       "    'PHU_ID': 3895,\n",
       "    'PHU_NAME_E': 'Toronto Public Health',\n",
       "    'PHU_NAME_F': 'Bureau de santé de Toronto',\n",
       "    'GEOMETRY_U': '1970-01-01T00:00:00.000Z',\n",
       "    'EFFECTIVE_': '2020-05-15T00:00:00.000Z',\n",
       "    'SYSTEM_DAT': '2020-05-15T00:00:00.000Z',\n",
       "    'OBJECTID': 753}},\n",
       "  {'type': 'Feature',\n",
       "   'geometry': {'type': 'Polygon',\n",
       "    'coordinates': [[[-79.62515674588649, 43.48105624355473],\n",
       "      [-79.6973658712366, 43.5082607449804],\n",
       "      [-79.8083391137567, 43.59009105416286],\n",
       "      [-79.78966570884693, 43.60165735706794],\n",
       "      [-79.96904747777373, 43.734423671834854],\n",
       "      [-80.16036802294714, 43.56111963247004],\n",
       "      [-80.03427687492025, 43.471075022639546],\n",
       "      [-79.86063860894383, 43.34746310901629],\n",
       "      [-79.91248142195785, 43.308456799704736],\n",
       "      [-79.86859820611402, 43.286325197842025],\n",
       "      [-79.79303438343865, 43.30097340395371],\n",
       "      [-79.79580248630425, 43.323734407849095],\n",
       "      [-79.71781456607941, 43.37547242062037],\n",
       "      [-79.62515674588649, 43.48105624355473]]]},\n",
       "   'properties': {'OGF_ID': 71877935,\n",
       "    'PHU_ID': 2236,\n",
       "    'PHU_NAME_E': 'Halton Region Health Department',\n",
       "    'PHU_NAME_F': 'Bureau de santé de la région de Halton',\n",
       "    'GEOMETRY_U': '1970-01-01T00:00:00.000Z',\n",
       "    'EFFECTIVE_': '2020-05-15T00:00:00.000Z',\n",
       "    'SYSTEM_DAT': '2020-05-15T00:00:00.000Z',\n",
       "    'OBJECTID': 769}},\n",
       "  {'type': 'Feature',\n",
       "   'geometry': {'type': 'MultiPolygon',\n",
       "    'coordinates': [[[[-77.54143632151128, 45.14425602723483],\n",
       "       [-77.63600726772135, 45.31248505151949],\n",
       "       [-77.69096169725142, 45.43812817024545],\n",
       "       [-78.17830484493169, 45.30989162621366],\n",
       "       [-77.96097653755568, 44.91151046852872],\n",
       "       [-77.884465999954, 44.76989964773029],\n",
       "       [-77.82839186916914, 44.628359725889936],\n",
       "       [-77.72737531956119, 44.43648209719901],\n",
       "       [-77.64619627904172, 44.27216577219793],\n",
       "       [-77.7521752100356, 44.23308776067614],\n",
       "       [-77.66134696391201, 44.03695043033193],\n",
       "       [-77.58774164199284, 44.059406637515536],\n",
       "       [-77.57202824054811, 44.10247674576924],\n",
       "       [-77.51924402392576, 44.10809594907382],\n",
       "       [-77.33565126945226, 44.16798986761858],\n",
       "       [-77.25232154331137, 44.178775073142496],\n",
       "       [-77.14734940780735, 44.16190807473966],\n",
       "       [-77.03910027574078, 44.199164785965614],\n",
       "       [-77.13883472495834, 44.3985303165343],\n",
       "       [-77.05544309960358, 44.41986512388476],\n",
       "       [-77.19008655640066, 44.57141554437779],\n",
       "       [-77.20750776170401, 44.567025242851976],\n",
       "       [-77.28834840234747, 44.73224056788962],\n",
       "       [-77.31384231009928, 44.72569716563345],\n",
       "       [-77.54143632151128, 45.14425602723483]]],\n",
       "     [[[-77.65454176042427, 44.02173782795755],\n",
       "       [-77.60305024514687, 44.03809023309665],\n",
       "       [-77.53668132125787, 44.00947763097544],\n",
       "       [-77.53250551604914, 43.963536923066975],\n",
       "       [-77.4840946972656, 43.92621021859874],\n",
       "       [-77.29791013976924, 43.959459132564554],\n",
       "       [-77.24670042220238, 43.947674332701496],\n",
       "       [-77.20700880180385, 43.856334918258675],\n",
       "       [-77.15540038365187, 43.83878371736999],\n",
       "       [-77.0417529510954, 43.89075883145954],\n",
       "       [-77.00936934056222, 43.890333632771444],\n",
       "       [-76.93813062068601, 43.929793242807705],\n",
       "       [-77.04256315620026, 43.94973384186287],\n",
       "       [-76.96523393666655, 44.01731085712229],\n",
       "       [-77.08389217756128, 44.046061757094506],\n",
       "       [-77.05886857909957, 44.162386178651],\n",
       "       [-77.073263484759, 44.17415388009688],\n",
       "       [-77.23820483502652, 44.13464876600864],\n",
       "       [-77.32124985889845, 44.098004755956275],\n",
       "       [-77.32970466531881, 44.141804463282604],\n",
       "       [-77.49740181672227, 44.10659504976841],\n",
       "       [-77.56943373578807, 44.05611023774045],\n",
       "       [-77.6611870638299, 44.03659093027577],\n",
       "       [-77.65454176042427, 44.02173782795755]]]]},\n",
       "   'properties': {'OGF_ID': 71877933,\n",
       "    'PHU_ID': 2238,\n",
       "    'PHU_NAME_E': 'Hastings and Prince Edward Counties Health Unit',\n",
       "    'PHU_NAME_F': 'Bureau de santé de Hastings et Prince Edward',\n",
       "    'GEOMETRY_U': '1970-01-01T00:00:00.000Z',\n",
       "    'EFFECTIVE_': '2020-05-15T00:00:00.000Z',\n",
       "    'SYSTEM_DAT': '2020-05-15T00:00:00.000Z',\n",
       "    'OBJECTID': 785}},\n",
       "  {'type': 'Feature',\n",
       "   'geometry': {'type': 'MultiPolygon',\n",
       "    'coordinates': [[[[-78.85943337700319, 45.41449491180544],\n",
       "       [-78.92817721080388, 45.5327226282752],\n",
       "       [-79.17265178433131, 45.47014220609753],\n",
       "       [-79.6725178332664, 45.334405659187745],\n",
       "       [-79.60629430014386, 45.21489854243825],\n",
       "       [-80.05357833265161, 45.09328440017234],\n",
       "       [-80.01058661243165, 45.028170991361684],\n",
       "       [-79.9255255825131, 45.00226859117579],\n",
       "       [-79.92178287448007, 44.93184777950131],\n",
       "       [-79.83151924641675, 44.942220485650104],\n",
       "       [-79.82329223713506, 44.873343174423944],\n",
       "       [-79.78582011929518, 44.8130413660417],\n",
       "       [-79.71120459235507, 44.78235336445015],\n",
       "       [-79.73306029504037, 44.73664135563905],\n",
       "       [-79.84910453418065, 44.75580265327707],\n",
       "       [-79.87337364690241, 44.80721416080794],\n",
       "       [-79.92306446807233, 44.86120256751851],\n",
       "       [-80.0035031937213, 44.858943263212],\n",
       "       [-80.05255600556414, 44.818329653955146],\n",
       "       [-80.11973512654298, 44.81215074962343],\n",
       "       [-80.12700832287707, 44.74998353875725],\n",
       "       [-80.0329728901201, 44.723155538806104],\n",
       "       [-79.9792092675577, 44.667664932008755],\n",
       "       [-80.01008597092253, 44.59900471883941],\n",
       "       [-79.99469506241321, 44.561355613177284],\n",
       "       [-80.05722297589463, 44.49220929835932],\n",
       "       [-80.11974589384015, 44.470372491599996],\n",
       "       [-80.20047772323197, 44.50787709406618],\n",
       "       [-80.29319625529511, 44.53308319382906],\n",
       "       [-80.22907450832246, 44.253392949172024],\n",
       "       [-80.0339622498968, 44.294860865716885],\n",
       "       [-79.95114629175595, 43.951461710441066],\n",
       "       [-79.77551993922904, 43.989793125433756],\n",
       "       [-79.63702649779411, 44.02061913733245],\n",
       "       [-79.55698107718413, 44.07557695063855],\n",
       "       [-79.54124177857526, 44.146300563626234],\n",
       "       [-79.51627177236196, 44.16587376818996],\n",
       "       [-79.5089783935667, 44.4223653127206],\n",
       "       [-79.2424520113459, 44.45979253175579],\n",
       "       [-79.16370798703615, 44.47107143739863],\n",
       "       [-79.15435838652785, 44.49835414252373],\n",
       "       [-79.08186586477589, 44.515828148928335],\n",
       "       [-79.20924403219718, 44.800038691485156],\n",
       "       [-79.06294668867274, 44.84015090523779],\n",
       "       [-79.09355600821074, 44.94295822124383],\n",
       "       [-78.93439596067343, 44.98565103601468],\n",
       "       [-79.00109199357223, 45.10529015309231],\n",
       "       [-78.84256134587346, 45.14506136731565],\n",
       "       [-78.9075243794499, 45.27646868636778],\n",
       "       [-78.97139851056694, 45.38445970143825],\n",
       "       [-78.85943337700319, 45.41449491180544]]],\n",
       "     [[[-80.23553737052555, 44.88220235574874],\n",
       "       [-80.24516306887931, 44.83355654707644],\n",
       "       [-80.19030674899669, 44.81008114581242],\n",
       "       [-80.15191663848955, 44.828823350860745],\n",
       "       [-80.17452454986237, 44.871200956897994],\n",
       "       [-80.23553737052555, 44.88220235574874]]]]},\n",
       "   'properties': {'OGF_ID': 71877929,\n",
       "    'PHU_ID': 2260,\n",
       "    'PHU_NAME_E': 'Simcoe Muskoka District Health Unit',\n",
       "    'PHU_NAME_F': 'Bureau de santé du comté de Simcoe',\n",
       "    'GEOMETRY_U': '1970-01-01T00:00:00.000Z',\n",
       "    'EFFECTIVE_': '2020-05-15T00:00:00.000Z',\n",
       "    'SYSTEM_DAT': '2020-05-15T00:00:00.000Z',\n",
       "    'OBJECTID': 801}},\n",
       "  {'type': 'Feature',\n",
       "   'geometry': {'type': 'Polygon',\n",
       "    'coordinates': [[[-78.5163011451985, 44.09878240288469],\n",
       "      [-78.69268789842369, 44.0584484878024],\n",
       "      [-78.77007833828164, 44.22740241364331],\n",
       "      [-78.90314287896298, 44.20343540334367],\n",
       "      [-78.92208858061836, 44.15374269384224],\n",
       "      [-79.08186586477589, 44.515828148928335],\n",
       "      [-79.15435838652785, 44.49835414252373],\n",
       "      [-79.16370798703615, 44.47107143739863],\n",
       "      [-79.2424520113459, 44.45979253175579],\n",
       "      [-79.15610036565454, 44.26317450192772],\n",
       "      [-79.32800131723552, 44.22332648698636],\n",
       "      [-79.17031943375656, 43.855456530375854],\n",
       "      [-79.11574491091916, 43.794454022216534],\n",
       "      [-78.81860892221594, 43.86847684882956],\n",
       "      [-78.71179978787366, 43.86765695355932],\n",
       "      [-78.61981346098693, 43.89813526308775],\n",
       "      [-78.47012771297922, 43.89927517006994],\n",
       "      [-78.43693380340679, 43.91202877380742],\n",
       "      [-78.50965984172187, 44.083502800520606],\n",
       "      [-78.5163011451985, 44.09878240288469]]]},\n",
       "   'properties': {'OGF_ID': 71877925,\n",
       "    'PHU_ID': 2230,\n",
       "    'PHU_NAME_E': 'Durham Region Health Department',\n",
       "    'PHU_NAME_F': 'Bureau de santé de Durham',\n",
       "    'GEOMETRY_U': '1970-01-01T00:00:00.000Z',\n",
       "    'EFFECTIVE_': '2020-05-15T00:00:00.000Z',\n",
       "    'SYSTEM_DAT': '2020-05-15T00:00:00.000Z',\n",
       "    'OBJECTID': 817}},\n",
       "  {'type': 'Feature',\n",
       "   'geometry': {'type': 'Polygon',\n",
       "    'coordinates': [[[-79.51762989797795, 48.27625523600869],\n",
       "      [-79.51732777930107, 48.958119338418584],\n",
       "      [-79.51782393262872, 49.38829550174316],\n",
       "      [-79.51766167838467, 49.750030454273485],\n",
       "      [-79.51747203220972, 50.1654018137454],\n",
       "      [-79.51794107681349, 50.50003056096201],\n",
       "      [-79.51895495397343, 51.06229753895311],\n",
       "      [-79.51565220892965, 51.46083629344191],\n",
       "      [-79.57260242846306, 51.457843189865784],\n",
       "      [-79.61662453760516, 51.413877281464146],\n",
       "      [-79.679802258053, 51.40223237635946],\n",
       "      [-79.74456047031524, 51.32953816288699],\n",
       "      [-79.68677644345927, 51.28262075974417],\n",
       "      [-79.75393565314315, 51.18554554277527],\n",
       "      [-79.79827016463516, 51.15756153648004],\n",
       "      [-79.90393650407114, 51.176189833102484],\n",
       "      [-79.99021014376515, 51.24386983745799],\n",
       "      [-80.0600380702084, 51.25868633552671],\n",
       "      [-80.11344769344412, 51.29089983686995],\n",
       "      [-80.2118077284804, 51.2963691320239],\n",
       "      [-80.38444249480274, 51.33934292797165],\n",
       "      [-80.43214171619614, 51.37212702965358],\n",
       "      [-80.42795842645528, 51.451828640610664],\n",
       "      [-80.44683413908088, 51.49280514502027],\n",
       "      [-80.49849116171667, 51.52405914622553],\n",
       "      [-80.57018120783731, 51.66546746093426],\n",
       "      [-80.57425761623891, 51.71186906686108],\n",
       "      [-80.74017579363604, 51.83975177409231],\n",
       "      [-80.91191736605498, 51.92018857456687],\n",
       "      [-80.98909170721593, 52.01144388194656],\n",
       "      [-81.09803315053145, 52.0446249797982],\n",
       "      [-81.16015117174629, 52.04132027566135],\n",
       "      [-81.362172052085, 52.1026848715234],\n",
       "      [-81.45819460164671, 52.202790678680344],\n",
       "      [-81.48004761801776, 52.25705778435299],\n",
       "      [-81.56053175091702, 52.286277583222635],\n",
       "      [-81.5248205459313, 52.332738591362315],\n",
       "      [-81.56282046889254, 52.392045296647666],\n",
       "      [-81.5430015676672, 52.42717360234866],\n",
       "      [-81.68975553641269, 52.532081906736934],\n",
       "      [-81.76478677507751, 52.60632131153566],\n",
       "      [-81.87789972391622, 52.66073711142089],\n",
       "      [-81.9249887473799, 52.70188691368581],\n",
       "      [-81.95958617238387, 52.7779024210873],\n",
       "      [-82.11151794349902, 52.88140102453793],\n",
       "      [-82.24935979962203, 52.925547021365276],\n",
       "      [-82.28178271813798, 52.96658522441532],\n",
       "      [-82.2874709366025, 53.06123323577457],\n",
       "      [-82.26076534607165, 53.16921795078013],\n",
       "      [-82.16137222425934, 53.24520246641107],\n",
       "      [-82.11479141108896, 53.26414757168097],\n",
       "      [-82.12549512734195, 53.33484767966459],\n",
       "      [-82.21788320588519, 53.59101730493594],\n",
       "      [-82.1799515124892, 53.702349020778534],\n",
       "      [-82.1355241068595, 53.75873393038932],\n",
       "      [-82.12632901469432, 53.81982693829996],\n",
       "      [-82.2343000918891, 54.02914425630856],\n",
       "      [-82.34938595033049, 54.12101095973877],\n",
       "      [-82.42591419454116, 54.20981666521807],\n",
       "      [-82.42446831529494, 54.32190117842529],\n",
       "      [-82.32055501208879, 54.501128406028926],\n",
       "      [-82.29007593000877, 54.65116722533976],\n",
       "      [-82.21495392395472, 54.76037884277694],\n",
       "      [-82.19897403299457, 54.83646265252209],\n",
       "      [-82.26142626601417, 54.888819354414586],\n",
       "      [-82.25814618600637, 54.996107066813394],\n",
       "      [-82.27381940158467, 55.04573337140057],\n",
       "      [-82.25317840674622, 55.10948547994839],\n",
       "      [-82.41730895996199, 55.07563766533657],\n",
       "      [-82.4533195812629, 55.116231567527706],\n",
       "      [-82.51942950101544, 55.09443056070378],\n",
       "      [-82.56506442576178, 55.134520662182005],\n",
       "      [-82.6677614708442, 55.171939459545435],\n",
       "      [-82.78067460320402, 55.12854974715457],\n",
       "      [-82.88635554574577, 55.148314542288674],\n",
       "      [-82.91095686477472, 55.197409646115524],\n",
       "      [-82.97213339253022, 55.22390284494883],\n",
       "      [-83.14234384914597, 55.19785123055416],\n",
       "      [-83.20869237653861, 55.213529727796946],\n",
       "      [-83.33875442072562, 55.198619317294316],\n",
       "      [-83.43697835862042, 55.20923511176418],\n",
       "      [-83.54941510638238, 55.24230820771561],\n",
       "      [-83.6927948638224, 55.267921800667004],\n",
       "      [-83.7489571809666, 55.25270839511078],\n",
       "      [-83.88334253857586, 55.29455539039653],\n",
       "      [-83.9375370581544, 55.294287986597546],\n",
       "      [-84.07350309848236, 55.25280297256235],\n",
       "      [-84.19774424953341, 55.28140436699721],\n",
       "      [-84.30673688817753, 55.27805135896813],\n",
       "      [-84.50949035266237, 55.238221440295526],\n",
       "      [-84.78758315229675, 55.23640032031701],\n",
       "      [-84.81356306510283, 55.25225642018691],\n",
       "      [-84.98079723109774, 55.27924401112676],\n",
       "      [-85.09935586949796, 55.26055670055994],\n",
       "      [-85.12606979528145, 55.33358150653331],\n",
       "      [-85.22460823938681, 55.372764103621066],\n",
       "      [-85.3320975801336, 55.38252869685747],\n",
       "      [-85.40227121080504, 55.4070120943698],\n",
       "      [-85.57848629719406, 55.50925439238692],\n",
       "      [-85.6525383377347, 55.57026529341787],\n",
       "      [-85.77292468694048, 55.59638558728578],\n",
       "      [-85.90282334722427, 55.65544218387361],\n",
       "      [-86.05187540371318, 55.66856357413313],\n",
       "      [-86.26000838731335, 55.707186362563384],\n",
       "      [-86.37204544102808, 55.764661760106726],\n",
       "      [-86.68623757186268, 55.84177284422086],\n",
       "      [-86.90190476651702, 55.91432033514908],\n",
       "      [-86.99817940231563, 55.92016342832645],\n",
       "      [-86.99693818178939, 54.99207253108581],\n",
       "      [-86.5491910255985, 54.99705266539986],\n",
       "      [-86.55101881539868, 54.50005611099683],\n",
       "      [-86.55241341215398, 54.01928085717421],\n",
       "      [-86.5527991039693, 53.50005839778185],\n",
       "      [-86.55242480303149, 53.00005863932233],\n",
       "      [-86.55959400715182, 52.49597167853782],\n",
       "      [-86.55361651157381, 52.000060518393965],\n",
       "      [-86.54795322178953, 51.518937258819015],\n",
       "      [-86.54809187390994, 51.25005722477537],\n",
       "      [-86.54833268707131, 50.75005786048905],\n",
       "      [-86.54855510755745, 50.277542298567326],\n",
       "      [-86.54910115724715, 49.97012345764552],\n",
       "      [-86.05383679583652, 49.96876839073538],\n",
       "      [-85.77188130418511, 49.9714913098382],\n",
       "      [-85.33291556005936, 49.969557538447454],\n",
       "      [-85.33196906359109, 49.34510725283824],\n",
       "      [-85.33267982048045, 49.05527991235669],\n",
       "      [-85.18893097569011, 49.06778092329306],\n",
       "      [-84.61115698831254, 49.072408660473315],\n",
       "      [-82.63503103696804, 49.062167979239156],\n",
       "      [-82.6342344547673, 48.450594590245196],\n",
       "      [-81.85659229825207, 48.44989543480653],\n",
       "      [-81.85689875449033, 48.103909583210154],\n",
       "      [-81.07364419581943, 48.10346012664399],\n",
       "      [-81.0752112177381, 48.27765475277748],\n",
       "      [-80.14684830848057, 48.27582900278589],\n",
       "      [-79.51762989797795, 48.27625523600869]]]},\n",
       "   'properties': {'OGF_ID': 71877915,\n",
       "    'PHU_ID': 2256,\n",
       "    'PHU_NAME_E': 'Porcupine Health Unit',\n",
       "    'PHU_NAME_F': 'Bureau de santé Porcupine',\n",
       "    'GEOMETRY_U': '1970-01-01T00:00:00.000Z',\n",
       "    'EFFECTIVE_': '2020-05-15T00:00:00.000Z',\n",
       "    'SYSTEM_DAT': '2020-05-15T00:00:00.000Z',\n",
       "    'OBJECTID': 833}},\n",
       "  {'type': 'Feature',\n",
       "   'geometry': {'type': 'MultiPolygon',\n",
       "    'coordinates': [[[[-82.31261537418081, 46.18601726155292],\n",
       "       [-82.31294298465723, 46.27755817607792],\n",
       "       [-82.19243734596462, 46.277790282685146],\n",
       "       [-82.19262105621327, 46.36756139691061],\n",
       "       [-82.06796701598253, 46.36665650355281],\n",
       "       [-82.06925634593655, 46.62512664428713],\n",
       "       [-81.94475710571241, 46.62518795109089],\n",
       "       [-81.94991004809191, 46.976113105725624],\n",
       "       [-82.5786851518365, 46.97715527099113],\n",
       "       [-82.57724148254944, 47.23564741090206],\n",
       "       [-83.27538660818618, 47.23558037108064],\n",
       "       [-83.97493263313282, 47.236168830416965],\n",
       "       [-83.97375022329797, 47.93411183496139],\n",
       "       [-84.01638873707925, 47.93411093240636],\n",
       "       [-84.01458990606447, 48.44963230806952],\n",
       "       [-83.59008296769024, 48.44913733359855],\n",
       "       [-82.6342344547673, 48.450594590245196],\n",
       "       [-82.63503103696804, 49.062167979239156],\n",
       "       [-84.61115698831254, 49.072408660473315],\n",
       "       [-85.18893097569011, 49.06778092329306],\n",
       "       [-85.33267982048045, 49.05527991235669],\n",
       "       [-85.33149697728686, 48.76363797131336],\n",
       "       [-85.3336605959195, 48.188991388900014],\n",
       "       [-85.3295457612275, 47.94914295432377],\n",
       "       [-85.1961503200619, 47.96009076421999],\n",
       "       [-84.95111414193991, 47.96301517981199],\n",
       "       [-84.85904121167005, 47.95771858470684],\n",
       "       [-84.83842420003013, 47.92081868056376],\n",
       "       [-84.91160321407025, 47.85136836587084],\n",
       "       [-84.93030141302174, 47.79939255707799],\n",
       "       [-84.89706650039503, 47.78470585695418],\n",
       "       [-84.96074151344061, 47.73032824503378],\n",
       "       [-85.01157662659948, 47.70735763852572],\n",
       "       [-84.98322451180952, 47.66476903397593],\n",
       "       [-85.03915762193816, 47.60711542202153],\n",
       "       [-84.94936068657846, 47.55699852008771],\n",
       "       [-84.96075408765572, 47.53778321654014],\n",
       "       [-84.71965999527303, 47.42110841380848],\n",
       "       [-84.70683498499005, 47.37387070751917],\n",
       "       [-84.62398445443591, 47.342404507797596],\n",
       "       [-84.5895101357975, 47.28364210104735],\n",
       "       [-84.71311426250362, 47.18554157886578],\n",
       "       [-84.7118612513276, 47.10195106633427],\n",
       "       [-84.78387876563774, 47.035109451913534],\n",
       "       [-84.77927065641738, 46.97453644301865],\n",
       "       [-84.71695873384513, 46.952701843433715],\n",
       "       [-84.65771781531652, 46.95497784731506],\n",
       "       [-84.65276910895376, 46.91726844188046],\n",
       "       [-84.5768606884723, 46.94595975076087],\n",
       "       [-84.51645546598259, 46.920024850404495],\n",
       "       [-84.47900855651216, 46.93932835556415],\n",
       "       [-84.36231771324265, 46.89062845504676],\n",
       "       [-84.35512510827047, 46.86925045220742],\n",
       "       [-84.41418842031257, 46.815442440500014],\n",
       "       [-84.44381463340521, 46.84475484322975],\n",
       "       [-84.53649166120344, 46.83162383574093],\n",
       "       [-84.57768466228696, 46.73606331869564],\n",
       "       [-84.5730841558491, 46.69623271286719],\n",
       "       [-84.52004683930814, 46.69845181633954],\n",
       "       [-84.50722914122825, 46.74641062444467],\n",
       "       [-84.44248042103608, 46.74931882871095],\n",
       "       [-84.43833681051676, 46.67538411761459],\n",
       "       [-84.59290604745858, 46.57832249359286],\n",
       "       [-84.65949736470294, 46.54746858491797],\n",
       "       [-84.55659662147362, 46.460905477630156],\n",
       "       [-84.47638389515018, 46.45315998113687],\n",
       "       [-84.42282138404298, 46.500827691640154],\n",
       "       [-84.34239485937697, 46.50747529737108],\n",
       "       [-84.26425573302281, 46.494543799930405],\n",
       "       [-84.22637402587037, 46.53433270829167],\n",
       "       [-84.12958409467791, 46.53051981333321],\n",
       "       [-84.11135748567752, 46.50415131030854],\n",
       "       [-84.14669858647886, 46.41839799495829],\n",
       "       [-84.10832105297467, 46.24117436957103],\n",
       "       [-84.07746093673411, 46.18699036287326],\n",
       "       [-84.0082618104827, 46.15042616111643],\n",
       "       [-83.95587578289296, 46.057287749480466],\n",
       "       [-83.891538665609, 46.083416157263244],\n",
       "       [-83.87253286853506, 46.15922237026244],\n",
       "       [-83.833283053286, 46.13543326876496],\n",
       "       [-83.78711844437538, 46.183947779017466],\n",
       "       [-83.81206065648864, 46.219446283164],\n",
       "       [-83.92908710286697, 46.297175688629096],\n",
       "       [-83.78685065799017, 46.299482997138405],\n",
       "       [-83.69834422655207, 46.27151919781195],\n",
       "       [-83.62651640409898, 46.274705202399865],\n",
       "       [-83.49929356030816, 46.24648990518946],\n",
       "       [-83.39911482736838, 46.237495409437],\n",
       "       [-83.33674130536788, 46.21921191007452],\n",
       "       [-83.10774242973503, 46.196449019327005],\n",
       "       [-83.0504993084274, 46.170092918356104],\n",
       "       [-82.91485966670709, 46.18375142806246],\n",
       "       [-82.83714534105266, 46.17654893123148],\n",
       "       [-82.69624119857654, 46.19904964258566],\n",
       "       [-82.67812188966741, 46.17182143926687],\n",
       "       [-82.55797495046964, 46.16527834483583],\n",
       "       [-82.47076922605065, 46.19621535453215],\n",
       "       [-82.44048271500294, 46.18440585431408],\n",
       "       [-82.31261537418081, 46.18601726155292]]],\n",
       "     [[[-82.05752088277546, 46.101159561851254],\n",
       "       [-82.05643929090692, 46.177038974026516],\n",
       "       [-82.09744810335508, 46.170524470769834],\n",
       "       [-82.25680815666782, 46.18952516515007],\n",
       "       [-82.3113430737511, 46.185826761591905],\n",
       "       [-82.3128972690368, 46.13961815415009],\n",
       "       [-82.2237313407712, 46.14261525947508],\n",
       "       [-82.184296625228, 46.11686705750625],\n",
       "       [-82.05937288333591, 46.10085226170225],\n",
       "       [-82.05807898294434, 46.101066961806396],\n",
       "       [-82.05752088277546, 46.101159561851254]]],\n",
       "     [[[-82.13076220058598, 46.050034849720454],\n",
       "       [-82.14107620482275, 46.058364150496054],\n",
       "       [-82.16763291128653, 46.03994034611299],\n",
       "       [-82.15761240778683, 46.03736954624307],\n",
       "       [-82.15167720534943, 46.032573745796],\n",
       "       [-82.11439109478984, 46.045146049821746],\n",
       "       [-82.11443659487611, 46.04579014992244],\n",
       "       [-82.11465739496089, 46.045915549930605],\n",
       "       [-82.13076220058598, 46.050034849720454]]]]},\n",
       "   'properties': {'OGF_ID': 71877923,\n",
       "    'PHU_ID': 2226,\n",
       "    'PHU_NAME_E': 'Algoma Public Health Unit',\n",
       "    'PHU_NAME_F': 'Santé publique Algoma',\n",
       "    'GEOMETRY_U': '1970-01-01T00:00:00.000Z',\n",
       "    'EFFECTIVE_': '2020-05-15T00:00:00.000Z',\n",
       "    'SYSTEM_DAT': '2020-05-15T00:00:00.000Z',\n",
       "    'OBJECTID': 849}}]}"
      ]
     },
     "execution_count": 24,
     "metadata": {},
     "output_type": "execute_result"
    }
   ],
   "source": [
    "phu_data"
   ]
  },
  {
   "cell_type": "code",
   "execution_count": 16,
   "metadata": {},
   "outputs": [],
   "source": [
    "recent_df.to_csv(\"../recent_phu.csv\")"
   ]
  },
  {
   "cell_type": "code",
   "execution_count": 29,
   "metadata": {},
   "outputs": [
    {
     "data": {
      "application/vnd.plotly.v1+json": {
       "config": {
        "plotlyServerURL": "https://plot.ly"
       },
       "data": [
        {
         "coloraxis": "coloraxis",
         "featureidkey": "properties.PHU_ID",
         "geojson": {
          "features": [
           {
            "geometry": {
             "coordinates": [
              [
               [
                -79.17031943375656,
                43.855456530375854
               ],
               [
                -79.32800131723552,
                44.22332648698636
               ],
               [
                -79.15610036565454,
                44.26317450192772
               ],
               [
                -79.2424520113459,
                44.45979253175579
               ],
               [
                -79.5089783935667,
                44.4223653127206
               ],
               [
                -79.51627177236196,
                44.16587376818996
               ],
               [
                -79.54124177857526,
                44.146300563626234
               ],
               [
                -79.55698107718413,
                44.07557695063855
               ],
               [
                -79.63702649779411,
                44.02061913733245
               ],
               [
                -79.77551993922904,
                43.989793125433756
               ],
               [
                -79.63922387414868,
                43.749907390083074
               ],
               [
                -79.17031943375656,
                43.855456530375854
               ]
              ]
             ],
             "type": "Polygon"
            },
            "properties": {
             "EFFECTIVE_": "2020-05-15T00:00:00.000Z",
             "GEOMETRY_U": "1970-01-01T00:00:00.000Z",
             "OBJECTID": 321,
             "OGF_ID": 71878062,
             "PHU_ID": 2270,
             "PHU_NAME_E": "York Region Public Health",
             "PHU_NAME_F": "Service de santé de la région de York",
             "SYSTEM_DAT": "2020-05-15T00:00:00.000Z"
            },
            "type": "Feature"
           },
           {
            "geometry": {
             "coordinates": [
              [
               [
                -80.99171422557492,
                43.986454166039756
               ],
               [
                -81.36774143884844,
                43.92756913728022
               ],
               [
                -81.38325044187707,
                43.908009533148636
               ],
               [
                -81.74561977022077,
                44.05413743995844
               ],
               [
                -81.72313195213333,
                43.94061272170176
               ],
               [
                -81.7195759361632,
                43.78605949537441
               ],
               [
                -81.72904413072769,
                43.697878679724
               ],
               [
                -81.70607860772677,
                43.53097815204139
               ],
               [
                -81.70979449644304,
                43.39815132881296
               ],
               [
                -81.75864600423239,
                43.317583612372616
               ],
               [
                -81.77368990150833,
                43.23752759767156
               ],
               [
                -81.46526720800465,
                43.270684818664606
               ],
               [
                -81.4305157991417,
                43.2928016242347
               ],
               [
                -81.22449202633543,
                43.20336491863763
               ],
               [
                -81.13222419992108,
                43.2314839280521
               ],
               [
                -80.7357382861822,
                43.35336896858011
               ],
               [
                -80.73726069155299,
                43.40744967798384
               ],
               [
                -80.79636531574,
                43.46844828580222
               ],
               [
                -80.86900304136147,
                43.49810218746422
               ],
               [
                -80.75456071901672,
                43.64847401920541
               ],
               [
                -80.87367946133595,
                43.69907162220107
               ],
               [
                -80.76254013941792,
                43.841658552316204
               ],
               [
                -80.95331169797562,
                43.822260439633496
               ],
               [
                -80.99171422557492,
                43.986454166039756
               ]
              ]
             ],
             "type": "Polygon"
            },
            "properties": {
             "EFFECTIVE_": "2020-05-15T00:00:00.000Z",
             "GEOMETRY_U": "2020-05-15T00:00:00.000Z",
             "OBJECTID": 337,
             "OGF_ID": 71878005,
             "PHU_ID": 5183,
             "PHU_NAME_E": "Huron Perth Health Unit",
             "PHU_NAME_F": "Circonscription Sanitaire de Huron et Perth",
             "SYSTEM_DAT": "2020-05-15T00:00:00.000Z"
            },
            "type": "Feature"
           },
           {
            "geometry": {
             "coordinates": [
              [
               [
                -80.20477552240406,
                43.39759250167024
               ],
               [
                -80.26956794199627,
                43.387350696801064
               ],
               [
                -80.30581826104238,
                43.472076109956525
               ],
               [
                -80.3739758880878,
                43.53287841735827
               ],
               [
                -80.38303459373401,
                43.56363882230483
               ],
               [
                -80.55754676046372,
                43.68964963589655
               ],
               [
                -80.59556916993463,
                43.661635529187556
               ],
               [
                -80.60805686726005,
                43.58914671595737
               ],
               [
                -80.75456071901672,
                43.64847401920541
               ],
               [
                -80.86900304136147,
                43.49810218746422
               ],
               [
                -80.79636531574,
                43.46844828580222
               ],
               [
                -80.73726069155299,
                43.40744967798384
               ],
               [
                -80.7357382861822,
                43.35336896858011
               ],
               [
                -80.73488218209086,
                43.31098536118391
               ],
               [
                -80.50361171246102,
                43.34805877876502
               ],
               [
                -80.47151979507835,
                43.26686476600921
               ],
               [
                -80.23861442502017,
                43.306475384028445
               ],
               [
                -80.18764601216257,
                43.34331519292703
               ],
               [
                -80.20477552240406,
                43.39759250167024
               ]
              ]
             ],
             "type": "Polygon"
            },
            "properties": {
             "EFFECTIVE_": "2020-05-15T00:00:00.000Z",
             "GEOMETRY_U": "1970-01-01T00:00:00.000Z",
             "OBJECTID": 353,
             "OGF_ID": 71878059,
             "PHU_ID": 2265,
             "PHU_NAME_E": "Region of Waterloo, Public Health",
             "PHU_NAME_F": "Bureau de santé de la région de Waterloo",
             "SYSTEM_DAT": "2020-05-15T00:00:00.000Z"
            },
            "type": "Feature"
           },
           {
            "geometry": {
             "coordinates": [
              [
               [
                -80.47151979507835,
                43.26686476600921
               ],
               [
                -80.50361171246102,
                43.34805877876502
               ],
               [
                -80.73488218209086,
                43.31098536118391
               ],
               [
                -80.7357382861822,
                43.35336896858011
               ],
               [
                -81.13222419992108,
                43.2314839280521
               ],
               [
                -81.03759865351607,
                43.0461370000115
               ],
               [
                -80.99366523496175,
                42.99268239268038
               ],
               [
                -80.92278711344778,
                43.00086199752404
               ],
               [
                -80.89877089809622,
                42.912660483052704
               ],
               [
                -81.08089765275935,
                42.88524866947971
               ],
               [
                -81.11475466207014,
                42.87068076527361
               ],
               [
                -81.48662066996928,
                42.77695093073791
               ],
               [
                -81.56022539022052,
                42.746607221794854
               ],
               [
                -81.62857050583807,
                42.682895407183125
               ],
               [
                -81.68487922465263,
                42.697222306990376
               ],
               [
                -81.8109283558707,
                42.607587084958595
               ],
               [
                -81.83469226329899,
                42.60805108388425
               ],
               [
                -81.6685576996555,
                42.472616067836995
               ],
               [
                -81.57235327565084,
                42.53977148445127
               ],
               [
                -81.34373371361444,
                42.64418811404965
               ],
               [
                -81.24715108521134,
                42.663988422207254
               ],
               [
                -81.00814060974449,
                42.6551416320363
               ],
               [
                -80.90830867893587,
                42.66002073764585
               ],
               [
                -80.79369174162976,
                42.643635440139676
               ],
               [
                -80.7212358168752,
                42.61980553929182
               ],
               [
                -80.71718983021397,
                42.788241669563426
               ],
               [
                -80.74464974195241,
                42.824013074633676
               ],
               [
                -80.70543513231466,
                42.85454378192302
               ],
               [
                -80.50546257206089,
                42.88406479661964
               ],
               [
                -80.54342679281434,
                42.98487791274444
               ],
               [
                -80.60868522808155,
                43.15166893916863
               ],
               [
                -80.43645627625256,
                43.17940565224669
               ],
               [
                -80.47151979507835,
                43.26686476600921
               ]
              ]
             ],
             "type": "Polygon"
            },
            "properties": {
             "EFFECTIVE_": "2020-05-15T00:00:00.000Z",
             "GEOMETRY_U": "2020-05-15T00:00:00.000Z",
             "OBJECTID": 369,
             "OGF_ID": 71878029,
             "PHU_ID": 4913,
             "PHU_NAME_E": "Southwestern Public Health",
             "PHU_NAME_F": "Bureau de santé du Sud-Ouest",
             "SYSTEM_DAT": "2020-05-15T00:00:00.000Z"
            },
            "type": "Feature"
           },
           {
            "geometry": {
             "coordinates": [
              [
               [
                -79.79303438343865,
                43.30097340395371
               ],
               [
                -79.86859820611402,
                43.286325197842025
               ],
               [
                -79.91248142195785,
                43.308456799704736
               ],
               [
                -79.86063860894383,
                43.34746310901629
               ],
               [
                -80.03427687492025,
                43.471075022639546
               ],
               [
                -80.07858878426407,
                43.41811921124014
               ],
               [
                -80.20477552240406,
                43.39759250167024
               ],
               [
                -80.18764601216257,
                43.34331519292703
               ],
               [
                -80.23861442502017,
                43.306475384028445
               ],
               [
                -80.20055150453396,
                43.21070386891734
               ],
               [
                -79.98416052924973,
                43.13204306512163
               ],
               [
                -79.75409764943213,
                43.050580361311724
               ],
               [
                -79.70969974442757,
                43.15580518208478
               ],
               [
                -79.65861152721922,
                43.14398148234281
               ],
               [
                -79.62223582274684,
                43.22589149857208
               ],
               [
                -79.75028036525732,
                43.247851296537156
               ],
               [
                -79.79303438343865,
                43.30097340395371
               ]
              ]
             ],
             "type": "Polygon"
            },
            "properties": {
             "EFFECTIVE_": "2020-05-15T00:00:00.000Z",
             "GEOMETRY_U": "1970-01-01T00:00:00.000Z",
             "OBJECTID": 385,
             "OGF_ID": 71878057,
             "PHU_ID": 2237,
             "PHU_NAME_E": "Hamilton Public Health Services",
             "PHU_NAME_F": "Services de santé publique de Hamilton",
             "SYSTEM_DAT": "2020-05-15T00:00:00.000Z"
            },
            "type": "Feature"
           },
           {
            "geometry": {
             "coordinates": [
              [
               [
                [
                 -86.99817940231563,
                 55.92016342832645
                ],
                [
                 -87.20560047982582,
                 55.93461991374292
                ],
                [
                 -87.31604852450349,
                 55.95623780735309
                ],
                [
                 -87.47786299707934,
                 56.01643780081882
                ],
                [
                 -87.50907021779071,
                 56.05480440225228
                ],
                [
                 -87.62632546936719,
                 56.093907496973074
                ],
                [
                 -87.72992184231381,
                 56.23588490301757
                ],
                [
                 -87.94832106589726,
                 56.41294420319359
                ],
                [
                 -87.96579108361907,
                 56.45698770613139
                ],
                [
                 -88.08165393577468,
                 56.49806660086777
                ],
                [
                 -88.21990319140879,
                 56.521866992059714
                ],
                [
                 -88.36556825695484,
                 56.57303438525704
                ],
                [
                 -88.48770362021696,
                 56.64667068246192
                ],
                [
                 -88.66045399588323,
                 56.69875747336557
                ],
                [
                 -88.69628281904924,
                 56.73705767410285
                ],
                [
                 -88.83071708384631,
                 56.79879186894532
                ],
                [
                 -88.87538091589177,
                 56.85745137083946
                ],
                [
                 -88.98650205266874,
                 56.84705576065868
                ],
                [
                 -89.72617839141772,
                 56.39942895628097
                ],
                [
                 -90.4332216174834,
                 55.956922953937855
                ],
                [
                 -91.00000911389505,
                 55.59119097002184
                ],
                [
                 -91.00000892425024,
                 55.25000943620121
                ],
                [
                 -91.00000879664599,
                 54.7500093855723
                ],
                [
                 -91.0000086733591,
                 54.25000933368036
                ],
                [
                 -91.00000859561058,
                 53.92566599934503
                ],
                [
                 -90.83486674106554,
                 53.925851412975554
                ],
                [
                 -90.83896592694754,
                 53.860178005604354
                ],
                [
                 -90.8737582317487,
                 53.83169979968951
                ],
                [
                 -91.00000867396234,
                 53.8340650895522
                ],
                [
                 -91.00000859614555,
                 53.500009253481835
                ],
                [
                 -91.00000838291083,
                 53.00000919844761
                ],
                [
                 -91.00000837232712,
                 52.49491164158252
                ],
                [
                 -89.50747018717219,
                 52.49520065915016
                ],
                [
                 -89.50747275977285,
                 51.86834258524203
                ],
                [
                 -89.50747824999175,
                 51.30645601731562
                ],
                [
                 -89.6752445874956,
                 51.22095829419798
                ],
                [
                 -89.79189382289393,
                 51.21058228410722
                ],
                [
                 -89.8482080352829,
                 51.18119377624656
                ],
                [
                 -89.93263756050466,
                 51.17192586870929
                ],
                [
                 -90.03615608586084,
                 51.13181625593979
                ],
                [
                 -90.07826400298876,
                 51.15101575508151
                ],
                [
                 -90.16704602795794,
                 51.133675446197444
                ],
                [
                 -90.16893769242644,
                 50.410383056480576
                ],
                [
                 -90.17252191851627,
                 49.99653640379747
                ],
                [
                 -90.96562596615523,
                 49.99665824429771
                ],
                [
                 -90.96554336738077,
                 49.445095573915474
                ],
                [
                 -90.96535979020098,
                 49.0000473160493
                ],
                [
                 -90.96509110447516,
                 48.49020274857619
                ],
                [
                 -90.96495216054838,
                 48.22224421260802
                ],
                [
                 -90.8861142405395,
                 48.246604021606956
                ],
                [
                 -90.83845862472893,
                 48.23850162396144
                ],
                [
                 -90.83122221213274,
                 48.17421261579005
                ],
                [
                 -90.73944677145617,
                 48.09475711162052
                ],
                [
                 -90.5597827211413,
                 48.122087228231024
                ],
                [
                 -90.5527204149047,
                 48.09649982525109
                ],
                [
                 -90.37442505981495,
                 48.09196813736643
                ],
                [
                 -90.30508064080064,
                 48.105577544165186
                ],
                [
                 -90.14366859261766,
                 48.112968756644115
                ],
                [
                 -90.02325845128244,
                 48.08464306128328
                ],
                [
                 -89.99403743346419,
                 48.028169555581776
                ],
                [
                 -89.89854639794571,
                 47.98804735677365
                ],
                [
                 -89.76669316293592,
                 48.02281527082918
                ],
                [
                 -89.70126954031466,
                 48.00650297315795
                ],
                [
                 -89.58583300410166,
                 48.00167478055605
                ],
                [
                 -89.44090537131315,
                 48.07788480121215
                ],
                [
                 -89.3755936532066,
                 48.090951107567946
                ],
                [
                 -89.31445664008888,
                 48.128002116948956
                ],
                [
                 -89.30827284949564,
                 48.20077422743673
                ],
                [
                 -89.2360933406354,
                 48.286994644353975
                ],
                [
                 -89.19803413287774,
                 48.31273265055007
                ],
                [
                 -89.22356775848144,
                 48.425266064227586
                ],
                [
                 -89.15034854398456,
                 48.477358576482324
                ],
                [
                 -89.0643325194422,
                 48.4911964843828
                ],
                [
                 -88.77174074148294,
                 48.574814516199915
                ],
                [
                 -88.75272133302401,
                 48.5587943153213
                ],
                [
                 -88.83782954430812,
                 48.46164109607277
                ],
                [
                 -88.84941353820663,
                 48.39956368672156
                ],
                [
                 -88.90150714862011,
                 48.36244767799673
                ],
                [
                 -88.91014464504825,
                 48.322275071853426
                ],
                [
                 -88.78951120915873,
                 48.33269188162807
                ],
                [
                 -88.7470944986208,
                 48.34985388692713
                ],
                [
                 -88.6829255966573,
                 48.465719807349714
                ],
                [
                 -88.63663549037875,
                 48.51800321774688
                ],
                [
                 -88.63050890186321,
                 48.603414629908684
                ],
                [
                 -88.56273148512517,
                 48.63180413849119
                ],
                [
                 -88.55606079023056,
                 48.67747014521308
                ],
                [
                 -88.51678808350361,
                 48.71281135276939
                ],
                [
                 -88.55141449876754,
                 48.74068915418538
                ],
                [
                 -88.52597609918034,
                 48.79359486317396
                ],
                [
                 -88.4372867798526,
                 48.84721937663459
                ],
                [
                 -88.34238364569907,
                 48.81998957948107
                ],
                [
                 -88.30111672265413,
                 48.7562205736008
                ],
                [
                 -88.33867842145747,
                 48.67355425967324
                ],
                [
                 -88.41076343801483,
                 48.63494464940646
                ],
                [
                 -88.56690266775267,
                 48.51263002181759
                ],
                [
                 -88.56531905541293,
                 48.43657441143292
                ],
                [
                 -88.43511483403961,
                 48.5607547375215
                ],
                [
                 -88.37567911213755,
                 48.53965443869582
                ],
                [
                 -88.29618229954792,
                 48.618765255057106
                ],
                [
                 -88.24715988409403,
                 48.618326958358985
                ],
                [
                 -88.23550427420228,
                 48.57829125363595
                ],
                [
                 -88.1055041507429,
                 48.6899186779209
                ],
                [
                 -88.09419256224118,
                 48.78612379191981
                ],
                [
                 -88.22661811231362,
                 48.83920879009191
                ],
                [
                 -88.24465282350167,
                 48.87400969360417
                ],
                [
                 -88.23541673411573,
                 48.95911260584442
                ],
                [
                 -88.16558311266255,
                 48.962728011157814
                ],
                [
                 -88.11273980175665,
                 48.99902651974525
                ],
                [
                 -88.03229237905929,
                 49.01615572761932
                ],
                [
                 -88.00634836267274,
                 48.964604222374895
                ],
                [
                 -87.92917283261517,
                 48.92879222277559
                ],
                [
                 -87.88886032172103,
                 48.940543127143435
                ],
                [
                 -87.67274564648208,
                 48.897072235927226
                ],
                [
                 -87.63332262751575,
                 48.85557263289822
                ],
                [
                 -87.5756674127309,
                 48.87793303988604
                ],
                [
                 -87.55421719944985,
                 48.83626123559855
                ],
                [
                 -87.408285752736,
                 48.83343364506565
                ],
                [
                 -87.39056504292657,
                 48.806336042514516
                ],
                [
                 -87.28951390876921,
                 48.79279894743539
                ],
                [
                 -87.22957208403136,
                 48.75562754630038
                ],
                [
                 -87.05988873418674,
                 48.78234286135207
                ],
                [
                 -87.00335722094054,
                 48.81341196943773
                ],
                [
                 -86.86483446655483,
                 48.7459613692603
                ],
                [
                 -86.79404084918772,
                 48.780240178730345
                ],
                [
                 -86.68876521724037,
                 48.79109608720748
                ],
                [
                 -86.61561809212846,
                 48.7794953904147
                ],
                [
                 -86.63695229145613,
                 48.72983368206752
                ],
                [
                 -86.55062366397155,
                 48.73035788782057
                ],
                [
                 -86.4918465507095,
                 48.76711449682653
                ],
                [
                 -86.42862523150907,
                 48.77390720192549
                ],
                [
                 -86.33345047663154,
                 48.60994358511186
                ],
                [
                 -86.27278365149454,
                 48.57103708356818
                ],
                [
                 -86.2285574138814,
                 48.41086256373875
                ],
                [
                 -86.13852396467735,
                 48.26951434939138
                ],
                [
                 -86.14473526282848,
                 48.24293854519103
                ],
                [
                 -86.01830310137477,
                 48.09479123201231
                ],
                [
                 -85.91676115949492,
                 48.02733512873957
                ],
                [
                 -85.87519793999007,
                 47.98278472492947
                ],
                [
                 -85.77216540141374,
                 47.94160172547082
                ],
                [
                 -85.68294287048812,
                 47.923651728483584
                ],
                [
                 -85.54738762636934,
                 47.917159036049114
                ],
                [
                 -85.38318807482673,
                 47.92347504723528
                ],
                [
                 -85.3295457612275,
                 47.94914295432377
                ],
                [
                 -85.3336605959195,
                 48.188991388900014
                ],
                [
                 -85.33149697728686,
                 48.76363797131336
                ],
                [
                 -85.33267982048045,
                 49.05527991235669
                ],
                [
                 -85.33196906359109,
                 49.34510725283824
                ],
                [
                 -85.33291556005936,
                 49.969557538447454
                ],
                [
                 -85.77188130418511,
                 49.9714913098382
                ],
                [
                 -86.05383679583652,
                 49.96876839073538
                ],
                [
                 -86.54910115724715,
                 49.97012345764552
                ],
                [
                 -86.54855510755745,
                 50.277542298567326
                ],
                [
                 -86.54833268707131,
                 50.75005786048905
                ],
                [
                 -86.54809187390994,
                 51.25005722477537
                ],
                [
                 -86.54795322178953,
                 51.518937258819015
                ],
                [
                 -86.55361651157381,
                 52.000060518393965
                ],
                [
                 -86.55959400715182,
                 52.49597167853782
                ],
                [
                 -86.55242480303149,
                 53.00005863932233
                ],
                [
                 -86.5527991039693,
                 53.50005839778185
                ],
                [
                 -86.55241341215398,
                 54.01928085717421
                ],
                [
                 -86.55101881539868,
                 54.50005611099683
                ],
                [
                 -86.5491910255985,
                 54.99705266539986
                ],
                [
                 -86.99693818178939,
                 54.99207253108581
                ],
                [
                 -86.99817940231563,
                 55.92016342832645
                ]
               ]
              ],
              [
               [
                [
                 -87.90707021412908,
                 48.85570431427517
                ],
                [
                 -87.98237293797806,
                 48.85614080918384
                ],
                [
                 -88.06914985963509,
                 48.819770398251954
                ],
                [
                 -88.084253250979,
                 48.73423738547322
                ],
                [
                 -88.05976833716979,
                 48.69517948177275
                ],
                [
                 -87.97415081895419,
                 48.751297095347326
                ],
                [
                 -87.89896279694278,
                 48.762217901980335
                ],
                [
                 -87.84812517812942,
                 48.74444090299394
                ],
                [
                 -87.75544665502859,
                 48.7841098147635
                ],
                [
                 -87.76399036619904,
                 48.838435321660945
                ],
                [
                 -87.90707021412908,
                 48.85570431427517
                ]
               ]
              ],
              [
               [
                [
                 -85.72700566605411,
                 47.79059780632598
                ],
                [
                 -85.85224690586115,
                 47.79061379845214
                ],
                [
                 -85.95031453065808,
                 47.74496238561052
                ],
                [
                 -85.94974962665039,
                 47.7173343816134
                ],
                [
                 -85.8473371921603,
                 47.702836485941575
                ],
                [
                 -85.77123037047141,
                 47.72077099334448
                ],
                [
                 -85.69093974345704,
                 47.709823696773555
                ],
                [
                 -85.61416172189108,
                 47.73053450460896
                ],
                [
                 -85.6363191343184,
                 47.7696530089495
                ],
                [
                 -85.72700566605411,
                 47.79059780632598
                ]
               ]
              ],
              [
               [
                [
                 -87.70157054732857,
                 48.84405872667944
                ],
                [
                 -87.74986675783502,
                 48.81345621918478
                ],
                [
                 -87.70275673118903,
                 48.73782631195412
                ],
                [
                 -87.59692369925372,
                 48.74772432048633
                ],
                [
                 -87.70157054732857,
                 48.84405872667944
                ]
               ]
              ],
              [
               [
                [
                 -89.06921218683216,
                 48.27351955409903
                ],
                [
                 -89.16693511227126,
                 48.2424499430236
                ],
                [
                 -89.12133599272177,
                 48.207517441361354
                ],
                [
                 -89.0382499718479,
                 48.238874751457224
                ],
                [
                 -89.06921218683216,
                 48.27351955409903
                ]
               ]
              ],
              [
               [
                [
                 -86.9818450929676,
                 48.67450245152638
                ],
                [
                 -87.05769741363783,
                 48.65182824332079
                ],
                [
                 -86.98600248642627,
                 48.6224791439809
                ],
                [
                 -86.9818450929676,
                 48.67450245152638
                ]
               ]
              ]
             ],
             "type": "MultiPolygon"
            },
            "properties": {
             "EFFECTIVE_": "2020-05-15T00:00:00.000Z",
             "GEOMETRY_U": "1970-01-01T00:00:00.000Z",
             "OBJECTID": 401,
             "OGF_ID": 71878051,
             "PHU_ID": 2262,
             "PHU_NAME_E": "Thunder Bay District Health Unit",
             "PHU_NAME_F": "Bureau de santé du district de Thunder Bay",
             "SYSTEM_DAT": "2020-05-15T00:00:00.000Z"
            },
            "type": "Feature"
           },
           {
            "geometry": {
             "coordinates": [
              [
               [
                -79.63922387414868,
                43.749907390083074
               ],
               [
                -79.77551993922904,
                43.989793125433756
               ],
               [
                -79.95114629175595,
                43.951461710441066
               ],
               [
                -80.06327172521746,
                43.92674310080588
               ],
               [
                -80.14403394524804,
                43.86470378618096
               ],
               [
                -79.96904747777373,
                43.734423671834854
               ],
               [
                -79.78966570884693,
                43.60165735706794
               ],
               [
                -79.8083391137567,
                43.59009105416286
               ],
               [
                -79.6973658712366,
                43.5082607449804
               ],
               [
                -79.62515674588649,
                43.48105624355473
               ],
               [
                -79.59868844227626,
                43.53580825442621
               ],
               [
                -79.5435011286932,
                43.58109426495831
               ],
               [
                -79.58611544652581,
                43.62940307145855
               ],
               [
                -79.58858195044697,
                43.6648321775579
               ],
               [
                -79.63922387414868,
                43.749907390083074
               ]
              ]
             ],
             "type": "Polygon"
            },
            "properties": {
             "EFFECTIVE_": "2020-05-15T00:00:00.000Z",
             "GEOMETRY_U": "1970-01-01T00:00:00.000Z",
             "OBJECTID": 417,
             "OGF_ID": 71878041,
             "PHU_ID": 2253,
             "PHU_NAME_E": "Peel Public Health",
             "PHU_NAME_F": "Bureau de santé de la région de Peel",
             "SYSTEM_DAT": "2020-05-15T00:00:00.000Z"
            },
            "type": "Feature"
           },
           {
            "geometry": {
             "coordinates": [
              [
               [
                -81.77368990150833,
                43.23752759767156
               ],
               [
                -81.75864600423239,
                43.317583612372616
               ],
               [
                -81.87537203421422,
                43.2474476943598
               ],
               [
                -81.96453215894994,
                43.213962784089816
               ],
               [
                -82.0229696770282,
                43.212221480876124
               ],
               [
                -82.02144797280441,
                43.171929973925955
               ],
               [
                -82.09903889123959,
                43.10994165924073
               ],
               [
                -82.15017300549185,
                43.09187065353585
               ],
               [
                -82.21792892189539,
                43.041337341325466
               ],
               [
                -82.38477367125414,
                43.01424442824905
               ],
               [
                -82.45529278502067,
                42.926723409411096
               ],
               [
                -82.48204638236012,
                42.80817058728936
               ],
               [
                -82.46740327362144,
                42.7624866799931
               ],
               [
                -82.51049597801861,
                42.66482226065462
               ],
               [
                -82.52340787677555,
                42.6074129498873
               ],
               [
                -82.60546449677564,
                42.54849523540392
               ],
               [
                -82.58158828539717,
                42.50441252879702
               ],
               [
                -82.43541063882994,
                42.48895633329855
               ],
               [
                -82.4201986416616,
                42.572327648808475
               ],
               [
                -82.46624575698901,
                42.58425314863514
               ],
               [
                -82.48398346677195,
                42.63147595609273
               ],
               [
                -82.02395652357437,
                42.62462487757857
               ],
               [
                -82.00632562046442,
                42.65092858310076
               ],
               [
                -81.83507966725723,
                42.650999791484296
               ],
               [
                -81.83552258470047,
                42.843258425458075
               ],
               [
                -81.79018346813294,
                42.81620682290549
               ],
               [
                -81.78929569057146,
                43.06590736688109
               ],
               [
                -81.80712210193659,
                43.12902287705698
               ],
               [
                -81.81302721178879,
                43.21574269192153
               ],
               [
                -81.77368990150833,
                43.23752759767156
               ]
              ]
             ],
             "type": "Polygon"
            },
            "properties": {
             "EFFECTIVE_": "2020-05-15T00:00:00.000Z",
             "GEOMETRY_U": "1970-01-01T00:00:00.000Z",
             "OBJECTID": 433,
             "OGF_ID": 71878038,
             "PHU_ID": 2242,
             "PHU_NAME_E": "Lambton Public Health",
             "PHU_NAME_F": "Comté de Lambton",
             "SYSTEM_DAT": "2020-05-15T00:00:00.000Z"
            },
            "type": "Feature"
           },
           {
            "geometry": {
             "coordinates": [
              [
               [
                -79.95114629175595,
                43.951461710441066
               ],
               [
                -80.0339622498968,
                44.294860865716885
               ],
               [
                -80.22907450832246,
                44.253392949172024
               ],
               [
                -80.40811806182572,
                44.21529573393885
               ],
               [
                -80.360946042296,
                44.167358428003
               ],
               [
                -80.39826275116582,
                44.135196720662535
               ],
               [
                -80.37491413478303,
                44.039291205280506
               ],
               [
                -80.57281219381447,
                43.9978168885223
               ],
               [
                -80.82693647163096,
                43.96792447095582
               ],
               [
                -80.8357426778768,
                44.0046242768401
               ],
               [
                -80.99171422557492,
                43.986454166039756
               ],
               [
                -80.95331169797562,
                43.822260439633496
               ],
               [
                -80.76254013941792,
                43.841658552316204
               ],
               [
                -80.87367946133595,
                43.69907162220107
               ],
               [
                -80.75456071901672,
                43.64847401920541
               ],
               [
                -80.60805686726005,
                43.58914671595737
               ],
               [
                -80.59556916993463,
                43.661635529187556
               ],
               [
                -80.55754676046372,
                43.68964963589655
               ],
               [
                -80.38303459373401,
                43.56363882230483
               ],
               [
                -80.3739758880878,
                43.53287841735827
               ],
               [
                -80.30581826104238,
                43.472076109956525
               ],
               [
                -80.26956794199627,
                43.387350696801064
               ],
               [
                -80.20477552240406,
                43.39759250167024
               ],
               [
                -80.07858878426407,
                43.41811921124014
               ],
               [
                -80.03427687492025,
                43.471075022639546
               ],
               [
                -80.16036802294714,
                43.56111963247004
               ],
               [
                -79.96904747777373,
                43.734423671834854
               ],
               [
                -80.14403394524804,
                43.86470378618096
               ],
               [
                -80.06327172521746,
                43.92674310080588
               ],
               [
                -79.95114629175595,
                43.951461710441066
               ]
              ]
             ],
             "type": "Polygon"
            },
            "properties": {
             "EFFECTIVE_": "2020-05-15T00:00:00.000Z",
             "GEOMETRY_U": "1970-01-01T00:00:00.000Z",
             "OBJECTID": 449,
             "OGF_ID": 71878035,
             "PHU_ID": 2266,
             "PHU_NAME_E": "Wellington-Dufferin-Guelph Health Unit",
             "PHU_NAME_F": "Bureau de santé de Wellington-Dufferin-Guelph",
             "SYSTEM_DAT": "2020-05-15T00:00:00.000Z"
            },
            "type": "Feature"
           },
           {
            "geometry": {
             "coordinates": [
              [
               [
                -79.98416052924973,
                43.13204306512163
               ],
               [
                -80.20055150453396,
                43.21070386891734
               ],
               [
                -80.23861442502017,
                43.306475384028445
               ],
               [
                -80.47151979507835,
                43.26686476600921
               ],
               [
                -80.43645627625256,
                43.17940565224669
               ],
               [
                -80.60868522808155,
                43.15166893916863
               ],
               [
                -80.54342679281434,
                42.98487791274444
               ],
               [
                -80.24371420252906,
                43.03215453525115
               ],
               [
                -80.05550613719126,
                42.96344313181763
               ],
               [
                -79.97641132225878,
                43.07971335618946
               ],
               [
                -79.98416052924973,
                43.13204306512163
               ]
              ]
             ],
             "type": "Polygon"
            },
            "properties": {
             "EFFECTIVE_": "2020-05-15T00:00:00.000Z",
             "GEOMETRY_U": "1970-01-01T00:00:00.000Z",
             "OBJECTID": 465,
             "OGF_ID": 71878032,
             "PHU_ID": 2227,
             "PHU_NAME_E": "Brant County Health Unit",
             "PHU_NAME_F": "Bureau de santé du comté de Brant",
             "SYSTEM_DAT": "2020-05-15T00:00:00.000Z"
            },
            "type": "Feature"
           },
           {
            "geometry": {
             "coordinates": [
              [
               [
                -81.13222419992108,
                43.2314839280521
               ],
               [
                -81.22449202633543,
                43.20336491863763
               ],
               [
                -81.4305157991417,
                43.2928016242347
               ],
               [
                -81.46526720800465,
                43.270684818664606
               ],
               [
                -81.77368990150833,
                43.23752759767156
               ],
               [
                -81.81302721178879,
                43.21574269192153
               ],
               [
                -81.80712210193659,
                43.12902287705698
               ],
               [
                -81.78929569057146,
                43.06590736688109
               ],
               [
                -81.79018346813294,
                42.81620682290549
               ],
               [
                -81.83552258470047,
                42.843258425458075
               ],
               [
                -81.83507966725723,
                42.650999791484296
               ],
               [
                -81.83469226329899,
                42.60805108388425
               ],
               [
                -81.8109283558707,
                42.607587084958595
               ],
               [
                -81.68487922465263,
                42.697222306990376
               ],
               [
                -81.62857050583807,
                42.682895407183125
               ],
               [
                -81.56022539022052,
                42.746607221794854
               ],
               [
                -81.48662066996928,
                42.77695093073791
               ],
               [
                -81.11475466207014,
                42.87068076527361
               ],
               [
                -81.08089765275935,
                42.88524866947971
               ],
               [
                -80.89877089809622,
                42.912660483052704
               ],
               [
                -80.92278711344778,
                43.00086199752404
               ],
               [
                -80.99366523496175,
                42.99268239268038
               ],
               [
                -81.03759865351607,
                43.0461370000115
               ],
               [
                -81.13222419992108,
                43.2314839280521
               ]
              ]
             ],
             "type": "Polygon"
            },
            "properties": {
             "EFFECTIVE_": "2020-05-15T00:00:00.000Z",
             "GEOMETRY_U": "1970-01-01T00:00:00.000Z",
             "OBJECTID": 481,
             "OGF_ID": 71878026,
             "PHU_ID": 2244,
             "PHU_NAME_E": "Middlesex-London Health Unit",
             "PHU_NAME_F": "Bureau de santé de Middlesex-London",
             "SYSTEM_DAT": "2020-05-15T00:00:00.000Z"
            },
            "type": "Feature"
           },
           {
            "geometry": {
             "coordinates": [
              [
               [
                [
                 -81.07364419581943,
                 48.10346012664399
                ],
                [
                 -81.85689875449033,
                 48.103909583210154
                ],
                [
                 -81.85659229825207,
                 48.44989543480653
                ],
                [
                 -82.6342344547673,
                 48.450594590245196
                ],
                [
                 -83.59008296769024,
                 48.44913733359855
                ],
                [
                 -84.01458990606447,
                 48.44963230806952
                ],
                [
                 -84.01638873707925,
                 47.93411093240636
                ],
                [
                 -83.97375022329797,
                 47.93411183496139
                ],
                [
                 -83.97493263313282,
                 47.236168830416965
                ],
                [
                 -83.27538660818618,
                 47.23558037108064
                ],
                [
                 -82.57724148254944,
                 47.23564741090206
                ],
                [
                 -82.5786851518365,
                 46.97715527099113
                ],
                [
                 -81.94991004809191,
                 46.976113105725624
                ],
                [
                 -81.94475710571241,
                 46.62518795109089
                ],
                [
                 -82.06925634593655,
                 46.62512664428713
                ],
                [
                 -82.06796701598253,
                 46.36665650355281
                ],
                [
                 -82.19262105621327,
                 46.36756139691061
                ],
                [
                 -82.19243734596462,
                 46.277790282685146
                ],
                [
                 -82.31294298465723,
                 46.27755817607792
                ],
                [
                 -82.31261537418081,
                 46.18601726155292
                ],
                [
                 -82.3113430737511,
                 46.185826761591905
                ],
                [
                 -82.25680815666782,
                 46.18952516515007
                ],
                [
                 -82.09744810335508,
                 46.170524470769834
                ],
                [
                 -82.05643929090692,
                 46.177038974026516
                ],
                [
                 -82.05752088277546,
                 46.101159561851254
                ],
                [
                 -81.97141565399299,
                 46.09106326487448
                ],
                [
                 -81.76828359052064,
                 46.10774777843907
                ],
                [
                 -81.79280369332074,
                 46.06165166973763
                ],
                [
                 -81.77050518239251,
                 46.02753086545076
                ],
                [
                 -81.62729544264096,
                 46.0851723823365
                ],
                [
                 -81.55370511489738,
                 46.04830948032109
                ],
                [
                 -81.48727198459329,
                 45.966537670664366
                ],
                [
                 -81.43563777054212,
                 45.99030037722158
                ],
                [
                 -81.15407788092999,
                 46.00138619379321
                ],
                [
                 -81.18150118400159,
                 45.947622583666366
                ],
                [
                 -81.05368164317973,
                 45.951669290985535
                ],
                [
                 -80.93152000091473,
                 45.925353093060366
                ],
                [
                 -80.90332269343563,
                 45.94070979701165
                ],
                [
                 -80.84002497048984,
                 45.91729539648274
                ],
                [
                 -80.81124546391266,
                 45.943038702148094
                ],
                [
                 -80.73477253589803,
                 45.912042201052145
                ],
                [
                 -80.73620243209936,
                 45.871623994403265
                ],
                [
                 -80.69467431998652,
                 45.88414129857343
                ],
                [
                 -80.5556580757077,
                 45.89092550679743
                ],
                [
                 -80.58277199792703,
                 46.01857502616215
                ],
                [
                 -80.51538727765613,
                 46.03354983204559
                ],
                [
                 -80.29051720495649,
                 46.03644314398707
                ],
                [
                 -80.18601707352727,
                 46.06070275323269
                ],
                [
                 -80.17578487485991,
                 46.1052307609834
                ],
                [
                 -80.30595481721984,
                 46.10543675440135
                ],
                [
                 -80.30692514483647,
                 46.36273099590238
                ],
                [
                 -80.29009353939908,
                 46.36320559684124
                ],
                [
                 -80.29201756823882,
                 46.6250306386831
                ],
                [
                 -80.35729418957688,
                 46.624978035305546
                ],
                [
                 -80.35500089824491,
                 46.711268049163124
                ],
                [
                 -80.2915460774819,
                 46.71132135245337
                ],
                [
                 -80.29154500621186,
                 46.972346493802625
                ],
                [
                 -80.27415690984664,
                 47.05640540794971
                ],
                [
                 -80.27206933880069,
                 47.32022104938799
                ],
                [
                 -81.07343890251727,
                 47.321770307075305
                ],
                [
                 -81.07402893161508,
                 47.56816794507457
                ],
                [
                 -81.07364419581943,
                 48.10346012664399
                ]
               ]
              ],
              [
               [
                [
                 -82.7978178066446,
                 45.984880402942785
                ],
                [
                 -82.94619524880258,
                 45.939616287545114
                ],
                [
                 -83.05866048665547,
                 45.95764418419389
                ],
                [
                 -83.18170402596651,
                 45.959149077598454
                ],
                [
                 -83.22679373443698,
                 45.90789296693406
                ],
                [
                 -83.21997112857545,
                 45.875506262154836
                ],
                [
                 -83.08635098497,
                 45.86536196794972
                ],
                [
                 -82.86654450668854,
                 45.79102066817391
                ],
                [
                 -82.68810264936349,
                 45.786371777194084
                ],
                [
                 -82.64753003363462,
                 45.76118547535963
                ],
                [
                 -82.52134589222479,
                 45.750402080484164
                ],
                [
                 -82.47083967081963,
                 45.70237397548036
                ],
                [
                 -82.41338035289262,
                 45.705952679163325
                ],
                [
                 -82.26629839942674,
                 45.64619257742343
                ],
                [
                 -82.21797478325877,
                 45.63933727890488
                ],
                [
                 -82.16429156230411,
                 45.604180276078665
                ],
                [
                 -82.09833924074532,
                 45.599523778843874
                ],
                [
                 -82.06803742623579,
                 45.55476007318521
                ],
                [
                 -81.93160188858629,
                 45.609862089392614
                ],
                [
                 -81.84697596943725,
                 45.68338370582052
                ],
                [
                 -81.78471354726904,
                 45.662676205755474
                ],
                [
                 -81.87841497085178,
                 45.60310999111451
                ],
                [
                 -81.9410071898072,
                 45.59327718619766
                ],
                [
                 -81.98629180121236,
                 45.564794179162135
                ],
                [
                 -81.84401035040734,
                 45.51496027857677
                ],
                [
                 -81.78637003481965,
                 45.541565485956504
                ],
                [
                 -81.75862853044578,
                 45.5836890942843
                ],
                [
                 -81.6459257054606,
                 45.687496617114554
                ],
                [
                 -81.57897429449508,
                 45.785378936530385
                ],
                [
                 -81.70538643530958,
                 45.78756663020853
                ],
                [
                 -81.66054182613584,
                 45.8358171403905
                ],
                [
                 -81.65757423235975,
                 45.901961451235636
                ],
                [
                 -81.73016635095803,
                 45.85855204037645
                ],
                [
                 -81.79000395881302,
                 45.75397022028501
                ],
                [
                 -81.84400248090544,
                 45.79807562455593
                ],
                [
                 -81.81513817902665,
                 45.865861937041586
                ],
                [
                 -81.87090419930487,
                 45.88770793759428
                ],
                [
                 -81.90279151922971,
                 45.97602625010647
                ],
                [
                 -81.9799576451863,
                 45.98679414770115
                ],
                [
                 -82.05827296712978,
                 45.95802333887528
                ],
                [
                 -82.12436758293073,
                 45.90931062749423
                ],
                [
                 -82.14174348119052,
                 45.84303871589658
                ],
                [
                 -82.2231648156409,
                 45.919024723730836
                ],
                [
                 -82.29002633838279,
                 45.93112462205929
                ],
                [
                 -82.28254734216218,
                 45.98658873135381
                ],
                [
                 -82.37862377135376,
                 45.972616723905084
                ],
                [
                 -82.5000798065418,
                 45.94002201208063
                ],
                [
                 -82.59513103051081,
                 45.882979897763455
                ],
                [
                 -82.50510519828916,
                 45.85170859765126
                ],
                [
                 -82.54901110851917,
                 45.81773908980969
                ],
                [
                 -82.64542874044558,
                 45.82832588625667
                ],
                [
                 -82.67329815334672,
                 45.86423889049217
                ],
                [
                 -82.75039247424257,
                 45.831436881018725
                ],
                [
                 -82.77358348672952,
                 45.87686518702251
                ],
                [
                 -82.84113131202663,
                 45.91036878866849
                ],
                [
                 -82.7978178066446,
                 45.984880402942785
                ]
               ],
               [
                [
                 -82.06978305537103,
                 45.81766031566753
                ],
                [
                 -81.9546907148919,
                 45.78446831646156
                ],
                [
                 -81.86773968245394,
                 45.74225521426157
                ],
                [
                 -81.9812061136539,
                 45.69500940057241
                ],
                [
                 -81.99482512653938,
                 45.77342401253492
                ],
                [
                 -82.06978305537103,
                 45.81766031566753
                ]
               ],
               [
                [
                 -82.33688933837892,
                 45.795801397777254
                ],
                [
                 -82.37626215545535,
                 45.836493302195855
                ],
                [
                 -82.34871584941456,
                 45.86141170769153
                ],
                [
                 -82.2371167097025,
                 45.824899607844046
                ],
                [
                 -82.29072912182781,
                 45.77941989762855
                ],
                [
                 -82.33688933837892,
                 45.795801397777254
                ]
               ]
              ],
              [
               [
                [
                 -83.35075498327153,
                 45.99034897311729
                ],
                [
                 -83.41124350198052,
                 45.98601816904135
                ],
                [
                 -83.48230001524531,
                 45.90550665228035
                ],
                [
                 -83.35533506863841,
                 45.85013085057317
                ],
                [
                 -83.26152084559058,
                 45.908975565172646
                ],
                [
                 -83.26144115042491,
                 45.95142447192804
                ],
                [
                 -83.32393657131406,
                 45.96045786987367
                ],
                [
                 -83.35075498327153,
                 45.99034897311729
                ]
               ]
              ],
              [
               [
                [
                 -81.83636350744099,
                 46.06267406757209
                ],
                [
                 -81.95029514255327,
                 46.04910215928885
                ],
                [
                 -81.95027523708204,
                 45.99968135136239
                ],
                [
                 -81.82249469543203,
                 45.994138157309855
                ],
                [
                 -81.78726538909729,
                 46.03948616647608
                ],
                [
                 -81.83636350744099,
                 46.06267406757209
                ]
               ]
              ],
              [
               [
                [
                 -82.60550704250103,
                 45.96036600958042
                ],
                [
                 -82.68817986879912,
                 45.95952440491941
                ],
                [
                 -82.73911728049637,
                 45.919113795669524
                ],
                [
                 -82.64752294768105,
                 45.88704219555335
                ],
                [
                 -82.59114483119292,
                 45.90044320077831
                ],
                [
                 -82.60550704250103,
                 45.96036600958042
                ]
               ]
              ],
              [
               [
                [
                 -81.69870390577925,
                 45.53223418904938
                ],
                [
                 -81.81678314032585,
                 45.5020352779042
                ],
                [
                 -81.82410853690124,
                 45.447876468671616
                ],
                [
                 -81.73527391114955,
                 45.472705077403404
                ],
                [
                 -81.69870390577925,
                 45.53223418904938
                ]
               ]
              ],
              [
               [
                [
                 -81.17357778717295,
                 46.000899192695066
                ],
                [
                 -81.36832814888312,
                 45.99059968081552
                ],
                [
                 -81.25424470807053,
                 45.9532617807734
                ],
                [
                 -81.1985590903097,
                 45.95511828398762
                ],
                [
                 -81.17357778717295,
                 46.000899192695066
                ]
               ]
              ]
             ],
             "type": "MultiPolygon"
            },
            "properties": {
             "EFFECTIVE_": "2020-05-15T00:00:00.000Z",
             "GEOMETRY_U": "1970-01-01T00:00:00.000Z",
             "OBJECTID": 497,
             "OGF_ID": 71878023,
             "PHU_ID": 2261,
             "PHU_NAME_E": "Sudbury and District Health Unit",
             "PHU_NAME_F": "Service de santé publique de Sudbury et du district",
             "SYSTEM_DAT": "2020-05-15T00:00:00.000Z"
            },
            "type": "Feature"
           },
           {
            "geometry": {
             "coordinates": [
              [
               [
                [
                 -77.96097653755568,
                 44.91151046852872
                ],
                [
                 -78.17830484493169,
                 45.30989162621366
                ],
                [
                 -78.31481781317537,
                 45.56108396205418
                ],
                [
                 -78.85943337700319,
                 45.41449491180544
                ],
                [
                 -78.97139851056694,
                 45.38445970143825
                ],
                [
                 -78.9075243794499,
                 45.27646868636778
                ],
                [
                 -78.84256134587346,
                 45.14506136731565
                ],
                [
                 -79.00109199357223,
                 45.10529015309231
                ],
                [
                 -78.93439596067343,
                 44.98565103601468
                ],
                [
                 -79.09355600821074,
                 44.94295822124383
                ],
                [
                 -79.06294668867274,
                 44.84015090523779
                ],
                [
                 -79.20924403219718,
                 44.800038691485156
                ],
                [
                 -79.08186586477589,
                 44.515828148928335
                ],
                [
                 -78.92208858061836,
                 44.15374269384224
                ],
                [
                 -78.90314287896298,
                 44.20343540334367
                ],
                [
                 -78.77007833828164,
                 44.22740241364331
                ],
                [
                 -78.69268789842369,
                 44.0584484878024
                ],
                [
                 -78.5163011451985,
                 44.09878240288469
                ],
                [
                 -78.58471618080011,
                 44.25261252653135
                ],
                [
                 -78.42554523279892,
                 44.29048834037732
                ],
                [
                 -78.48983686604441,
                 44.43100956177652
                ],
                [
                 -78.48794606855442,
                 44.46593266789505
                ],
                [
                 -78.54542659465561,
                 44.54962907968058
                ],
                [
                 -78.65480715228225,
                 44.79393621650543
                ],
                [
                 -78.13823369555121,
                 44.9146263609682
                ],
                [
                 -78.11872528568789,
                 44.87581895522999
                ],
                [
                 -77.96097653755568,
                 44.91151046852872
                ]
               ]
              ],
              [
               [
                [
                 -77.66134696391201,
                 44.03695043033193
                ],
                [
                 -77.7521752100356,
                 44.23308776067614
                ],
                [
                 -77.64619627904172,
                 44.27216577219793
                ],
                [
                 -77.72737531956119,
                 44.43648209719901
                ],
                [
                 -77.91308497570562,
                 44.389404880719766
                ],
                [
                 -77.90108806964822,
                 44.364508876932
                ],
                [
                 -77.96895638578386,
                 44.2972811621968
                ],
                [
                 -78.08180791857424,
                 44.254469649675606
                ],
                [
                 -78.14514443377718,
                 44.19389973627029
                ],
                [
                 -78.22032885360635,
                 44.14271382395337
                ],
                [
                 -78.30809428075007,
                 44.12921161763564
                ],
                [
                 -78.50965984172187,
                 44.083502800520606
                ],
                [
                 -78.43693380340679,
                 43.91202877380742
                ],
                [
                 -78.24871324639062,
                 43.95341418954412
                ],
                [
                 -78.00658766917216,
                 43.96316000207968
                ],
                [
                 -77.97159285911648,
                 43.977648906182345
                ],
                [
                 -77.87799702881192,
                 43.97658021014999
                ],
                [
                 -77.82034871247379,
                 44.003434417422966
                ],
                [
                 -77.73071958401917,
                 44.0094675224438
                ],
                [
                 -77.66134696391201,
                 44.03695043033193
                ]
               ]
              ]
             ],
             "type": "MultiPolygon"
            },
            "properties": {
             "EFFECTIVE_": "2020-05-15T00:00:00.000Z",
             "GEOMETRY_U": "1970-01-01T00:00:00.000Z",
             "OBJECTID": 513,
             "OGF_ID": 71877993,
             "PHU_ID": 2235,
             "PHU_NAME_E": "Haliburton, Kawartha, Pine Ridge District Health Unit",
             "PHU_NAME_F": "Bureau de santé du district d'Haliburton, Kawartha et Pine Ridge",
             "SYSTEM_DAT": "2020-05-15T00:00:00.000Z"
            },
            "type": "Feature"
           },
           {
            "geometry": {
             "coordinates": [
              [
               [
                -79.43764313442134,
                42.8758742445754
               ],
               [
                -79.34996280530311,
                42.85975854566197
               ],
               [
                -79.33022550024602,
                42.87403434911988
               ],
               [
                -79.11664083136529,
                42.859985056233015
               ],
               [
                -78.95296118110566,
                42.88038936724439
               ],
               [
                -78.9082503696153,
                42.91318677514533
               ],
               [
                -78.9346819809153,
                42.94819048025597
               ],
               [
                -79.0235927119277,
                42.98135598222113
               ],
               [
                -79.02935032028535,
                43.05942939595385
               ],
               [
                -79.0778804369681,
                43.07437499643904
               ],
               [
                -79.04434433176736,
                43.13931480956156
               ],
               [
                -79.05695334530793,
                43.251977229080246
               ],
               [
                -79.13855567169169,
                43.25672882622025
               ],
               [
                -79.32163222358545,
                43.182484304663035
               ],
               [
                -79.40881545260407,
                43.19798460343298
               ],
               [
                -79.5294356906699,
                43.1953397974244
               ],
               [
                -79.62223582274684,
                43.22589149857208
               ],
               [
                -79.65861152721922,
                43.14398148234281
               ],
               [
                -79.70969974442757,
                43.15580518208478
               ],
               [
                -79.75409764943213,
                43.050580361311724
               ],
               [
                -79.51143596528648,
                42.964732657131385
               ],
               [
                -79.43764313442134,
                42.8758742445754
               ]
              ]
             ],
             "type": "Polygon"
            },
            "properties": {
             "EFFECTIVE_": "2020-05-15T00:00:00.000Z",
             "GEOMETRY_U": "1970-01-01T00:00:00.000Z",
             "OBJECTID": 529,
             "OGF_ID": 71877988,
             "PHU_ID": 2246,
             "PHU_NAME_E": "Niagara Region Public Health Department",
             "PHU_NAME_F": "Bureau de santé de la région du Niagara",
             "SYSTEM_DAT": "2020-05-15T00:00:00.000Z"
            },
            "type": "Feature"
           },
           {
            "geometry": {
             "coordinates": [
              [
               [
                -81.83507966725723,
                42.650999791484296
               ],
               [
                -82.00632562046442,
                42.65092858310076
               ],
               [
                -82.02395652357437,
                42.62462487757857
               ],
               [
                -82.48398346677195,
                42.63147595609273
               ],
               [
                -82.46624575698901,
                42.58425314863514
               ],
               [
                -82.4201986416616,
                42.572327648808475
               ],
               [
                -82.43541063882994,
                42.48895633329855
               ],
               [
                -82.40999252291951,
                42.399358618653864
               ],
               [
                -82.45419632940249,
                42.31922400222813
               ],
               [
                -82.42995492003284,
                42.29806529965169
               ],
               [
                -82.43702321295038,
                42.193777480701904
               ],
               [
                -82.45593311884478,
                42.19449357990365
               ],
               [
                -82.4649802102387,
                42.065388256363754
               ],
               [
                -82.36694398601242,
                42.13343757333594
               ],
               [
                -82.25173565416166,
                42.17546048647152
               ],
               [
                -82.09396261172239,
                42.247257906987855
               ],
               [
                -82.03232759397908,
                42.26233001267426
               ],
               [
                -81.93822256516358,
                42.265938417876185
               ],
               [
                -81.92884036459127,
                42.29254732309178
               ],
               [
                -81.85588444557081,
                42.333435733932404
               ],
               [
                -81.88247404707909,
                42.2566003188968
               ],
               [
                -81.84696903626764,
                42.258760120996264
               ],
               [
                -81.83400784053636,
                42.353355638550795
               ],
               [
                -81.81209703659607,
                42.3858540454166
               ],
               [
                -81.6685576996555,
                42.472616067836995
               ],
               [
                -81.83469226329899,
                42.60805108388425
               ],
               [
                -81.83507966725723,
                42.650999791484296
               ]
              ]
             ],
             "type": "Polygon"
            },
            "properties": {
             "EFFECTIVE_": "2020-05-15T00:00:00.000Z",
             "GEOMETRY_U": "1970-01-01T00:00:00.000Z",
             "OBJECTID": 545,
             "OGF_ID": 71877985,
             "PHU_ID": 2240,
             "PHU_NAME_E": "Chatham-Kent Health Unit",
             "PHU_NAME_F": "Bureau de santé de Chatham-Kent",
             "SYSTEM_DAT": "2020-05-15T00:00:00.000Z"
            },
            "type": "Feature"
           },
           {
            "geometry": {
             "coordinates": [
              [
               [
                [
                 -76.76980276820616,
                 45.14229466114835
                ],
                [
                 -76.8147329899091,
                 45.221408472697156
                ],
                [
                 -76.89151371270586,
                 45.19353706456767
                ],
                [
                 -76.93200592753124,
                 45.21074436572093
                ],
                [
                 -76.98235254154463,
                 45.182063258607485
                ],
                [
                 -76.97074083449344,
                 45.14532085284565
                ],
                [
                 -77.13748518515246,
                 45.09926823760787
                ],
                [
                 -77.21580992308816,
                 45.23704505762047
                ],
                [
                 -77.54143632151128,
                 45.14425602723483
                ],
                [
                 -77.31384231009928,
                 44.72569716563345
                ],
                [
                 -77.28834840234747,
                 44.73224056788962
                ],
                [
                 -77.20750776170401,
                 44.567025242851976
                ],
                [
                 -77.19008655640066,
                 44.57141554437779
                ],
                [
                 -77.05544309960358,
                 44.41986512388476
                ],
                [
                 -77.13883472495834,
                 44.3985303165343
                ],
                [
                 -77.03910027574078,
                 44.199164785965614
                ],
                [
                 -77.065136878038,
                 44.12517127183645
                ],
                [
                 -77.00287745915392,
                 44.14136927737016
                ],
                [
                 -77.02693476076347,
                 44.066515263153114
                ],
                [
                 -76.96852144160226,
                 44.064224265259845
                ],
                [
                 -76.9275202316542,
                 44.105077974220485
                ],
                [
                 -76.77369838806456,
                 44.18316079455484
                ],
                [
                 -76.68801046290818,
                 44.216519504080146
                ],
                [
                 -76.56473012206946,
                 44.208488707909126
                ],
                [
                 -76.42786697969629,
                 44.23620151857893
                ],
                [
                 -76.31136344650601,
                 44.29564113394748
                ],
                [
                 -76.23378612228379,
                 44.3095254396492
                ],
                [
                 -76.25484684460797,
                 44.49801747181907
                ],
                [
                 -76.2780320524817,
                 44.50143037143717
                ],
                [
                 -76.38158949361744,
                 44.588586182264564
                ],
                [
                 -76.52566795193673,
                 44.72120459917487
                ],
                [
                 -76.60860479071776,
                 44.85778941924803
                ],
                [
                 -76.76980276820616,
                 45.14229466114835
                ]
               ]
              ],
              [
               [
                [
                 -76.18368900010952,
                 44.23803882916137
                ],
                [
                 -76.42553667723858,
                 44.21540651501551
                ],
                [
                 -76.50520319933422,
                 44.167775303257265
                ],
                [
                 -76.38678975721352,
                 44.124528100616864
                ],
                [
                 -76.34658474790356,
                 44.171448010589906
                ],
                [
                 -76.35694845383176,
                 44.20280941568521
                ],
                [
                 -76.24427381734552,
                 44.20646872105962
                ],
                [
                 -76.18368900010952,
                 44.23803882916137
                ]
               ]
              ],
              [
               [
                [
                 -76.6413906456736,
                 44.191665401691836
                ],
                [
                 -76.8062369949624,
                 44.13839148528285
                ],
                [
                 -76.76454017848646,
                 44.10301258082721
                ],
                [
                 -76.69362855618235,
                 44.11240438550327
                ],
                [
                 -76.62769573959118,
                 44.17192009879677
                ],
                [
                 -76.6413906456736,
                 44.191665401691836
                ]
               ]
              ]
             ],
             "type": "MultiPolygon"
            },
            "properties": {
             "EFFECTIVE_": "2020-05-15T00:00:00.000Z",
             "GEOMETRY_U": "1970-01-01T00:00:00.000Z",
             "OBJECTID": 561,
             "OGF_ID": 71877982,
             "PHU_ID": 2241,
             "PHU_NAME_E": "Kingston, Frontenac and Lennox and Addington Health Unit",
             "PHU_NAME_F": "Bureau de santé de Kingston, Frontenac, Lennox et Addington",
             "SYSTEM_DAT": "2020-05-15T00:00:00.000Z"
            },
            "type": "Feature"
           },
           {
            "geometry": {
             "coordinates": [
              [
               [
                [
                 -82.45419632940249,
                 42.31922400222813
                ],
                [
                 -82.55529876026783,
                 42.31554429659476
                ],
                [
                 -82.6400099849645,
                 42.29969318959419
                ],
                [
                 -82.79027253180114,
                 42.305838683244524
                ],
                [
                 -82.93556407982227,
                 42.342454082507636
                ],
                [
                 -83.05862891524953,
                 42.31592257165861
                ],
                [
                 -83.10747612492446,
                 42.25720895881059
                ],
                [
                 -83.1163233193383,
                 42.16536844206471
                ],
                [
                 -83.10740460595974,
                 42.04682602140448
                ],
                [
                 -83.01424007530144,
                 42.02330082182816
                ],
                [
                 -82.92405034386897,
                 41.98081781869223
                ],
                [
                 -82.81580231219114,
                 41.9982074271377
                ],
                [
                 -82.71778498508972,
                 42.03220993804286
                ],
                [
                 -82.61147065237763,
                 42.03190684320268
                ],
                [
                 -82.53521992336768,
                 41.968629035579205
                ],
                [
                 -82.50136221445956,
                 41.98584684032148
                ],
                [
                 -82.46521700997734,
                 42.06158535567068
                ],
                [
                 -82.46516221003782,
                 42.06246535583105
                ],
                [
                 -82.4649802102387,
                 42.065388256363754
                ],
                [
                 -82.45593311884478,
                 42.19449357990365
                ],
                [
                 -82.43702321295038,
                 42.193777480701904
                ],
                [
                 -82.42995492003284,
                 42.29806529965169
                ],
                [
                 -82.45419632940249,
                 42.31922400222813
                ]
               ]
              ],
              [
               [
                [
                 -82.63818974299633,
                 41.83105500582177
                ],
                [
                 -82.68458765495336,
                 41.804832798838675
                ],
                [
                 -82.68390404887968,
                 41.7373203866996
                ],
                [
                 -82.62048513058603,
                 41.75070659219702
                ],
                [
                 -82.63818974299633,
                 41.83105500582177
                ]
               ]
              ]
             ],
             "type": "MultiPolygon"
            },
            "properties": {
             "EFFECTIVE_": "2020-05-15T00:00:00.000Z",
             "GEOMETRY_U": "1970-01-01T00:00:00.000Z",
             "OBJECTID": 577,
             "OGF_ID": 71877975,
             "PHU_ID": 2268,
             "PHU_NAME_E": "Windsor-Essex County Health Unit",
             "PHU_NAME_F": "Unité sanitaire de Windsor-Essex",
             "SYSTEM_DAT": "2020-05-15T00:00:00.000Z"
            },
            "type": "Feature"
           },
           {
            "geometry": {
             "coordinates": [
              [
               [
                -77.96097653755568,
                44.91151046852872
               ],
               [
                -78.11872528568789,
                44.87581895522999
               ],
               [
                -78.13823369555121,
                44.9146263609682
               ],
               [
                -78.65480715228225,
                44.79393621650543
               ],
               [
                -78.54542659465561,
                44.54962907968058
               ],
               [
                -78.48794606855442,
                44.46593266789505
               ],
               [
                -78.48983686604441,
                44.43100956177652
               ],
               [
                -78.42554523279892,
                44.29048834037732
               ],
               [
                -78.58471618080011,
                44.25261252653135
               ],
               [
                -78.5163011451985,
                44.09878240288469
               ],
               [
                -78.50965984172187,
                44.083502800520606
               ],
               [
                -78.30809428075007,
                44.12921161763564
               ],
               [
                -78.22032885360635,
                44.14271382395337
               ],
               [
                -78.14514443377718,
                44.19389973627029
               ],
               [
                -78.08180791857424,
                44.254469649675606
               ],
               [
                -77.96895638578386,
                44.2972811621968
               ],
               [
                -77.90108806964822,
                44.364508876932
               ],
               [
                -77.91308497570562,
                44.389404880719766
               ],
               [
                -77.72737531956119,
                44.43648209719901
               ],
               [
                -77.82839186916914,
                44.628359725889936
               ],
               [
                -77.884465999954,
                44.76989964773029
               ],
               [
                -77.96097653755568,
                44.91151046852872
               ]
              ]
             ],
             "type": "Polygon"
            },
            "properties": {
             "EFFECTIVE_": "2020-05-15T00:00:00.000Z",
             "GEOMETRY_U": "1970-01-01T00:00:00.000Z",
             "OBJECTID": 593,
             "OGF_ID": 71877972,
             "PHU_ID": 2255,
             "PHU_NAME_E": "Peterborough Public Health",
             "PHU_NAME_F": "Bureau de santé de Peterborough",
             "SYSTEM_DAT": "2020-05-15T00:00:00.000Z"
            },
            "type": "Feature"
           },
           {
            "geometry": {
             "coordinates": [
              [
               [
                -80.29319625529511,
                44.53308319382906
               ],
               [
                -80.39207288734988,
                44.53769538976769
               ],
               [
                -80.51101363094921,
                44.595702393757776
               ],
               [
                -80.55397254458481,
                44.59477169147818
               ],
               [
                -80.62580207209663,
                44.64180669588347
               ],
               [
                -80.63984158425535,
                44.720434108466996
               ],
               [
                -80.74967511976851,
                44.72466170370761
               ],
               [
                -80.82266873962543,
                44.689526994138475
               ],
               [
                -80.87478455012638,
                44.62710988100098
               ],
               [
                -80.94664117166664,
                44.613194175055625
               ],
               [
                -80.888112065213,
                44.7372414988992
               ],
               [
                -80.90682467697037,
                44.79569220778711
               ],
               [
                -80.99078490519182,
                44.809944405952905
               ],
               [
                -81.07939463057525,
                44.78093889661285
               ],
               [
                -81.00716931660553,
                44.8719425155184
               ],
               [
                -81.12239796237813,
                44.96129412461399
               ],
               [
                -81.19544528537843,
                44.95807832035958
               ],
               [
                -81.19476648912557,
                44.99724702692291
               ],
               [
                -81.27734551811223,
                45.023037826996955
               ],
               [
                -81.262813018856,
                45.07588553652548
               ],
               [
                -81.33484114841816,
                45.13988014344459
               ],
               [
                -81.30148984887866,
                45.24792046303494
               ],
               [
                -81.463499398838,
                45.230130951731056
               ],
               [
                -81.65718996443665,
                45.26606804759266
               ],
               [
                -81.72953048284243,
                45.221350336455124
               ],
               [
                -81.59287023283099,
                45.159617033381394
               ],
               [
                -81.52773400671434,
                45.10796962821217
               ],
               [
                -81.45412327257674,
                45.00408981477578
               ],
               [
                -81.3762754439645,
                44.966896912586684
               ],
               [
                -81.37297863675451,
                44.90623390264626
               ],
               [
                -81.2985112046901,
                44.823643092651324
               ],
               [
                -81.27709749073972,
                44.752570181835786
               ],
               [
                -81.28115447672712,
                44.59894265580872
               ],
               [
                -81.3875320997067,
                44.48978923201369
               ],
               [
                -81.40333659978839,
                44.439822522770825
               ],
               [
                -81.4808041222036,
                44.41811451517719
               ],
               [
                -81.60729995245511,
                44.31876809194698
               ],
               [
                -81.59147984443631,
                44.28810558755237
               ],
               [
                -81.6441273496543,
                44.171562665093006
               ],
               [
                -81.75672527566012,
                44.074051542790905
               ],
               [
                -81.74561977022077,
                44.05413743995844
               ],
               [
                -81.38325044187707,
                43.908009533148636
               ],
               [
                -81.36774143884844,
                43.92756913728022
               ],
               [
                -80.99171422557492,
                43.986454166039756
               ],
               [
                -80.8357426778768,
                44.0046242768401
               ],
               [
                -80.82693647163096,
                43.96792447095582
               ],
               [
                -80.57281219381447,
                43.9978168885223
               ],
               [
                -80.37491413478303,
                44.039291205280506
               ],
               [
                -80.39826275116582,
                44.135196720662535
               ],
               [
                -80.360946042296,
                44.167358428003
               ],
               [
                -80.40811806182572,
                44.21529573393885
               ],
               [
                -80.22907450832246,
                44.253392949172024
               ],
               [
                -80.29319625529511,
                44.53308319382906
               ]
              ]
             ],
             "type": "Polygon"
            },
            "properties": {
             "EFFECTIVE_": "2020-05-15T00:00:00.000Z",
             "GEOMETRY_U": "1970-01-01T00:00:00.000Z",
             "OBJECTID": 609,
             "OGF_ID": 71877970,
             "PHU_ID": 2233,
             "PHU_NAME_E": "Grey Bruce Health Unit",
             "PHU_NAME_F": "Bureau de santé de Grey Bruce",
             "SYSTEM_DAT": "2020-05-15T00:00:00.000Z"
            },
            "type": "Feature"
           },
           {
            "geometry": {
             "coordinates": [
              [
               [
                -75.35981077510318,
                44.80118256195177
               ],
               [
                -75.30769786133331,
                44.843666771482326
               ],
               [
                -75.1689856199183,
                44.89843688667189
               ],
               [
                -75.11360430440489,
                44.9332265949725
               ],
               [
                -75.04422888252456,
                44.94662470011747
               ],
               [
                -74.99855567095311,
                44.990787909637845
               ],
               [
                -74.91710754636107,
                45.02059921810584
               ],
               [
                -74.83125921884505,
                45.03242302361939
               ],
               [
                -74.77891409970945,
                45.01021612186926
               ],
               [
                -74.6996074738812,
                45.01624572609538
               ],
               [
                -74.5480155271868,
                45.06203374009556
               ],
               [
                -74.50317791694091,
                45.12075565206531
               ],
               [
                -74.45501640366327,
                45.15529185996307
               ],
               [
                -74.39036608315868,
                45.16800846472953
               ],
               [
                -74.34403207067416,
                45.205162972995446
               ],
               [
                -74.47220852113136,
                45.30267348474789
               ],
               [
                -74.38126961199121,
                45.5661227336322
               ],
               [
                -74.47236824468072,
                45.593740934709444
               ],
               [
                -74.53511196573687,
                45.59484163237677
               ],
               [
                -74.63806270373213,
                45.63876733572174
               ],
               [
                -74.72934763336369,
                45.62833523024294
               ],
               [
                -74.94301250593098,
                45.64341452409383
               ],
               [
                -75.03546833262659,
                45.59381731184917
               ],
               [
                -75.13260446355532,
                45.5766269049175
               ],
               [
                -75.24261610093639,
                45.585517801879924
               ],
               [
                -75.34251653009413,
                45.536993089462584
               ],
               [
                -75.24663578379538,
                45.36451516395553
               ],
               [
                -75.42597303898867,
                45.31253254761409
               ],
               [
                -75.35316120402808,
                45.182159628221285
               ],
               [
                -75.59505057599105,
                45.08440460133798
               ],
               [
                -75.36048707539474,
                44.80202826207139
               ],
               [
                -75.3599016751424,
                44.80129616196787
               ],
               [
                -75.35981077510318,
                44.80118256195177
               ]
              ]
             ],
             "type": "Polygon"
            },
            "properties": {
             "EFFECTIVE_": "2020-05-15T00:00:00.000Z",
             "GEOMETRY_U": "1970-01-01T00:00:00.000Z",
             "OBJECTID": 625,
             "OGF_ID": 71877964,
             "PHU_ID": 2258,
             "PHU_NAME_E": "Eastern Ontario Health Unit",
             "PHU_NAME_F": "Bureau de santé de l'Est de l'Ontario",
             "SYSTEM_DAT": "2020-05-15T00:00:00.000Z"
            },
            "type": "Feature"
           },
           {
            "geometry": {
             "coordinates": [
              [
               [
                -78.40357821344465,
                46.2927505788422
               ],
               [
                -78.50266994629598,
                46.29460037439781
               ],
               [
                -78.5970616798289,
                46.31886167381817
               ],
               [
                -78.6758421057168,
                46.31825076991703
               ],
               [
                -78.72823562540009,
                46.3423520713083
               ],
               [
                -78.72711122912857,
                46.38288467795806
               ],
               [
                -78.89272539173133,
                46.46192438272499
               ],
               [
                -78.98987413267564,
                46.54886459202524
               ],
               [
                -79.01525424911813,
                46.62686140335282
               ],
               [
                -79.09432638159741,
                46.68830480932938
               ],
               [
                -79.17081872123356,
                46.8252406274732
               ],
               [
                -79.21385263629683,
                46.833320026619596
               ],
               [
                -79.32966938774189,
                46.95719594056298
               ],
               [
                -79.3468027988432,
                47.00786764774979
               ],
               [
                -79.41019862540604,
                47.059855052795164
               ],
               [
                -79.63078529823099,
                47.05939984154015
               ],
               [
                -79.62637126859272,
                46.7987260003783
               ],
               [
                -79.75692421152007,
                46.798499093723564
               ],
               [
                -79.75851210258956,
                46.710538579612745
               ],
               [
                -79.88470144412719,
                46.71145547334567
               ],
               [
                -79.88364935322375,
                46.79892618733784
               ],
               [
                -80.22729396600104,
                46.79881496967473
               ],
               [
                -80.22370268394106,
                46.9724457973408
               ],
               [
                -80.29154500621186,
                46.972346493802625
               ],
               [
                -80.2915460774819,
                46.71132135245337
               ],
               [
                -80.35500089824491,
                46.711268049163124
               ],
               [
                -80.35729418957688,
                46.624978035305546
               ],
               [
                -80.29201756823882,
                46.6250306386831
               ],
               [
                -80.29009353939908,
                46.36320559684124
               ],
               [
                -80.30692514483647,
                46.36273099590238
               ],
               [
                -80.30595481721984,
                46.10543675440135
               ],
               [
                -80.17578487485991,
                46.1052307609834
               ],
               [
                -80.18601707352727,
                46.06070275323269
               ],
               [
                -80.29051720495649,
                46.03644314398707
               ],
               [
                -80.51538727765613,
                46.03354983204559
               ],
               [
                -80.58277199792703,
                46.01857502616215
               ],
               [
                -80.5556580757077,
                45.89092550679743
               ],
               [
                -80.69467431998652,
                45.88414129857343
               ],
               [
                -80.73620243209936,
                45.871623994403265
               ],
               [
                -80.71383491903896,
                45.816144586511484
               ],
               [
                -80.63460588852632,
                45.76923228290691
               ],
               [
                -80.65659799170861,
                45.73157797562669
               ],
               [
                -80.61218887432932,
                45.702390573114116
               ],
               [
                -80.58347805879147,
                45.641875764652504
               ],
               [
                -80.52004033454588,
                45.60537086187505
               ],
               [
                -80.50185302380278,
                45.55792075498846
               ],
               [
                -80.4113042974559,
                45.58615836421262
               ],
               [
                -80.3863919874029,
                45.566549062239105
               ],
               [
                -80.39607737970796,
                45.46027934421332
               ],
               [
                -80.30985464668825,
                45.408915940039506
               ],
               [
                -80.29816213750634,
                45.35520573171877
               ],
               [
                -80.2086964084194,
                45.35296463581119
               ],
               [
                -80.22201490523562,
                45.27818132271492
               ],
               [
                -80.19782219396211,
                45.243322918112234
               ],
               [
                -80.13616627507143,
                45.25326912282936
               ],
               [
                -80.0973403553392,
                45.18047011260267
               ],
               [
                -80.02653823219526,
                45.17726981556248
               ],
               [
                -79.98470651410007,
                45.130428209783766
               ],
               [
                -80.05357833265161,
                45.09328440017234
               ],
               [
                -79.60629430014386,
                45.21489854243825
               ],
               [
                -79.6725178332664,
                45.334405659187745
               ],
               [
                -79.17265178433131,
                45.47014220609753
               ],
               [
                -78.92817721080388,
                45.5327226282752
               ],
               [
                -79.05439027459721,
                45.763977860605365
               ],
               [
                -79.13036319815551,
                45.75140835484884
               ],
               [
                -79.25797236409673,
                45.99436678864132
               ],
               [
                -79.09366191491544,
                46.039858704128285
               ],
               [
                -79.15775394800143,
                46.159585620583705
               ],
               [
                -78.98708749665134,
                46.205281136383505
               ],
               [
                -78.9771377915993,
                46.1876042339822
               ],
               [
                -78.7983846375713,
                46.23412875026343
               ],
               [
                -78.76097331835203,
                46.16511714079038
               ],
               [
                -78.58907266651639,
                46.21208185675848
               ],
               [
                -78.51297742756947,
                46.071694537373794
               ],
               [
                -78.32810477164617,
                46.12149815436691
               ],
               [
                -78.41248911445066,
                46.2733253752405
               ],
               [
                -78.40357821344465,
                46.2927505788422
               ]
              ]
             ],
             "type": "Polygon"
            },
            "properties": {
             "EFFECTIVE_": "2020-05-15T00:00:00.000Z",
             "GEOMETRY_U": "1970-01-01T00:00:00.000Z",
             "OBJECTID": 641,
             "OGF_ID": 71877960,
             "PHU_ID": 2247,
             "PHU_NAME_E": "North Bay Parry Sound District Health Unit",
             "PHU_NAME_F": "Bureau de santé du district de North Bay-Parry Sound",
             "SYSTEM_DAT": "2020-05-15T00:00:00.000Z"
            },
            "type": "Feature"
           },
           {
            "geometry": {
             "coordinates": [
              [
               [
                -75.59505057599105,
                45.08440460133798
               ],
               [
                -75.35316120402808,
                45.182159628221285
               ],
               [
                -75.42597303898867,
                45.31253254761409
               ],
               [
                -75.24663578379538,
                45.36451516395553
               ],
               [
                -75.34251653009413,
                45.536993089462584
               ],
               [
                -75.44541056296471,
                45.52111958246683
               ],
               [
                -75.575559002278,
                45.47483416912605
               ],
               [
                -75.677567834945,
                45.46085856245323
               ],
               [
                -75.70374684071844,
                45.426644255513274
               ],
               [
                -75.79701906752305,
                45.37833304332747
               ],
               [
                -75.89518750202787,
                45.4016437431486
               ],
               [
                -75.98716693919738,
                45.47965435252322
               ],
               [
                -76.08987957618346,
                45.5138614539418
               ],
               [
                -76.20100881342199,
                45.51888815001576
               ],
               [
                -76.2450863236265,
                45.46861793957785
               ],
               [
                -76.29621934018371,
                45.46454053667709
               ],
               [
                -76.35396155456502,
                45.410604325010084
               ],
               [
                -76.19182449035915,
                45.28771281103769
               ],
               [
                -75.94079648981392,
                45.079957886073984
               ],
               [
                -75.95295069319725,
                45.07250438427688
               ],
               [
                -75.81953113996323,
                44.962211970854355
               ],
               [
                -75.81010103805711,
                44.97669227375329
               ],
               [
                -75.59505057599105,
                45.08440460133798
               ]
              ]
             ],
             "type": "Polygon"
            },
            "properties": {
             "EFFECTIVE_": "2020-05-15T00:00:00.000Z",
             "GEOMETRY_U": "1970-01-01T00:00:00.000Z",
             "OBJECTID": 657,
             "OGF_ID": 71877952,
             "PHU_ID": 2251,
             "PHU_NAME_E": "Ottawa Public Health",
             "PHU_NAME_F": "Santé publique Ottawa",
             "SYSTEM_DAT": "2020-05-15T00:00:00.000Z"
            },
            "type": "Feature"
           },
           {
            "geometry": {
             "coordinates": [
              [
               [
                -75.59505057599105,
                45.08440460133798
               ],
               [
                -75.81010103805711,
                44.97669227375329
               ],
               [
                -75.81953113996323,
                44.962211970854355
               ],
               [
                -75.95295069319725,
                45.07250438427688
               ],
               [
                -75.94079648981392,
                45.079957886073984
               ],
               [
                -76.19182449035915,
                45.28771281103769
               ],
               [
                -76.35396155456502,
                45.410604325010084
               ],
               [
                -76.4278831744263,
                45.358409812924116
               ],
               [
                -76.76980276820616,
                45.14229466114835
               ],
               [
                -76.60860479071776,
                44.85778941924803
               ],
               [
                -76.52566795193673,
                44.72120459917487
               ],
               [
                -76.38158949361744,
                44.588586182264564
               ],
               [
                -76.2780320524817,
                44.50143037143717
               ],
               [
                -76.25484684460797,
                44.49801747181907
               ],
               [
                -76.23378612228379,
                44.3095254396492
               ],
               [
                -75.93685913048445,
                44.3758339637059
               ],
               [
                -75.88930801896872,
                44.42620697453139
               ],
               [
                -75.75998248537329,
                44.535577999074604
               ],
               [
                -75.5766398351376,
                44.659805728379446
               ],
               [
                -75.5371352252308,
                44.698132536699816
               ],
               [
                -75.36048707539474,
                44.80202826207139
               ],
               [
                -75.59505057599105,
                45.08440460133798
               ]
              ]
             ],
             "type": "Polygon"
            },
            "properties": {
             "EFFECTIVE_": "2020-05-15T00:00:00.000Z",
             "GEOMETRY_U": "1970-01-01T00:00:00.000Z",
             "OBJECTID": 673,
             "OGF_ID": 71877950,
             "PHU_ID": 2243,
             "PHU_NAME_E": "Leeds, Grenville and Lanark District Health Unit",
             "PHU_NAME_F": "Bureau de santé du district de Leeds, Grenville et Lanark",
             "SYSTEM_DAT": "2020-05-15T00:00:00.000Z"
            },
            "type": "Feature"
           },
           {
            "geometry": {
             "coordinates": [
              [
               [
                [
                 -90.96495216054838,
                 48.22224421260802
                ],
                [
                 -90.96509110447516,
                 48.49020274857619
                ],
                [
                 -90.96535979020098,
                 49.0000473160493
                ],
                [
                 -90.96554336738077,
                 49.445095573915474
                ],
                [
                 -90.96562596615523,
                 49.99665824429771
                ],
                [
                 -90.17252191851627,
                 49.99653640379747
                ],
                [
                 -90.16893769242644,
                 50.410383056480576
                ],
                [
                 -90.16704602795794,
                 51.133675446197444
                ],
                [
                 -90.07826400298876,
                 51.15101575508151
                ],
                [
                 -90.03615608586084,
                 51.13181625593979
                ],
                [
                 -89.93263756050466,
                 51.17192586870929
                ],
                [
                 -89.8482080352829,
                 51.18119377624656
                ],
                [
                 -89.79189382289393,
                 51.21058228410722
                ],
                [
                 -89.6752445874956,
                 51.22095829419798
                ],
                [
                 -89.50747824999175,
                 51.30645601731562
                ],
                [
                 -89.50747275977285,
                 51.86834258524203
                ],
                [
                 -89.50747018717219,
                 52.49520065915016
                ],
                [
                 -91.00000837232712,
                 52.49491164158252
                ],
                [
                 -91.00000838291083,
                 53.00000919844761
                ],
                [
                 -91.00000859614555,
                 53.500009253481835
                ],
                [
                 -91.00000867396234,
                 53.8340650895522
                ],
                [
                 -90.8737582317487,
                 53.83169979968951
                ],
                [
                 -90.83896592694754,
                 53.860178005604354
                ],
                [
                 -90.83486674106554,
                 53.925851412975554
                ],
                [
                 -91.00000859561058,
                 53.92566599934503
                ],
                [
                 -91.0000086733591,
                 54.25000933368036
                ],
                [
                 -91.00000879664599,
                 54.7500093855723
                ],
                [
                 -91.00000892425024,
                 55.25000943620121
                ],
                [
                 -91.00000911389505,
                 55.59119097002184
                ],
                [
                 -91.64780241850224,
                 55.158494171807
                ],
                [
                 -92.00000917019868,
                 54.90602691631069
                ],
                [
                 -92.18877399882996,
                 54.774948686878716
                ],
                [
                 -92.65861287075126,
                 54.45340281377782
                ],
                [
                 -93.17005274464363,
                 54.089506232294156
                ],
                [
                 -93.32921056582883,
                 53.969721206160926
                ],
                [
                 -93.62989300733604,
                 53.75008175733353
                ],
                [
                 -93.95492256259509,
                 53.555874408830334
                ],
                [
                 -94.26268081682572,
                 53.38143296374059
                ],
                [
                 -95.15316076262556,
                 52.8405819287912
                ],
                [
                 -95.1531072356282,
                 52.30544427210995
                ],
                [
                 -95.15306473572534,
                 51.87045422502156
                ],
                [
                 -95.15299808072665,
                 51.16935834721814
                ],
                [
                 -95.15295227540035,
                 50.67346069076885
                ],
                [
                 -95.15289755108869,
                 50.0662889200597
                ],
                [
                 -95.15344646797502,
                 49.64535586996505
                ],
                [
                 -95.10444685428841,
                 49.64920057445509
                ],
                [
                 -94.9749907111068,
                 49.62348008198648
                ],
                [
                 -94.99475790717932,
                 49.57313427430303
                ],
                [
                 -94.94017058802764,
                 49.557339376861876
                ],
                [
                 -94.8771460716057,
                 49.568617083372295
                ],
                [
                 -94.80792936660721,
                 49.64854489867283
                ],
                [
                 -94.85013528621907,
                 49.685262799644725
                ],
                [
                 -94.6566550348908,
                 49.7160875191664
                ],
                [
                 -94.65293502174332,
                 49.65388511196038
                ],
                [
                 -94.55975499658823,
                 49.66674592109881
                ],
                [
                 -94.57073543082242,
                 49.82633983945287
                ],
                [
                 -94.58664354394963,
                 49.86929794331234
                ],
                [
                 -94.64782457107214,
                 49.91477734375283
                ],
                [
                 -94.69801758867538,
                 49.92837284126152
                ],
                [
                 -94.65160898702985,
                 49.99003665243297
                ],
                [
                 -94.58470966340607,
                 49.971298455684604
                ],
                [
                 -94.53662124036092,
                 49.92697215431836
                ],
                [
                 -94.55202652512601,
                 49.82566534089914
                ],
                [
                 -94.52319251527175,
                 49.819121442464485
                ],
                [
                 -94.4885264903768,
                 49.744060236238546
                ],
                [
                 -94.43952467069839,
                 49.7176768370322
                ],
                [
                 -94.35998644910617,
                 49.72845154479195
                ],
                [
                 -94.3610633422141,
                 49.691037040170094
                ],
                [
                 -94.2979383188443,
                 49.667232742390425
                ],
                [
                 -94.30390631163635,
                 49.620365536207494
                ],
                [
                 -94.363632722834,
                 49.58605282720316
                ],
                [
                 -94.33406110036397,
                 49.51430252083831
                ],
                [
                 -94.20485125591105,
                 49.482419327336665
                ],
                [
                 -94.17966033988286,
                 49.437236223814104
                ],
                [
                 -94.07871839814347,
                 49.374895624222276
                ],
                [
                 -94.03793397774359,
                 49.33069642202017
                ],
                [
                 -94.03383226622724,
                 49.275457715509454
                ],
                [
                 -94.14225240265968,
                 49.2981298096671
                ],
                [
                 -94.23009313496081,
                 49.33142040675011
                ],
                [
                 -94.20239133961378,
                 49.399959617408854
                ],
                [
                 -94.2925295716049,
                 49.4276541135738
                ],
                [
                 -94.26980196899535,
                 49.44954931808631
                ],
                [
                 -94.40013981408994,
                 49.48332351172341
                ],
                [
                 -94.60898547037246,
                 49.453972091261235
                ],
                [
                 -94.71446070834382,
                 49.48950768703355
                ],
                [
                 -94.72918160303189,
                 49.43895057968911
                ],
                [
                 -94.64542175426098,
                 49.312291671000374
                ],
                [
                 -94.4608258842213,
                 49.229691475710055
                ],
                [
                 -94.41723537740376,
                 49.2620970832026
                ],
                [
                 -94.32766735573905,
                 49.287953793573756
                ],
                [
                 -94.21096450018986,
                 49.17539738898671
                ],
                [
                 -94.04323625111574,
                 49.178931702778556
                ],
                [
                 -94.05850574872964,
                 49.14148829690613
                ],
                [
                 -94.17941047495256,
                 49.08944638081783
                ],
                [
                 -94.23965399921164,
                 49.12427538035378
                ],
                [
                 -94.30731012164043,
                 49.13732937657797
                ],
                [
                 -94.31746881525197,
                 49.08660366947064
                ],
                [
                 -94.43243913188573,
                 48.99289054864957
                ],
                [
                 -94.50383214575128,
                 48.95399943811442
                ],
                [
                 -94.59497247058495,
                 48.943302029506704
                ],
                [
                 -94.63616967120099,
                 48.88083971844189
                ],
                [
                 -94.69881507955216,
                 48.82617310662722
                ],
                [
                 -94.68710986744519,
                 48.77870780163629
                ],
                [
                 -94.5802239250338,
                 48.717746502508405
                ],
                [
                 -94.44110997997484,
                 48.69423741058336
                ],
                [
                 -94.41564017536172,
                 48.71009751459481
                ],
                [
                 -94.30802564359277,
                 48.70929742300059
                ],
                [
                 -94.26300962797404,
                 48.69609042488699
                ],
                [
                 -94.2440215145439,
                 48.652421720866606
                ],
                [
                 -94.00543994268554,
                 48.6434920384722
                ],
                [
                 -93.83427568900805,
                 48.62577274959923
                ],
                [
                 -93.79416625778863,
                 48.51620133872946
                ],
                [
                 -93.64718941457126,
                 48.51738235028814
                ],
                [
                 -93.46660926623836,
                 48.54665756802021
                ],
                [
                 -93.46502097375155,
                 48.59214937398488
                ],
                [
                 -93.35344404424183,
                 48.61272458524846
                ],
                [
                 -93.25360491982522,
                 48.642738196807024
                ],
                [
                 -93.17864199408818,
                 48.62321310006952
                ],
                [
                 -92.98305913589869,
                 48.62387221517113
                ],
                [
                 -92.7298463455523,
                 48.539063523509505
                ],
                [
                 -92.63542261791463,
                 48.54261763114428
                ],
                [
                 -92.63056540926108,
                 48.50072392605431
                ],
                [
                 -92.69878712865496,
                 48.49484112011315
                ],
                [
                 -92.71257122728004,
                 48.462831014894675
                ],
                [
                 -92.65508600552965,
                 48.436133415766065
                ],
                [
                 -92.50757596342861,
                 48.448011928471054
                ],
                [
                 -92.45656144003182,
                 48.40029842606464
                ],
                [
                 -92.47670114099193,
                 48.37043312062779
                ],
                [
                 -92.37726758731652,
                 48.22852640939478
                ],
                [
                 -92.26952875827544,
                 48.247649619980265
                ],
                [
                 -92.30065687474686,
                 48.29025422328413
                ],
                [
                 -92.28840487985758,
                 48.34243233108561
                ],
                [
                 -92.05516781263161,
                 48.35906145071422
                ],
                [
                 -92.00046478983711,
                 48.321190349777304
                ],
                [
                 -92.00581378199279,
                 48.26458334187296
                ],
                [
                 -91.89367904399673,
                 48.23880844676624
                ],
                [
                 -91.86451133004577,
                 48.207565244764055
                ],
                [
                 -91.71493428375337,
                 48.19985435477862
                ],
                [
                 -91.69165766331808,
                 48.11819414556335
                ],
                [
                 -91.57003522276811,
                 48.09420675126877
                ],
                [
                 -91.56791101394205,
                 48.04397484466716
                ],
                [
                 -91.4891259942934,
                 48.06911215381272
                ],
                [
                 -91.43229337397001,
                 48.04950105531926
                ],
                [
                 -91.37144805901079,
                 48.070455362582166
                ],
                [
                 -91.25118962480666,
                 48.0835693731069
                ],
                [
                 -91.11620579743258,
                 48.1667405941435
                ],
                [
                 -91.02402467342412,
                 48.191065604117114
                ],
                [
                 -90.96495216054838,
                 48.22224421260802
                ]
               ]
              ],
              [
               [
                [
                 -94.75254894868809,
                 49.64063520223967
                ],
                [
                 -94.7571969377686,
                 49.5769496941623
                ],
                [
                 -94.81158845679377,
                 49.592213591574044
                ],
                [
                 -94.87562077043962,
                 49.564908383048675
                ],
                [
                 -94.90377767044698,
                 49.52183677554258
                ],
                [
                 -95.05823790422889,
                 49.46095255556386
                ],
                [
                 -95.13633942383414,
                 49.44351424706876
                ],
                [
                 -95.15234991760677,
                 49.38662283887561
                ],
                [
                 -95.12793380751822,
                 49.37137723902269
                ],
                [
                 -95.01599217277861,
                 49.361662546972674
                ],
                [
                 -94.91791055026312,
                 49.394854258991096
                ],
                [
                 -94.95074416760004,
                 49.43494716118622
                ],
                [
                 -94.85752864552498,
                 49.46310027219418
                ],
                [
                 -94.80625113835349,
                 49.504609081403736
                ],
                [
                 -94.6808075095081,
                 49.547501296809706
                ],
                [
                 -94.60589320606717,
                 49.64493151470654
                ],
                [
                 -94.73519844124628,
                 49.62870820221417
                ],
                [
                 -94.75254894868809,
                 49.64063520223967
                ]
               ]
              ],
              [
               [
                [
                 -94.64906653514615,
                 49.20502725753874
                ],
                [
                 -94.7105442499595,
                 49.187464450426056
                ],
                [
                 -94.74259955306722,
                 49.15371804369165
                ],
                [
                 -94.71368163108245,
                 49.0815442371227
                ],
                [
                 -94.63092371149669,
                 49.1070956469266
                ],
                [
                 -94.52467389357946,
                 49.17891276432243
                ],
                [
                 -94.55801090819307,
                 49.20446646479532
                ],
                [
                 -94.64906653514615,
                 49.20502725753874
                ]
               ]
              ],
              [
               [
                [
                 -94.579939297454,
                 49.11231185166315
                ],
                [
                 -94.6318545052349,
                 49.0719711425108
                ],
                [
                 -94.56039097308545,
                 49.011975540802766
                ],
                [
                 -94.50367056625298,
                 49.06530945195546
                ],
                [
                 -94.579939297454,
                 49.11231185166315
                ]
               ]
              ],
              [
               [
                [
                 -94.72493009891193,
                 49.423928578204645
                ],
                [
                 -94.8218418143407,
                 49.3548208619212
                ],
                [
                 -94.77565859531234,
                 49.32626786217911
                ],
                [
                 -94.71851098159125,
                 49.342766568821474
                ],
                [
                 -94.69658318456112,
                 49.39250267667047
                ],
                [
                 -94.72493009891193,
                 49.423928578204645
                ]
               ]
              ],
              [
               [
                [
                 -94.6555257871314,
                 49.98464695146838
                ],
                [
                 -94.63895446829005,
                 49.914048544392536
                ],
                [
                 -94.57554944130325,
                 49.87264264462075
                ],
                [
                 -94.55256124468653,
                 49.924816952756096
                ],
                [
                 -94.6555257871314,
                 49.98464695146838
                ]
               ]
              ]
             ],
             "type": "MultiPolygon"
            },
            "properties": {
             "EFFECTIVE_": "2020-05-15T00:00:00.000Z",
             "GEOMETRY_U": "1970-01-01T00:00:00.000Z",
             "OBJECTID": 689,
             "OGF_ID": 71878002,
             "PHU_ID": 2249,
             "PHU_NAME_E": "Northwestern Health Unit",
             "PHU_NAME_F": "Bureau de santé du Nord-Ouest",
             "SYSTEM_DAT": "2020-05-15T00:00:00.000Z"
            },
            "type": "Feature"
           },
           {
            "geometry": {
             "coordinates": [
              [
               [
                -79.75409764943213,
                43.050580361311724
               ],
               [
                -79.98416052924973,
                43.13204306512163
               ],
               [
                -79.97641132225878,
                43.07971335618946
               ],
               [
                -80.05550613719126,
                42.96344313181763
               ],
               [
                -80.24371420252906,
                43.03215453525115
               ],
               [
                -80.54342679281434,
                42.98487791274444
               ],
               [
                -80.50546257206089,
                42.88406479661964
               ],
               [
                -80.70543513231466,
                42.85454378192302
               ],
               [
                -80.74464974195241,
                42.824013074633676
               ],
               [
                -80.71718983021397,
                42.788241669563426
               ],
               [
                -80.7212358168752,
                42.61980553929182
               ],
               [
                -80.62590528375901,
                42.58206183700708
               ],
               [
                -80.52802835234161,
                42.57345114004208
               ],
               [
                -80.44488452762728,
                42.58941494678726
               ],
               [
                -80.42511782627913,
                42.64621515789867
               ],
               [
                -80.37498991181207,
                42.661109062906064
               ],
               [
                -80.29231599085146,
                42.71977647726848
               ],
               [
                -80.22989217621814,
                42.77817019062553
               ],
               [
                -80.0538075222068,
                42.79504130181802
               ],
               [
                -79.9203073821877,
                42.81938081234517
               ],
               [
                -79.84333305820343,
                42.82297901653583
               ],
               [
                -79.69851011564215,
                42.860479229905856
               ],
               [
                -79.63890429470321,
                42.835651928184014
               ],
               [
                -79.58542087964949,
                42.85765233457342
               ],
               [
                -79.48333204594336,
                42.840892536219236
               ],
               [
                -79.43764313442134,
                42.8758742445754
               ],
               [
                -79.51143596528648,
                42.964732657131385
               ],
               [
                -79.75409764943213,
                43.050580361311724
               ]
              ]
             ],
             "type": "Polygon"
            },
            "properties": {
             "EFFECTIVE_": "2020-05-15T00:00:00.000Z",
             "GEOMETRY_U": "1970-01-01T00:00:00.000Z",
             "OBJECTID": 705,
             "OGF_ID": 71877945,
             "PHU_ID": 2234,
             "PHU_NAME_E": "Haldimand-Norfolk Health Unit",
             "PHU_NAME_F": "Bureau de santé d'Haldimand-Norfolk",
             "SYSTEM_DAT": "2020-05-15T00:00:00.000Z"
            },
            "type": "Feature"
           },
           {
            "geometry": {
             "coordinates": [
              [
               [
                -79.51762989797795,
                48.27625523600869
               ],
               [
                -80.14684830848057,
                48.27582900278589
               ],
               [
                -81.0752112177381,
                48.27765475277748
               ],
               [
                -81.07364419581943,
                48.10346012664399
               ],
               [
                -81.07402893161508,
                47.56816794507457
               ],
               [
                -81.07343890251727,
                47.321770307075305
               ],
               [
                -80.27206933880069,
                47.32022104938799
               ],
               [
                -80.27415690984664,
                47.05640540794971
               ],
               [
                -80.29154500621186,
                46.972346493802625
               ],
               [
                -80.22370268394106,
                46.9724457973408
               ],
               [
                -80.22729396600104,
                46.79881496967473
               ],
               [
                -79.88364935322375,
                46.79892618733784
               ],
               [
                -79.88470144412719,
                46.71145547334567
               ],
               [
                -79.75851210258956,
                46.710538579612745
               ],
               [
                -79.75692421152007,
                46.798499093723564
               ],
               [
                -79.62637126859272,
                46.7987260003783
               ],
               [
                -79.63078529823099,
                47.05939984154015
               ],
               [
                -79.41019862540604,
                47.059855052795164
               ],
               [
                -79.44299654070855,
                47.10100625764835
               ],
               [
                -79.42684625161083,
                47.25007838197937
               ],
               [
                -79.5810380209284,
                47.41512320000283
               ],
               [
                -79.58647652612956,
                47.44564800449333
               ],
               [
                -79.54739312121092,
                47.51783541775816
               ],
               [
                -79.51708421285667,
                47.533173221701645
               ],
               [
                -79.51762989797795,
                48.27625523600869
               ]
              ]
             ],
             "type": "Polygon"
            },
            "properties": {
             "EFFECTIVE_": "2020-05-15T00:00:00.000Z",
             "GEOMETRY_U": "1970-01-01T00:00:00.000Z",
             "OBJECTID": 721,
             "OGF_ID": 71878009,
             "PHU_ID": 2263,
             "PHU_NAME_E": "Timiskaming Health Unit",
             "PHU_NAME_F": "Bureau de santé de Témiskamingue",
             "SYSTEM_DAT": "2020-05-15T00:00:00.000Z"
            },
            "type": "Feature"
           },
           {
            "geometry": {
             "coordinates": [
              [
               [
                -76.29621934018371,
                45.46454053667709
               ],
               [
                -76.36174616119948,
                45.45710363257789
               ],
               [
                -76.43351908799308,
                45.49208513540044
               ],
               [
                -76.60798554916164,
                45.531834634517885
               ],
               [
                -76.66001276891262,
                45.56064223710685
               ],
               [
                -76.66979377755884,
                45.621296546920284
               ],
               [
                -76.71194709545729,
                45.665491252512474
               ],
               [
                -76.68695958915352,
                45.68731945729157
               ],
               [
                -76.74456241141819,
                45.72295586074143
               ],
               [
                -76.78139552924593,
                45.78529116957774
               ],
               [
                -76.77872813618859,
                45.87136178411758
               ],
               [
                -76.89484127710074,
                45.89815528341946
               ],
               [
                -76.92757788740087,
                45.892263980970576
               ],
               [
                -76.91199937468393,
                45.809679867851344
               ],
               [
                -76.98498149666561,
                45.78608636063594
               ],
               [
                -77.08156113313883,
                45.83559206458909
               ],
               [
                -77.19033007170566,
                45.86386996440941
               ],
               [
                -77.27840690873077,
                45.9488986745905
               ],
               [
                -77.27633701362656,
                46.00854878460249
               ],
               [
                -77.56608562376688,
                46.15922969626974
               ],
               [
                -77.66911256143425,
                46.19654289765319
               ],
               [
                -77.6904900673018,
                46.18403069459958
               ],
               [
                -77.92681224930767,
                46.224108090168215
               ],
               [
                -77.99993147589169,
                46.24896119081517
               ],
               [
                -78.05592999389364,
                46.2438927873464
               ],
               [
                -78.12994732134321,
                46.27451328887147
               ],
               [
                -78.26049366438163,
                46.27395308258909
               ],
               [
                -78.31236717936036,
                46.25237997658941
               ],
               [
                -78.40357821344465,
                46.2927505788422
               ],
               [
                -78.41248911445066,
                46.2733253752405
               ],
               [
                -78.32810477164617,
                46.12149815436691
               ],
               [
                -78.51297742756947,
                46.071694537373794
               ],
               [
                -78.58907266651639,
                46.21208185675848
               ],
               [
                -78.76097331835203,
                46.16511714079038
               ],
               [
                -78.7983846375713,
                46.23412875026343
               ],
               [
                -78.9771377915993,
                46.1876042339822
               ],
               [
                -78.98708749665134,
                46.205281136383505
               ],
               [
                -79.15775394800143,
                46.159585620583705
               ],
               [
                -79.09366191491544,
                46.039858704128285
               ],
               [
                -79.25797236409673,
                45.99436678864132
               ],
               [
                -79.13036319815551,
                45.75140835484884
               ],
               [
                -79.05439027459721,
                45.763977860605365
               ],
               [
                -78.92817721080388,
                45.5327226282752
               ],
               [
                -78.85943337700319,
                45.41449491180544
               ],
               [
                -78.31481781317537,
                45.56108396205418
               ],
               [
                -78.17830484493169,
                45.30989162621366
               ],
               [
                -77.69096169725142,
                45.43812817024545
               ],
               [
                -77.63600726772135,
                45.31248505151949
               ],
               [
                -77.54143632151128,
                45.14425602723483
               ],
               [
                -77.21580992308816,
                45.23704505762047
               ],
               [
                -77.13748518515246,
                45.09926823760787
               ],
               [
                -76.97074083449344,
                45.14532085284565
               ],
               [
                -76.98235254154463,
                45.182063258607485
               ],
               [
                -76.93200592753124,
                45.21074436572093
               ],
               [
                -76.89151371270586,
                45.19353706456767
               ],
               [
                -76.8147329899091,
                45.221408472697156
               ],
               [
                -76.76980276820616,
                45.14229466114835
               ],
               [
                -76.4278831744263,
                45.358409812924116
               ],
               [
                -76.35396155456502,
                45.410604325010084
               ],
               [
                -76.29621934018371,
                45.46454053667709
               ]
              ]
             ],
             "type": "Polygon"
            },
            "properties": {
             "EFFECTIVE_": "2020-05-15T00:00:00.000Z",
             "GEOMETRY_U": "1970-01-01T00:00:00.000Z",
             "OBJECTID": 737,
             "OGF_ID": 71877941,
             "PHU_ID": 2257,
             "PHU_NAME_E": "Renfrew County and District Health Unit",
             "PHU_NAME_F": "Bureau de santé du comté et du district de Renfrew",
             "SYSTEM_DAT": "2020-05-15T00:00:00.000Z"
            },
            "type": "Feature"
           },
           {
            "geometry": {
             "coordinates": [
              [
               [
                -79.11574491091916,
                43.794454022216534
               ],
               [
                -79.17031943375656,
                43.855456530375854
               ],
               [
                -79.63922387414868,
                43.749907390083074
               ],
               [
                -79.58858195044697,
                43.6648321775579
               ],
               [
                -79.58611544652581,
                43.62940307145855
               ],
               [
                -79.5435011286932,
                43.58109426495831
               ],
               [
                -79.4554050055922,
                43.63752527896817
               ],
               [
                -79.34728257073,
                43.63316848321492
               ],
               [
                -79.11574491091916,
                43.794454022216534
               ]
              ]
             ],
             "type": "Polygon"
            },
            "properties": {
             "EFFECTIVE_": "2020-05-15T00:00:00.000Z",
             "GEOMETRY_U": "1970-01-01T00:00:00.000Z",
             "OBJECTID": 753,
             "OGF_ID": 71877938,
             "PHU_ID": 3895,
             "PHU_NAME_E": "Toronto Public Health",
             "PHU_NAME_F": "Bureau de santé de Toronto",
             "SYSTEM_DAT": "2020-05-15T00:00:00.000Z"
            },
            "type": "Feature"
           },
           {
            "geometry": {
             "coordinates": [
              [
               [
                -79.62515674588649,
                43.48105624355473
               ],
               [
                -79.6973658712366,
                43.5082607449804
               ],
               [
                -79.8083391137567,
                43.59009105416286
               ],
               [
                -79.78966570884693,
                43.60165735706794
               ],
               [
                -79.96904747777373,
                43.734423671834854
               ],
               [
                -80.16036802294714,
                43.56111963247004
               ],
               [
                -80.03427687492025,
                43.471075022639546
               ],
               [
                -79.86063860894383,
                43.34746310901629
               ],
               [
                -79.91248142195785,
                43.308456799704736
               ],
               [
                -79.86859820611402,
                43.286325197842025
               ],
               [
                -79.79303438343865,
                43.30097340395371
               ],
               [
                -79.79580248630425,
                43.323734407849095
               ],
               [
                -79.71781456607941,
                43.37547242062037
               ],
               [
                -79.62515674588649,
                43.48105624355473
               ]
              ]
             ],
             "type": "Polygon"
            },
            "properties": {
             "EFFECTIVE_": "2020-05-15T00:00:00.000Z",
             "GEOMETRY_U": "1970-01-01T00:00:00.000Z",
             "OBJECTID": 769,
             "OGF_ID": 71877935,
             "PHU_ID": 2236,
             "PHU_NAME_E": "Halton Region Health Department",
             "PHU_NAME_F": "Bureau de santé de la région de Halton",
             "SYSTEM_DAT": "2020-05-15T00:00:00.000Z"
            },
            "type": "Feature"
           },
           {
            "geometry": {
             "coordinates": [
              [
               [
                [
                 -77.54143632151128,
                 45.14425602723483
                ],
                [
                 -77.63600726772135,
                 45.31248505151949
                ],
                [
                 -77.69096169725142,
                 45.43812817024545
                ],
                [
                 -78.17830484493169,
                 45.30989162621366
                ],
                [
                 -77.96097653755568,
                 44.91151046852872
                ],
                [
                 -77.884465999954,
                 44.76989964773029
                ],
                [
                 -77.82839186916914,
                 44.628359725889936
                ],
                [
                 -77.72737531956119,
                 44.43648209719901
                ],
                [
                 -77.64619627904172,
                 44.27216577219793
                ],
                [
                 -77.7521752100356,
                 44.23308776067614
                ],
                [
                 -77.66134696391201,
                 44.03695043033193
                ],
                [
                 -77.58774164199284,
                 44.059406637515536
                ],
                [
                 -77.57202824054811,
                 44.10247674576924
                ],
                [
                 -77.51924402392576,
                 44.10809594907382
                ],
                [
                 -77.33565126945226,
                 44.16798986761858
                ],
                [
                 -77.25232154331137,
                 44.178775073142496
                ],
                [
                 -77.14734940780735,
                 44.16190807473966
                ],
                [
                 -77.03910027574078,
                 44.199164785965614
                ],
                [
                 -77.13883472495834,
                 44.3985303165343
                ],
                [
                 -77.05544309960358,
                 44.41986512388476
                ],
                [
                 -77.19008655640066,
                 44.57141554437779
                ],
                [
                 -77.20750776170401,
                 44.567025242851976
                ],
                [
                 -77.28834840234747,
                 44.73224056788962
                ],
                [
                 -77.31384231009928,
                 44.72569716563345
                ],
                [
                 -77.54143632151128,
                 45.14425602723483
                ]
               ]
              ],
              [
               [
                [
                 -77.65454176042427,
                 44.02173782795755
                ],
                [
                 -77.60305024514687,
                 44.03809023309665
                ],
                [
                 -77.53668132125787,
                 44.00947763097544
                ],
                [
                 -77.53250551604914,
                 43.963536923066975
                ],
                [
                 -77.4840946972656,
                 43.92621021859874
                ],
                [
                 -77.29791013976924,
                 43.959459132564554
                ],
                [
                 -77.24670042220238,
                 43.947674332701496
                ],
                [
                 -77.20700880180385,
                 43.856334918258675
                ],
                [
                 -77.15540038365187,
                 43.83878371736999
                ],
                [
                 -77.0417529510954,
                 43.89075883145954
                ],
                [
                 -77.00936934056222,
                 43.890333632771444
                ],
                [
                 -76.93813062068601,
                 43.929793242807705
                ],
                [
                 -77.04256315620026,
                 43.94973384186287
                ],
                [
                 -76.96523393666655,
                 44.01731085712229
                ],
                [
                 -77.08389217756128,
                 44.046061757094506
                ],
                [
                 -77.05886857909957,
                 44.162386178651
                ],
                [
                 -77.073263484759,
                 44.17415388009688
                ],
                [
                 -77.23820483502652,
                 44.13464876600864
                ],
                [
                 -77.32124985889845,
                 44.098004755956275
                ],
                [
                 -77.32970466531881,
                 44.141804463282604
                ],
                [
                 -77.49740181672227,
                 44.10659504976841
                ],
                [
                 -77.56943373578807,
                 44.05611023774045
                ],
                [
                 -77.6611870638299,
                 44.03659093027577
                ],
                [
                 -77.65454176042427,
                 44.02173782795755
                ]
               ]
              ]
             ],
             "type": "MultiPolygon"
            },
            "properties": {
             "EFFECTIVE_": "2020-05-15T00:00:00.000Z",
             "GEOMETRY_U": "1970-01-01T00:00:00.000Z",
             "OBJECTID": 785,
             "OGF_ID": 71877933,
             "PHU_ID": 2238,
             "PHU_NAME_E": "Hastings and Prince Edward Counties Health Unit",
             "PHU_NAME_F": "Bureau de santé de Hastings et Prince Edward",
             "SYSTEM_DAT": "2020-05-15T00:00:00.000Z"
            },
            "type": "Feature"
           },
           {
            "geometry": {
             "coordinates": [
              [
               [
                [
                 -78.85943337700319,
                 45.41449491180544
                ],
                [
                 -78.92817721080388,
                 45.5327226282752
                ],
                [
                 -79.17265178433131,
                 45.47014220609753
                ],
                [
                 -79.6725178332664,
                 45.334405659187745
                ],
                [
                 -79.60629430014386,
                 45.21489854243825
                ],
                [
                 -80.05357833265161,
                 45.09328440017234
                ],
                [
                 -80.01058661243165,
                 45.028170991361684
                ],
                [
                 -79.9255255825131,
                 45.00226859117579
                ],
                [
                 -79.92178287448007,
                 44.93184777950131
                ],
                [
                 -79.83151924641675,
                 44.942220485650104
                ],
                [
                 -79.82329223713506,
                 44.873343174423944
                ],
                [
                 -79.78582011929518,
                 44.8130413660417
                ],
                [
                 -79.71120459235507,
                 44.78235336445015
                ],
                [
                 -79.73306029504037,
                 44.73664135563905
                ],
                [
                 -79.84910453418065,
                 44.75580265327707
                ],
                [
                 -79.87337364690241,
                 44.80721416080794
                ],
                [
                 -79.92306446807233,
                 44.86120256751851
                ],
                [
                 -80.0035031937213,
                 44.858943263212
                ],
                [
                 -80.05255600556414,
                 44.818329653955146
                ],
                [
                 -80.11973512654298,
                 44.81215074962343
                ],
                [
                 -80.12700832287707,
                 44.74998353875725
                ],
                [
                 -80.0329728901201,
                 44.723155538806104
                ],
                [
                 -79.9792092675577,
                 44.667664932008755
                ],
                [
                 -80.01008597092253,
                 44.59900471883941
                ],
                [
                 -79.99469506241321,
                 44.561355613177284
                ],
                [
                 -80.05722297589463,
                 44.49220929835932
                ],
                [
                 -80.11974589384015,
                 44.470372491599996
                ],
                [
                 -80.20047772323197,
                 44.50787709406618
                ],
                [
                 -80.29319625529511,
                 44.53308319382906
                ],
                [
                 -80.22907450832246,
                 44.253392949172024
                ],
                [
                 -80.0339622498968,
                 44.294860865716885
                ],
                [
                 -79.95114629175595,
                 43.951461710441066
                ],
                [
                 -79.77551993922904,
                 43.989793125433756
                ],
                [
                 -79.63702649779411,
                 44.02061913733245
                ],
                [
                 -79.55698107718413,
                 44.07557695063855
                ],
                [
                 -79.54124177857526,
                 44.146300563626234
                ],
                [
                 -79.51627177236196,
                 44.16587376818996
                ],
                [
                 -79.5089783935667,
                 44.4223653127206
                ],
                [
                 -79.2424520113459,
                 44.45979253175579
                ],
                [
                 -79.16370798703615,
                 44.47107143739863
                ],
                [
                 -79.15435838652785,
                 44.49835414252373
                ],
                [
                 -79.08186586477589,
                 44.515828148928335
                ],
                [
                 -79.20924403219718,
                 44.800038691485156
                ],
                [
                 -79.06294668867274,
                 44.84015090523779
                ],
                [
                 -79.09355600821074,
                 44.94295822124383
                ],
                [
                 -78.93439596067343,
                 44.98565103601468
                ],
                [
                 -79.00109199357223,
                 45.10529015309231
                ],
                [
                 -78.84256134587346,
                 45.14506136731565
                ],
                [
                 -78.9075243794499,
                 45.27646868636778
                ],
                [
                 -78.97139851056694,
                 45.38445970143825
                ],
                [
                 -78.85943337700319,
                 45.41449491180544
                ]
               ]
              ],
              [
               [
                [
                 -80.23553737052555,
                 44.88220235574874
                ],
                [
                 -80.24516306887931,
                 44.83355654707644
                ],
                [
                 -80.19030674899669,
                 44.81008114581242
                ],
                [
                 -80.15191663848955,
                 44.828823350860745
                ],
                [
                 -80.17452454986237,
                 44.871200956897994
                ],
                [
                 -80.23553737052555,
                 44.88220235574874
                ]
               ]
              ]
             ],
             "type": "MultiPolygon"
            },
            "properties": {
             "EFFECTIVE_": "2020-05-15T00:00:00.000Z",
             "GEOMETRY_U": "1970-01-01T00:00:00.000Z",
             "OBJECTID": 801,
             "OGF_ID": 71877929,
             "PHU_ID": 2260,
             "PHU_NAME_E": "Simcoe Muskoka District Health Unit",
             "PHU_NAME_F": "Bureau de santé du comté de Simcoe",
             "SYSTEM_DAT": "2020-05-15T00:00:00.000Z"
            },
            "type": "Feature"
           },
           {
            "geometry": {
             "coordinates": [
              [
               [
                -78.5163011451985,
                44.09878240288469
               ],
               [
                -78.69268789842369,
                44.0584484878024
               ],
               [
                -78.77007833828164,
                44.22740241364331
               ],
               [
                -78.90314287896298,
                44.20343540334367
               ],
               [
                -78.92208858061836,
                44.15374269384224
               ],
               [
                -79.08186586477589,
                44.515828148928335
               ],
               [
                -79.15435838652785,
                44.49835414252373
               ],
               [
                -79.16370798703615,
                44.47107143739863
               ],
               [
                -79.2424520113459,
                44.45979253175579
               ],
               [
                -79.15610036565454,
                44.26317450192772
               ],
               [
                -79.32800131723552,
                44.22332648698636
               ],
               [
                -79.17031943375656,
                43.855456530375854
               ],
               [
                -79.11574491091916,
                43.794454022216534
               ],
               [
                -78.81860892221594,
                43.86847684882956
               ],
               [
                -78.71179978787366,
                43.86765695355932
               ],
               [
                -78.61981346098693,
                43.89813526308775
               ],
               [
                -78.47012771297922,
                43.89927517006994
               ],
               [
                -78.43693380340679,
                43.91202877380742
               ],
               [
                -78.50965984172187,
                44.083502800520606
               ],
               [
                -78.5163011451985,
                44.09878240288469
               ]
              ]
             ],
             "type": "Polygon"
            },
            "properties": {
             "EFFECTIVE_": "2020-05-15T00:00:00.000Z",
             "GEOMETRY_U": "1970-01-01T00:00:00.000Z",
             "OBJECTID": 817,
             "OGF_ID": 71877925,
             "PHU_ID": 2230,
             "PHU_NAME_E": "Durham Region Health Department",
             "PHU_NAME_F": "Bureau de santé de Durham",
             "SYSTEM_DAT": "2020-05-15T00:00:00.000Z"
            },
            "type": "Feature"
           },
           {
            "geometry": {
             "coordinates": [
              [
               [
                -79.51762989797795,
                48.27625523600869
               ],
               [
                -79.51732777930107,
                48.958119338418584
               ],
               [
                -79.51782393262872,
                49.38829550174316
               ],
               [
                -79.51766167838467,
                49.750030454273485
               ],
               [
                -79.51747203220972,
                50.1654018137454
               ],
               [
                -79.51794107681349,
                50.50003056096201
               ],
               [
                -79.51895495397343,
                51.06229753895311
               ],
               [
                -79.51565220892965,
                51.46083629344191
               ],
               [
                -79.57260242846306,
                51.457843189865784
               ],
               [
                -79.61662453760516,
                51.413877281464146
               ],
               [
                -79.679802258053,
                51.40223237635946
               ],
               [
                -79.74456047031524,
                51.32953816288699
               ],
               [
                -79.68677644345927,
                51.28262075974417
               ],
               [
                -79.75393565314315,
                51.18554554277527
               ],
               [
                -79.79827016463516,
                51.15756153648004
               ],
               [
                -79.90393650407114,
                51.176189833102484
               ],
               [
                -79.99021014376515,
                51.24386983745799
               ],
               [
                -80.0600380702084,
                51.25868633552671
               ],
               [
                -80.11344769344412,
                51.29089983686995
               ],
               [
                -80.2118077284804,
                51.2963691320239
               ],
               [
                -80.38444249480274,
                51.33934292797165
               ],
               [
                -80.43214171619614,
                51.37212702965358
               ],
               [
                -80.42795842645528,
                51.451828640610664
               ],
               [
                -80.44683413908088,
                51.49280514502027
               ],
               [
                -80.49849116171667,
                51.52405914622553
               ],
               [
                -80.57018120783731,
                51.66546746093426
               ],
               [
                -80.57425761623891,
                51.71186906686108
               ],
               [
                -80.74017579363604,
                51.83975177409231
               ],
               [
                -80.91191736605498,
                51.92018857456687
               ],
               [
                -80.98909170721593,
                52.01144388194656
               ],
               [
                -81.09803315053145,
                52.0446249797982
               ],
               [
                -81.16015117174629,
                52.04132027566135
               ],
               [
                -81.362172052085,
                52.1026848715234
               ],
               [
                -81.45819460164671,
                52.202790678680344
               ],
               [
                -81.48004761801776,
                52.25705778435299
               ],
               [
                -81.56053175091702,
                52.286277583222635
               ],
               [
                -81.5248205459313,
                52.332738591362315
               ],
               [
                -81.56282046889254,
                52.392045296647666
               ],
               [
                -81.5430015676672,
                52.42717360234866
               ],
               [
                -81.68975553641269,
                52.532081906736934
               ],
               [
                -81.76478677507751,
                52.60632131153566
               ],
               [
                -81.87789972391622,
                52.66073711142089
               ],
               [
                -81.9249887473799,
                52.70188691368581
               ],
               [
                -81.95958617238387,
                52.7779024210873
               ],
               [
                -82.11151794349902,
                52.88140102453793
               ],
               [
                -82.24935979962203,
                52.925547021365276
               ],
               [
                -82.28178271813798,
                52.96658522441532
               ],
               [
                -82.2874709366025,
                53.06123323577457
               ],
               [
                -82.26076534607165,
                53.16921795078013
               ],
               [
                -82.16137222425934,
                53.24520246641107
               ],
               [
                -82.11479141108896,
                53.26414757168097
               ],
               [
                -82.12549512734195,
                53.33484767966459
               ],
               [
                -82.21788320588519,
                53.59101730493594
               ],
               [
                -82.1799515124892,
                53.702349020778534
               ],
               [
                -82.1355241068595,
                53.75873393038932
               ],
               [
                -82.12632901469432,
                53.81982693829996
               ],
               [
                -82.2343000918891,
                54.02914425630856
               ],
               [
                -82.34938595033049,
                54.12101095973877
               ],
               [
                -82.42591419454116,
                54.20981666521807
               ],
               [
                -82.42446831529494,
                54.32190117842529
               ],
               [
                -82.32055501208879,
                54.501128406028926
               ],
               [
                -82.29007593000877,
                54.65116722533976
               ],
               [
                -82.21495392395472,
                54.76037884277694
               ],
               [
                -82.19897403299457,
                54.83646265252209
               ],
               [
                -82.26142626601417,
                54.888819354414586
               ],
               [
                -82.25814618600637,
                54.996107066813394
               ],
               [
                -82.27381940158467,
                55.04573337140057
               ],
               [
                -82.25317840674622,
                55.10948547994839
               ],
               [
                -82.41730895996199,
                55.07563766533657
               ],
               [
                -82.4533195812629,
                55.116231567527706
               ],
               [
                -82.51942950101544,
                55.09443056070378
               ],
               [
                -82.56506442576178,
                55.134520662182005
               ],
               [
                -82.6677614708442,
                55.171939459545435
               ],
               [
                -82.78067460320402,
                55.12854974715457
               ],
               [
                -82.88635554574577,
                55.148314542288674
               ],
               [
                -82.91095686477472,
                55.197409646115524
               ],
               [
                -82.97213339253022,
                55.22390284494883
               ],
               [
                -83.14234384914597,
                55.19785123055416
               ],
               [
                -83.20869237653861,
                55.213529727796946
               ],
               [
                -83.33875442072562,
                55.198619317294316
               ],
               [
                -83.43697835862042,
                55.20923511176418
               ],
               [
                -83.54941510638238,
                55.24230820771561
               ],
               [
                -83.6927948638224,
                55.267921800667004
               ],
               [
                -83.7489571809666,
                55.25270839511078
               ],
               [
                -83.88334253857586,
                55.29455539039653
               ],
               [
                -83.9375370581544,
                55.294287986597546
               ],
               [
                -84.07350309848236,
                55.25280297256235
               ],
               [
                -84.19774424953341,
                55.28140436699721
               ],
               [
                -84.30673688817753,
                55.27805135896813
               ],
               [
                -84.50949035266237,
                55.238221440295526
               ],
               [
                -84.78758315229675,
                55.23640032031701
               ],
               [
                -84.81356306510283,
                55.25225642018691
               ],
               [
                -84.98079723109774,
                55.27924401112676
               ],
               [
                -85.09935586949796,
                55.26055670055994
               ],
               [
                -85.12606979528145,
                55.33358150653331
               ],
               [
                -85.22460823938681,
                55.372764103621066
               ],
               [
                -85.3320975801336,
                55.38252869685747
               ],
               [
                -85.40227121080504,
                55.4070120943698
               ],
               [
                -85.57848629719406,
                55.50925439238692
               ],
               [
                -85.6525383377347,
                55.57026529341787
               ],
               [
                -85.77292468694048,
                55.59638558728578
               ],
               [
                -85.90282334722427,
                55.65544218387361
               ],
               [
                -86.05187540371318,
                55.66856357413313
               ],
               [
                -86.26000838731335,
                55.707186362563384
               ],
               [
                -86.37204544102808,
                55.764661760106726
               ],
               [
                -86.68623757186268,
                55.84177284422086
               ],
               [
                -86.90190476651702,
                55.91432033514908
               ],
               [
                -86.99817940231563,
                55.92016342832645
               ],
               [
                -86.99693818178939,
                54.99207253108581
               ],
               [
                -86.5491910255985,
                54.99705266539986
               ],
               [
                -86.55101881539868,
                54.50005611099683
               ],
               [
                -86.55241341215398,
                54.01928085717421
               ],
               [
                -86.5527991039693,
                53.50005839778185
               ],
               [
                -86.55242480303149,
                53.00005863932233
               ],
               [
                -86.55959400715182,
                52.49597167853782
               ],
               [
                -86.55361651157381,
                52.000060518393965
               ],
               [
                -86.54795322178953,
                51.518937258819015
               ],
               [
                -86.54809187390994,
                51.25005722477537
               ],
               [
                -86.54833268707131,
                50.75005786048905
               ],
               [
                -86.54855510755745,
                50.277542298567326
               ],
               [
                -86.54910115724715,
                49.97012345764552
               ],
               [
                -86.05383679583652,
                49.96876839073538
               ],
               [
                -85.77188130418511,
                49.9714913098382
               ],
               [
                -85.33291556005936,
                49.969557538447454
               ],
               [
                -85.33196906359109,
                49.34510725283824
               ],
               [
                -85.33267982048045,
                49.05527991235669
               ],
               [
                -85.18893097569011,
                49.06778092329306
               ],
               [
                -84.61115698831254,
                49.072408660473315
               ],
               [
                -82.63503103696804,
                49.062167979239156
               ],
               [
                -82.6342344547673,
                48.450594590245196
               ],
               [
                -81.85659229825207,
                48.44989543480653
               ],
               [
                -81.85689875449033,
                48.103909583210154
               ],
               [
                -81.07364419581943,
                48.10346012664399
               ],
               [
                -81.0752112177381,
                48.27765475277748
               ],
               [
                -80.14684830848057,
                48.27582900278589
               ],
               [
                -79.51762989797795,
                48.27625523600869
               ]
              ]
             ],
             "type": "Polygon"
            },
            "properties": {
             "EFFECTIVE_": "2020-05-15T00:00:00.000Z",
             "GEOMETRY_U": "1970-01-01T00:00:00.000Z",
             "OBJECTID": 833,
             "OGF_ID": 71877915,
             "PHU_ID": 2256,
             "PHU_NAME_E": "Porcupine Health Unit",
             "PHU_NAME_F": "Bureau de santé Porcupine",
             "SYSTEM_DAT": "2020-05-15T00:00:00.000Z"
            },
            "type": "Feature"
           },
           {
            "geometry": {
             "coordinates": [
              [
               [
                [
                 -82.31261537418081,
                 46.18601726155292
                ],
                [
                 -82.31294298465723,
                 46.27755817607792
                ],
                [
                 -82.19243734596462,
                 46.277790282685146
                ],
                [
                 -82.19262105621327,
                 46.36756139691061
                ],
                [
                 -82.06796701598253,
                 46.36665650355281
                ],
                [
                 -82.06925634593655,
                 46.62512664428713
                ],
                [
                 -81.94475710571241,
                 46.62518795109089
                ],
                [
                 -81.94991004809191,
                 46.976113105725624
                ],
                [
                 -82.5786851518365,
                 46.97715527099113
                ],
                [
                 -82.57724148254944,
                 47.23564741090206
                ],
                [
                 -83.27538660818618,
                 47.23558037108064
                ],
                [
                 -83.97493263313282,
                 47.236168830416965
                ],
                [
                 -83.97375022329797,
                 47.93411183496139
                ],
                [
                 -84.01638873707925,
                 47.93411093240636
                ],
                [
                 -84.01458990606447,
                 48.44963230806952
                ],
                [
                 -83.59008296769024,
                 48.44913733359855
                ],
                [
                 -82.6342344547673,
                 48.450594590245196
                ],
                [
                 -82.63503103696804,
                 49.062167979239156
                ],
                [
                 -84.61115698831254,
                 49.072408660473315
                ],
                [
                 -85.18893097569011,
                 49.06778092329306
                ],
                [
                 -85.33267982048045,
                 49.05527991235669
                ],
                [
                 -85.33149697728686,
                 48.76363797131336
                ],
                [
                 -85.3336605959195,
                 48.188991388900014
                ],
                [
                 -85.3295457612275,
                 47.94914295432377
                ],
                [
                 -85.1961503200619,
                 47.96009076421999
                ],
                [
                 -84.95111414193991,
                 47.96301517981199
                ],
                [
                 -84.85904121167005,
                 47.95771858470684
                ],
                [
                 -84.83842420003013,
                 47.92081868056376
                ],
                [
                 -84.91160321407025,
                 47.85136836587084
                ],
                [
                 -84.93030141302174,
                 47.79939255707799
                ],
                [
                 -84.89706650039503,
                 47.78470585695418
                ],
                [
                 -84.96074151344061,
                 47.73032824503378
                ],
                [
                 -85.01157662659948,
                 47.70735763852572
                ],
                [
                 -84.98322451180952,
                 47.66476903397593
                ],
                [
                 -85.03915762193816,
                 47.60711542202153
                ],
                [
                 -84.94936068657846,
                 47.55699852008771
                ],
                [
                 -84.96075408765572,
                 47.53778321654014
                ],
                [
                 -84.71965999527303,
                 47.42110841380848
                ],
                [
                 -84.70683498499005,
                 47.37387070751917
                ],
                [
                 -84.62398445443591,
                 47.342404507797596
                ],
                [
                 -84.5895101357975,
                 47.28364210104735
                ],
                [
                 -84.71311426250362,
                 47.18554157886578
                ],
                [
                 -84.7118612513276,
                 47.10195106633427
                ],
                [
                 -84.78387876563774,
                 47.035109451913534
                ],
                [
                 -84.77927065641738,
                 46.97453644301865
                ],
                [
                 -84.71695873384513,
                 46.952701843433715
                ],
                [
                 -84.65771781531652,
                 46.95497784731506
                ],
                [
                 -84.65276910895376,
                 46.91726844188046
                ],
                [
                 -84.5768606884723,
                 46.94595975076087
                ],
                [
                 -84.51645546598259,
                 46.920024850404495
                ],
                [
                 -84.47900855651216,
                 46.93932835556415
                ],
                [
                 -84.36231771324265,
                 46.89062845504676
                ],
                [
                 -84.35512510827047,
                 46.86925045220742
                ],
                [
                 -84.41418842031257,
                 46.815442440500014
                ],
                [
                 -84.44381463340521,
                 46.84475484322975
                ],
                [
                 -84.53649166120344,
                 46.83162383574093
                ],
                [
                 -84.57768466228696,
                 46.73606331869564
                ],
                [
                 -84.5730841558491,
                 46.69623271286719
                ],
                [
                 -84.52004683930814,
                 46.69845181633954
                ],
                [
                 -84.50722914122825,
                 46.74641062444467
                ],
                [
                 -84.44248042103608,
                 46.74931882871095
                ],
                [
                 -84.43833681051676,
                 46.67538411761459
                ],
                [
                 -84.59290604745858,
                 46.57832249359286
                ],
                [
                 -84.65949736470294,
                 46.54746858491797
                ],
                [
                 -84.55659662147362,
                 46.460905477630156
                ],
                [
                 -84.47638389515018,
                 46.45315998113687
                ],
                [
                 -84.42282138404298,
                 46.500827691640154
                ],
                [
                 -84.34239485937697,
                 46.50747529737108
                ],
                [
                 -84.26425573302281,
                 46.494543799930405
                ],
                [
                 -84.22637402587037,
                 46.53433270829167
                ],
                [
                 -84.12958409467791,
                 46.53051981333321
                ],
                [
                 -84.11135748567752,
                 46.50415131030854
                ],
                [
                 -84.14669858647886,
                 46.41839799495829
                ],
                [
                 -84.10832105297467,
                 46.24117436957103
                ],
                [
                 -84.07746093673411,
                 46.18699036287326
                ],
                [
                 -84.0082618104827,
                 46.15042616111643
                ],
                [
                 -83.95587578289296,
                 46.057287749480466
                ],
                [
                 -83.891538665609,
                 46.083416157263244
                ],
                [
                 -83.87253286853506,
                 46.15922237026244
                ],
                [
                 -83.833283053286,
                 46.13543326876496
                ],
                [
                 -83.78711844437538,
                 46.183947779017466
                ],
                [
                 -83.81206065648864,
                 46.219446283164
                ],
                [
                 -83.92908710286697,
                 46.297175688629096
                ],
                [
                 -83.78685065799017,
                 46.299482997138405
                ],
                [
                 -83.69834422655207,
                 46.27151919781195
                ],
                [
                 -83.62651640409898,
                 46.274705202399865
                ],
                [
                 -83.49929356030816,
                 46.24648990518946
                ],
                [
                 -83.39911482736838,
                 46.237495409437
                ],
                [
                 -83.33674130536788,
                 46.21921191007452
                ],
                [
                 -83.10774242973503,
                 46.196449019327005
                ],
                [
                 -83.0504993084274,
                 46.170092918356104
                ],
                [
                 -82.91485966670709,
                 46.18375142806246
                ],
                [
                 -82.83714534105266,
                 46.17654893123148
                ],
                [
                 -82.69624119857654,
                 46.19904964258566
                ],
                [
                 -82.67812188966741,
                 46.17182143926687
                ],
                [
                 -82.55797495046964,
                 46.16527834483583
                ],
                [
                 -82.47076922605065,
                 46.19621535453215
                ],
                [
                 -82.44048271500294,
                 46.18440585431408
                ],
                [
                 -82.31261537418081,
                 46.18601726155292
                ]
               ]
              ],
              [
               [
                [
                 -82.05752088277546,
                 46.101159561851254
                ],
                [
                 -82.05643929090692,
                 46.177038974026516
                ],
                [
                 -82.09744810335508,
                 46.170524470769834
                ],
                [
                 -82.25680815666782,
                 46.18952516515007
                ],
                [
                 -82.3113430737511,
                 46.185826761591905
                ],
                [
                 -82.3128972690368,
                 46.13961815415009
                ],
                [
                 -82.2237313407712,
                 46.14261525947508
                ],
                [
                 -82.184296625228,
                 46.11686705750625
                ],
                [
                 -82.05937288333591,
                 46.10085226170225
                ],
                [
                 -82.05807898294434,
                 46.101066961806396
                ],
                [
                 -82.05752088277546,
                 46.101159561851254
                ]
               ]
              ],
              [
               [
                [
                 -82.13076220058598,
                 46.050034849720454
                ],
                [
                 -82.14107620482275,
                 46.058364150496054
                ],
                [
                 -82.16763291128653,
                 46.03994034611299
                ],
                [
                 -82.15761240778683,
                 46.03736954624307
                ],
                [
                 -82.15167720534943,
                 46.032573745796
                ],
                [
                 -82.11439109478984,
                 46.045146049821746
                ],
                [
                 -82.11443659487611,
                 46.04579014992244
                ],
                [
                 -82.11465739496089,
                 46.045915549930605
                ],
                [
                 -82.13076220058598,
                 46.050034849720454
                ]
               ]
              ]
             ],
             "type": "MultiPolygon"
            },
            "properties": {
             "EFFECTIVE_": "2020-05-15T00:00:00.000Z",
             "GEOMETRY_U": "1970-01-01T00:00:00.000Z",
             "OBJECTID": 849,
             "OGF_ID": 71877923,
             "PHU_ID": 2226,
             "PHU_NAME_E": "Algoma Public Health Unit",
             "PHU_NAME_F": "Santé publique Algoma",
             "SYSTEM_DAT": "2020-05-15T00:00:00.000Z"
            },
            "type": "Feature"
           }
          ],
          "type": "FeatureCollection"
         },
         "hovertemplate": "PHU Number=%{location}<br>ACTIVE_CASES=%{z}<extra></extra>",
         "locations": [
          2270,
          2233,
          2242,
          2241,
          5183,
          2238,
          2236,
          2234,
          2258,
          2244,
          2230,
          2251,
          2237,
          2240,
          2227,
          2226,
          2243,
          2235,
          2246,
          2260,
          2247,
          2266,
          2265,
          3895,
          2263,
          2262,
          2261,
          2268,
          2257,
          2256,
          2255,
          2253,
          4913,
          2249
         ],
         "marker": {
          "opacity": 0.5
         },
         "name": "",
         "subplot": "mapbox",
         "type": "choroplethmapbox",
         "z": [
          2465,
          70,
          217,
          45,
          123,
          20,
          973,
          136,
          446,
          1186,
          871,
          1354,
          911,
          114,
          176,
          46,
          25,
          60,
          1282,
          674,
          17,
          458,
          976,
          8670,
          5,
          76,
          97,
          1783,
          32,
          26,
          50,
          5535,
          356,
          32
         ]
        }
       ],
       "layout": {
        "coloraxis": {
         "cmax": 4000,
         "cmin": 0,
         "colorbar": {
          "title": {
           "text": "ACTIVE_CASES"
          }
         },
         "colorscale": [
          [
           0,
           "#440154"
          ],
          [
           0.1111111111111111,
           "#482878"
          ],
          [
           0.2222222222222222,
           "#3e4989"
          ],
          [
           0.3333333333333333,
           "#31688e"
          ],
          [
           0.4444444444444444,
           "#26828e"
          ],
          [
           0.5555555555555556,
           "#1f9e89"
          ],
          [
           0.6666666666666666,
           "#35b779"
          ],
          [
           0.7777777777777778,
           "#6ece58"
          ],
          [
           0.8888888888888888,
           "#b5de2b"
          ],
          [
           1,
           "#fde725"
          ]
         ]
        },
        "legend": {
         "tracegroupgap": 0
        },
        "mapbox": {
         "center": {
          "lat": 48.31,
          "lon": -84.73
         },
         "domain": {
          "x": [
           0,
           1
          ],
          "y": [
           0,
           1
          ]
         },
         "style": "carto-positron",
         "zoom": 4
        },
        "margin": {
         "b": 0,
         "l": 0,
         "r": 0,
         "t": 0
        },
        "template": {
         "data": {
          "bar": [
           {
            "error_x": {
             "color": "#2a3f5f"
            },
            "error_y": {
             "color": "#2a3f5f"
            },
            "marker": {
             "line": {
              "color": "#E5ECF6",
              "width": 0.5
             }
            },
            "type": "bar"
           }
          ],
          "barpolar": [
           {
            "marker": {
             "line": {
              "color": "#E5ECF6",
              "width": 0.5
             }
            },
            "type": "barpolar"
           }
          ],
          "carpet": [
           {
            "aaxis": {
             "endlinecolor": "#2a3f5f",
             "gridcolor": "white",
             "linecolor": "white",
             "minorgridcolor": "white",
             "startlinecolor": "#2a3f5f"
            },
            "baxis": {
             "endlinecolor": "#2a3f5f",
             "gridcolor": "white",
             "linecolor": "white",
             "minorgridcolor": "white",
             "startlinecolor": "#2a3f5f"
            },
            "type": "carpet"
           }
          ],
          "choropleth": [
           {
            "colorbar": {
             "outlinewidth": 0,
             "ticks": ""
            },
            "type": "choropleth"
           }
          ],
          "contour": [
           {
            "colorbar": {
             "outlinewidth": 0,
             "ticks": ""
            },
            "colorscale": [
             [
              0,
              "#0d0887"
             ],
             [
              0.1111111111111111,
              "#46039f"
             ],
             [
              0.2222222222222222,
              "#7201a8"
             ],
             [
              0.3333333333333333,
              "#9c179e"
             ],
             [
              0.4444444444444444,
              "#bd3786"
             ],
             [
              0.5555555555555556,
              "#d8576b"
             ],
             [
              0.6666666666666666,
              "#ed7953"
             ],
             [
              0.7777777777777778,
              "#fb9f3a"
             ],
             [
              0.8888888888888888,
              "#fdca26"
             ],
             [
              1,
              "#f0f921"
             ]
            ],
            "type": "contour"
           }
          ],
          "contourcarpet": [
           {
            "colorbar": {
             "outlinewidth": 0,
             "ticks": ""
            },
            "type": "contourcarpet"
           }
          ],
          "heatmap": [
           {
            "colorbar": {
             "outlinewidth": 0,
             "ticks": ""
            },
            "colorscale": [
             [
              0,
              "#0d0887"
             ],
             [
              0.1111111111111111,
              "#46039f"
             ],
             [
              0.2222222222222222,
              "#7201a8"
             ],
             [
              0.3333333333333333,
              "#9c179e"
             ],
             [
              0.4444444444444444,
              "#bd3786"
             ],
             [
              0.5555555555555556,
              "#d8576b"
             ],
             [
              0.6666666666666666,
              "#ed7953"
             ],
             [
              0.7777777777777778,
              "#fb9f3a"
             ],
             [
              0.8888888888888888,
              "#fdca26"
             ],
             [
              1,
              "#f0f921"
             ]
            ],
            "type": "heatmap"
           }
          ],
          "heatmapgl": [
           {
            "colorbar": {
             "outlinewidth": 0,
             "ticks": ""
            },
            "colorscale": [
             [
              0,
              "#0d0887"
             ],
             [
              0.1111111111111111,
              "#46039f"
             ],
             [
              0.2222222222222222,
              "#7201a8"
             ],
             [
              0.3333333333333333,
              "#9c179e"
             ],
             [
              0.4444444444444444,
              "#bd3786"
             ],
             [
              0.5555555555555556,
              "#d8576b"
             ],
             [
              0.6666666666666666,
              "#ed7953"
             ],
             [
              0.7777777777777778,
              "#fb9f3a"
             ],
             [
              0.8888888888888888,
              "#fdca26"
             ],
             [
              1,
              "#f0f921"
             ]
            ],
            "type": "heatmapgl"
           }
          ],
          "histogram": [
           {
            "marker": {
             "colorbar": {
              "outlinewidth": 0,
              "ticks": ""
             }
            },
            "type": "histogram"
           }
          ],
          "histogram2d": [
           {
            "colorbar": {
             "outlinewidth": 0,
             "ticks": ""
            },
            "colorscale": [
             [
              0,
              "#0d0887"
             ],
             [
              0.1111111111111111,
              "#46039f"
             ],
             [
              0.2222222222222222,
              "#7201a8"
             ],
             [
              0.3333333333333333,
              "#9c179e"
             ],
             [
              0.4444444444444444,
              "#bd3786"
             ],
             [
              0.5555555555555556,
              "#d8576b"
             ],
             [
              0.6666666666666666,
              "#ed7953"
             ],
             [
              0.7777777777777778,
              "#fb9f3a"
             ],
             [
              0.8888888888888888,
              "#fdca26"
             ],
             [
              1,
              "#f0f921"
             ]
            ],
            "type": "histogram2d"
           }
          ],
          "histogram2dcontour": [
           {
            "colorbar": {
             "outlinewidth": 0,
             "ticks": ""
            },
            "colorscale": [
             [
              0,
              "#0d0887"
             ],
             [
              0.1111111111111111,
              "#46039f"
             ],
             [
              0.2222222222222222,
              "#7201a8"
             ],
             [
              0.3333333333333333,
              "#9c179e"
             ],
             [
              0.4444444444444444,
              "#bd3786"
             ],
             [
              0.5555555555555556,
              "#d8576b"
             ],
             [
              0.6666666666666666,
              "#ed7953"
             ],
             [
              0.7777777777777778,
              "#fb9f3a"
             ],
             [
              0.8888888888888888,
              "#fdca26"
             ],
             [
              1,
              "#f0f921"
             ]
            ],
            "type": "histogram2dcontour"
           }
          ],
          "mesh3d": [
           {
            "colorbar": {
             "outlinewidth": 0,
             "ticks": ""
            },
            "type": "mesh3d"
           }
          ],
          "parcoords": [
           {
            "line": {
             "colorbar": {
              "outlinewidth": 0,
              "ticks": ""
             }
            },
            "type": "parcoords"
           }
          ],
          "pie": [
           {
            "automargin": true,
            "type": "pie"
           }
          ],
          "scatter": [
           {
            "marker": {
             "colorbar": {
              "outlinewidth": 0,
              "ticks": ""
             }
            },
            "type": "scatter"
           }
          ],
          "scatter3d": [
           {
            "line": {
             "colorbar": {
              "outlinewidth": 0,
              "ticks": ""
             }
            },
            "marker": {
             "colorbar": {
              "outlinewidth": 0,
              "ticks": ""
             }
            },
            "type": "scatter3d"
           }
          ],
          "scattercarpet": [
           {
            "marker": {
             "colorbar": {
              "outlinewidth": 0,
              "ticks": ""
             }
            },
            "type": "scattercarpet"
           }
          ],
          "scattergeo": [
           {
            "marker": {
             "colorbar": {
              "outlinewidth": 0,
              "ticks": ""
             }
            },
            "type": "scattergeo"
           }
          ],
          "scattergl": [
           {
            "marker": {
             "colorbar": {
              "outlinewidth": 0,
              "ticks": ""
             }
            },
            "type": "scattergl"
           }
          ],
          "scattermapbox": [
           {
            "marker": {
             "colorbar": {
              "outlinewidth": 0,
              "ticks": ""
             }
            },
            "type": "scattermapbox"
           }
          ],
          "scatterpolar": [
           {
            "marker": {
             "colorbar": {
              "outlinewidth": 0,
              "ticks": ""
             }
            },
            "type": "scatterpolar"
           }
          ],
          "scatterpolargl": [
           {
            "marker": {
             "colorbar": {
              "outlinewidth": 0,
              "ticks": ""
             }
            },
            "type": "scatterpolargl"
           }
          ],
          "scatterternary": [
           {
            "marker": {
             "colorbar": {
              "outlinewidth": 0,
              "ticks": ""
             }
            },
            "type": "scatterternary"
           }
          ],
          "surface": [
           {
            "colorbar": {
             "outlinewidth": 0,
             "ticks": ""
            },
            "colorscale": [
             [
              0,
              "#0d0887"
             ],
             [
              0.1111111111111111,
              "#46039f"
             ],
             [
              0.2222222222222222,
              "#7201a8"
             ],
             [
              0.3333333333333333,
              "#9c179e"
             ],
             [
              0.4444444444444444,
              "#bd3786"
             ],
             [
              0.5555555555555556,
              "#d8576b"
             ],
             [
              0.6666666666666666,
              "#ed7953"
             ],
             [
              0.7777777777777778,
              "#fb9f3a"
             ],
             [
              0.8888888888888888,
              "#fdca26"
             ],
             [
              1,
              "#f0f921"
             ]
            ],
            "type": "surface"
           }
          ],
          "table": [
           {
            "cells": {
             "fill": {
              "color": "#EBF0F8"
             },
             "line": {
              "color": "white"
             }
            },
            "header": {
             "fill": {
              "color": "#C8D4E3"
             },
             "line": {
              "color": "white"
             }
            },
            "type": "table"
           }
          ]
         },
         "layout": {
          "annotationdefaults": {
           "arrowcolor": "#2a3f5f",
           "arrowhead": 0,
           "arrowwidth": 1
          },
          "autotypenumbers": "strict",
          "coloraxis": {
           "colorbar": {
            "outlinewidth": 0,
            "ticks": ""
           }
          },
          "colorscale": {
           "diverging": [
            [
             0,
             "#8e0152"
            ],
            [
             0.1,
             "#c51b7d"
            ],
            [
             0.2,
             "#de77ae"
            ],
            [
             0.3,
             "#f1b6da"
            ],
            [
             0.4,
             "#fde0ef"
            ],
            [
             0.5,
             "#f7f7f7"
            ],
            [
             0.6,
             "#e6f5d0"
            ],
            [
             0.7,
             "#b8e186"
            ],
            [
             0.8,
             "#7fbc41"
            ],
            [
             0.9,
             "#4d9221"
            ],
            [
             1,
             "#276419"
            ]
           ],
           "sequential": [
            [
             0,
             "#0d0887"
            ],
            [
             0.1111111111111111,
             "#46039f"
            ],
            [
             0.2222222222222222,
             "#7201a8"
            ],
            [
             0.3333333333333333,
             "#9c179e"
            ],
            [
             0.4444444444444444,
             "#bd3786"
            ],
            [
             0.5555555555555556,
             "#d8576b"
            ],
            [
             0.6666666666666666,
             "#ed7953"
            ],
            [
             0.7777777777777778,
             "#fb9f3a"
            ],
            [
             0.8888888888888888,
             "#fdca26"
            ],
            [
             1,
             "#f0f921"
            ]
           ],
           "sequentialminus": [
            [
             0,
             "#0d0887"
            ],
            [
             0.1111111111111111,
             "#46039f"
            ],
            [
             0.2222222222222222,
             "#7201a8"
            ],
            [
             0.3333333333333333,
             "#9c179e"
            ],
            [
             0.4444444444444444,
             "#bd3786"
            ],
            [
             0.5555555555555556,
             "#d8576b"
            ],
            [
             0.6666666666666666,
             "#ed7953"
            ],
            [
             0.7777777777777778,
             "#fb9f3a"
            ],
            [
             0.8888888888888888,
             "#fdca26"
            ],
            [
             1,
             "#f0f921"
            ]
           ]
          },
          "colorway": [
           "#636efa",
           "#EF553B",
           "#00cc96",
           "#ab63fa",
           "#FFA15A",
           "#19d3f3",
           "#FF6692",
           "#B6E880",
           "#FF97FF",
           "#FECB52"
          ],
          "font": {
           "color": "#2a3f5f"
          },
          "geo": {
           "bgcolor": "white",
           "lakecolor": "white",
           "landcolor": "#E5ECF6",
           "showlakes": true,
           "showland": true,
           "subunitcolor": "white"
          },
          "hoverlabel": {
           "align": "left"
          },
          "hovermode": "closest",
          "mapbox": {
           "style": "light"
          },
          "paper_bgcolor": "white",
          "plot_bgcolor": "#E5ECF6",
          "polar": {
           "angularaxis": {
            "gridcolor": "white",
            "linecolor": "white",
            "ticks": ""
           },
           "bgcolor": "#E5ECF6",
           "radialaxis": {
            "gridcolor": "white",
            "linecolor": "white",
            "ticks": ""
           }
          },
          "scene": {
           "xaxis": {
            "backgroundcolor": "#E5ECF6",
            "gridcolor": "white",
            "gridwidth": 2,
            "linecolor": "white",
            "showbackground": true,
            "ticks": "",
            "zerolinecolor": "white"
           },
           "yaxis": {
            "backgroundcolor": "#E5ECF6",
            "gridcolor": "white",
            "gridwidth": 2,
            "linecolor": "white",
            "showbackground": true,
            "ticks": "",
            "zerolinecolor": "white"
           },
           "zaxis": {
            "backgroundcolor": "#E5ECF6",
            "gridcolor": "white",
            "gridwidth": 2,
            "linecolor": "white",
            "showbackground": true,
            "ticks": "",
            "zerolinecolor": "white"
           }
          },
          "shapedefaults": {
           "line": {
            "color": "#2a3f5f"
           }
          },
          "ternary": {
           "aaxis": {
            "gridcolor": "white",
            "linecolor": "white",
            "ticks": ""
           },
           "baxis": {
            "gridcolor": "white",
            "linecolor": "white",
            "ticks": ""
           },
           "bgcolor": "#E5ECF6",
           "caxis": {
            "gridcolor": "white",
            "linecolor": "white",
            "ticks": ""
           }
          },
          "title": {
           "x": 0.05
          },
          "xaxis": {
           "automargin": true,
           "gridcolor": "white",
           "linecolor": "white",
           "ticks": "",
           "title": {
            "standoff": 15
           },
           "zerolinecolor": "white",
           "zerolinewidth": 2
          },
          "yaxis": {
           "automargin": true,
           "gridcolor": "white",
           "linecolor": "white",
           "ticks": "",
           "title": {
            "standoff": 15
           },
           "zerolinecolor": "white",
           "zerolinewidth": 2
          }
         }
        }
       }
      },
      "text/html": [
       "<div>                            <div id=\"b090e126-a94b-4f63-8068-80f8178c8977\" class=\"plotly-graph-div\" style=\"height:525px; width:100%;\"></div>            <script type=\"text/javascript\">                require([\"plotly\"], function(Plotly) {                    window.PLOTLYENV=window.PLOTLYENV || {};                                    if (document.getElementById(\"b090e126-a94b-4f63-8068-80f8178c8977\")) {                    Plotly.newPlot(                        \"b090e126-a94b-4f63-8068-80f8178c8977\",                        [{\"coloraxis\": \"coloraxis\", \"featureidkey\": \"properties.PHU_ID\", \"geojson\": {\"features\": [{\"geometry\": {\"coordinates\": [[[-79.17031943375656, 43.855456530375854], [-79.32800131723552, 44.22332648698636], [-79.15610036565454, 44.26317450192772], [-79.2424520113459, 44.45979253175579], [-79.5089783935667, 44.4223653127206], [-79.51627177236196, 44.16587376818996], [-79.54124177857526, 44.146300563626234], [-79.55698107718413, 44.07557695063855], [-79.63702649779411, 44.02061913733245], [-79.77551993922904, 43.989793125433756], [-79.63922387414868, 43.749907390083074], [-79.17031943375656, 43.855456530375854]]], \"type\": \"Polygon\"}, \"properties\": {\"EFFECTIVE_\": \"2020-05-15T00:00:00.000Z\", \"GEOMETRY_U\": \"1970-01-01T00:00:00.000Z\", \"OBJECTID\": 321, \"OGF_ID\": 71878062, \"PHU_ID\": 2270, \"PHU_NAME_E\": \"York Region Public Health\", \"PHU_NAME_F\": \"Service de sant\\u00e9 de la r\\u00e9gion de York\", \"SYSTEM_DAT\": \"2020-05-15T00:00:00.000Z\"}, \"type\": \"Feature\"}, {\"geometry\": {\"coordinates\": [[[-80.99171422557492, 43.986454166039756], [-81.36774143884844, 43.92756913728022], [-81.38325044187707, 43.908009533148636], [-81.74561977022077, 44.05413743995844], [-81.72313195213333, 43.94061272170176], [-81.7195759361632, 43.78605949537441], [-81.72904413072769, 43.697878679724], [-81.70607860772677, 43.53097815204139], [-81.70979449644304, 43.39815132881296], [-81.75864600423239, 43.317583612372616], [-81.77368990150833, 43.23752759767156], [-81.46526720800465, 43.270684818664606], [-81.4305157991417, 43.2928016242347], [-81.22449202633543, 43.20336491863763], [-81.13222419992108, 43.2314839280521], [-80.7357382861822, 43.35336896858011], [-80.73726069155299, 43.40744967798384], [-80.79636531574, 43.46844828580222], [-80.86900304136147, 43.49810218746422], [-80.75456071901672, 43.64847401920541], [-80.87367946133595, 43.69907162220107], [-80.76254013941792, 43.841658552316204], [-80.95331169797562, 43.822260439633496], [-80.99171422557492, 43.986454166039756]]], \"type\": \"Polygon\"}, \"properties\": {\"EFFECTIVE_\": \"2020-05-15T00:00:00.000Z\", \"GEOMETRY_U\": \"2020-05-15T00:00:00.000Z\", \"OBJECTID\": 337, \"OGF_ID\": 71878005, \"PHU_ID\": 5183, \"PHU_NAME_E\": \"Huron Perth Health Unit\", \"PHU_NAME_F\": \"Circonscription Sanitaire de Huron et Perth\", \"SYSTEM_DAT\": \"2020-05-15T00:00:00.000Z\"}, \"type\": \"Feature\"}, {\"geometry\": {\"coordinates\": [[[-80.20477552240406, 43.39759250167024], [-80.26956794199627, 43.387350696801064], [-80.30581826104238, 43.472076109956525], [-80.3739758880878, 43.53287841735827], [-80.38303459373401, 43.56363882230483], [-80.55754676046372, 43.68964963589655], [-80.59556916993463, 43.661635529187556], [-80.60805686726005, 43.58914671595737], [-80.75456071901672, 43.64847401920541], [-80.86900304136147, 43.49810218746422], [-80.79636531574, 43.46844828580222], [-80.73726069155299, 43.40744967798384], [-80.7357382861822, 43.35336896858011], [-80.73488218209086, 43.31098536118391], [-80.50361171246102, 43.34805877876502], [-80.47151979507835, 43.26686476600921], [-80.23861442502017, 43.306475384028445], [-80.18764601216257, 43.34331519292703], [-80.20477552240406, 43.39759250167024]]], \"type\": \"Polygon\"}, \"properties\": {\"EFFECTIVE_\": \"2020-05-15T00:00:00.000Z\", \"GEOMETRY_U\": \"1970-01-01T00:00:00.000Z\", \"OBJECTID\": 353, \"OGF_ID\": 71878059, \"PHU_ID\": 2265, \"PHU_NAME_E\": \"Region of Waterloo, Public Health\", \"PHU_NAME_F\": \"Bureau de sant\\u00e9 de la r\\u00e9gion de Waterloo\", \"SYSTEM_DAT\": \"2020-05-15T00:00:00.000Z\"}, \"type\": \"Feature\"}, {\"geometry\": {\"coordinates\": [[[-80.47151979507835, 43.26686476600921], [-80.50361171246102, 43.34805877876502], [-80.73488218209086, 43.31098536118391], [-80.7357382861822, 43.35336896858011], [-81.13222419992108, 43.2314839280521], [-81.03759865351607, 43.0461370000115], [-80.99366523496175, 42.99268239268038], [-80.92278711344778, 43.00086199752404], [-80.89877089809622, 42.912660483052704], [-81.08089765275935, 42.88524866947971], [-81.11475466207014, 42.87068076527361], [-81.48662066996928, 42.77695093073791], [-81.56022539022052, 42.746607221794854], [-81.62857050583807, 42.682895407183125], [-81.68487922465263, 42.697222306990376], [-81.8109283558707, 42.607587084958595], [-81.83469226329899, 42.60805108388425], [-81.6685576996555, 42.472616067836995], [-81.57235327565084, 42.53977148445127], [-81.34373371361444, 42.64418811404965], [-81.24715108521134, 42.663988422207254], [-81.00814060974449, 42.6551416320363], [-80.90830867893587, 42.66002073764585], [-80.79369174162976, 42.643635440139676], [-80.7212358168752, 42.61980553929182], [-80.71718983021397, 42.788241669563426], [-80.74464974195241, 42.824013074633676], [-80.70543513231466, 42.85454378192302], [-80.50546257206089, 42.88406479661964], [-80.54342679281434, 42.98487791274444], [-80.60868522808155, 43.15166893916863], [-80.43645627625256, 43.17940565224669], [-80.47151979507835, 43.26686476600921]]], \"type\": \"Polygon\"}, \"properties\": {\"EFFECTIVE_\": \"2020-05-15T00:00:00.000Z\", \"GEOMETRY_U\": \"2020-05-15T00:00:00.000Z\", \"OBJECTID\": 369, \"OGF_ID\": 71878029, \"PHU_ID\": 4913, \"PHU_NAME_E\": \"Southwestern Public Health\", \"PHU_NAME_F\": \"Bureau de sant\\u00e9 du Sud-Ouest\", \"SYSTEM_DAT\": \"2020-05-15T00:00:00.000Z\"}, \"type\": \"Feature\"}, {\"geometry\": {\"coordinates\": [[[-79.79303438343865, 43.30097340395371], [-79.86859820611402, 43.286325197842025], [-79.91248142195785, 43.308456799704736], [-79.86063860894383, 43.34746310901629], [-80.03427687492025, 43.471075022639546], [-80.07858878426407, 43.41811921124014], [-80.20477552240406, 43.39759250167024], [-80.18764601216257, 43.34331519292703], [-80.23861442502017, 43.306475384028445], [-80.20055150453396, 43.21070386891734], [-79.98416052924973, 43.13204306512163], [-79.75409764943213, 43.050580361311724], [-79.70969974442757, 43.15580518208478], [-79.65861152721922, 43.14398148234281], [-79.62223582274684, 43.22589149857208], [-79.75028036525732, 43.247851296537156], [-79.79303438343865, 43.30097340395371]]], \"type\": \"Polygon\"}, \"properties\": {\"EFFECTIVE_\": \"2020-05-15T00:00:00.000Z\", \"GEOMETRY_U\": \"1970-01-01T00:00:00.000Z\", \"OBJECTID\": 385, \"OGF_ID\": 71878057, \"PHU_ID\": 2237, \"PHU_NAME_E\": \"Hamilton Public Health Services\", \"PHU_NAME_F\": \"Services de sant\\u00e9 publique de Hamilton\", \"SYSTEM_DAT\": \"2020-05-15T00:00:00.000Z\"}, \"type\": \"Feature\"}, {\"geometry\": {\"coordinates\": [[[[-86.99817940231563, 55.92016342832645], [-87.20560047982582, 55.93461991374292], [-87.31604852450349, 55.95623780735309], [-87.47786299707934, 56.01643780081882], [-87.50907021779071, 56.05480440225228], [-87.62632546936719, 56.093907496973074], [-87.72992184231381, 56.23588490301757], [-87.94832106589726, 56.41294420319359], [-87.96579108361907, 56.45698770613139], [-88.08165393577468, 56.49806660086777], [-88.21990319140879, 56.521866992059714], [-88.36556825695484, 56.57303438525704], [-88.48770362021696, 56.64667068246192], [-88.66045399588323, 56.69875747336557], [-88.69628281904924, 56.73705767410285], [-88.83071708384631, 56.79879186894532], [-88.87538091589177, 56.85745137083946], [-88.98650205266874, 56.84705576065868], [-89.72617839141772, 56.39942895628097], [-90.4332216174834, 55.956922953937855], [-91.00000911389505, 55.59119097002184], [-91.00000892425024, 55.25000943620121], [-91.00000879664599, 54.7500093855723], [-91.0000086733591, 54.25000933368036], [-91.00000859561058, 53.92566599934503], [-90.83486674106554, 53.925851412975554], [-90.83896592694754, 53.860178005604354], [-90.8737582317487, 53.83169979968951], [-91.00000867396234, 53.8340650895522], [-91.00000859614555, 53.500009253481835], [-91.00000838291083, 53.00000919844761], [-91.00000837232712, 52.49491164158252], [-89.50747018717219, 52.49520065915016], [-89.50747275977285, 51.86834258524203], [-89.50747824999175, 51.30645601731562], [-89.6752445874956, 51.22095829419798], [-89.79189382289393, 51.21058228410722], [-89.8482080352829, 51.18119377624656], [-89.93263756050466, 51.17192586870929], [-90.03615608586084, 51.13181625593979], [-90.07826400298876, 51.15101575508151], [-90.16704602795794, 51.133675446197444], [-90.16893769242644, 50.410383056480576], [-90.17252191851627, 49.99653640379747], [-90.96562596615523, 49.99665824429771], [-90.96554336738077, 49.445095573915474], [-90.96535979020098, 49.0000473160493], [-90.96509110447516, 48.49020274857619], [-90.96495216054838, 48.22224421260802], [-90.8861142405395, 48.246604021606956], [-90.83845862472893, 48.23850162396144], [-90.83122221213274, 48.17421261579005], [-90.73944677145617, 48.09475711162052], [-90.5597827211413, 48.122087228231024], [-90.5527204149047, 48.09649982525109], [-90.37442505981495, 48.09196813736643], [-90.30508064080064, 48.105577544165186], [-90.14366859261766, 48.112968756644115], [-90.02325845128244, 48.08464306128328], [-89.99403743346419, 48.028169555581776], [-89.89854639794571, 47.98804735677365], [-89.76669316293592, 48.02281527082918], [-89.70126954031466, 48.00650297315795], [-89.58583300410166, 48.00167478055605], [-89.44090537131315, 48.07788480121215], [-89.3755936532066, 48.090951107567946], [-89.31445664008888, 48.128002116948956], [-89.30827284949564, 48.20077422743673], [-89.2360933406354, 48.286994644353975], [-89.19803413287774, 48.31273265055007], [-89.22356775848144, 48.425266064227586], [-89.15034854398456, 48.477358576482324], [-89.0643325194422, 48.4911964843828], [-88.77174074148294, 48.574814516199915], [-88.75272133302401, 48.5587943153213], [-88.83782954430812, 48.46164109607277], [-88.84941353820663, 48.39956368672156], [-88.90150714862011, 48.36244767799673], [-88.91014464504825, 48.322275071853426], [-88.78951120915873, 48.33269188162807], [-88.7470944986208, 48.34985388692713], [-88.6829255966573, 48.465719807349714], [-88.63663549037875, 48.51800321774688], [-88.63050890186321, 48.603414629908684], [-88.56273148512517, 48.63180413849119], [-88.55606079023056, 48.67747014521308], [-88.51678808350361, 48.71281135276939], [-88.55141449876754, 48.74068915418538], [-88.52597609918034, 48.79359486317396], [-88.4372867798526, 48.84721937663459], [-88.34238364569907, 48.81998957948107], [-88.30111672265413, 48.7562205736008], [-88.33867842145747, 48.67355425967324], [-88.41076343801483, 48.63494464940646], [-88.56690266775267, 48.51263002181759], [-88.56531905541293, 48.43657441143292], [-88.43511483403961, 48.5607547375215], [-88.37567911213755, 48.53965443869582], [-88.29618229954792, 48.618765255057106], [-88.24715988409403, 48.618326958358985], [-88.23550427420228, 48.57829125363595], [-88.1055041507429, 48.6899186779209], [-88.09419256224118, 48.78612379191981], [-88.22661811231362, 48.83920879009191], [-88.24465282350167, 48.87400969360417], [-88.23541673411573, 48.95911260584442], [-88.16558311266255, 48.962728011157814], [-88.11273980175665, 48.99902651974525], [-88.03229237905929, 49.01615572761932], [-88.00634836267274, 48.964604222374895], [-87.92917283261517, 48.92879222277559], [-87.88886032172103, 48.940543127143435], [-87.67274564648208, 48.897072235927226], [-87.63332262751575, 48.85557263289822], [-87.5756674127309, 48.87793303988604], [-87.55421719944985, 48.83626123559855], [-87.408285752736, 48.83343364506565], [-87.39056504292657, 48.806336042514516], [-87.28951390876921, 48.79279894743539], [-87.22957208403136, 48.75562754630038], [-87.05988873418674, 48.78234286135207], [-87.00335722094054, 48.81341196943773], [-86.86483446655483, 48.7459613692603], [-86.79404084918772, 48.780240178730345], [-86.68876521724037, 48.79109608720748], [-86.61561809212846, 48.7794953904147], [-86.63695229145613, 48.72983368206752], [-86.55062366397155, 48.73035788782057], [-86.4918465507095, 48.76711449682653], [-86.42862523150907, 48.77390720192549], [-86.33345047663154, 48.60994358511186], [-86.27278365149454, 48.57103708356818], [-86.2285574138814, 48.41086256373875], [-86.13852396467735, 48.26951434939138], [-86.14473526282848, 48.24293854519103], [-86.01830310137477, 48.09479123201231], [-85.91676115949492, 48.02733512873957], [-85.87519793999007, 47.98278472492947], [-85.77216540141374, 47.94160172547082], [-85.68294287048812, 47.923651728483584], [-85.54738762636934, 47.917159036049114], [-85.38318807482673, 47.92347504723528], [-85.3295457612275, 47.94914295432377], [-85.3336605959195, 48.188991388900014], [-85.33149697728686, 48.76363797131336], [-85.33267982048045, 49.05527991235669], [-85.33196906359109, 49.34510725283824], [-85.33291556005936, 49.969557538447454], [-85.77188130418511, 49.9714913098382], [-86.05383679583652, 49.96876839073538], [-86.54910115724715, 49.97012345764552], [-86.54855510755745, 50.277542298567326], [-86.54833268707131, 50.75005786048905], [-86.54809187390994, 51.25005722477537], [-86.54795322178953, 51.518937258819015], [-86.55361651157381, 52.000060518393965], [-86.55959400715182, 52.49597167853782], [-86.55242480303149, 53.00005863932233], [-86.5527991039693, 53.50005839778185], [-86.55241341215398, 54.01928085717421], [-86.55101881539868, 54.50005611099683], [-86.5491910255985, 54.99705266539986], [-86.99693818178939, 54.99207253108581], [-86.99817940231563, 55.92016342832645]]], [[[-87.90707021412908, 48.85570431427517], [-87.98237293797806, 48.85614080918384], [-88.06914985963509, 48.819770398251954], [-88.084253250979, 48.73423738547322], [-88.05976833716979, 48.69517948177275], [-87.97415081895419, 48.751297095347326], [-87.89896279694278, 48.762217901980335], [-87.84812517812942, 48.74444090299394], [-87.75544665502859, 48.7841098147635], [-87.76399036619904, 48.838435321660945], [-87.90707021412908, 48.85570431427517]]], [[[-85.72700566605411, 47.79059780632598], [-85.85224690586115, 47.79061379845214], [-85.95031453065808, 47.74496238561052], [-85.94974962665039, 47.7173343816134], [-85.8473371921603, 47.702836485941575], [-85.77123037047141, 47.72077099334448], [-85.69093974345704, 47.709823696773555], [-85.61416172189108, 47.73053450460896], [-85.6363191343184, 47.7696530089495], [-85.72700566605411, 47.79059780632598]]], [[[-87.70157054732857, 48.84405872667944], [-87.74986675783502, 48.81345621918478], [-87.70275673118903, 48.73782631195412], [-87.59692369925372, 48.74772432048633], [-87.70157054732857, 48.84405872667944]]], [[[-89.06921218683216, 48.27351955409903], [-89.16693511227126, 48.2424499430236], [-89.12133599272177, 48.207517441361354], [-89.0382499718479, 48.238874751457224], [-89.06921218683216, 48.27351955409903]]], [[[-86.9818450929676, 48.67450245152638], [-87.05769741363783, 48.65182824332079], [-86.98600248642627, 48.6224791439809], [-86.9818450929676, 48.67450245152638]]]], \"type\": \"MultiPolygon\"}, \"properties\": {\"EFFECTIVE_\": \"2020-05-15T00:00:00.000Z\", \"GEOMETRY_U\": \"1970-01-01T00:00:00.000Z\", \"OBJECTID\": 401, \"OGF_ID\": 71878051, \"PHU_ID\": 2262, \"PHU_NAME_E\": \"Thunder Bay District Health Unit\", \"PHU_NAME_F\": \"Bureau de sant\\u00e9 du district de Thunder Bay\", \"SYSTEM_DAT\": \"2020-05-15T00:00:00.000Z\"}, \"type\": \"Feature\"}, {\"geometry\": {\"coordinates\": [[[-79.63922387414868, 43.749907390083074], [-79.77551993922904, 43.989793125433756], [-79.95114629175595, 43.951461710441066], [-80.06327172521746, 43.92674310080588], [-80.14403394524804, 43.86470378618096], [-79.96904747777373, 43.734423671834854], [-79.78966570884693, 43.60165735706794], [-79.8083391137567, 43.59009105416286], [-79.6973658712366, 43.5082607449804], [-79.62515674588649, 43.48105624355473], [-79.59868844227626, 43.53580825442621], [-79.5435011286932, 43.58109426495831], [-79.58611544652581, 43.62940307145855], [-79.58858195044697, 43.6648321775579], [-79.63922387414868, 43.749907390083074]]], \"type\": \"Polygon\"}, \"properties\": {\"EFFECTIVE_\": \"2020-05-15T00:00:00.000Z\", \"GEOMETRY_U\": \"1970-01-01T00:00:00.000Z\", \"OBJECTID\": 417, \"OGF_ID\": 71878041, \"PHU_ID\": 2253, \"PHU_NAME_E\": \"Peel Public Health\", \"PHU_NAME_F\": \"Bureau de sant\\u00e9 de la r\\u00e9gion de Peel\", \"SYSTEM_DAT\": \"2020-05-15T00:00:00.000Z\"}, \"type\": \"Feature\"}, {\"geometry\": {\"coordinates\": [[[-81.77368990150833, 43.23752759767156], [-81.75864600423239, 43.317583612372616], [-81.87537203421422, 43.2474476943598], [-81.96453215894994, 43.213962784089816], [-82.0229696770282, 43.212221480876124], [-82.02144797280441, 43.171929973925955], [-82.09903889123959, 43.10994165924073], [-82.15017300549185, 43.09187065353585], [-82.21792892189539, 43.041337341325466], [-82.38477367125414, 43.01424442824905], [-82.45529278502067, 42.926723409411096], [-82.48204638236012, 42.80817058728936], [-82.46740327362144, 42.7624866799931], [-82.51049597801861, 42.66482226065462], [-82.52340787677555, 42.6074129498873], [-82.60546449677564, 42.54849523540392], [-82.58158828539717, 42.50441252879702], [-82.43541063882994, 42.48895633329855], [-82.4201986416616, 42.572327648808475], [-82.46624575698901, 42.58425314863514], [-82.48398346677195, 42.63147595609273], [-82.02395652357437, 42.62462487757857], [-82.00632562046442, 42.65092858310076], [-81.83507966725723, 42.650999791484296], [-81.83552258470047, 42.843258425458075], [-81.79018346813294, 42.81620682290549], [-81.78929569057146, 43.06590736688109], [-81.80712210193659, 43.12902287705698], [-81.81302721178879, 43.21574269192153], [-81.77368990150833, 43.23752759767156]]], \"type\": \"Polygon\"}, \"properties\": {\"EFFECTIVE_\": \"2020-05-15T00:00:00.000Z\", \"GEOMETRY_U\": \"1970-01-01T00:00:00.000Z\", \"OBJECTID\": 433, \"OGF_ID\": 71878038, \"PHU_ID\": 2242, \"PHU_NAME_E\": \"Lambton Public Health\", \"PHU_NAME_F\": \"Comt\\u00e9 de Lambton\", \"SYSTEM_DAT\": \"2020-05-15T00:00:00.000Z\"}, \"type\": \"Feature\"}, {\"geometry\": {\"coordinates\": [[[-79.95114629175595, 43.951461710441066], [-80.0339622498968, 44.294860865716885], [-80.22907450832246, 44.253392949172024], [-80.40811806182572, 44.21529573393885], [-80.360946042296, 44.167358428003], [-80.39826275116582, 44.135196720662535], [-80.37491413478303, 44.039291205280506], [-80.57281219381447, 43.9978168885223], [-80.82693647163096, 43.96792447095582], [-80.8357426778768, 44.0046242768401], [-80.99171422557492, 43.986454166039756], [-80.95331169797562, 43.822260439633496], [-80.76254013941792, 43.841658552316204], [-80.87367946133595, 43.69907162220107], [-80.75456071901672, 43.64847401920541], [-80.60805686726005, 43.58914671595737], [-80.59556916993463, 43.661635529187556], [-80.55754676046372, 43.68964963589655], [-80.38303459373401, 43.56363882230483], [-80.3739758880878, 43.53287841735827], [-80.30581826104238, 43.472076109956525], [-80.26956794199627, 43.387350696801064], [-80.20477552240406, 43.39759250167024], [-80.07858878426407, 43.41811921124014], [-80.03427687492025, 43.471075022639546], [-80.16036802294714, 43.56111963247004], [-79.96904747777373, 43.734423671834854], [-80.14403394524804, 43.86470378618096], [-80.06327172521746, 43.92674310080588], [-79.95114629175595, 43.951461710441066]]], \"type\": \"Polygon\"}, \"properties\": {\"EFFECTIVE_\": \"2020-05-15T00:00:00.000Z\", \"GEOMETRY_U\": \"1970-01-01T00:00:00.000Z\", \"OBJECTID\": 449, \"OGF_ID\": 71878035, \"PHU_ID\": 2266, \"PHU_NAME_E\": \"Wellington-Dufferin-Guelph Health Unit\", \"PHU_NAME_F\": \"Bureau de sant\\u00e9 de Wellington-Dufferin-Guelph\", \"SYSTEM_DAT\": \"2020-05-15T00:00:00.000Z\"}, \"type\": \"Feature\"}, {\"geometry\": {\"coordinates\": [[[-79.98416052924973, 43.13204306512163], [-80.20055150453396, 43.21070386891734], [-80.23861442502017, 43.306475384028445], [-80.47151979507835, 43.26686476600921], [-80.43645627625256, 43.17940565224669], [-80.60868522808155, 43.15166893916863], [-80.54342679281434, 42.98487791274444], [-80.24371420252906, 43.03215453525115], [-80.05550613719126, 42.96344313181763], [-79.97641132225878, 43.07971335618946], [-79.98416052924973, 43.13204306512163]]], \"type\": \"Polygon\"}, \"properties\": {\"EFFECTIVE_\": \"2020-05-15T00:00:00.000Z\", \"GEOMETRY_U\": \"1970-01-01T00:00:00.000Z\", \"OBJECTID\": 465, \"OGF_ID\": 71878032, \"PHU_ID\": 2227, \"PHU_NAME_E\": \"Brant County Health Unit\", \"PHU_NAME_F\": \"Bureau de sant\\u00e9 du comt\\u00e9 de Brant\", \"SYSTEM_DAT\": \"2020-05-15T00:00:00.000Z\"}, \"type\": \"Feature\"}, {\"geometry\": {\"coordinates\": [[[-81.13222419992108, 43.2314839280521], [-81.22449202633543, 43.20336491863763], [-81.4305157991417, 43.2928016242347], [-81.46526720800465, 43.270684818664606], [-81.77368990150833, 43.23752759767156], [-81.81302721178879, 43.21574269192153], [-81.80712210193659, 43.12902287705698], [-81.78929569057146, 43.06590736688109], [-81.79018346813294, 42.81620682290549], [-81.83552258470047, 42.843258425458075], [-81.83507966725723, 42.650999791484296], [-81.83469226329899, 42.60805108388425], [-81.8109283558707, 42.607587084958595], [-81.68487922465263, 42.697222306990376], [-81.62857050583807, 42.682895407183125], [-81.56022539022052, 42.746607221794854], [-81.48662066996928, 42.77695093073791], [-81.11475466207014, 42.87068076527361], [-81.08089765275935, 42.88524866947971], [-80.89877089809622, 42.912660483052704], [-80.92278711344778, 43.00086199752404], [-80.99366523496175, 42.99268239268038], [-81.03759865351607, 43.0461370000115], [-81.13222419992108, 43.2314839280521]]], \"type\": \"Polygon\"}, \"properties\": {\"EFFECTIVE_\": \"2020-05-15T00:00:00.000Z\", \"GEOMETRY_U\": \"1970-01-01T00:00:00.000Z\", \"OBJECTID\": 481, \"OGF_ID\": 71878026, \"PHU_ID\": 2244, \"PHU_NAME_E\": \"Middlesex-London Health Unit\", \"PHU_NAME_F\": \"Bureau de sant\\u00e9 de Middlesex-London\", \"SYSTEM_DAT\": \"2020-05-15T00:00:00.000Z\"}, \"type\": \"Feature\"}, {\"geometry\": {\"coordinates\": [[[[-81.07364419581943, 48.10346012664399], [-81.85689875449033, 48.103909583210154], [-81.85659229825207, 48.44989543480653], [-82.6342344547673, 48.450594590245196], [-83.59008296769024, 48.44913733359855], [-84.01458990606447, 48.44963230806952], [-84.01638873707925, 47.93411093240636], [-83.97375022329797, 47.93411183496139], [-83.97493263313282, 47.236168830416965], [-83.27538660818618, 47.23558037108064], [-82.57724148254944, 47.23564741090206], [-82.5786851518365, 46.97715527099113], [-81.94991004809191, 46.976113105725624], [-81.94475710571241, 46.62518795109089], [-82.06925634593655, 46.62512664428713], [-82.06796701598253, 46.36665650355281], [-82.19262105621327, 46.36756139691061], [-82.19243734596462, 46.277790282685146], [-82.31294298465723, 46.27755817607792], [-82.31261537418081, 46.18601726155292], [-82.3113430737511, 46.185826761591905], [-82.25680815666782, 46.18952516515007], [-82.09744810335508, 46.170524470769834], [-82.05643929090692, 46.177038974026516], [-82.05752088277546, 46.101159561851254], [-81.97141565399299, 46.09106326487448], [-81.76828359052064, 46.10774777843907], [-81.79280369332074, 46.06165166973763], [-81.77050518239251, 46.02753086545076], [-81.62729544264096, 46.0851723823365], [-81.55370511489738, 46.04830948032109], [-81.48727198459329, 45.966537670664366], [-81.43563777054212, 45.99030037722158], [-81.15407788092999, 46.00138619379321], [-81.18150118400159, 45.947622583666366], [-81.05368164317973, 45.951669290985535], [-80.93152000091473, 45.925353093060366], [-80.90332269343563, 45.94070979701165], [-80.84002497048984, 45.91729539648274], [-80.81124546391266, 45.943038702148094], [-80.73477253589803, 45.912042201052145], [-80.73620243209936, 45.871623994403265], [-80.69467431998652, 45.88414129857343], [-80.5556580757077, 45.89092550679743], [-80.58277199792703, 46.01857502616215], [-80.51538727765613, 46.03354983204559], [-80.29051720495649, 46.03644314398707], [-80.18601707352727, 46.06070275323269], [-80.17578487485991, 46.1052307609834], [-80.30595481721984, 46.10543675440135], [-80.30692514483647, 46.36273099590238], [-80.29009353939908, 46.36320559684124], [-80.29201756823882, 46.6250306386831], [-80.35729418957688, 46.624978035305546], [-80.35500089824491, 46.711268049163124], [-80.2915460774819, 46.71132135245337], [-80.29154500621186, 46.972346493802625], [-80.27415690984664, 47.05640540794971], [-80.27206933880069, 47.32022104938799], [-81.07343890251727, 47.321770307075305], [-81.07402893161508, 47.56816794507457], [-81.07364419581943, 48.10346012664399]]], [[[-82.7978178066446, 45.984880402942785], [-82.94619524880258, 45.939616287545114], [-83.05866048665547, 45.95764418419389], [-83.18170402596651, 45.959149077598454], [-83.22679373443698, 45.90789296693406], [-83.21997112857545, 45.875506262154836], [-83.08635098497, 45.86536196794972], [-82.86654450668854, 45.79102066817391], [-82.68810264936349, 45.786371777194084], [-82.64753003363462, 45.76118547535963], [-82.52134589222479, 45.750402080484164], [-82.47083967081963, 45.70237397548036], [-82.41338035289262, 45.705952679163325], [-82.26629839942674, 45.64619257742343], [-82.21797478325877, 45.63933727890488], [-82.16429156230411, 45.604180276078665], [-82.09833924074532, 45.599523778843874], [-82.06803742623579, 45.55476007318521], [-81.93160188858629, 45.609862089392614], [-81.84697596943725, 45.68338370582052], [-81.78471354726904, 45.662676205755474], [-81.87841497085178, 45.60310999111451], [-81.9410071898072, 45.59327718619766], [-81.98629180121236, 45.564794179162135], [-81.84401035040734, 45.51496027857677], [-81.78637003481965, 45.541565485956504], [-81.75862853044578, 45.5836890942843], [-81.6459257054606, 45.687496617114554], [-81.57897429449508, 45.785378936530385], [-81.70538643530958, 45.78756663020853], [-81.66054182613584, 45.8358171403905], [-81.65757423235975, 45.901961451235636], [-81.73016635095803, 45.85855204037645], [-81.79000395881302, 45.75397022028501], [-81.84400248090544, 45.79807562455593], [-81.81513817902665, 45.865861937041586], [-81.87090419930487, 45.88770793759428], [-81.90279151922971, 45.97602625010647], [-81.9799576451863, 45.98679414770115], [-82.05827296712978, 45.95802333887528], [-82.12436758293073, 45.90931062749423], [-82.14174348119052, 45.84303871589658], [-82.2231648156409, 45.919024723730836], [-82.29002633838279, 45.93112462205929], [-82.28254734216218, 45.98658873135381], [-82.37862377135376, 45.972616723905084], [-82.5000798065418, 45.94002201208063], [-82.59513103051081, 45.882979897763455], [-82.50510519828916, 45.85170859765126], [-82.54901110851917, 45.81773908980969], [-82.64542874044558, 45.82832588625667], [-82.67329815334672, 45.86423889049217], [-82.75039247424257, 45.831436881018725], [-82.77358348672952, 45.87686518702251], [-82.84113131202663, 45.91036878866849], [-82.7978178066446, 45.984880402942785]], [[-82.06978305537103, 45.81766031566753], [-81.9546907148919, 45.78446831646156], [-81.86773968245394, 45.74225521426157], [-81.9812061136539, 45.69500940057241], [-81.99482512653938, 45.77342401253492], [-82.06978305537103, 45.81766031566753]], [[-82.33688933837892, 45.795801397777254], [-82.37626215545535, 45.836493302195855], [-82.34871584941456, 45.86141170769153], [-82.2371167097025, 45.824899607844046], [-82.29072912182781, 45.77941989762855], [-82.33688933837892, 45.795801397777254]]], [[[-83.35075498327153, 45.99034897311729], [-83.41124350198052, 45.98601816904135], [-83.48230001524531, 45.90550665228035], [-83.35533506863841, 45.85013085057317], [-83.26152084559058, 45.908975565172646], [-83.26144115042491, 45.95142447192804], [-83.32393657131406, 45.96045786987367], [-83.35075498327153, 45.99034897311729]]], [[[-81.83636350744099, 46.06267406757209], [-81.95029514255327, 46.04910215928885], [-81.95027523708204, 45.99968135136239], [-81.82249469543203, 45.994138157309855], [-81.78726538909729, 46.03948616647608], [-81.83636350744099, 46.06267406757209]]], [[[-82.60550704250103, 45.96036600958042], [-82.68817986879912, 45.95952440491941], [-82.73911728049637, 45.919113795669524], [-82.64752294768105, 45.88704219555335], [-82.59114483119292, 45.90044320077831], [-82.60550704250103, 45.96036600958042]]], [[[-81.69870390577925, 45.53223418904938], [-81.81678314032585, 45.5020352779042], [-81.82410853690124, 45.447876468671616], [-81.73527391114955, 45.472705077403404], [-81.69870390577925, 45.53223418904938]]], [[[-81.17357778717295, 46.000899192695066], [-81.36832814888312, 45.99059968081552], [-81.25424470807053, 45.9532617807734], [-81.1985590903097, 45.95511828398762], [-81.17357778717295, 46.000899192695066]]]], \"type\": \"MultiPolygon\"}, \"properties\": {\"EFFECTIVE_\": \"2020-05-15T00:00:00.000Z\", \"GEOMETRY_U\": \"1970-01-01T00:00:00.000Z\", \"OBJECTID\": 497, \"OGF_ID\": 71878023, \"PHU_ID\": 2261, \"PHU_NAME_E\": \"Sudbury and District Health Unit\", \"PHU_NAME_F\": \"Service de sant\\u00e9 publique de Sudbury et du district\", \"SYSTEM_DAT\": \"2020-05-15T00:00:00.000Z\"}, \"type\": \"Feature\"}, {\"geometry\": {\"coordinates\": [[[[-77.96097653755568, 44.91151046852872], [-78.17830484493169, 45.30989162621366], [-78.31481781317537, 45.56108396205418], [-78.85943337700319, 45.41449491180544], [-78.97139851056694, 45.38445970143825], [-78.9075243794499, 45.27646868636778], [-78.84256134587346, 45.14506136731565], [-79.00109199357223, 45.10529015309231], [-78.93439596067343, 44.98565103601468], [-79.09355600821074, 44.94295822124383], [-79.06294668867274, 44.84015090523779], [-79.20924403219718, 44.800038691485156], [-79.08186586477589, 44.515828148928335], [-78.92208858061836, 44.15374269384224], [-78.90314287896298, 44.20343540334367], [-78.77007833828164, 44.22740241364331], [-78.69268789842369, 44.0584484878024], [-78.5163011451985, 44.09878240288469], [-78.58471618080011, 44.25261252653135], [-78.42554523279892, 44.29048834037732], [-78.48983686604441, 44.43100956177652], [-78.48794606855442, 44.46593266789505], [-78.54542659465561, 44.54962907968058], [-78.65480715228225, 44.79393621650543], [-78.13823369555121, 44.9146263609682], [-78.11872528568789, 44.87581895522999], [-77.96097653755568, 44.91151046852872]]], [[[-77.66134696391201, 44.03695043033193], [-77.7521752100356, 44.23308776067614], [-77.64619627904172, 44.27216577219793], [-77.72737531956119, 44.43648209719901], [-77.91308497570562, 44.389404880719766], [-77.90108806964822, 44.364508876932], [-77.96895638578386, 44.2972811621968], [-78.08180791857424, 44.254469649675606], [-78.14514443377718, 44.19389973627029], [-78.22032885360635, 44.14271382395337], [-78.30809428075007, 44.12921161763564], [-78.50965984172187, 44.083502800520606], [-78.43693380340679, 43.91202877380742], [-78.24871324639062, 43.95341418954412], [-78.00658766917216, 43.96316000207968], [-77.97159285911648, 43.977648906182345], [-77.87799702881192, 43.97658021014999], [-77.82034871247379, 44.003434417422966], [-77.73071958401917, 44.0094675224438], [-77.66134696391201, 44.03695043033193]]]], \"type\": \"MultiPolygon\"}, \"properties\": {\"EFFECTIVE_\": \"2020-05-15T00:00:00.000Z\", \"GEOMETRY_U\": \"1970-01-01T00:00:00.000Z\", \"OBJECTID\": 513, \"OGF_ID\": 71877993, \"PHU_ID\": 2235, \"PHU_NAME_E\": \"Haliburton, Kawartha, Pine Ridge District Health Unit\", \"PHU_NAME_F\": \"Bureau de sant\\u00e9 du district d'Haliburton, Kawartha et Pine Ridge\", \"SYSTEM_DAT\": \"2020-05-15T00:00:00.000Z\"}, \"type\": \"Feature\"}, {\"geometry\": {\"coordinates\": [[[-79.43764313442134, 42.8758742445754], [-79.34996280530311, 42.85975854566197], [-79.33022550024602, 42.87403434911988], [-79.11664083136529, 42.859985056233015], [-78.95296118110566, 42.88038936724439], [-78.9082503696153, 42.91318677514533], [-78.9346819809153, 42.94819048025597], [-79.0235927119277, 42.98135598222113], [-79.02935032028535, 43.05942939595385], [-79.0778804369681, 43.07437499643904], [-79.04434433176736, 43.13931480956156], [-79.05695334530793, 43.251977229080246], [-79.13855567169169, 43.25672882622025], [-79.32163222358545, 43.182484304663035], [-79.40881545260407, 43.19798460343298], [-79.5294356906699, 43.1953397974244], [-79.62223582274684, 43.22589149857208], [-79.65861152721922, 43.14398148234281], [-79.70969974442757, 43.15580518208478], [-79.75409764943213, 43.050580361311724], [-79.51143596528648, 42.964732657131385], [-79.43764313442134, 42.8758742445754]]], \"type\": \"Polygon\"}, \"properties\": {\"EFFECTIVE_\": \"2020-05-15T00:00:00.000Z\", \"GEOMETRY_U\": \"1970-01-01T00:00:00.000Z\", \"OBJECTID\": 529, \"OGF_ID\": 71877988, \"PHU_ID\": 2246, \"PHU_NAME_E\": \"Niagara Region Public Health Department\", \"PHU_NAME_F\": \"Bureau de sant\\u00e9 de la r\\u00e9gion du Niagara\", \"SYSTEM_DAT\": \"2020-05-15T00:00:00.000Z\"}, \"type\": \"Feature\"}, {\"geometry\": {\"coordinates\": [[[-81.83507966725723, 42.650999791484296], [-82.00632562046442, 42.65092858310076], [-82.02395652357437, 42.62462487757857], [-82.48398346677195, 42.63147595609273], [-82.46624575698901, 42.58425314863514], [-82.4201986416616, 42.572327648808475], [-82.43541063882994, 42.48895633329855], [-82.40999252291951, 42.399358618653864], [-82.45419632940249, 42.31922400222813], [-82.42995492003284, 42.29806529965169], [-82.43702321295038, 42.193777480701904], [-82.45593311884478, 42.19449357990365], [-82.4649802102387, 42.065388256363754], [-82.36694398601242, 42.13343757333594], [-82.25173565416166, 42.17546048647152], [-82.09396261172239, 42.247257906987855], [-82.03232759397908, 42.26233001267426], [-81.93822256516358, 42.265938417876185], [-81.92884036459127, 42.29254732309178], [-81.85588444557081, 42.333435733932404], [-81.88247404707909, 42.2566003188968], [-81.84696903626764, 42.258760120996264], [-81.83400784053636, 42.353355638550795], [-81.81209703659607, 42.3858540454166], [-81.6685576996555, 42.472616067836995], [-81.83469226329899, 42.60805108388425], [-81.83507966725723, 42.650999791484296]]], \"type\": \"Polygon\"}, \"properties\": {\"EFFECTIVE_\": \"2020-05-15T00:00:00.000Z\", \"GEOMETRY_U\": \"1970-01-01T00:00:00.000Z\", \"OBJECTID\": 545, \"OGF_ID\": 71877985, \"PHU_ID\": 2240, \"PHU_NAME_E\": \"Chatham-Kent Health Unit\", \"PHU_NAME_F\": \"Bureau de sant\\u00e9 de Chatham-Kent\", \"SYSTEM_DAT\": \"2020-05-15T00:00:00.000Z\"}, \"type\": \"Feature\"}, {\"geometry\": {\"coordinates\": [[[[-76.76980276820616, 45.14229466114835], [-76.8147329899091, 45.221408472697156], [-76.89151371270586, 45.19353706456767], [-76.93200592753124, 45.21074436572093], [-76.98235254154463, 45.182063258607485], [-76.97074083449344, 45.14532085284565], [-77.13748518515246, 45.09926823760787], [-77.21580992308816, 45.23704505762047], [-77.54143632151128, 45.14425602723483], [-77.31384231009928, 44.72569716563345], [-77.28834840234747, 44.73224056788962], [-77.20750776170401, 44.567025242851976], [-77.19008655640066, 44.57141554437779], [-77.05544309960358, 44.41986512388476], [-77.13883472495834, 44.3985303165343], [-77.03910027574078, 44.199164785965614], [-77.065136878038, 44.12517127183645], [-77.00287745915392, 44.14136927737016], [-77.02693476076347, 44.066515263153114], [-76.96852144160226, 44.064224265259845], [-76.9275202316542, 44.105077974220485], [-76.77369838806456, 44.18316079455484], [-76.68801046290818, 44.216519504080146], [-76.56473012206946, 44.208488707909126], [-76.42786697969629, 44.23620151857893], [-76.31136344650601, 44.29564113394748], [-76.23378612228379, 44.3095254396492], [-76.25484684460797, 44.49801747181907], [-76.2780320524817, 44.50143037143717], [-76.38158949361744, 44.588586182264564], [-76.52566795193673, 44.72120459917487], [-76.60860479071776, 44.85778941924803], [-76.76980276820616, 45.14229466114835]]], [[[-76.18368900010952, 44.23803882916137], [-76.42553667723858, 44.21540651501551], [-76.50520319933422, 44.167775303257265], [-76.38678975721352, 44.124528100616864], [-76.34658474790356, 44.171448010589906], [-76.35694845383176, 44.20280941568521], [-76.24427381734552, 44.20646872105962], [-76.18368900010952, 44.23803882916137]]], [[[-76.6413906456736, 44.191665401691836], [-76.8062369949624, 44.13839148528285], [-76.76454017848646, 44.10301258082721], [-76.69362855618235, 44.11240438550327], [-76.62769573959118, 44.17192009879677], [-76.6413906456736, 44.191665401691836]]]], \"type\": \"MultiPolygon\"}, \"properties\": {\"EFFECTIVE_\": \"2020-05-15T00:00:00.000Z\", \"GEOMETRY_U\": \"1970-01-01T00:00:00.000Z\", \"OBJECTID\": 561, \"OGF_ID\": 71877982, \"PHU_ID\": 2241, \"PHU_NAME_E\": \"Kingston, Frontenac and Lennox and Addington Health Unit\", \"PHU_NAME_F\": \"Bureau de sant\\u00e9 de Kingston, Frontenac, Lennox et Addington\", \"SYSTEM_DAT\": \"2020-05-15T00:00:00.000Z\"}, \"type\": \"Feature\"}, {\"geometry\": {\"coordinates\": [[[[-82.45419632940249, 42.31922400222813], [-82.55529876026783, 42.31554429659476], [-82.6400099849645, 42.29969318959419], [-82.79027253180114, 42.305838683244524], [-82.93556407982227, 42.342454082507636], [-83.05862891524953, 42.31592257165861], [-83.10747612492446, 42.25720895881059], [-83.1163233193383, 42.16536844206471], [-83.10740460595974, 42.04682602140448], [-83.01424007530144, 42.02330082182816], [-82.92405034386897, 41.98081781869223], [-82.81580231219114, 41.9982074271377], [-82.71778498508972, 42.03220993804286], [-82.61147065237763, 42.03190684320268], [-82.53521992336768, 41.968629035579205], [-82.50136221445956, 41.98584684032148], [-82.46521700997734, 42.06158535567068], [-82.46516221003782, 42.06246535583105], [-82.4649802102387, 42.065388256363754], [-82.45593311884478, 42.19449357990365], [-82.43702321295038, 42.193777480701904], [-82.42995492003284, 42.29806529965169], [-82.45419632940249, 42.31922400222813]]], [[[-82.63818974299633, 41.83105500582177], [-82.68458765495336, 41.804832798838675], [-82.68390404887968, 41.7373203866996], [-82.62048513058603, 41.75070659219702], [-82.63818974299633, 41.83105500582177]]]], \"type\": \"MultiPolygon\"}, \"properties\": {\"EFFECTIVE_\": \"2020-05-15T00:00:00.000Z\", \"GEOMETRY_U\": \"1970-01-01T00:00:00.000Z\", \"OBJECTID\": 577, \"OGF_ID\": 71877975, \"PHU_ID\": 2268, \"PHU_NAME_E\": \"Windsor-Essex County Health Unit\", \"PHU_NAME_F\": \"Unit\\u00e9 sanitaire de Windsor-Essex\", \"SYSTEM_DAT\": \"2020-05-15T00:00:00.000Z\"}, \"type\": \"Feature\"}, {\"geometry\": {\"coordinates\": [[[-77.96097653755568, 44.91151046852872], [-78.11872528568789, 44.87581895522999], [-78.13823369555121, 44.9146263609682], [-78.65480715228225, 44.79393621650543], [-78.54542659465561, 44.54962907968058], [-78.48794606855442, 44.46593266789505], [-78.48983686604441, 44.43100956177652], [-78.42554523279892, 44.29048834037732], [-78.58471618080011, 44.25261252653135], [-78.5163011451985, 44.09878240288469], [-78.50965984172187, 44.083502800520606], [-78.30809428075007, 44.12921161763564], [-78.22032885360635, 44.14271382395337], [-78.14514443377718, 44.19389973627029], [-78.08180791857424, 44.254469649675606], [-77.96895638578386, 44.2972811621968], [-77.90108806964822, 44.364508876932], [-77.91308497570562, 44.389404880719766], [-77.72737531956119, 44.43648209719901], [-77.82839186916914, 44.628359725889936], [-77.884465999954, 44.76989964773029], [-77.96097653755568, 44.91151046852872]]], \"type\": \"Polygon\"}, \"properties\": {\"EFFECTIVE_\": \"2020-05-15T00:00:00.000Z\", \"GEOMETRY_U\": \"1970-01-01T00:00:00.000Z\", \"OBJECTID\": 593, \"OGF_ID\": 71877972, \"PHU_ID\": 2255, \"PHU_NAME_E\": \"Peterborough Public Health\", \"PHU_NAME_F\": \"Bureau de sant\\u00e9 de Peterborough\", \"SYSTEM_DAT\": \"2020-05-15T00:00:00.000Z\"}, \"type\": \"Feature\"}, {\"geometry\": {\"coordinates\": [[[-80.29319625529511, 44.53308319382906], [-80.39207288734988, 44.53769538976769], [-80.51101363094921, 44.595702393757776], [-80.55397254458481, 44.59477169147818], [-80.62580207209663, 44.64180669588347], [-80.63984158425535, 44.720434108466996], [-80.74967511976851, 44.72466170370761], [-80.82266873962543, 44.689526994138475], [-80.87478455012638, 44.62710988100098], [-80.94664117166664, 44.613194175055625], [-80.888112065213, 44.7372414988992], [-80.90682467697037, 44.79569220778711], [-80.99078490519182, 44.809944405952905], [-81.07939463057525, 44.78093889661285], [-81.00716931660553, 44.8719425155184], [-81.12239796237813, 44.96129412461399], [-81.19544528537843, 44.95807832035958], [-81.19476648912557, 44.99724702692291], [-81.27734551811223, 45.023037826996955], [-81.262813018856, 45.07588553652548], [-81.33484114841816, 45.13988014344459], [-81.30148984887866, 45.24792046303494], [-81.463499398838, 45.230130951731056], [-81.65718996443665, 45.26606804759266], [-81.72953048284243, 45.221350336455124], [-81.59287023283099, 45.159617033381394], [-81.52773400671434, 45.10796962821217], [-81.45412327257674, 45.00408981477578], [-81.3762754439645, 44.966896912586684], [-81.37297863675451, 44.90623390264626], [-81.2985112046901, 44.823643092651324], [-81.27709749073972, 44.752570181835786], [-81.28115447672712, 44.59894265580872], [-81.3875320997067, 44.48978923201369], [-81.40333659978839, 44.439822522770825], [-81.4808041222036, 44.41811451517719], [-81.60729995245511, 44.31876809194698], [-81.59147984443631, 44.28810558755237], [-81.6441273496543, 44.171562665093006], [-81.75672527566012, 44.074051542790905], [-81.74561977022077, 44.05413743995844], [-81.38325044187707, 43.908009533148636], [-81.36774143884844, 43.92756913728022], [-80.99171422557492, 43.986454166039756], [-80.8357426778768, 44.0046242768401], [-80.82693647163096, 43.96792447095582], [-80.57281219381447, 43.9978168885223], [-80.37491413478303, 44.039291205280506], [-80.39826275116582, 44.135196720662535], [-80.360946042296, 44.167358428003], [-80.40811806182572, 44.21529573393885], [-80.22907450832246, 44.253392949172024], [-80.29319625529511, 44.53308319382906]]], \"type\": \"Polygon\"}, \"properties\": {\"EFFECTIVE_\": \"2020-05-15T00:00:00.000Z\", \"GEOMETRY_U\": \"1970-01-01T00:00:00.000Z\", \"OBJECTID\": 609, \"OGF_ID\": 71877970, \"PHU_ID\": 2233, \"PHU_NAME_E\": \"Grey Bruce Health Unit\", \"PHU_NAME_F\": \"Bureau de sant\\u00e9 de Grey Bruce\", \"SYSTEM_DAT\": \"2020-05-15T00:00:00.000Z\"}, \"type\": \"Feature\"}, {\"geometry\": {\"coordinates\": [[[-75.35981077510318, 44.80118256195177], [-75.30769786133331, 44.843666771482326], [-75.1689856199183, 44.89843688667189], [-75.11360430440489, 44.9332265949725], [-75.04422888252456, 44.94662470011747], [-74.99855567095311, 44.990787909637845], [-74.91710754636107, 45.02059921810584], [-74.83125921884505, 45.03242302361939], [-74.77891409970945, 45.01021612186926], [-74.6996074738812, 45.01624572609538], [-74.5480155271868, 45.06203374009556], [-74.50317791694091, 45.12075565206531], [-74.45501640366327, 45.15529185996307], [-74.39036608315868, 45.16800846472953], [-74.34403207067416, 45.205162972995446], [-74.47220852113136, 45.30267348474789], [-74.38126961199121, 45.5661227336322], [-74.47236824468072, 45.593740934709444], [-74.53511196573687, 45.59484163237677], [-74.63806270373213, 45.63876733572174], [-74.72934763336369, 45.62833523024294], [-74.94301250593098, 45.64341452409383], [-75.03546833262659, 45.59381731184917], [-75.13260446355532, 45.5766269049175], [-75.24261610093639, 45.585517801879924], [-75.34251653009413, 45.536993089462584], [-75.24663578379538, 45.36451516395553], [-75.42597303898867, 45.31253254761409], [-75.35316120402808, 45.182159628221285], [-75.59505057599105, 45.08440460133798], [-75.36048707539474, 44.80202826207139], [-75.3599016751424, 44.80129616196787], [-75.35981077510318, 44.80118256195177]]], \"type\": \"Polygon\"}, \"properties\": {\"EFFECTIVE_\": \"2020-05-15T00:00:00.000Z\", \"GEOMETRY_U\": \"1970-01-01T00:00:00.000Z\", \"OBJECTID\": 625, \"OGF_ID\": 71877964, \"PHU_ID\": 2258, \"PHU_NAME_E\": \"Eastern Ontario Health Unit\", \"PHU_NAME_F\": \"Bureau de sant\\u00e9 de l'Est de l'Ontario\", \"SYSTEM_DAT\": \"2020-05-15T00:00:00.000Z\"}, \"type\": \"Feature\"}, {\"geometry\": {\"coordinates\": [[[-78.40357821344465, 46.2927505788422], [-78.50266994629598, 46.29460037439781], [-78.5970616798289, 46.31886167381817], [-78.6758421057168, 46.31825076991703], [-78.72823562540009, 46.3423520713083], [-78.72711122912857, 46.38288467795806], [-78.89272539173133, 46.46192438272499], [-78.98987413267564, 46.54886459202524], [-79.01525424911813, 46.62686140335282], [-79.09432638159741, 46.68830480932938], [-79.17081872123356, 46.8252406274732], [-79.21385263629683, 46.833320026619596], [-79.32966938774189, 46.95719594056298], [-79.3468027988432, 47.00786764774979], [-79.41019862540604, 47.059855052795164], [-79.63078529823099, 47.05939984154015], [-79.62637126859272, 46.7987260003783], [-79.75692421152007, 46.798499093723564], [-79.75851210258956, 46.710538579612745], [-79.88470144412719, 46.71145547334567], [-79.88364935322375, 46.79892618733784], [-80.22729396600104, 46.79881496967473], [-80.22370268394106, 46.9724457973408], [-80.29154500621186, 46.972346493802625], [-80.2915460774819, 46.71132135245337], [-80.35500089824491, 46.711268049163124], [-80.35729418957688, 46.624978035305546], [-80.29201756823882, 46.6250306386831], [-80.29009353939908, 46.36320559684124], [-80.30692514483647, 46.36273099590238], [-80.30595481721984, 46.10543675440135], [-80.17578487485991, 46.1052307609834], [-80.18601707352727, 46.06070275323269], [-80.29051720495649, 46.03644314398707], [-80.51538727765613, 46.03354983204559], [-80.58277199792703, 46.01857502616215], [-80.5556580757077, 45.89092550679743], [-80.69467431998652, 45.88414129857343], [-80.73620243209936, 45.871623994403265], [-80.71383491903896, 45.816144586511484], [-80.63460588852632, 45.76923228290691], [-80.65659799170861, 45.73157797562669], [-80.61218887432932, 45.702390573114116], [-80.58347805879147, 45.641875764652504], [-80.52004033454588, 45.60537086187505], [-80.50185302380278, 45.55792075498846], [-80.4113042974559, 45.58615836421262], [-80.3863919874029, 45.566549062239105], [-80.39607737970796, 45.46027934421332], [-80.30985464668825, 45.408915940039506], [-80.29816213750634, 45.35520573171877], [-80.2086964084194, 45.35296463581119], [-80.22201490523562, 45.27818132271492], [-80.19782219396211, 45.243322918112234], [-80.13616627507143, 45.25326912282936], [-80.0973403553392, 45.18047011260267], [-80.02653823219526, 45.17726981556248], [-79.98470651410007, 45.130428209783766], [-80.05357833265161, 45.09328440017234], [-79.60629430014386, 45.21489854243825], [-79.6725178332664, 45.334405659187745], [-79.17265178433131, 45.47014220609753], [-78.92817721080388, 45.5327226282752], [-79.05439027459721, 45.763977860605365], [-79.13036319815551, 45.75140835484884], [-79.25797236409673, 45.99436678864132], [-79.09366191491544, 46.039858704128285], [-79.15775394800143, 46.159585620583705], [-78.98708749665134, 46.205281136383505], [-78.9771377915993, 46.1876042339822], [-78.7983846375713, 46.23412875026343], [-78.76097331835203, 46.16511714079038], [-78.58907266651639, 46.21208185675848], [-78.51297742756947, 46.071694537373794], [-78.32810477164617, 46.12149815436691], [-78.41248911445066, 46.2733253752405], [-78.40357821344465, 46.2927505788422]]], \"type\": \"Polygon\"}, \"properties\": {\"EFFECTIVE_\": \"2020-05-15T00:00:00.000Z\", \"GEOMETRY_U\": \"1970-01-01T00:00:00.000Z\", \"OBJECTID\": 641, \"OGF_ID\": 71877960, \"PHU_ID\": 2247, \"PHU_NAME_E\": \"North Bay Parry Sound District Health Unit\", \"PHU_NAME_F\": \"Bureau de sant\\u00e9 du district de North Bay-Parry Sound\", \"SYSTEM_DAT\": \"2020-05-15T00:00:00.000Z\"}, \"type\": \"Feature\"}, {\"geometry\": {\"coordinates\": [[[-75.59505057599105, 45.08440460133798], [-75.35316120402808, 45.182159628221285], [-75.42597303898867, 45.31253254761409], [-75.24663578379538, 45.36451516395553], [-75.34251653009413, 45.536993089462584], [-75.44541056296471, 45.52111958246683], [-75.575559002278, 45.47483416912605], [-75.677567834945, 45.46085856245323], [-75.70374684071844, 45.426644255513274], [-75.79701906752305, 45.37833304332747], [-75.89518750202787, 45.4016437431486], [-75.98716693919738, 45.47965435252322], [-76.08987957618346, 45.5138614539418], [-76.20100881342199, 45.51888815001576], [-76.2450863236265, 45.46861793957785], [-76.29621934018371, 45.46454053667709], [-76.35396155456502, 45.410604325010084], [-76.19182449035915, 45.28771281103769], [-75.94079648981392, 45.079957886073984], [-75.95295069319725, 45.07250438427688], [-75.81953113996323, 44.962211970854355], [-75.81010103805711, 44.97669227375329], [-75.59505057599105, 45.08440460133798]]], \"type\": \"Polygon\"}, \"properties\": {\"EFFECTIVE_\": \"2020-05-15T00:00:00.000Z\", \"GEOMETRY_U\": \"1970-01-01T00:00:00.000Z\", \"OBJECTID\": 657, \"OGF_ID\": 71877952, \"PHU_ID\": 2251, \"PHU_NAME_E\": \"Ottawa Public Health\", \"PHU_NAME_F\": \"Sant\\u00e9 publique Ottawa\", \"SYSTEM_DAT\": \"2020-05-15T00:00:00.000Z\"}, \"type\": \"Feature\"}, {\"geometry\": {\"coordinates\": [[[-75.59505057599105, 45.08440460133798], [-75.81010103805711, 44.97669227375329], [-75.81953113996323, 44.962211970854355], [-75.95295069319725, 45.07250438427688], [-75.94079648981392, 45.079957886073984], [-76.19182449035915, 45.28771281103769], [-76.35396155456502, 45.410604325010084], [-76.4278831744263, 45.358409812924116], [-76.76980276820616, 45.14229466114835], [-76.60860479071776, 44.85778941924803], [-76.52566795193673, 44.72120459917487], [-76.38158949361744, 44.588586182264564], [-76.2780320524817, 44.50143037143717], [-76.25484684460797, 44.49801747181907], [-76.23378612228379, 44.3095254396492], [-75.93685913048445, 44.3758339637059], [-75.88930801896872, 44.42620697453139], [-75.75998248537329, 44.535577999074604], [-75.5766398351376, 44.659805728379446], [-75.5371352252308, 44.698132536699816], [-75.36048707539474, 44.80202826207139], [-75.59505057599105, 45.08440460133798]]], \"type\": \"Polygon\"}, \"properties\": {\"EFFECTIVE_\": \"2020-05-15T00:00:00.000Z\", \"GEOMETRY_U\": \"1970-01-01T00:00:00.000Z\", \"OBJECTID\": 673, \"OGF_ID\": 71877950, \"PHU_ID\": 2243, \"PHU_NAME_E\": \"Leeds, Grenville and Lanark District Health Unit\", \"PHU_NAME_F\": \"Bureau de sant\\u00e9 du district de Leeds, Grenville et Lanark\", \"SYSTEM_DAT\": \"2020-05-15T00:00:00.000Z\"}, \"type\": \"Feature\"}, {\"geometry\": {\"coordinates\": [[[[-90.96495216054838, 48.22224421260802], [-90.96509110447516, 48.49020274857619], [-90.96535979020098, 49.0000473160493], [-90.96554336738077, 49.445095573915474], [-90.96562596615523, 49.99665824429771], [-90.17252191851627, 49.99653640379747], [-90.16893769242644, 50.410383056480576], [-90.16704602795794, 51.133675446197444], [-90.07826400298876, 51.15101575508151], [-90.03615608586084, 51.13181625593979], [-89.93263756050466, 51.17192586870929], [-89.8482080352829, 51.18119377624656], [-89.79189382289393, 51.21058228410722], [-89.6752445874956, 51.22095829419798], [-89.50747824999175, 51.30645601731562], [-89.50747275977285, 51.86834258524203], [-89.50747018717219, 52.49520065915016], [-91.00000837232712, 52.49491164158252], [-91.00000838291083, 53.00000919844761], [-91.00000859614555, 53.500009253481835], [-91.00000867396234, 53.8340650895522], [-90.8737582317487, 53.83169979968951], [-90.83896592694754, 53.860178005604354], [-90.83486674106554, 53.925851412975554], [-91.00000859561058, 53.92566599934503], [-91.0000086733591, 54.25000933368036], [-91.00000879664599, 54.7500093855723], [-91.00000892425024, 55.25000943620121], [-91.00000911389505, 55.59119097002184], [-91.64780241850224, 55.158494171807], [-92.00000917019868, 54.90602691631069], [-92.18877399882996, 54.774948686878716], [-92.65861287075126, 54.45340281377782], [-93.17005274464363, 54.089506232294156], [-93.32921056582883, 53.969721206160926], [-93.62989300733604, 53.75008175733353], [-93.95492256259509, 53.555874408830334], [-94.26268081682572, 53.38143296374059], [-95.15316076262556, 52.8405819287912], [-95.1531072356282, 52.30544427210995], [-95.15306473572534, 51.87045422502156], [-95.15299808072665, 51.16935834721814], [-95.15295227540035, 50.67346069076885], [-95.15289755108869, 50.0662889200597], [-95.15344646797502, 49.64535586996505], [-95.10444685428841, 49.64920057445509], [-94.9749907111068, 49.62348008198648], [-94.99475790717932, 49.57313427430303], [-94.94017058802764, 49.557339376861876], [-94.8771460716057, 49.568617083372295], [-94.80792936660721, 49.64854489867283], [-94.85013528621907, 49.685262799644725], [-94.6566550348908, 49.7160875191664], [-94.65293502174332, 49.65388511196038], [-94.55975499658823, 49.66674592109881], [-94.57073543082242, 49.82633983945287], [-94.58664354394963, 49.86929794331234], [-94.64782457107214, 49.91477734375283], [-94.69801758867538, 49.92837284126152], [-94.65160898702985, 49.99003665243297], [-94.58470966340607, 49.971298455684604], [-94.53662124036092, 49.92697215431836], [-94.55202652512601, 49.82566534089914], [-94.52319251527175, 49.819121442464485], [-94.4885264903768, 49.744060236238546], [-94.43952467069839, 49.7176768370322], [-94.35998644910617, 49.72845154479195], [-94.3610633422141, 49.691037040170094], [-94.2979383188443, 49.667232742390425], [-94.30390631163635, 49.620365536207494], [-94.363632722834, 49.58605282720316], [-94.33406110036397, 49.51430252083831], [-94.20485125591105, 49.482419327336665], [-94.17966033988286, 49.437236223814104], [-94.07871839814347, 49.374895624222276], [-94.03793397774359, 49.33069642202017], [-94.03383226622724, 49.275457715509454], [-94.14225240265968, 49.2981298096671], [-94.23009313496081, 49.33142040675011], [-94.20239133961378, 49.399959617408854], [-94.2925295716049, 49.4276541135738], [-94.26980196899535, 49.44954931808631], [-94.40013981408994, 49.48332351172341], [-94.60898547037246, 49.453972091261235], [-94.71446070834382, 49.48950768703355], [-94.72918160303189, 49.43895057968911], [-94.64542175426098, 49.312291671000374], [-94.4608258842213, 49.229691475710055], [-94.41723537740376, 49.2620970832026], [-94.32766735573905, 49.287953793573756], [-94.21096450018986, 49.17539738898671], [-94.04323625111574, 49.178931702778556], [-94.05850574872964, 49.14148829690613], [-94.17941047495256, 49.08944638081783], [-94.23965399921164, 49.12427538035378], [-94.30731012164043, 49.13732937657797], [-94.31746881525197, 49.08660366947064], [-94.43243913188573, 48.99289054864957], [-94.50383214575128, 48.95399943811442], [-94.59497247058495, 48.943302029506704], [-94.63616967120099, 48.88083971844189], [-94.69881507955216, 48.82617310662722], [-94.68710986744519, 48.77870780163629], [-94.5802239250338, 48.717746502508405], [-94.44110997997484, 48.69423741058336], [-94.41564017536172, 48.71009751459481], [-94.30802564359277, 48.70929742300059], [-94.26300962797404, 48.69609042488699], [-94.2440215145439, 48.652421720866606], [-94.00543994268554, 48.6434920384722], [-93.83427568900805, 48.62577274959923], [-93.79416625778863, 48.51620133872946], [-93.64718941457126, 48.51738235028814], [-93.46660926623836, 48.54665756802021], [-93.46502097375155, 48.59214937398488], [-93.35344404424183, 48.61272458524846], [-93.25360491982522, 48.642738196807024], [-93.17864199408818, 48.62321310006952], [-92.98305913589869, 48.62387221517113], [-92.7298463455523, 48.539063523509505], [-92.63542261791463, 48.54261763114428], [-92.63056540926108, 48.50072392605431], [-92.69878712865496, 48.49484112011315], [-92.71257122728004, 48.462831014894675], [-92.65508600552965, 48.436133415766065], [-92.50757596342861, 48.448011928471054], [-92.45656144003182, 48.40029842606464], [-92.47670114099193, 48.37043312062779], [-92.37726758731652, 48.22852640939478], [-92.26952875827544, 48.247649619980265], [-92.30065687474686, 48.29025422328413], [-92.28840487985758, 48.34243233108561], [-92.05516781263161, 48.35906145071422], [-92.00046478983711, 48.321190349777304], [-92.00581378199279, 48.26458334187296], [-91.89367904399673, 48.23880844676624], [-91.86451133004577, 48.207565244764055], [-91.71493428375337, 48.19985435477862], [-91.69165766331808, 48.11819414556335], [-91.57003522276811, 48.09420675126877], [-91.56791101394205, 48.04397484466716], [-91.4891259942934, 48.06911215381272], [-91.43229337397001, 48.04950105531926], [-91.37144805901079, 48.070455362582166], [-91.25118962480666, 48.0835693731069], [-91.11620579743258, 48.1667405941435], [-91.02402467342412, 48.191065604117114], [-90.96495216054838, 48.22224421260802]]], [[[-94.75254894868809, 49.64063520223967], [-94.7571969377686, 49.5769496941623], [-94.81158845679377, 49.592213591574044], [-94.87562077043962, 49.564908383048675], [-94.90377767044698, 49.52183677554258], [-95.05823790422889, 49.46095255556386], [-95.13633942383414, 49.44351424706876], [-95.15234991760677, 49.38662283887561], [-95.12793380751822, 49.37137723902269], [-95.01599217277861, 49.361662546972674], [-94.91791055026312, 49.394854258991096], [-94.95074416760004, 49.43494716118622], [-94.85752864552498, 49.46310027219418], [-94.80625113835349, 49.504609081403736], [-94.6808075095081, 49.547501296809706], [-94.60589320606717, 49.64493151470654], [-94.73519844124628, 49.62870820221417], [-94.75254894868809, 49.64063520223967]]], [[[-94.64906653514615, 49.20502725753874], [-94.7105442499595, 49.187464450426056], [-94.74259955306722, 49.15371804369165], [-94.71368163108245, 49.0815442371227], [-94.63092371149669, 49.1070956469266], [-94.52467389357946, 49.17891276432243], [-94.55801090819307, 49.20446646479532], [-94.64906653514615, 49.20502725753874]]], [[[-94.579939297454, 49.11231185166315], [-94.6318545052349, 49.0719711425108], [-94.56039097308545, 49.011975540802766], [-94.50367056625298, 49.06530945195546], [-94.579939297454, 49.11231185166315]]], [[[-94.72493009891193, 49.423928578204645], [-94.8218418143407, 49.3548208619212], [-94.77565859531234, 49.32626786217911], [-94.71851098159125, 49.342766568821474], [-94.69658318456112, 49.39250267667047], [-94.72493009891193, 49.423928578204645]]], [[[-94.6555257871314, 49.98464695146838], [-94.63895446829005, 49.914048544392536], [-94.57554944130325, 49.87264264462075], [-94.55256124468653, 49.924816952756096], [-94.6555257871314, 49.98464695146838]]]], \"type\": \"MultiPolygon\"}, \"properties\": {\"EFFECTIVE_\": \"2020-05-15T00:00:00.000Z\", \"GEOMETRY_U\": \"1970-01-01T00:00:00.000Z\", \"OBJECTID\": 689, \"OGF_ID\": 71878002, \"PHU_ID\": 2249, \"PHU_NAME_E\": \"Northwestern Health Unit\", \"PHU_NAME_F\": \"Bureau de sant\\u00e9 du Nord-Ouest\", \"SYSTEM_DAT\": \"2020-05-15T00:00:00.000Z\"}, \"type\": \"Feature\"}, {\"geometry\": {\"coordinates\": [[[-79.75409764943213, 43.050580361311724], [-79.98416052924973, 43.13204306512163], [-79.97641132225878, 43.07971335618946], [-80.05550613719126, 42.96344313181763], [-80.24371420252906, 43.03215453525115], [-80.54342679281434, 42.98487791274444], [-80.50546257206089, 42.88406479661964], [-80.70543513231466, 42.85454378192302], [-80.74464974195241, 42.824013074633676], [-80.71718983021397, 42.788241669563426], [-80.7212358168752, 42.61980553929182], [-80.62590528375901, 42.58206183700708], [-80.52802835234161, 42.57345114004208], [-80.44488452762728, 42.58941494678726], [-80.42511782627913, 42.64621515789867], [-80.37498991181207, 42.661109062906064], [-80.29231599085146, 42.71977647726848], [-80.22989217621814, 42.77817019062553], [-80.0538075222068, 42.79504130181802], [-79.9203073821877, 42.81938081234517], [-79.84333305820343, 42.82297901653583], [-79.69851011564215, 42.860479229905856], [-79.63890429470321, 42.835651928184014], [-79.58542087964949, 42.85765233457342], [-79.48333204594336, 42.840892536219236], [-79.43764313442134, 42.8758742445754], [-79.51143596528648, 42.964732657131385], [-79.75409764943213, 43.050580361311724]]], \"type\": \"Polygon\"}, \"properties\": {\"EFFECTIVE_\": \"2020-05-15T00:00:00.000Z\", \"GEOMETRY_U\": \"1970-01-01T00:00:00.000Z\", \"OBJECTID\": 705, \"OGF_ID\": 71877945, \"PHU_ID\": 2234, \"PHU_NAME_E\": \"Haldimand-Norfolk Health Unit\", \"PHU_NAME_F\": \"Bureau de sant\\u00e9 d'Haldimand-Norfolk\", \"SYSTEM_DAT\": \"2020-05-15T00:00:00.000Z\"}, \"type\": \"Feature\"}, {\"geometry\": {\"coordinates\": [[[-79.51762989797795, 48.27625523600869], [-80.14684830848057, 48.27582900278589], [-81.0752112177381, 48.27765475277748], [-81.07364419581943, 48.10346012664399], [-81.07402893161508, 47.56816794507457], [-81.07343890251727, 47.321770307075305], [-80.27206933880069, 47.32022104938799], [-80.27415690984664, 47.05640540794971], [-80.29154500621186, 46.972346493802625], [-80.22370268394106, 46.9724457973408], [-80.22729396600104, 46.79881496967473], [-79.88364935322375, 46.79892618733784], [-79.88470144412719, 46.71145547334567], [-79.75851210258956, 46.710538579612745], [-79.75692421152007, 46.798499093723564], [-79.62637126859272, 46.7987260003783], [-79.63078529823099, 47.05939984154015], [-79.41019862540604, 47.059855052795164], [-79.44299654070855, 47.10100625764835], [-79.42684625161083, 47.25007838197937], [-79.5810380209284, 47.41512320000283], [-79.58647652612956, 47.44564800449333], [-79.54739312121092, 47.51783541775816], [-79.51708421285667, 47.533173221701645], [-79.51762989797795, 48.27625523600869]]], \"type\": \"Polygon\"}, \"properties\": {\"EFFECTIVE_\": \"2020-05-15T00:00:00.000Z\", \"GEOMETRY_U\": \"1970-01-01T00:00:00.000Z\", \"OBJECTID\": 721, \"OGF_ID\": 71878009, \"PHU_ID\": 2263, \"PHU_NAME_E\": \"Timiskaming Health Unit\", \"PHU_NAME_F\": \"Bureau de sant\\u00e9 de T\\u00e9miskamingue\", \"SYSTEM_DAT\": \"2020-05-15T00:00:00.000Z\"}, \"type\": \"Feature\"}, {\"geometry\": {\"coordinates\": [[[-76.29621934018371, 45.46454053667709], [-76.36174616119948, 45.45710363257789], [-76.43351908799308, 45.49208513540044], [-76.60798554916164, 45.531834634517885], [-76.66001276891262, 45.56064223710685], [-76.66979377755884, 45.621296546920284], [-76.71194709545729, 45.665491252512474], [-76.68695958915352, 45.68731945729157], [-76.74456241141819, 45.72295586074143], [-76.78139552924593, 45.78529116957774], [-76.77872813618859, 45.87136178411758], [-76.89484127710074, 45.89815528341946], [-76.92757788740087, 45.892263980970576], [-76.91199937468393, 45.809679867851344], [-76.98498149666561, 45.78608636063594], [-77.08156113313883, 45.83559206458909], [-77.19033007170566, 45.86386996440941], [-77.27840690873077, 45.9488986745905], [-77.27633701362656, 46.00854878460249], [-77.56608562376688, 46.15922969626974], [-77.66911256143425, 46.19654289765319], [-77.6904900673018, 46.18403069459958], [-77.92681224930767, 46.224108090168215], [-77.99993147589169, 46.24896119081517], [-78.05592999389364, 46.2438927873464], [-78.12994732134321, 46.27451328887147], [-78.26049366438163, 46.27395308258909], [-78.31236717936036, 46.25237997658941], [-78.40357821344465, 46.2927505788422], [-78.41248911445066, 46.2733253752405], [-78.32810477164617, 46.12149815436691], [-78.51297742756947, 46.071694537373794], [-78.58907266651639, 46.21208185675848], [-78.76097331835203, 46.16511714079038], [-78.7983846375713, 46.23412875026343], [-78.9771377915993, 46.1876042339822], [-78.98708749665134, 46.205281136383505], [-79.15775394800143, 46.159585620583705], [-79.09366191491544, 46.039858704128285], [-79.25797236409673, 45.99436678864132], [-79.13036319815551, 45.75140835484884], [-79.05439027459721, 45.763977860605365], [-78.92817721080388, 45.5327226282752], [-78.85943337700319, 45.41449491180544], [-78.31481781317537, 45.56108396205418], [-78.17830484493169, 45.30989162621366], [-77.69096169725142, 45.43812817024545], [-77.63600726772135, 45.31248505151949], [-77.54143632151128, 45.14425602723483], [-77.21580992308816, 45.23704505762047], [-77.13748518515246, 45.09926823760787], [-76.97074083449344, 45.14532085284565], [-76.98235254154463, 45.182063258607485], [-76.93200592753124, 45.21074436572093], [-76.89151371270586, 45.19353706456767], [-76.8147329899091, 45.221408472697156], [-76.76980276820616, 45.14229466114835], [-76.4278831744263, 45.358409812924116], [-76.35396155456502, 45.410604325010084], [-76.29621934018371, 45.46454053667709]]], \"type\": \"Polygon\"}, \"properties\": {\"EFFECTIVE_\": \"2020-05-15T00:00:00.000Z\", \"GEOMETRY_U\": \"1970-01-01T00:00:00.000Z\", \"OBJECTID\": 737, \"OGF_ID\": 71877941, \"PHU_ID\": 2257, \"PHU_NAME_E\": \"Renfrew County and District Health Unit\", \"PHU_NAME_F\": \"Bureau de sant\\u00e9 du comt\\u00e9 et du district de Renfrew\", \"SYSTEM_DAT\": \"2020-05-15T00:00:00.000Z\"}, \"type\": \"Feature\"}, {\"geometry\": {\"coordinates\": [[[-79.11574491091916, 43.794454022216534], [-79.17031943375656, 43.855456530375854], [-79.63922387414868, 43.749907390083074], [-79.58858195044697, 43.6648321775579], [-79.58611544652581, 43.62940307145855], [-79.5435011286932, 43.58109426495831], [-79.4554050055922, 43.63752527896817], [-79.34728257073, 43.63316848321492], [-79.11574491091916, 43.794454022216534]]], \"type\": \"Polygon\"}, \"properties\": {\"EFFECTIVE_\": \"2020-05-15T00:00:00.000Z\", \"GEOMETRY_U\": \"1970-01-01T00:00:00.000Z\", \"OBJECTID\": 753, \"OGF_ID\": 71877938, \"PHU_ID\": 3895, \"PHU_NAME_E\": \"Toronto Public Health\", \"PHU_NAME_F\": \"Bureau de sant\\u00e9 de Toronto\", \"SYSTEM_DAT\": \"2020-05-15T00:00:00.000Z\"}, \"type\": \"Feature\"}, {\"geometry\": {\"coordinates\": [[[-79.62515674588649, 43.48105624355473], [-79.6973658712366, 43.5082607449804], [-79.8083391137567, 43.59009105416286], [-79.78966570884693, 43.60165735706794], [-79.96904747777373, 43.734423671834854], [-80.16036802294714, 43.56111963247004], [-80.03427687492025, 43.471075022639546], [-79.86063860894383, 43.34746310901629], [-79.91248142195785, 43.308456799704736], [-79.86859820611402, 43.286325197842025], [-79.79303438343865, 43.30097340395371], [-79.79580248630425, 43.323734407849095], [-79.71781456607941, 43.37547242062037], [-79.62515674588649, 43.48105624355473]]], \"type\": \"Polygon\"}, \"properties\": {\"EFFECTIVE_\": \"2020-05-15T00:00:00.000Z\", \"GEOMETRY_U\": \"1970-01-01T00:00:00.000Z\", \"OBJECTID\": 769, \"OGF_ID\": 71877935, \"PHU_ID\": 2236, \"PHU_NAME_E\": \"Halton Region Health Department\", \"PHU_NAME_F\": \"Bureau de sant\\u00e9 de la r\\u00e9gion de Halton\", \"SYSTEM_DAT\": \"2020-05-15T00:00:00.000Z\"}, \"type\": \"Feature\"}, {\"geometry\": {\"coordinates\": [[[[-77.54143632151128, 45.14425602723483], [-77.63600726772135, 45.31248505151949], [-77.69096169725142, 45.43812817024545], [-78.17830484493169, 45.30989162621366], [-77.96097653755568, 44.91151046852872], [-77.884465999954, 44.76989964773029], [-77.82839186916914, 44.628359725889936], [-77.72737531956119, 44.43648209719901], [-77.64619627904172, 44.27216577219793], [-77.7521752100356, 44.23308776067614], [-77.66134696391201, 44.03695043033193], [-77.58774164199284, 44.059406637515536], [-77.57202824054811, 44.10247674576924], [-77.51924402392576, 44.10809594907382], [-77.33565126945226, 44.16798986761858], [-77.25232154331137, 44.178775073142496], [-77.14734940780735, 44.16190807473966], [-77.03910027574078, 44.199164785965614], [-77.13883472495834, 44.3985303165343], [-77.05544309960358, 44.41986512388476], [-77.19008655640066, 44.57141554437779], [-77.20750776170401, 44.567025242851976], [-77.28834840234747, 44.73224056788962], [-77.31384231009928, 44.72569716563345], [-77.54143632151128, 45.14425602723483]]], [[[-77.65454176042427, 44.02173782795755], [-77.60305024514687, 44.03809023309665], [-77.53668132125787, 44.00947763097544], [-77.53250551604914, 43.963536923066975], [-77.4840946972656, 43.92621021859874], [-77.29791013976924, 43.959459132564554], [-77.24670042220238, 43.947674332701496], [-77.20700880180385, 43.856334918258675], [-77.15540038365187, 43.83878371736999], [-77.0417529510954, 43.89075883145954], [-77.00936934056222, 43.890333632771444], [-76.93813062068601, 43.929793242807705], [-77.04256315620026, 43.94973384186287], [-76.96523393666655, 44.01731085712229], [-77.08389217756128, 44.046061757094506], [-77.05886857909957, 44.162386178651], [-77.073263484759, 44.17415388009688], [-77.23820483502652, 44.13464876600864], [-77.32124985889845, 44.098004755956275], [-77.32970466531881, 44.141804463282604], [-77.49740181672227, 44.10659504976841], [-77.56943373578807, 44.05611023774045], [-77.6611870638299, 44.03659093027577], [-77.65454176042427, 44.02173782795755]]]], \"type\": \"MultiPolygon\"}, \"properties\": {\"EFFECTIVE_\": \"2020-05-15T00:00:00.000Z\", \"GEOMETRY_U\": \"1970-01-01T00:00:00.000Z\", \"OBJECTID\": 785, \"OGF_ID\": 71877933, \"PHU_ID\": 2238, \"PHU_NAME_E\": \"Hastings and Prince Edward Counties Health Unit\", \"PHU_NAME_F\": \"Bureau de sant\\u00e9 de Hastings et Prince Edward\", \"SYSTEM_DAT\": \"2020-05-15T00:00:00.000Z\"}, \"type\": \"Feature\"}, {\"geometry\": {\"coordinates\": [[[[-78.85943337700319, 45.41449491180544], [-78.92817721080388, 45.5327226282752], [-79.17265178433131, 45.47014220609753], [-79.6725178332664, 45.334405659187745], [-79.60629430014386, 45.21489854243825], [-80.05357833265161, 45.09328440017234], [-80.01058661243165, 45.028170991361684], [-79.9255255825131, 45.00226859117579], [-79.92178287448007, 44.93184777950131], [-79.83151924641675, 44.942220485650104], [-79.82329223713506, 44.873343174423944], [-79.78582011929518, 44.8130413660417], [-79.71120459235507, 44.78235336445015], [-79.73306029504037, 44.73664135563905], [-79.84910453418065, 44.75580265327707], [-79.87337364690241, 44.80721416080794], [-79.92306446807233, 44.86120256751851], [-80.0035031937213, 44.858943263212], [-80.05255600556414, 44.818329653955146], [-80.11973512654298, 44.81215074962343], [-80.12700832287707, 44.74998353875725], [-80.0329728901201, 44.723155538806104], [-79.9792092675577, 44.667664932008755], [-80.01008597092253, 44.59900471883941], [-79.99469506241321, 44.561355613177284], [-80.05722297589463, 44.49220929835932], [-80.11974589384015, 44.470372491599996], [-80.20047772323197, 44.50787709406618], [-80.29319625529511, 44.53308319382906], [-80.22907450832246, 44.253392949172024], [-80.0339622498968, 44.294860865716885], [-79.95114629175595, 43.951461710441066], [-79.77551993922904, 43.989793125433756], [-79.63702649779411, 44.02061913733245], [-79.55698107718413, 44.07557695063855], [-79.54124177857526, 44.146300563626234], [-79.51627177236196, 44.16587376818996], [-79.5089783935667, 44.4223653127206], [-79.2424520113459, 44.45979253175579], [-79.16370798703615, 44.47107143739863], [-79.15435838652785, 44.49835414252373], [-79.08186586477589, 44.515828148928335], [-79.20924403219718, 44.800038691485156], [-79.06294668867274, 44.84015090523779], [-79.09355600821074, 44.94295822124383], [-78.93439596067343, 44.98565103601468], [-79.00109199357223, 45.10529015309231], [-78.84256134587346, 45.14506136731565], [-78.9075243794499, 45.27646868636778], [-78.97139851056694, 45.38445970143825], [-78.85943337700319, 45.41449491180544]]], [[[-80.23553737052555, 44.88220235574874], [-80.24516306887931, 44.83355654707644], [-80.19030674899669, 44.81008114581242], [-80.15191663848955, 44.828823350860745], [-80.17452454986237, 44.871200956897994], [-80.23553737052555, 44.88220235574874]]]], \"type\": \"MultiPolygon\"}, \"properties\": {\"EFFECTIVE_\": \"2020-05-15T00:00:00.000Z\", \"GEOMETRY_U\": \"1970-01-01T00:00:00.000Z\", \"OBJECTID\": 801, \"OGF_ID\": 71877929, \"PHU_ID\": 2260, \"PHU_NAME_E\": \"Simcoe Muskoka District Health Unit\", \"PHU_NAME_F\": \"Bureau de sant\\u00e9 du comt\\u00e9 de Simcoe\", \"SYSTEM_DAT\": \"2020-05-15T00:00:00.000Z\"}, \"type\": \"Feature\"}, {\"geometry\": {\"coordinates\": [[[-78.5163011451985, 44.09878240288469], [-78.69268789842369, 44.0584484878024], [-78.77007833828164, 44.22740241364331], [-78.90314287896298, 44.20343540334367], [-78.92208858061836, 44.15374269384224], [-79.08186586477589, 44.515828148928335], [-79.15435838652785, 44.49835414252373], [-79.16370798703615, 44.47107143739863], [-79.2424520113459, 44.45979253175579], [-79.15610036565454, 44.26317450192772], [-79.32800131723552, 44.22332648698636], [-79.17031943375656, 43.855456530375854], [-79.11574491091916, 43.794454022216534], [-78.81860892221594, 43.86847684882956], [-78.71179978787366, 43.86765695355932], [-78.61981346098693, 43.89813526308775], [-78.47012771297922, 43.89927517006994], [-78.43693380340679, 43.91202877380742], [-78.50965984172187, 44.083502800520606], [-78.5163011451985, 44.09878240288469]]], \"type\": \"Polygon\"}, \"properties\": {\"EFFECTIVE_\": \"2020-05-15T00:00:00.000Z\", \"GEOMETRY_U\": \"1970-01-01T00:00:00.000Z\", \"OBJECTID\": 817, \"OGF_ID\": 71877925, \"PHU_ID\": 2230, \"PHU_NAME_E\": \"Durham Region Health Department\", \"PHU_NAME_F\": \"Bureau de sant\\u00e9 de Durham\", \"SYSTEM_DAT\": \"2020-05-15T00:00:00.000Z\"}, \"type\": \"Feature\"}, {\"geometry\": {\"coordinates\": [[[-79.51762989797795, 48.27625523600869], [-79.51732777930107, 48.958119338418584], [-79.51782393262872, 49.38829550174316], [-79.51766167838467, 49.750030454273485], [-79.51747203220972, 50.1654018137454], [-79.51794107681349, 50.50003056096201], [-79.51895495397343, 51.06229753895311], [-79.51565220892965, 51.46083629344191], [-79.57260242846306, 51.457843189865784], [-79.61662453760516, 51.413877281464146], [-79.679802258053, 51.40223237635946], [-79.74456047031524, 51.32953816288699], [-79.68677644345927, 51.28262075974417], [-79.75393565314315, 51.18554554277527], [-79.79827016463516, 51.15756153648004], [-79.90393650407114, 51.176189833102484], [-79.99021014376515, 51.24386983745799], [-80.0600380702084, 51.25868633552671], [-80.11344769344412, 51.29089983686995], [-80.2118077284804, 51.2963691320239], [-80.38444249480274, 51.33934292797165], [-80.43214171619614, 51.37212702965358], [-80.42795842645528, 51.451828640610664], [-80.44683413908088, 51.49280514502027], [-80.49849116171667, 51.52405914622553], [-80.57018120783731, 51.66546746093426], [-80.57425761623891, 51.71186906686108], [-80.74017579363604, 51.83975177409231], [-80.91191736605498, 51.92018857456687], [-80.98909170721593, 52.01144388194656], [-81.09803315053145, 52.0446249797982], [-81.16015117174629, 52.04132027566135], [-81.362172052085, 52.1026848715234], [-81.45819460164671, 52.202790678680344], [-81.48004761801776, 52.25705778435299], [-81.56053175091702, 52.286277583222635], [-81.5248205459313, 52.332738591362315], [-81.56282046889254, 52.392045296647666], [-81.5430015676672, 52.42717360234866], [-81.68975553641269, 52.532081906736934], [-81.76478677507751, 52.60632131153566], [-81.87789972391622, 52.66073711142089], [-81.9249887473799, 52.70188691368581], [-81.95958617238387, 52.7779024210873], [-82.11151794349902, 52.88140102453793], [-82.24935979962203, 52.925547021365276], [-82.28178271813798, 52.96658522441532], [-82.2874709366025, 53.06123323577457], [-82.26076534607165, 53.16921795078013], [-82.16137222425934, 53.24520246641107], [-82.11479141108896, 53.26414757168097], [-82.12549512734195, 53.33484767966459], [-82.21788320588519, 53.59101730493594], [-82.1799515124892, 53.702349020778534], [-82.1355241068595, 53.75873393038932], [-82.12632901469432, 53.81982693829996], [-82.2343000918891, 54.02914425630856], [-82.34938595033049, 54.12101095973877], [-82.42591419454116, 54.20981666521807], [-82.42446831529494, 54.32190117842529], [-82.32055501208879, 54.501128406028926], [-82.29007593000877, 54.65116722533976], [-82.21495392395472, 54.76037884277694], [-82.19897403299457, 54.83646265252209], [-82.26142626601417, 54.888819354414586], [-82.25814618600637, 54.996107066813394], [-82.27381940158467, 55.04573337140057], [-82.25317840674622, 55.10948547994839], [-82.41730895996199, 55.07563766533657], [-82.4533195812629, 55.116231567527706], [-82.51942950101544, 55.09443056070378], [-82.56506442576178, 55.134520662182005], [-82.6677614708442, 55.171939459545435], [-82.78067460320402, 55.12854974715457], [-82.88635554574577, 55.148314542288674], [-82.91095686477472, 55.197409646115524], [-82.97213339253022, 55.22390284494883], [-83.14234384914597, 55.19785123055416], [-83.20869237653861, 55.213529727796946], [-83.33875442072562, 55.198619317294316], [-83.43697835862042, 55.20923511176418], [-83.54941510638238, 55.24230820771561], [-83.6927948638224, 55.267921800667004], [-83.7489571809666, 55.25270839511078], [-83.88334253857586, 55.29455539039653], [-83.9375370581544, 55.294287986597546], [-84.07350309848236, 55.25280297256235], [-84.19774424953341, 55.28140436699721], [-84.30673688817753, 55.27805135896813], [-84.50949035266237, 55.238221440295526], [-84.78758315229675, 55.23640032031701], [-84.81356306510283, 55.25225642018691], [-84.98079723109774, 55.27924401112676], [-85.09935586949796, 55.26055670055994], [-85.12606979528145, 55.33358150653331], [-85.22460823938681, 55.372764103621066], [-85.3320975801336, 55.38252869685747], [-85.40227121080504, 55.4070120943698], [-85.57848629719406, 55.50925439238692], [-85.6525383377347, 55.57026529341787], [-85.77292468694048, 55.59638558728578], [-85.90282334722427, 55.65544218387361], [-86.05187540371318, 55.66856357413313], [-86.26000838731335, 55.707186362563384], [-86.37204544102808, 55.764661760106726], [-86.68623757186268, 55.84177284422086], [-86.90190476651702, 55.91432033514908], [-86.99817940231563, 55.92016342832645], [-86.99693818178939, 54.99207253108581], [-86.5491910255985, 54.99705266539986], [-86.55101881539868, 54.50005611099683], [-86.55241341215398, 54.01928085717421], [-86.5527991039693, 53.50005839778185], [-86.55242480303149, 53.00005863932233], [-86.55959400715182, 52.49597167853782], [-86.55361651157381, 52.000060518393965], [-86.54795322178953, 51.518937258819015], [-86.54809187390994, 51.25005722477537], [-86.54833268707131, 50.75005786048905], [-86.54855510755745, 50.277542298567326], [-86.54910115724715, 49.97012345764552], [-86.05383679583652, 49.96876839073538], [-85.77188130418511, 49.9714913098382], [-85.33291556005936, 49.969557538447454], [-85.33196906359109, 49.34510725283824], [-85.33267982048045, 49.05527991235669], [-85.18893097569011, 49.06778092329306], [-84.61115698831254, 49.072408660473315], [-82.63503103696804, 49.062167979239156], [-82.6342344547673, 48.450594590245196], [-81.85659229825207, 48.44989543480653], [-81.85689875449033, 48.103909583210154], [-81.07364419581943, 48.10346012664399], [-81.0752112177381, 48.27765475277748], [-80.14684830848057, 48.27582900278589], [-79.51762989797795, 48.27625523600869]]], \"type\": \"Polygon\"}, \"properties\": {\"EFFECTIVE_\": \"2020-05-15T00:00:00.000Z\", \"GEOMETRY_U\": \"1970-01-01T00:00:00.000Z\", \"OBJECTID\": 833, \"OGF_ID\": 71877915, \"PHU_ID\": 2256, \"PHU_NAME_E\": \"Porcupine Health Unit\", \"PHU_NAME_F\": \"Bureau de sant\\u00e9 Porcupine\", \"SYSTEM_DAT\": \"2020-05-15T00:00:00.000Z\"}, \"type\": \"Feature\"}, {\"geometry\": {\"coordinates\": [[[[-82.31261537418081, 46.18601726155292], [-82.31294298465723, 46.27755817607792], [-82.19243734596462, 46.277790282685146], [-82.19262105621327, 46.36756139691061], [-82.06796701598253, 46.36665650355281], [-82.06925634593655, 46.62512664428713], [-81.94475710571241, 46.62518795109089], [-81.94991004809191, 46.976113105725624], [-82.5786851518365, 46.97715527099113], [-82.57724148254944, 47.23564741090206], [-83.27538660818618, 47.23558037108064], [-83.97493263313282, 47.236168830416965], [-83.97375022329797, 47.93411183496139], [-84.01638873707925, 47.93411093240636], [-84.01458990606447, 48.44963230806952], [-83.59008296769024, 48.44913733359855], [-82.6342344547673, 48.450594590245196], [-82.63503103696804, 49.062167979239156], [-84.61115698831254, 49.072408660473315], [-85.18893097569011, 49.06778092329306], [-85.33267982048045, 49.05527991235669], [-85.33149697728686, 48.76363797131336], [-85.3336605959195, 48.188991388900014], [-85.3295457612275, 47.94914295432377], [-85.1961503200619, 47.96009076421999], [-84.95111414193991, 47.96301517981199], [-84.85904121167005, 47.95771858470684], [-84.83842420003013, 47.92081868056376], [-84.91160321407025, 47.85136836587084], [-84.93030141302174, 47.79939255707799], [-84.89706650039503, 47.78470585695418], [-84.96074151344061, 47.73032824503378], [-85.01157662659948, 47.70735763852572], [-84.98322451180952, 47.66476903397593], [-85.03915762193816, 47.60711542202153], [-84.94936068657846, 47.55699852008771], [-84.96075408765572, 47.53778321654014], [-84.71965999527303, 47.42110841380848], [-84.70683498499005, 47.37387070751917], [-84.62398445443591, 47.342404507797596], [-84.5895101357975, 47.28364210104735], [-84.71311426250362, 47.18554157886578], [-84.7118612513276, 47.10195106633427], [-84.78387876563774, 47.035109451913534], [-84.77927065641738, 46.97453644301865], [-84.71695873384513, 46.952701843433715], [-84.65771781531652, 46.95497784731506], [-84.65276910895376, 46.91726844188046], [-84.5768606884723, 46.94595975076087], [-84.51645546598259, 46.920024850404495], [-84.47900855651216, 46.93932835556415], [-84.36231771324265, 46.89062845504676], [-84.35512510827047, 46.86925045220742], [-84.41418842031257, 46.815442440500014], [-84.44381463340521, 46.84475484322975], [-84.53649166120344, 46.83162383574093], [-84.57768466228696, 46.73606331869564], [-84.5730841558491, 46.69623271286719], [-84.52004683930814, 46.69845181633954], [-84.50722914122825, 46.74641062444467], [-84.44248042103608, 46.74931882871095], [-84.43833681051676, 46.67538411761459], [-84.59290604745858, 46.57832249359286], [-84.65949736470294, 46.54746858491797], [-84.55659662147362, 46.460905477630156], [-84.47638389515018, 46.45315998113687], [-84.42282138404298, 46.500827691640154], [-84.34239485937697, 46.50747529737108], [-84.26425573302281, 46.494543799930405], [-84.22637402587037, 46.53433270829167], [-84.12958409467791, 46.53051981333321], [-84.11135748567752, 46.50415131030854], [-84.14669858647886, 46.41839799495829], [-84.10832105297467, 46.24117436957103], [-84.07746093673411, 46.18699036287326], [-84.0082618104827, 46.15042616111643], [-83.95587578289296, 46.057287749480466], [-83.891538665609, 46.083416157263244], [-83.87253286853506, 46.15922237026244], [-83.833283053286, 46.13543326876496], [-83.78711844437538, 46.183947779017466], [-83.81206065648864, 46.219446283164], [-83.92908710286697, 46.297175688629096], [-83.78685065799017, 46.299482997138405], [-83.69834422655207, 46.27151919781195], [-83.62651640409898, 46.274705202399865], [-83.49929356030816, 46.24648990518946], [-83.39911482736838, 46.237495409437], [-83.33674130536788, 46.21921191007452], [-83.10774242973503, 46.196449019327005], [-83.0504993084274, 46.170092918356104], [-82.91485966670709, 46.18375142806246], [-82.83714534105266, 46.17654893123148], [-82.69624119857654, 46.19904964258566], [-82.67812188966741, 46.17182143926687], [-82.55797495046964, 46.16527834483583], [-82.47076922605065, 46.19621535453215], [-82.44048271500294, 46.18440585431408], [-82.31261537418081, 46.18601726155292]]], [[[-82.05752088277546, 46.101159561851254], [-82.05643929090692, 46.177038974026516], [-82.09744810335508, 46.170524470769834], [-82.25680815666782, 46.18952516515007], [-82.3113430737511, 46.185826761591905], [-82.3128972690368, 46.13961815415009], [-82.2237313407712, 46.14261525947508], [-82.184296625228, 46.11686705750625], [-82.05937288333591, 46.10085226170225], [-82.05807898294434, 46.101066961806396], [-82.05752088277546, 46.101159561851254]]], [[[-82.13076220058598, 46.050034849720454], [-82.14107620482275, 46.058364150496054], [-82.16763291128653, 46.03994034611299], [-82.15761240778683, 46.03736954624307], [-82.15167720534943, 46.032573745796], [-82.11439109478984, 46.045146049821746], [-82.11443659487611, 46.04579014992244], [-82.11465739496089, 46.045915549930605], [-82.13076220058598, 46.050034849720454]]]], \"type\": \"MultiPolygon\"}, \"properties\": {\"EFFECTIVE_\": \"2020-05-15T00:00:00.000Z\", \"GEOMETRY_U\": \"1970-01-01T00:00:00.000Z\", \"OBJECTID\": 849, \"OGF_ID\": 71877923, \"PHU_ID\": 2226, \"PHU_NAME_E\": \"Algoma Public Health Unit\", \"PHU_NAME_F\": \"Sant\\u00e9 publique Algoma\", \"SYSTEM_DAT\": \"2020-05-15T00:00:00.000Z\"}, \"type\": \"Feature\"}], \"type\": \"FeatureCollection\"}, \"hovertemplate\": \"PHU Number=%{location}<br>ACTIVE_CASES=%{z}<extra></extra>\", \"locations\": [2270, 2233, 2242, 2241, 5183, 2238, 2236, 2234, 2258, 2244, 2230, 2251, 2237, 2240, 2227, 2226, 2243, 2235, 2246, 2260, 2247, 2266, 2265, 3895, 2263, 2262, 2261, 2268, 2257, 2256, 2255, 2253, 4913, 2249], \"marker\": {\"opacity\": 0.5}, \"name\": \"\", \"subplot\": \"mapbox\", \"type\": \"choroplethmapbox\", \"z\": [2465, 70, 217, 45, 123, 20, 973, 136, 446, 1186, 871, 1354, 911, 114, 176, 46, 25, 60, 1282, 674, 17, 458, 976, 8670, 5, 76, 97, 1783, 32, 26, 50, 5535, 356, 32]}],                        {\"coloraxis\": {\"cmax\": 4000, \"cmin\": 0, \"colorbar\": {\"title\": {\"text\": \"ACTIVE_CASES\"}}, \"colorscale\": [[0.0, \"#440154\"], [0.1111111111111111, \"#482878\"], [0.2222222222222222, \"#3e4989\"], [0.3333333333333333, \"#31688e\"], [0.4444444444444444, \"#26828e\"], [0.5555555555555556, \"#1f9e89\"], [0.6666666666666666, \"#35b779\"], [0.7777777777777778, \"#6ece58\"], [0.8888888888888888, \"#b5de2b\"], [1.0, \"#fde725\"]]}, \"legend\": {\"tracegroupgap\": 0}, \"mapbox\": {\"center\": {\"lat\": 48.31, \"lon\": -84.73}, \"domain\": {\"x\": [0.0, 1.0], \"y\": [0.0, 1.0]}, \"style\": \"carto-positron\", \"zoom\": 4}, \"margin\": {\"b\": 0, \"l\": 0, \"r\": 0, \"t\": 0}, \"template\": {\"data\": {\"bar\": [{\"error_x\": {\"color\": \"#2a3f5f\"}, \"error_y\": {\"color\": \"#2a3f5f\"}, \"marker\": {\"line\": {\"color\": \"#E5ECF6\", \"width\": 0.5}}, \"type\": \"bar\"}], \"barpolar\": [{\"marker\": {\"line\": {\"color\": \"#E5ECF6\", \"width\": 0.5}}, \"type\": \"barpolar\"}], \"carpet\": [{\"aaxis\": {\"endlinecolor\": \"#2a3f5f\", \"gridcolor\": \"white\", \"linecolor\": \"white\", \"minorgridcolor\": \"white\", \"startlinecolor\": \"#2a3f5f\"}, \"baxis\": {\"endlinecolor\": \"#2a3f5f\", \"gridcolor\": \"white\", \"linecolor\": \"white\", \"minorgridcolor\": \"white\", \"startlinecolor\": \"#2a3f5f\"}, \"type\": \"carpet\"}], \"choropleth\": [{\"colorbar\": {\"outlinewidth\": 0, \"ticks\": \"\"}, \"type\": \"choropleth\"}], \"contour\": [{\"colorbar\": {\"outlinewidth\": 0, \"ticks\": \"\"}, \"colorscale\": [[0.0, \"#0d0887\"], [0.1111111111111111, \"#46039f\"], [0.2222222222222222, \"#7201a8\"], [0.3333333333333333, \"#9c179e\"], [0.4444444444444444, \"#bd3786\"], [0.5555555555555556, \"#d8576b\"], [0.6666666666666666, \"#ed7953\"], [0.7777777777777778, \"#fb9f3a\"], [0.8888888888888888, \"#fdca26\"], [1.0, \"#f0f921\"]], \"type\": \"contour\"}], \"contourcarpet\": [{\"colorbar\": {\"outlinewidth\": 0, \"ticks\": \"\"}, \"type\": \"contourcarpet\"}], \"heatmap\": [{\"colorbar\": {\"outlinewidth\": 0, \"ticks\": \"\"}, \"colorscale\": [[0.0, \"#0d0887\"], [0.1111111111111111, \"#46039f\"], [0.2222222222222222, \"#7201a8\"], [0.3333333333333333, \"#9c179e\"], [0.4444444444444444, \"#bd3786\"], [0.5555555555555556, \"#d8576b\"], [0.6666666666666666, \"#ed7953\"], [0.7777777777777778, \"#fb9f3a\"], [0.8888888888888888, \"#fdca26\"], [1.0, \"#f0f921\"]], \"type\": \"heatmap\"}], \"heatmapgl\": [{\"colorbar\": {\"outlinewidth\": 0, \"ticks\": \"\"}, \"colorscale\": [[0.0, \"#0d0887\"], [0.1111111111111111, \"#46039f\"], [0.2222222222222222, \"#7201a8\"], [0.3333333333333333, \"#9c179e\"], [0.4444444444444444, \"#bd3786\"], [0.5555555555555556, \"#d8576b\"], [0.6666666666666666, \"#ed7953\"], [0.7777777777777778, \"#fb9f3a\"], [0.8888888888888888, \"#fdca26\"], [1.0, \"#f0f921\"]], \"type\": \"heatmapgl\"}], \"histogram\": [{\"marker\": {\"colorbar\": {\"outlinewidth\": 0, \"ticks\": \"\"}}, \"type\": \"histogram\"}], \"histogram2d\": [{\"colorbar\": {\"outlinewidth\": 0, \"ticks\": \"\"}, \"colorscale\": [[0.0, \"#0d0887\"], [0.1111111111111111, \"#46039f\"], [0.2222222222222222, \"#7201a8\"], [0.3333333333333333, \"#9c179e\"], [0.4444444444444444, \"#bd3786\"], [0.5555555555555556, \"#d8576b\"], [0.6666666666666666, \"#ed7953\"], [0.7777777777777778, \"#fb9f3a\"], [0.8888888888888888, \"#fdca26\"], [1.0, \"#f0f921\"]], \"type\": \"histogram2d\"}], \"histogram2dcontour\": [{\"colorbar\": {\"outlinewidth\": 0, \"ticks\": \"\"}, \"colorscale\": [[0.0, \"#0d0887\"], [0.1111111111111111, \"#46039f\"], [0.2222222222222222, \"#7201a8\"], [0.3333333333333333, \"#9c179e\"], [0.4444444444444444, \"#bd3786\"], [0.5555555555555556, \"#d8576b\"], [0.6666666666666666, \"#ed7953\"], [0.7777777777777778, \"#fb9f3a\"], [0.8888888888888888, \"#fdca26\"], [1.0, \"#f0f921\"]], \"type\": \"histogram2dcontour\"}], \"mesh3d\": [{\"colorbar\": {\"outlinewidth\": 0, \"ticks\": \"\"}, \"type\": \"mesh3d\"}], \"parcoords\": [{\"line\": {\"colorbar\": {\"outlinewidth\": 0, \"ticks\": \"\"}}, \"type\": \"parcoords\"}], \"pie\": [{\"automargin\": true, \"type\": \"pie\"}], \"scatter\": [{\"marker\": {\"colorbar\": {\"outlinewidth\": 0, \"ticks\": \"\"}}, \"type\": \"scatter\"}], \"scatter3d\": [{\"line\": {\"colorbar\": {\"outlinewidth\": 0, \"ticks\": \"\"}}, \"marker\": {\"colorbar\": {\"outlinewidth\": 0, \"ticks\": \"\"}}, \"type\": \"scatter3d\"}], \"scattercarpet\": [{\"marker\": {\"colorbar\": {\"outlinewidth\": 0, \"ticks\": \"\"}}, \"type\": \"scattercarpet\"}], \"scattergeo\": [{\"marker\": {\"colorbar\": {\"outlinewidth\": 0, \"ticks\": \"\"}}, \"type\": \"scattergeo\"}], \"scattergl\": [{\"marker\": {\"colorbar\": {\"outlinewidth\": 0, \"ticks\": \"\"}}, \"type\": \"scattergl\"}], \"scattermapbox\": [{\"marker\": {\"colorbar\": {\"outlinewidth\": 0, \"ticks\": \"\"}}, \"type\": \"scattermapbox\"}], \"scatterpolar\": [{\"marker\": {\"colorbar\": {\"outlinewidth\": 0, \"ticks\": \"\"}}, \"type\": \"scatterpolar\"}], \"scatterpolargl\": [{\"marker\": {\"colorbar\": {\"outlinewidth\": 0, \"ticks\": \"\"}}, \"type\": \"scatterpolargl\"}], \"scatterternary\": [{\"marker\": {\"colorbar\": {\"outlinewidth\": 0, \"ticks\": \"\"}}, \"type\": \"scatterternary\"}], \"surface\": [{\"colorbar\": {\"outlinewidth\": 0, \"ticks\": \"\"}, \"colorscale\": [[0.0, \"#0d0887\"], [0.1111111111111111, \"#46039f\"], [0.2222222222222222, \"#7201a8\"], [0.3333333333333333, \"#9c179e\"], [0.4444444444444444, \"#bd3786\"], [0.5555555555555556, \"#d8576b\"], [0.6666666666666666, \"#ed7953\"], [0.7777777777777778, \"#fb9f3a\"], [0.8888888888888888, \"#fdca26\"], [1.0, \"#f0f921\"]], \"type\": \"surface\"}], \"table\": [{\"cells\": {\"fill\": {\"color\": \"#EBF0F8\"}, \"line\": {\"color\": \"white\"}}, \"header\": {\"fill\": {\"color\": \"#C8D4E3\"}, \"line\": {\"color\": \"white\"}}, \"type\": \"table\"}]}, \"layout\": {\"annotationdefaults\": {\"arrowcolor\": \"#2a3f5f\", \"arrowhead\": 0, \"arrowwidth\": 1}, \"autotypenumbers\": \"strict\", \"coloraxis\": {\"colorbar\": {\"outlinewidth\": 0, \"ticks\": \"\"}}, \"colorscale\": {\"diverging\": [[0, \"#8e0152\"], [0.1, \"#c51b7d\"], [0.2, \"#de77ae\"], [0.3, \"#f1b6da\"], [0.4, \"#fde0ef\"], [0.5, \"#f7f7f7\"], [0.6, \"#e6f5d0\"], [0.7, \"#b8e186\"], [0.8, \"#7fbc41\"], [0.9, \"#4d9221\"], [1, \"#276419\"]], \"sequential\": [[0.0, \"#0d0887\"], [0.1111111111111111, \"#46039f\"], [0.2222222222222222, \"#7201a8\"], [0.3333333333333333, \"#9c179e\"], [0.4444444444444444, \"#bd3786\"], [0.5555555555555556, \"#d8576b\"], [0.6666666666666666, \"#ed7953\"], [0.7777777777777778, \"#fb9f3a\"], [0.8888888888888888, \"#fdca26\"], [1.0, \"#f0f921\"]], \"sequentialminus\": [[0.0, \"#0d0887\"], [0.1111111111111111, \"#46039f\"], [0.2222222222222222, \"#7201a8\"], [0.3333333333333333, \"#9c179e\"], [0.4444444444444444, \"#bd3786\"], [0.5555555555555556, \"#d8576b\"], [0.6666666666666666, \"#ed7953\"], [0.7777777777777778, \"#fb9f3a\"], [0.8888888888888888, \"#fdca26\"], [1.0, \"#f0f921\"]]}, \"colorway\": [\"#636efa\", \"#EF553B\", \"#00cc96\", \"#ab63fa\", \"#FFA15A\", \"#19d3f3\", \"#FF6692\", \"#B6E880\", \"#FF97FF\", \"#FECB52\"], \"font\": {\"color\": \"#2a3f5f\"}, \"geo\": {\"bgcolor\": \"white\", \"lakecolor\": \"white\", \"landcolor\": \"#E5ECF6\", \"showlakes\": true, \"showland\": true, \"subunitcolor\": \"white\"}, \"hoverlabel\": {\"align\": \"left\"}, \"hovermode\": \"closest\", \"mapbox\": {\"style\": \"light\"}, \"paper_bgcolor\": \"white\", \"plot_bgcolor\": \"#E5ECF6\", \"polar\": {\"angularaxis\": {\"gridcolor\": \"white\", \"linecolor\": \"white\", \"ticks\": \"\"}, \"bgcolor\": \"#E5ECF6\", \"radialaxis\": {\"gridcolor\": \"white\", \"linecolor\": \"white\", \"ticks\": \"\"}}, \"scene\": {\"xaxis\": {\"backgroundcolor\": \"#E5ECF6\", \"gridcolor\": \"white\", \"gridwidth\": 2, \"linecolor\": \"white\", \"showbackground\": true, \"ticks\": \"\", \"zerolinecolor\": \"white\"}, \"yaxis\": {\"backgroundcolor\": \"#E5ECF6\", \"gridcolor\": \"white\", \"gridwidth\": 2, \"linecolor\": \"white\", \"showbackground\": true, \"ticks\": \"\", \"zerolinecolor\": \"white\"}, \"zaxis\": {\"backgroundcolor\": \"#E5ECF6\", \"gridcolor\": \"white\", \"gridwidth\": 2, \"linecolor\": \"white\", \"showbackground\": true, \"ticks\": \"\", \"zerolinecolor\": \"white\"}}, \"shapedefaults\": {\"line\": {\"color\": \"#2a3f5f\"}}, \"ternary\": {\"aaxis\": {\"gridcolor\": \"white\", \"linecolor\": \"white\", \"ticks\": \"\"}, \"baxis\": {\"gridcolor\": \"white\", \"linecolor\": \"white\", \"ticks\": \"\"}, \"bgcolor\": \"#E5ECF6\", \"caxis\": {\"gridcolor\": \"white\", \"linecolor\": \"white\", \"ticks\": \"\"}}, \"title\": {\"x\": 0.05}, \"xaxis\": {\"automargin\": true, \"gridcolor\": \"white\", \"linecolor\": \"white\", \"ticks\": \"\", \"title\": {\"standoff\": 15}, \"zerolinecolor\": \"white\", \"zerolinewidth\": 2}, \"yaxis\": {\"automargin\": true, \"gridcolor\": \"white\", \"linecolor\": \"white\", \"ticks\": \"\", \"title\": {\"standoff\": 15}, \"zerolinecolor\": \"white\", \"zerolinewidth\": 2}}}},                        {\"responsive\": true}                    ).then(function(){\n",
       "                            \n",
       "var gd = document.getElementById('b090e126-a94b-4f63-8068-80f8178c8977');\n",
       "var x = new MutationObserver(function (mutations, observer) {{\n",
       "        var display = window.getComputedStyle(gd).display;\n",
       "        if (!display || display === 'none') {{\n",
       "            console.log([gd, 'removed!']);\n",
       "            Plotly.purge(gd);\n",
       "            observer.disconnect();\n",
       "        }}\n",
       "}});\n",
       "\n",
       "// Listen for the removal of the full notebook cells\n",
       "var notebookContainer = gd.closest('#notebook-container');\n",
       "if (notebookContainer) {{\n",
       "    x.observe(notebookContainer, {childList: true});\n",
       "}}\n",
       "\n",
       "// Listen for the clearing of the current output cell\n",
       "var outputEl = gd.closest('.output');\n",
       "if (outputEl) {{\n",
       "    x.observe(outputEl, {childList: true});\n",
       "}}\n",
       "\n",
       "                        })                };                });            </script>        </div>"
      ]
     },
     "metadata": {},
     "output_type": "display_data"
    }
   ],
   "source": [
    "with open(\"../Ministry_of_Health_Public_Health_Unit_Boundary Simplified.json\") as f:\n",
    "    phu_data = json.load(f)\n",
    "\n",
    "fig = px.choropleth_mapbox(recent_df, geojson=phu_data, featureidkey='properties.PHU_ID', locations='PHU_NUM', color='ACTIVE_CASES',\n",
    "                           color_continuous_scale=\"Viridis\",\n",
    "                           range_color=(0, 4000),\n",
    "                           mapbox_style=\"carto-positron\",\n",
    "                           zoom=4, center = {\"lat\": 48.31, \"lon\": -84.73},\n",
    "                           opacity=0.5,\n",
    "                           labels={'PHU_NUM': 'PHU Number'}\n",
    "                          )\n",
    "fig.update_layout(margin={\"r\":0,\"t\":0,\"l\":0,\"b\":0})\n",
    "fig.show()"
   ]
  },
  {
   "cell_type": "code",
   "execution_count": null,
   "metadata": {},
   "outputs": [],
   "source": []
  },
  {
   "cell_type": "code",
   "execution_count": null,
   "metadata": {},
   "outputs": [],
   "source": []
  },
  {
   "cell_type": "code",
   "execution_count": null,
   "metadata": {},
   "outputs": [],
   "source": []
  },
  {
   "cell_type": "code",
   "execution_count": null,
   "metadata": {},
   "outputs": [],
   "source": []
  },
  {
   "cell_type": "code",
   "execution_count": null,
   "metadata": {},
   "outputs": [],
   "source": []
  },
  {
   "cell_type": "code",
   "execution_count": null,
   "metadata": {},
   "outputs": [],
   "source": []
  },
  {
   "cell_type": "code",
   "execution_count": 29,
   "metadata": {},
   "outputs": [],
   "source": [
    "#df.groupby('kind').agg(min_height=('height', 'min'), max_weight=('weight', 'max'))"
   ]
  },
  {
   "cell_type": "code",
   "execution_count": 9,
   "metadata": {},
   "outputs": [
    {
     "data": {
      "text/html": [
       "<div>\n",
       "<style scoped>\n",
       "    .dataframe tbody tr th:only-of-type {\n",
       "        vertical-align: middle;\n",
       "    }\n",
       "\n",
       "    .dataframe tbody tr th {\n",
       "        vertical-align: top;\n",
       "    }\n",
       "\n",
       "    .dataframe thead tr th {\n",
       "        text-align: left;\n",
       "    }\n",
       "\n",
       "    .dataframe thead tr:last-of-type th {\n",
       "        text-align: right;\n",
       "    }\n",
       "</style>\n",
       "<table border=\"1\" class=\"dataframe\">\n",
       "  <thead>\n",
       "    <tr>\n",
       "      <th></th>\n",
       "      <th>ACTIVE_CASES</th>\n",
       "      <th>RESOLVED_CASES</th>\n",
       "      <th colspan=\"2\" halign=\"left\">DEATHS</th>\n",
       "    </tr>\n",
       "    <tr>\n",
       "      <th></th>\n",
       "      <th>sum</th>\n",
       "      <th>sum</th>\n",
       "      <th>sum</th>\n",
       "      <th>count</th>\n",
       "    </tr>\n",
       "    <tr>\n",
       "      <th>PHU_NUM</th>\n",
       "      <th></th>\n",
       "      <th></th>\n",
       "      <th></th>\n",
       "      <th></th>\n",
       "    </tr>\n",
       "  </thead>\n",
       "  <tbody>\n",
       "    <tr>\n",
       "      <th>2226</th>\n",
       "      <td>1009</td>\n",
       "      <td>9368</td>\n",
       "      <td>0</td>\n",
       "      <td>290</td>\n",
       "    </tr>\n",
       "    <tr>\n",
       "      <th>2227</th>\n",
       "      <td>10194</td>\n",
       "      <td>75632</td>\n",
       "      <td>1525</td>\n",
       "      <td>290</td>\n",
       "    </tr>\n",
       "    <tr>\n",
       "      <th>2230</th>\n",
       "      <td>68316</td>\n",
       "      <td>651640</td>\n",
       "      <td>49413</td>\n",
       "      <td>290</td>\n",
       "    </tr>\n",
       "    <tr>\n",
       "      <th>2233</th>\n",
       "      <td>4244</td>\n",
       "      <td>44280</td>\n",
       "      <td>2</td>\n",
       "      <td>290</td>\n",
       "    </tr>\n",
       "    <tr>\n",
       "      <th>2234</th>\n",
       "      <td>9819</td>\n",
       "      <td>114881</td>\n",
       "      <td>9868</td>\n",
       "      <td>290</td>\n",
       "    </tr>\n",
       "    <tr>\n",
       "      <th>2235</th>\n",
       "      <td>4505</td>\n",
       "      <td>62049</td>\n",
       "      <td>5816</td>\n",
       "      <td>290</td>\n",
       "    </tr>\n",
       "    <tr>\n",
       "      <th>2236</th>\n",
       "      <td>62781</td>\n",
       "      <td>422933</td>\n",
       "      <td>10962</td>\n",
       "      <td>290</td>\n",
       "    </tr>\n",
       "    <tr>\n",
       "      <th>2237</th>\n",
       "      <td>64554</td>\n",
       "      <td>416479</td>\n",
       "      <td>16671</td>\n",
       "      <td>290</td>\n",
       "    </tr>\n",
       "    <tr>\n",
       "      <th>2238</th>\n",
       "      <td>2612</td>\n",
       "      <td>20411</td>\n",
       "      <td>1331</td>\n",
       "      <td>290</td>\n",
       "    </tr>\n",
       "    <tr>\n",
       "      <th>2240</th>\n",
       "      <td>7171</td>\n",
       "      <td>83690</td>\n",
       "      <td>596</td>\n",
       "      <td>290</td>\n",
       "    </tr>\n",
       "    <tr>\n",
       "      <th>2241</th>\n",
       "      <td>4820</td>\n",
       "      <td>43422</td>\n",
       "      <td>4</td>\n",
       "      <td>290</td>\n",
       "    </tr>\n",
       "    <tr>\n",
       "      <th>2242</th>\n",
       "      <td>9006</td>\n",
       "      <td>87844</td>\n",
       "      <td>6681</td>\n",
       "      <td>290</td>\n",
       "    </tr>\n",
       "    <tr>\n",
       "      <th>2243</th>\n",
       "      <td>6643</td>\n",
       "      <td>95339</td>\n",
       "      <td>14075</td>\n",
       "      <td>290</td>\n",
       "    </tr>\n",
       "    <tr>\n",
       "      <th>2244</th>\n",
       "      <td>43346</td>\n",
       "      <td>247016</td>\n",
       "      <td>15987</td>\n",
       "      <td>290</td>\n",
       "    </tr>\n",
       "    <tr>\n",
       "      <th>2246</th>\n",
       "      <td>44486</td>\n",
       "      <td>321014</td>\n",
       "      <td>20294</td>\n",
       "      <td>290</td>\n",
       "    </tr>\n",
       "    <tr>\n",
       "      <th>2247</th>\n",
       "      <td>1099</td>\n",
       "      <td>12073</td>\n",
       "      <td>246</td>\n",
       "      <td>290</td>\n",
       "    </tr>\n",
       "    <tr>\n",
       "      <th>2249</th>\n",
       "      <td>1580</td>\n",
       "      <td>16295</td>\n",
       "      <td>0</td>\n",
       "      <td>290</td>\n",
       "    </tr>\n",
       "    <tr>\n",
       "      <th>2251</th>\n",
       "      <td>109847</td>\n",
       "      <td>1072158</td>\n",
       "      <td>76529</td>\n",
       "      <td>290</td>\n",
       "    </tr>\n",
       "    <tr>\n",
       "      <th>2253</th>\n",
       "      <td>442555</td>\n",
       "      <td>3004587</td>\n",
       "      <td>85563</td>\n",
       "      <td>290</td>\n",
       "    </tr>\n",
       "    <tr>\n",
       "      <th>2255</th>\n",
       "      <td>3614</td>\n",
       "      <td>35392</td>\n",
       "      <td>726</td>\n",
       "      <td>290</td>\n",
       "    </tr>\n",
       "    <tr>\n",
       "      <th>2256</th>\n",
       "      <td>1355</td>\n",
       "      <td>20051</td>\n",
       "      <td>2186</td>\n",
       "      <td>290</td>\n",
       "    </tr>\n",
       "    <tr>\n",
       "      <th>2257</th>\n",
       "      <td>2014</td>\n",
       "      <td>18370</td>\n",
       "      <td>289</td>\n",
       "      <td>290</td>\n",
       "    </tr>\n",
       "    <tr>\n",
       "      <th>2258</th>\n",
       "      <td>18173</td>\n",
       "      <td>99866</td>\n",
       "      <td>5048</td>\n",
       "      <td>290</td>\n",
       "    </tr>\n",
       "    <tr>\n",
       "      <th>2260</th>\n",
       "      <td>37402</td>\n",
       "      <td>284839</td>\n",
       "      <td>10868</td>\n",
       "      <td>290</td>\n",
       "    </tr>\n",
       "    <tr>\n",
       "      <th>2261</th>\n",
       "      <td>3101</td>\n",
       "      <td>30895</td>\n",
       "      <td>546</td>\n",
       "      <td>290</td>\n",
       "    </tr>\n",
       "    <tr>\n",
       "      <th>2262</th>\n",
       "      <td>5717</td>\n",
       "      <td>40947</td>\n",
       "      <td>838</td>\n",
       "      <td>290</td>\n",
       "    </tr>\n",
       "    <tr>\n",
       "      <th>2263</th>\n",
       "      <td>770</td>\n",
       "      <td>5676</td>\n",
       "      <td>2</td>\n",
       "      <td>290</td>\n",
       "    </tr>\n",
       "    <tr>\n",
       "      <th>2265</th>\n",
       "      <td>51883</td>\n",
       "      <td>512628</td>\n",
       "      <td>31447</td>\n",
       "      <td>290</td>\n",
       "    </tr>\n",
       "    <tr>\n",
       "      <th>2266</th>\n",
       "      <td>28089</td>\n",
       "      <td>202773</td>\n",
       "      <td>9805</td>\n",
       "      <td>290</td>\n",
       "    </tr>\n",
       "    <tr>\n",
       "      <th>2268</th>\n",
       "      <td>90913</td>\n",
       "      <td>647100</td>\n",
       "      <td>21419</td>\n",
       "      <td>290</td>\n",
       "    </tr>\n",
       "    <tr>\n",
       "      <th>2270</th>\n",
       "      <td>171027</td>\n",
       "      <td>1393859</td>\n",
       "      <td>69251</td>\n",
       "      <td>290</td>\n",
       "    </tr>\n",
       "    <tr>\n",
       "      <th>3895</th>\n",
       "      <td>637180</td>\n",
       "      <td>5245088</td>\n",
       "      <td>322611</td>\n",
       "      <td>290</td>\n",
       "    </tr>\n",
       "    <tr>\n",
       "      <th>4913</th>\n",
       "      <td>14604</td>\n",
       "      <td>79737</td>\n",
       "      <td>1777</td>\n",
       "      <td>290</td>\n",
       "    </tr>\n",
       "    <tr>\n",
       "      <th>5183</th>\n",
       "      <td>6108</td>\n",
       "      <td>43201</td>\n",
       "      <td>2285</td>\n",
       "      <td>290</td>\n",
       "    </tr>\n",
       "  </tbody>\n",
       "</table>\n",
       "</div>"
      ],
      "text/plain": [
       "        ACTIVE_CASES RESOLVED_CASES  DEATHS      \n",
       "                 sum            sum     sum count\n",
       "PHU_NUM                                          \n",
       "2226            1009           9368       0   290\n",
       "2227           10194          75632    1525   290\n",
       "2230           68316         651640   49413   290\n",
       "2233            4244          44280       2   290\n",
       "2234            9819         114881    9868   290\n",
       "2235            4505          62049    5816   290\n",
       "2236           62781         422933   10962   290\n",
       "2237           64554         416479   16671   290\n",
       "2238            2612          20411    1331   290\n",
       "2240            7171          83690     596   290\n",
       "2241            4820          43422       4   290\n",
       "2242            9006          87844    6681   290\n",
       "2243            6643          95339   14075   290\n",
       "2244           43346         247016   15987   290\n",
       "2246           44486         321014   20294   290\n",
       "2247            1099          12073     246   290\n",
       "2249            1580          16295       0   290\n",
       "2251          109847        1072158   76529   290\n",
       "2253          442555        3004587   85563   290\n",
       "2255            3614          35392     726   290\n",
       "2256            1355          20051    2186   290\n",
       "2257            2014          18370     289   290\n",
       "2258           18173          99866    5048   290\n",
       "2260           37402         284839   10868   290\n",
       "2261            3101          30895     546   290\n",
       "2262            5717          40947     838   290\n",
       "2263             770           5676       2   290\n",
       "2265           51883         512628   31447   290\n",
       "2266           28089         202773    9805   290\n",
       "2268           90913         647100   21419   290\n",
       "2270          171027        1393859   69251   290\n",
       "3895          637180        5245088  322611   290\n",
       "4913           14604          79737    1777   290\n",
       "5183            6108          43201    2285   290"
      ]
     },
     "execution_count": 9,
     "metadata": {},
     "output_type": "execute_result"
    }
   ],
   "source": [
    "aggs = {\n",
    "    'ACTIVE_CASES': 'sum',\n",
    "    'RESOLVED_CASES': 'sum',\n",
    "    'DEATHS': ['sum', 'count']\n",
    "}\n",
    "census_phu = df.groupby(['PHU_NUM']).agg(aggs)\n",
    "census_phu"
   ]
  },
  {
   "cell_type": "code",
   "execution_count": 10,
   "metadata": {},
   "outputs": [],
   "source": [
    "census_phu.columns = [\"_\".join(x) for x in census_phu.columns]"
   ]
  },
  {
   "cell_type": "code",
   "execution_count": 11,
   "metadata": {},
   "outputs": [
    {
     "data": {
      "text/html": [
       "<div>\n",
       "<style scoped>\n",
       "    .dataframe tbody tr th:only-of-type {\n",
       "        vertical-align: middle;\n",
       "    }\n",
       "\n",
       "    .dataframe tbody tr th {\n",
       "        vertical-align: top;\n",
       "    }\n",
       "\n",
       "    .dataframe thead th {\n",
       "        text-align: right;\n",
       "    }\n",
       "</style>\n",
       "<table border=\"1\" class=\"dataframe\">\n",
       "  <thead>\n",
       "    <tr style=\"text-align: right;\">\n",
       "      <th></th>\n",
       "      <th>ACTIVE_CASES_sum</th>\n",
       "      <th>RESOLVED_CASES_sum</th>\n",
       "      <th>DEATHS_sum</th>\n",
       "      <th>DEATHS_count</th>\n",
       "      <th>PHU_NAME</th>\n",
       "      <th>0</th>\n",
       "    </tr>\n",
       "    <tr>\n",
       "      <th>PHU_NUM</th>\n",
       "      <th></th>\n",
       "      <th></th>\n",
       "      <th></th>\n",
       "      <th></th>\n",
       "      <th></th>\n",
       "      <th></th>\n",
       "    </tr>\n",
       "  </thead>\n",
       "  <tbody>\n",
       "    <tr>\n",
       "      <th>2226</th>\n",
       "      <td>1009</td>\n",
       "      <td>9368</td>\n",
       "      <td>0</td>\n",
       "      <td>290</td>\n",
       "      <td>ALGOMA DISTRICT</td>\n",
       "      <td>290</td>\n",
       "    </tr>\n",
       "    <tr>\n",
       "      <th>2227</th>\n",
       "      <td>10194</td>\n",
       "      <td>75632</td>\n",
       "      <td>1525</td>\n",
       "      <td>290</td>\n",
       "      <td>BRANT COUNTY</td>\n",
       "      <td>290</td>\n",
       "    </tr>\n",
       "    <tr>\n",
       "      <th>2230</th>\n",
       "      <td>68316</td>\n",
       "      <td>651640</td>\n",
       "      <td>49413</td>\n",
       "      <td>290</td>\n",
       "      <td>DURHAM REGION</td>\n",
       "      <td>290</td>\n",
       "    </tr>\n",
       "    <tr>\n",
       "      <th>2233</th>\n",
       "      <td>4244</td>\n",
       "      <td>44280</td>\n",
       "      <td>2</td>\n",
       "      <td>290</td>\n",
       "      <td>GREY BRUCE</td>\n",
       "      <td>290</td>\n",
       "    </tr>\n",
       "    <tr>\n",
       "      <th>2234</th>\n",
       "      <td>9819</td>\n",
       "      <td>114881</td>\n",
       "      <td>9868</td>\n",
       "      <td>290</td>\n",
       "      <td>HALDIMAND-NORFOLK</td>\n",
       "      <td>290</td>\n",
       "    </tr>\n",
       "    <tr>\n",
       "      <th>2235</th>\n",
       "      <td>4505</td>\n",
       "      <td>62049</td>\n",
       "      <td>5816</td>\n",
       "      <td>290</td>\n",
       "      <td>HALIBURTON, KAWARTHA, PINE RIDGE</td>\n",
       "      <td>290</td>\n",
       "    </tr>\n",
       "    <tr>\n",
       "      <th>2236</th>\n",
       "      <td>62781</td>\n",
       "      <td>422933</td>\n",
       "      <td>10962</td>\n",
       "      <td>290</td>\n",
       "      <td>HALTON REGION</td>\n",
       "      <td>290</td>\n",
       "    </tr>\n",
       "    <tr>\n",
       "      <th>2237</th>\n",
       "      <td>64554</td>\n",
       "      <td>416479</td>\n",
       "      <td>16671</td>\n",
       "      <td>290</td>\n",
       "      <td>CITY OF HAMILTON</td>\n",
       "      <td>290</td>\n",
       "    </tr>\n",
       "    <tr>\n",
       "      <th>2238</th>\n",
       "      <td>2612</td>\n",
       "      <td>20411</td>\n",
       "      <td>1331</td>\n",
       "      <td>290</td>\n",
       "      <td>HASTINGS &amp; PRINCE EDWARD COUNTIES</td>\n",
       "      <td>290</td>\n",
       "    </tr>\n",
       "    <tr>\n",
       "      <th>2240</th>\n",
       "      <td>7171</td>\n",
       "      <td>83690</td>\n",
       "      <td>596</td>\n",
       "      <td>290</td>\n",
       "      <td>CHATHAM-KENT</td>\n",
       "      <td>290</td>\n",
       "    </tr>\n",
       "    <tr>\n",
       "      <th>2241</th>\n",
       "      <td>4820</td>\n",
       "      <td>43422</td>\n",
       "      <td>4</td>\n",
       "      <td>290</td>\n",
       "      <td>KINGSTON, FRONTENAC, LENNOX &amp; ADDINGTON</td>\n",
       "      <td>290</td>\n",
       "    </tr>\n",
       "    <tr>\n",
       "      <th>2242</th>\n",
       "      <td>9006</td>\n",
       "      <td>87844</td>\n",
       "      <td>6681</td>\n",
       "      <td>290</td>\n",
       "      <td>LAMBTON COUNTY</td>\n",
       "      <td>290</td>\n",
       "    </tr>\n",
       "    <tr>\n",
       "      <th>2243</th>\n",
       "      <td>6643</td>\n",
       "      <td>95339</td>\n",
       "      <td>14075</td>\n",
       "      <td>290</td>\n",
       "      <td>LEEDS, GRENVILLE AND LANARK DISTRICT</td>\n",
       "      <td>290</td>\n",
       "    </tr>\n",
       "    <tr>\n",
       "      <th>2244</th>\n",
       "      <td>43346</td>\n",
       "      <td>247016</td>\n",
       "      <td>15987</td>\n",
       "      <td>290</td>\n",
       "      <td>MIDDLESEX-LONDON</td>\n",
       "      <td>290</td>\n",
       "    </tr>\n",
       "    <tr>\n",
       "      <th>2246</th>\n",
       "      <td>44486</td>\n",
       "      <td>321014</td>\n",
       "      <td>20294</td>\n",
       "      <td>290</td>\n",
       "      <td>NIAGARA REGION</td>\n",
       "      <td>290</td>\n",
       "    </tr>\n",
       "    <tr>\n",
       "      <th>2247</th>\n",
       "      <td>1099</td>\n",
       "      <td>12073</td>\n",
       "      <td>246</td>\n",
       "      <td>290</td>\n",
       "      <td>NORTH BAY PARRY SOUND DISTRICT</td>\n",
       "      <td>290</td>\n",
       "    </tr>\n",
       "    <tr>\n",
       "      <th>2249</th>\n",
       "      <td>1580</td>\n",
       "      <td>16295</td>\n",
       "      <td>0</td>\n",
       "      <td>290</td>\n",
       "      <td>NORTHWESTERN</td>\n",
       "      <td>290</td>\n",
       "    </tr>\n",
       "    <tr>\n",
       "      <th>2251</th>\n",
       "      <td>109847</td>\n",
       "      <td>1072158</td>\n",
       "      <td>76529</td>\n",
       "      <td>290</td>\n",
       "      <td>CITY OF OTTAWA</td>\n",
       "      <td>290</td>\n",
       "    </tr>\n",
       "    <tr>\n",
       "      <th>2253</th>\n",
       "      <td>442555</td>\n",
       "      <td>3004587</td>\n",
       "      <td>85563</td>\n",
       "      <td>290</td>\n",
       "      <td>PEEL REGION</td>\n",
       "      <td>290</td>\n",
       "    </tr>\n",
       "    <tr>\n",
       "      <th>2255</th>\n",
       "      <td>3614</td>\n",
       "      <td>35392</td>\n",
       "      <td>726</td>\n",
       "      <td>290</td>\n",
       "      <td>PETERBOROUGH COUNTY-CITY</td>\n",
       "      <td>290</td>\n",
       "    </tr>\n",
       "    <tr>\n",
       "      <th>2256</th>\n",
       "      <td>1355</td>\n",
       "      <td>20051</td>\n",
       "      <td>2186</td>\n",
       "      <td>290</td>\n",
       "      <td>PORCUPINE</td>\n",
       "      <td>290</td>\n",
       "    </tr>\n",
       "    <tr>\n",
       "      <th>2257</th>\n",
       "      <td>2014</td>\n",
       "      <td>18370</td>\n",
       "      <td>289</td>\n",
       "      <td>290</td>\n",
       "      <td>RENFREW COUNTY AND DISTRICT</td>\n",
       "      <td>290</td>\n",
       "    </tr>\n",
       "    <tr>\n",
       "      <th>2258</th>\n",
       "      <td>18173</td>\n",
       "      <td>99866</td>\n",
       "      <td>5048</td>\n",
       "      <td>290</td>\n",
       "      <td>EASTERN ONTARIO</td>\n",
       "      <td>290</td>\n",
       "    </tr>\n",
       "    <tr>\n",
       "      <th>2260</th>\n",
       "      <td>37402</td>\n",
       "      <td>284839</td>\n",
       "      <td>10868</td>\n",
       "      <td>290</td>\n",
       "      <td>SIMCOE MUSKOKA DISTRICT</td>\n",
       "      <td>290</td>\n",
       "    </tr>\n",
       "    <tr>\n",
       "      <th>2261</th>\n",
       "      <td>3101</td>\n",
       "      <td>30895</td>\n",
       "      <td>546</td>\n",
       "      <td>290</td>\n",
       "      <td>SUDBURY AND DISTRICT</td>\n",
       "      <td>290</td>\n",
       "    </tr>\n",
       "    <tr>\n",
       "      <th>2262</th>\n",
       "      <td>5717</td>\n",
       "      <td>40947</td>\n",
       "      <td>838</td>\n",
       "      <td>290</td>\n",
       "      <td>THUNDER BAY DISTRICT</td>\n",
       "      <td>290</td>\n",
       "    </tr>\n",
       "    <tr>\n",
       "      <th>2263</th>\n",
       "      <td>770</td>\n",
       "      <td>5676</td>\n",
       "      <td>2</td>\n",
       "      <td>290</td>\n",
       "      <td>TIMISKAMING</td>\n",
       "      <td>290</td>\n",
       "    </tr>\n",
       "    <tr>\n",
       "      <th>2265</th>\n",
       "      <td>51883</td>\n",
       "      <td>512628</td>\n",
       "      <td>31447</td>\n",
       "      <td>290</td>\n",
       "      <td>WATERLOO REGION</td>\n",
       "      <td>290</td>\n",
       "    </tr>\n",
       "    <tr>\n",
       "      <th>2266</th>\n",
       "      <td>28089</td>\n",
       "      <td>202773</td>\n",
       "      <td>9805</td>\n",
       "      <td>290</td>\n",
       "      <td>WELLINGTON-DUFFERIN-GUELPH</td>\n",
       "      <td>290</td>\n",
       "    </tr>\n",
       "    <tr>\n",
       "      <th>2268</th>\n",
       "      <td>90913</td>\n",
       "      <td>647100</td>\n",
       "      <td>21419</td>\n",
       "      <td>290</td>\n",
       "      <td>WINDSOR-ESSEX COUNTY</td>\n",
       "      <td>290</td>\n",
       "    </tr>\n",
       "    <tr>\n",
       "      <th>2270</th>\n",
       "      <td>171027</td>\n",
       "      <td>1393859</td>\n",
       "      <td>69251</td>\n",
       "      <td>290</td>\n",
       "      <td>YORK REGION</td>\n",
       "      <td>290</td>\n",
       "    </tr>\n",
       "    <tr>\n",
       "      <th>3895</th>\n",
       "      <td>637180</td>\n",
       "      <td>5245088</td>\n",
       "      <td>322611</td>\n",
       "      <td>290</td>\n",
       "      <td>TORONTO</td>\n",
       "      <td>290</td>\n",
       "    </tr>\n",
       "    <tr>\n",
       "      <th>4913</th>\n",
       "      <td>14604</td>\n",
       "      <td>79737</td>\n",
       "      <td>1777</td>\n",
       "      <td>290</td>\n",
       "      <td>OXFORD ELGIN-ST.THOMAS</td>\n",
       "      <td>290</td>\n",
       "    </tr>\n",
       "    <tr>\n",
       "      <th>5183</th>\n",
       "      <td>6108</td>\n",
       "      <td>43201</td>\n",
       "      <td>2285</td>\n",
       "      <td>290</td>\n",
       "      <td>HURON PERTH</td>\n",
       "      <td>290</td>\n",
       "    </tr>\n",
       "  </tbody>\n",
       "</table>\n",
       "</div>"
      ],
      "text/plain": [
       "         ACTIVE_CASES_sum  RESOLVED_CASES_sum  DEATHS_sum  DEATHS_count  \\\n",
       "PHU_NUM                                                                   \n",
       "2226                 1009                9368           0           290   \n",
       "2227                10194               75632        1525           290   \n",
       "2230                68316              651640       49413           290   \n",
       "2233                 4244               44280           2           290   \n",
       "2234                 9819              114881        9868           290   \n",
       "2235                 4505               62049        5816           290   \n",
       "2236                62781              422933       10962           290   \n",
       "2237                64554              416479       16671           290   \n",
       "2238                 2612               20411        1331           290   \n",
       "2240                 7171               83690         596           290   \n",
       "2241                 4820               43422           4           290   \n",
       "2242                 9006               87844        6681           290   \n",
       "2243                 6643               95339       14075           290   \n",
       "2244                43346              247016       15987           290   \n",
       "2246                44486              321014       20294           290   \n",
       "2247                 1099               12073         246           290   \n",
       "2249                 1580               16295           0           290   \n",
       "2251               109847             1072158       76529           290   \n",
       "2253               442555             3004587       85563           290   \n",
       "2255                 3614               35392         726           290   \n",
       "2256                 1355               20051        2186           290   \n",
       "2257                 2014               18370         289           290   \n",
       "2258                18173               99866        5048           290   \n",
       "2260                37402              284839       10868           290   \n",
       "2261                 3101               30895         546           290   \n",
       "2262                 5717               40947         838           290   \n",
       "2263                  770                5676           2           290   \n",
       "2265                51883              512628       31447           290   \n",
       "2266                28089              202773        9805           290   \n",
       "2268                90913              647100       21419           290   \n",
       "2270               171027             1393859       69251           290   \n",
       "3895               637180             5245088      322611           290   \n",
       "4913                14604               79737        1777           290   \n",
       "5183                 6108               43201        2285           290   \n",
       "\n",
       "                                        PHU_NAME    0  \n",
       "PHU_NUM                                                \n",
       "2226                             ALGOMA DISTRICT  290  \n",
       "2227                                BRANT COUNTY  290  \n",
       "2230                               DURHAM REGION  290  \n",
       "2233                                  GREY BRUCE  290  \n",
       "2234                           HALDIMAND-NORFOLK  290  \n",
       "2235            HALIBURTON, KAWARTHA, PINE RIDGE  290  \n",
       "2236                               HALTON REGION  290  \n",
       "2237                            CITY OF HAMILTON  290  \n",
       "2238           HASTINGS & PRINCE EDWARD COUNTIES  290  \n",
       "2240                                CHATHAM-KENT  290  \n",
       "2241     KINGSTON, FRONTENAC, LENNOX & ADDINGTON  290  \n",
       "2242                              LAMBTON COUNTY  290  \n",
       "2243        LEEDS, GRENVILLE AND LANARK DISTRICT  290  \n",
       "2244                            MIDDLESEX-LONDON  290  \n",
       "2246                              NIAGARA REGION  290  \n",
       "2247              NORTH BAY PARRY SOUND DISTRICT  290  \n",
       "2249                                NORTHWESTERN  290  \n",
       "2251                              CITY OF OTTAWA  290  \n",
       "2253                                 PEEL REGION  290  \n",
       "2255                    PETERBOROUGH COUNTY-CITY  290  \n",
       "2256                                   PORCUPINE  290  \n",
       "2257                 RENFREW COUNTY AND DISTRICT  290  \n",
       "2258                             EASTERN ONTARIO  290  \n",
       "2260                     SIMCOE MUSKOKA DISTRICT  290  \n",
       "2261                        SUDBURY AND DISTRICT  290  \n",
       "2262                        THUNDER BAY DISTRICT  290  \n",
       "2263                                 TIMISKAMING  290  \n",
       "2265                             WATERLOO REGION  290  \n",
       "2266                  WELLINGTON-DUFFERIN-GUELPH  290  \n",
       "2268                        WINDSOR-ESSEX COUNTY  290  \n",
       "2270                                 YORK REGION  290  \n",
       "3895                                     TORONTO  290  \n",
       "4913                      OXFORD ELGIN-ST.THOMAS  290  \n",
       "5183                                 HURON PERTH  290  "
      ]
     },
     "execution_count": 11,
     "metadata": {},
     "output_type": "execute_result"
    }
   ],
   "source": [
    "census_phu = census_phu.join(hm)\n",
    "census_phu"
   ]
  },
  {
   "cell_type": "code",
   "execution_count": 15,
   "metadata": {},
   "outputs": [
    {
     "data": {
      "text/plain": [
       "32893603"
      ]
     },
     "execution_count": 15,
     "metadata": {},
     "output_type": "execute_result"
    }
   ],
   "source": [
    "census_phu['ACTIVE_CASES_sum'].sum() + census_phu['RESOLVED_CASES_sum'].sum() + census_phu['RESOLVED_CASES_sum'].sum()"
   ]
  },
  {
   "cell_type": "code",
   "execution_count": null,
   "metadata": {},
   "outputs": [],
   "source": []
  }
 ],
 "metadata": {
  "kernelspec": {
   "display_name": "Python 3",
   "language": "python",
   "name": "python3"
  },
  "language_info": {
   "codemirror_mode": {
    "name": "ipython",
    "version": 3
   },
   "file_extension": ".py",
   "mimetype": "text/x-python",
   "name": "python",
   "nbconvert_exporter": "python",
   "pygments_lexer": "ipython3",
   "version": "3.6.10"
  }
 },
 "nbformat": 4,
 "nbformat_minor": 4
}
